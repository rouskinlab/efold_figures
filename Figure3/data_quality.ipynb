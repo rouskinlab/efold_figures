{
 "cells": [
  {
   "cell_type": "markdown",
   "metadata": {},
   "source": [
    "## Plot showing the quality of our datasets\n",
    "\n",
    "Compare replicates:\n",
    "- R2 score between normalized DMS signals (first row of subplot)\n",
    "- F1 score between replicate + RNAstructure (second row)\n",
    "\n",
    "Then bootstrap from the DMS by adding noise proportional to the confidence interval, then predicting the structure with the noisy DMS. Compute the F1 score between the structures (third row of the subplot)\n",
    "\n",
    "Use pri_miRNA and human_mRNA (called UTR previously). Combine them in one plot, or separate them in two columns if realy different\n",
    "\n",
    "**Assigned to**: Yves\n",
    "\n",
    "Use Ploty, and a white background"
   ]
  },
  {
   "cell_type": "markdown",
   "metadata": {},
   "source": []
  }
 ],
 "metadata": {
  "language_info": {
   "name": "python"
  }
 },
 "nbformat": 4,
 "nbformat_minor": 2
}

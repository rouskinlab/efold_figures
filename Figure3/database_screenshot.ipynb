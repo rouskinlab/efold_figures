{
 "cells": [
  {
   "cell_type": "markdown",
   "metadata": {},
   "source": [
    "## Visualization of our online database front end\n",
    "\n",
    "One screenshot of the main page, to show the browsing, download and search features.\n",
    "One other screenshot for showing one RNA sequence's personnal page, with the plot of secondary structure and DMS\n",
    "\n",
    "Use high quality screenshot, ideally made by converting html to pdf.\n",
    "\n",
    "**Assigned to**: Casper\n",
    "\n",
    "Use Ploty, and a white background"
   ]
  },
  {
   "cell_type": "code",
   "execution_count": null,
   "metadata": {},
   "outputs": [],
   "source": []
  }
 ],
 "metadata": {
  "language_info": {
   "name": "python"
  }
 },
 "nbformat": 4,
 "nbformat_minor": 2
}

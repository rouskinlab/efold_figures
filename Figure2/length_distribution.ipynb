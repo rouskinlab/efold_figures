{
 "cells": [
  {
   "cell_type": "markdown",
   "metadata": {},
   "source": [
    "## Plot of the length distribution for our datasets vs the rest\n",
    "\n",
    "One plot with three subplots:\n",
    "- First row is length distribution of UTR\n",
    "- Second row is for pri-miRNA\n",
    "- Third row is all the rest of data (Ribo, bpRNA, ArchiveII, RNAstralign, synthetic, zuber ...)\n",
    "\n",
    "Use shared x axis\n",
    "\n",
    "**Assigned to**: Colin\n",
    "\n",
    "Use Ploty, and a white background"
   ]
  },
  {
   "cell_type": "code",
   "execution_count": null,
   "metadata": {},
   "outputs": [],
   "source": []
  }
 ],
 "metadata": {
  "language_info": {
   "name": "python"
  }
 },
 "nbformat": 4,
 "nbformat_minor": 2
}

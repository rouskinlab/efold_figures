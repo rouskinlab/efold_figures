{
 "cells": [
  {
   "cell_type": "markdown",
   "metadata": {},
   "source": [
    "## Plot showing how useful are the DMS constraint for RNAStructure, for different datasets\n",
    "\n",
    "Run RNAstructure with and without the DMS constraints. Compute the F1 score between the two runs. If the F1 score is high, it means that the DMS constraints are not adding much information, as RNAStructure can do a good prediction without them.\n",
    "\n",
    "One plot with two subplots:\n",
    "- First column: Violin or Box plot of the F1 score distribution, colored by the different datasets (Ribonanza, UTR, pri-miRNA)\n",
    "- Same distribution, but presented as the three histogram overlayed on the same plot (*might be redundant*)\n",
    "\n",
    "**Assigned to**: Yves\n",
    "\n",
    "Use Ploty, and a white background"
   ]
  },
  {
   "cell_type": "code",
   "execution_count": null,
   "metadata": {},
   "outputs": [],
   "source": []
  }
 ],
 "metadata": {
  "language_info": {
   "name": "python"
  }
 },
 "nbformat": 4,
 "nbformat_minor": 2
}

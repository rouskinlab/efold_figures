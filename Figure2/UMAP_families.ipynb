{
 "cells": [
  {
   "cell_type": "markdown",
   "metadata": {},
   "source": [
    "## UMAP of the different families\n",
    "\n",
    "Run UMAP on ArchiveII (or RNAStralign), UTR, and pri-miRNA, by embedding the sequence and structure for each RNA. Then color by family (don't use family in clustering fit)\n",
    "\n",
    "One large square plot\n",
    "\n",
    "**Assigned to**: Alberic\n",
    "\n",
    "Use Ploty, and a white background"
   ]
  },
  {
   "cell_type": "code",
   "execution_count": null,
   "metadata": {},
   "outputs": [],
   "source": []
  }
 ],
 "metadata": {
  "language_info": {
   "name": "python"
  }
 },
 "nbformat": 4,
 "nbformat_minor": 2
}

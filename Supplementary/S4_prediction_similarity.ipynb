{
 "cells": [
  {
   "cell_type": "code",
   "execution_count": 1,
   "metadata": {},
   "outputs": [],
   "source": [
    "import pandas as pd\n",
    "import numpy as np\n",
    "import torch\n",
    "\n",
    "import os"
   ]
  },
  {
   "cell_type": "code",
   "execution_count": 2,
   "metadata": {},
   "outputs": [],
   "source": [
    "def ListofPairs2pairMatrix(pairs, length):\n",
    "    pairs = np.array(pairs)\n",
    "    matrix = torch.zeros((length, length))\n",
    "\n",
    "    if len(pairs) == 0: return matrix\n",
    "    matrix[pairs[:,0], pairs[:,1]] = 1\n",
    "    matrix[pairs[:,1], pairs[:,0]] = 1\n",
    "\n",
    "    return matrix.int()\n",
    "\n",
    "\n",
    "def compute_f1(pred_matrix, target_matrix, threshold=0.5):\n",
    "    \"\"\"\n",
    "    Compute the F1 score of the predictions.\n",
    "\n",
    "    :param pred_matrix: Predicted pairing matrix probability  (L,L)\n",
    "    :param target_matrix: True binary pairing matrix (L,L)\n",
    "    :return: precision, recall, F1 score for this RNA structure\n",
    "    \"\"\"\n",
    "\n",
    "    pred_matrix = (pred_matrix > threshold).float()\n",
    "\n",
    "\n",
    "    TP = torch.sum(pred_matrix*target_matrix)\n",
    "    PP = torch.sum(pred_matrix)\n",
    "    P = torch.sum(target_matrix)\n",
    "    sum_pair = PP + P\n",
    "\n",
    "    if sum_pair == 0:\n",
    "        return [1.0, 1.0, 1.0]\n",
    "    else:\n",
    "        return [\n",
    "                (TP / PP).item(),\n",
    "                (TP / P).item(),\n",
    "                (2 * TP / sum_pair).item()\n",
    "                ]"
   ]
  },
  {
   "cell_type": "code",
   "execution_count": 81,
   "metadata": {},
   "outputs": [],
   "source": [
    "# Load predictions from algorithms\n",
    "prediction_algos = pd.read_feather('../Figure1/saved_data_plot/results_benchmark_algos.feather').drop(columns=['Precision', 'Recall', 'F1', 'MCC', 'length'])\n",
    "prediction_algos['structure'] = prediction_algos['structure'].apply(lambda x: np.stack(x) if len(x) > 0 else np.array([]))\n",
    "ref2dataset = prediction_algos[['reference', 'dataset']].drop_duplicates()\n",
    "\n",
    "# Load the predictions from eFold and convert to same format\n",
    "prediction_eFold = pd.read_feather('../Figure5/saved_data_plot/results_V1/test_results_PT+FT.feather')\n",
    "ref2sequence = prediction_eFold[['reference', 'sequence']].drop_duplicates()\n",
    "prediction_eFold['structure'] = prediction_eFold['structure'].apply(lambda x: np.unique(np.sort(np.vstack(np.where(np.stack(x))).T, axis=1), axis=0))\n",
    "prediction_eFold = prediction_eFold.merge(ref2dataset, on=['reference'])\n",
    "prediction_eFold['model'] = 'eFold'\n",
    "\n",
    "prediction_algos = prediction_algos.merge(ref2sequence, on=['reference'])\n",
    "prediction_algos = pd.concat([prediction_algos, prediction_eFold])\n",
    "\n",
    "prediction_algos.loc[prediction_algos['dataset']=='viral_fragments', 'dataset'] = 'Viral mRNA'\n",
    "prediction_algos.loc[prediction_algos['dataset']=='lncRNA_nonFiltered', 'dataset'] = 'Long ncRNA'\n"
   ]
  },
  {
   "cell_type": "code",
   "execution_count": 82,
   "metadata": {},
   "outputs": [
    {
     "name": "stdout",
     "output_type": "stream",
     "text": [
      "RNAstructure MXFold2 (3907, 7)\n",
      "RNAstructure EternaFold (3907, 7)\n",
      "RNAstructure UFold (3896, 7)\n",
      "RNAstructure SPOT-RNA (3907, 7)\n",
      "RNAstructure RNAformer (3907, 7)\n",
      "RNAstructure eFold (3907, 7)\n",
      "MXFold2 EternaFold (3907, 7)\n",
      "MXFold2 UFold (3896, 7)\n",
      "MXFold2 SPOT-RNA (3907, 7)\n",
      "MXFold2 RNAformer (3907, 7)\n",
      "MXFold2 eFold (3907, 7)\n",
      "EternaFold UFold (3896, 7)\n",
      "EternaFold SPOT-RNA (3907, 7)\n",
      "EternaFold RNAformer (3907, 7)\n",
      "EternaFold eFold (3907, 7)\n",
      "UFold SPOT-RNA (3970, 7)\n",
      "UFold RNAformer (3896, 7)\n",
      "UFold eFold (3896, 7)\n",
      "SPOT-RNA RNAformer (3907, 7)\n",
      "SPOT-RNA eFold (3907, 7)\n",
      "RNAformer eFold (3907, 7)\n"
     ]
    }
   ],
   "source": [
    "full_data = pd.DataFrame()\n",
    "\n",
    "for i, model1 in enumerate(prediction_algos.model.unique()):\n",
    "    for model2 in prediction_algos.model.unique()[i+1:]:\n",
    "\n",
    "        data_comparison = prediction_algos[prediction_algos['model']==model1].merge(prediction_algos[prediction_algos['model']==model2], on=['reference', 'sequence', 'dataset'], suffixes=('_1', '_2'))\n",
    "        print(model1, model2, data_comparison.shape)\n",
    "\n",
    "        data_comparison['F1'] = data_comparison.apply(lambda x: compute_f1(ListofPairs2pairMatrix(x['structure_1'], len(x['sequence'])), \n",
    "                                                                           ListofPairs2pairMatrix(x['structure_2'], len(x['sequence'])))[2], axis=1)\n",
    "        \n",
    "        data_comparison.drop(columns=['structure_1', 'structure_2'], inplace=True)\n",
    "\n",
    "        full_data = pd.concat([full_data, data_comparison])\n",
    "        "
   ]
  },
  {
   "cell_type": "code",
   "execution_count": 86,
   "metadata": {},
   "outputs": [
    {
     "data": {
      "application/vnd.plotly.v1+json": {
       "config": {
        "plotlyServerURL": "https://plot.ly"
       },
       "data": [
        {
         "showscale": false,
         "text": [
          [
           "nan",
           "0.92",
           "0.94",
           "0.84",
           "0.85",
           "0.8",
           "0.9"
          ],
          [
           "nan",
           "nan",
           "0.92",
           "0.86",
           "0.88",
           "0.81",
           "0.91"
          ],
          [
           "nan",
           "nan",
           "nan",
           "0.84",
           "0.86",
           "0.79",
           "0.91"
          ],
          [
           "nan",
           "nan",
           "nan",
           "nan",
           "0.88",
           "0.87",
           "0.85"
          ],
          [
           "nan",
           "nan",
           "nan",
           "nan",
           "nan",
           "0.84",
           "0.87"
          ],
          [
           "nan",
           "nan",
           "nan",
           "nan",
           "nan",
           "nan",
           "0.8"
          ],
          [
           "nan",
           "nan",
           "nan",
           "nan",
           "nan",
           "nan",
           "nan"
          ]
         ],
         "texttemplate": "%{text}",
         "type": "heatmap",
         "x": [
          "RNAstructure",
          "MXFold2",
          "EternaFold",
          "UFold",
          "SPOT-RNA",
          "RNAformer",
          "eFold"
         ],
         "xaxis": "x",
         "y": [
          "RNAstructure",
          "MXFold2",
          "EternaFold",
          "UFold",
          "SPOT-RNA",
          "RNAformer",
          "eFold"
         ],
         "yaxis": "y",
         "z": [
          [
           null,
           0.9202056796698088,
           0.9364822170791332,
           0.8403343991995547,
           0.854940271025963,
           0.7961638693310572,
           0.8990944080222188
          ],
          [
           null,
           null,
           0.9156708844592062,
           0.8570745751972315,
           0.8761926793985153,
           0.8097812530867169,
           0.9075877886223659
          ],
          [
           null,
           null,
           null,
           0.8366538444695445,
           0.8630219101905823,
           0.794804256911693,
           0.911773517099994
          ],
          [
           null,
           null,
           null,
           null,
           0.8843121436462237,
           0.8685259598958699,
           0.8470111820050058
          ],
          [
           null,
           null,
           null,
           null,
           null,
           0.8421717847414901,
           0.872364838387859
          ],
          [
           null,
           null,
           null,
           null,
           null,
           null,
           0.7999812672228626
          ],
          [
           null,
           null,
           null,
           null,
           null,
           null,
           null
          ]
         ]
        },
        {
         "showscale": false,
         "text": [
          [
           "nan",
           "0.67",
           "0.69",
           "0.6",
           "0.56",
           "0.48",
           "0.65"
          ],
          [
           "nan",
           "nan",
           "0.69",
           "0.75",
           "0.68",
           "0.6",
           "0.66"
          ],
          [
           "nan",
           "nan",
           "nan",
           "0.64",
           "0.59",
           "0.51",
           "0.68"
          ],
          [
           "nan",
           "nan",
           "nan",
           "nan",
           "0.71",
           "0.65",
           "0.63"
          ],
          [
           "nan",
           "nan",
           "nan",
           "nan",
           "nan",
           "0.68",
           "0.6"
          ],
          [
           "nan",
           "nan",
           "nan",
           "nan",
           "nan",
           "nan",
           "0.52"
          ],
          [
           "nan",
           "nan",
           "nan",
           "nan",
           "nan",
           "nan",
           "nan"
          ]
         ],
         "texttemplate": "%{text}",
         "type": "heatmap",
         "x": [
          "RNAstructure",
          "MXFold2",
          "EternaFold",
          "UFold",
          "SPOT-RNA",
          "RNAformer",
          "eFold"
         ],
         "xaxis": "x2",
         "y": [
          "RNAstructure",
          "MXFold2",
          "EternaFold",
          "UFold",
          "SPOT-RNA",
          "RNAformer",
          "eFold"
         ],
         "yaxis": "y2",
         "z": [
          [
           null,
           0.6713029339971623,
           0.6907071400807271,
           0.5983358233963707,
           0.5554836067459092,
           0.4818937956125156,
           0.647646606224248
          ],
          [
           null,
           null,
           0.6912897430982091,
           0.7531216667081904,
           0.681726237302028,
           0.5972989497540951,
           0.6564133276960111
          ],
          [
           null,
           null,
           null,
           0.6352971715991781,
           0.5947126152892286,
           0.5134155725505384,
           0.6752779956246734
          ],
          [
           null,
           null,
           null,
           null,
           0.7096472128064738,
           0.6539139441492828,
           0.6309757435009226
          ],
          [
           null,
           null,
           null,
           null,
           null,
           0.6762022776927834,
           0.6044096432784634
          ],
          [
           null,
           null,
           null,
           null,
           null,
           null,
           0.5155696697373674
          ],
          [
           null,
           null,
           null,
           null,
           null,
           null,
           null
          ]
         ]
        },
        {
         "showscale": false,
         "text": [
          [
           "nan",
           "0.74",
           "0.71",
           "0.55",
           "0.53",
           "0.46",
           "0.67"
          ],
          [
           "nan",
           "nan",
           "0.74",
           "0.58",
           "0.56",
           "0.47",
           "0.68"
          ],
          [
           "nan",
           "nan",
           "nan",
           "0.61",
           "0.58",
           "0.5",
           "0.73"
          ],
          [
           "nan",
           "nan",
           "nan",
           "nan",
           "0.56",
           "0.48",
           "0.62"
          ],
          [
           "nan",
           "nan",
           "nan",
           "nan",
           "nan",
           "0.53",
           "0.56"
          ],
          [
           "nan",
           "nan",
           "nan",
           "nan",
           "nan",
           "nan",
           "0.49"
          ],
          [
           "nan",
           "nan",
           "nan",
           "nan",
           "nan",
           "nan",
           "nan"
          ]
         ],
         "texttemplate": "%{text}",
         "type": "heatmap",
         "x": [
          "RNAstructure",
          "MXFold2",
          "EternaFold",
          "UFold",
          "SPOT-RNA",
          "RNAformer",
          "eFold"
         ],
         "xaxis": "x3",
         "y": [
          "RNAstructure",
          "MXFold2",
          "EternaFold",
          "UFold",
          "SPOT-RNA",
          "RNAformer",
          "eFold"
         ],
         "yaxis": "y3",
         "z": [
          [
           null,
           0.7395931400358677,
           0.7058356638997794,
           0.5519471120089292,
           0.5303330168128013,
           0.46449545193463565,
           0.6656464315950871
          ],
          [
           null,
           null,
           0.7416757628321647,
           0.5759326349943876,
           0.5577462188899517,
           0.4653736786916852,
           0.6770116932690143
          ],
          [
           null,
           null,
           null,
           0.6124267231673002,
           0.5754943139851093,
           0.49637096747756004,
           0.7261205568909646
          ],
          [
           null,
           null,
           null,
           null,
           0.5635817587375641,
           0.48083069548010826,
           0.6186903797090053
          ],
          [
           null,
           null,
           null,
           null,
           null,
           0.534883538261056,
           0.5581861462444067
          ],
          [
           null,
           null,
           null,
           null,
           null,
           null,
           0.49432900585234163
          ],
          [
           null,
           null,
           null,
           null,
           null,
           null,
           null
          ]
         ]
        },
        {
         "showscale": false,
         "text": [
          [
           "nan",
           "0.55",
           "0.52",
           "0.17",
           "0.26",
           "0.05",
           "0.44"
          ],
          [
           "nan",
           "nan",
           "0.46",
           "0.16",
           "0.29",
           "0.06",
           "0.43"
          ],
          [
           "nan",
           "nan",
           "nan",
           "0.2",
           "0.31",
           "0.06",
           "0.49"
          ],
          [
           "nan",
           "nan",
           "nan",
           "nan",
           "0.16",
           "0.09",
           "0.21"
          ],
          [
           "nan",
           "nan",
           "nan",
           "nan",
           "nan",
           "0.07",
           "0.34"
          ],
          [
           "nan",
           "nan",
           "nan",
           "nan",
           "nan",
           "nan",
           "0.06"
          ],
          [
           "nan",
           "nan",
           "nan",
           "nan",
           "nan",
           "nan",
           "nan"
          ]
         ],
         "texttemplate": "%{text}",
         "type": "heatmap",
         "x": [
          "RNAstructure",
          "MXFold2",
          "EternaFold",
          "UFold",
          "SPOT-RNA",
          "RNAformer",
          "eFold"
         ],
         "xaxis": "x4",
         "y": [
          "RNAstructure",
          "MXFold2",
          "EternaFold",
          "UFold",
          "SPOT-RNA",
          "RNAformer",
          "eFold"
         ],
         "yaxis": "y4",
         "z": [
          [
           null,
           0.5453506415088971,
           0.5242181822657586,
           0.16583862379193307,
           0.26300026749571165,
           0.047743987540404,
           0.4381008118391037
          ],
          [
           null,
           null,
           0.4597065195441246,
           0.1588087823241949,
           0.28884490331013996,
           0.060792013506094617,
           0.4292237897713979
          ],
          [
           null,
           null,
           null,
           0.19665352137138445,
           0.3116477519273758,
           0.06112787127494812,
           0.4897679140170415
          ],
          [
           null,
           null,
           null,
           null,
           0.16297909729958823,
           0.09101405839125315,
           0.21102494075894357
          ],
          [
           null,
           null,
           null,
           null,
           null,
           0.06562327742576599,
           0.3369212821125984
          ],
          [
           null,
           null,
           null,
           null,
           null,
           null,
           0.06322594185670218
          ],
          [
           null,
           null,
           null,
           null,
           null,
           null,
           null
          ]
         ]
        }
       ],
       "layout": {
        "annotations": [
         {
          "font": {
           "size": 16
          },
          "showarrow": false,
          "text": "PDB",
          "x": 0.225,
          "xanchor": "center",
          "xref": "paper",
          "y": 1,
          "yanchor": "bottom",
          "yref": "paper"
         },
         {
          "font": {
           "size": 16
          },
          "showarrow": false,
          "text": "archiveII",
          "x": 0.775,
          "xanchor": "center",
          "xref": "paper",
          "y": 1,
          "yanchor": "bottom",
          "yref": "paper"
         },
         {
          "font": {
           "size": 16
          },
          "showarrow": false,
          "text": "Viral mRNA",
          "x": 0.225,
          "xanchor": "center",
          "xref": "paper",
          "y": 0.375,
          "yanchor": "bottom",
          "yref": "paper"
         },
         {
          "font": {
           "size": 16
          },
          "showarrow": false,
          "text": "Long ncRNA",
          "x": 0.775,
          "xanchor": "center",
          "xref": "paper",
          "y": 0.375,
          "yanchor": "bottom",
          "yref": "paper"
         }
        ],
        "font": {
         "color": "black",
         "family": "times new roman",
         "size": 14
        },
        "height": 1200,
        "template": {
         "data": {
          "bar": [
           {
            "error_x": {
             "color": "#2a3f5f"
            },
            "error_y": {
             "color": "#2a3f5f"
            },
            "marker": {
             "line": {
              "color": "white",
              "width": 0.5
             },
             "pattern": {
              "fillmode": "overlay",
              "size": 10,
              "solidity": 0.2
             }
            },
            "type": "bar"
           }
          ],
          "barpolar": [
           {
            "marker": {
             "line": {
              "color": "white",
              "width": 0.5
             },
             "pattern": {
              "fillmode": "overlay",
              "size": 10,
              "solidity": 0.2
             }
            },
            "type": "barpolar"
           }
          ],
          "carpet": [
           {
            "aaxis": {
             "endlinecolor": "#2a3f5f",
             "gridcolor": "#C8D4E3",
             "linecolor": "#C8D4E3",
             "minorgridcolor": "#C8D4E3",
             "startlinecolor": "#2a3f5f"
            },
            "baxis": {
             "endlinecolor": "#2a3f5f",
             "gridcolor": "#C8D4E3",
             "linecolor": "#C8D4E3",
             "minorgridcolor": "#C8D4E3",
             "startlinecolor": "#2a3f5f"
            },
            "type": "carpet"
           }
          ],
          "choropleth": [
           {
            "colorbar": {
             "outlinewidth": 0,
             "ticks": ""
            },
            "type": "choropleth"
           }
          ],
          "contour": [
           {
            "colorbar": {
             "outlinewidth": 0,
             "ticks": ""
            },
            "colorscale": [
             [
              0,
              "#0d0887"
             ],
             [
              0.1111111111111111,
              "#46039f"
             ],
             [
              0.2222222222222222,
              "#7201a8"
             ],
             [
              0.3333333333333333,
              "#9c179e"
             ],
             [
              0.4444444444444444,
              "#bd3786"
             ],
             [
              0.5555555555555556,
              "#d8576b"
             ],
             [
              0.6666666666666666,
              "#ed7953"
             ],
             [
              0.7777777777777778,
              "#fb9f3a"
             ],
             [
              0.8888888888888888,
              "#fdca26"
             ],
             [
              1,
              "#f0f921"
             ]
            ],
            "type": "contour"
           }
          ],
          "contourcarpet": [
           {
            "colorbar": {
             "outlinewidth": 0,
             "ticks": ""
            },
            "type": "contourcarpet"
           }
          ],
          "heatmap": [
           {
            "colorbar": {
             "outlinewidth": 0,
             "ticks": ""
            },
            "colorscale": [
             [
              0,
              "#0d0887"
             ],
             [
              0.1111111111111111,
              "#46039f"
             ],
             [
              0.2222222222222222,
              "#7201a8"
             ],
             [
              0.3333333333333333,
              "#9c179e"
             ],
             [
              0.4444444444444444,
              "#bd3786"
             ],
             [
              0.5555555555555556,
              "#d8576b"
             ],
             [
              0.6666666666666666,
              "#ed7953"
             ],
             [
              0.7777777777777778,
              "#fb9f3a"
             ],
             [
              0.8888888888888888,
              "#fdca26"
             ],
             [
              1,
              "#f0f921"
             ]
            ],
            "type": "heatmap"
           }
          ],
          "heatmapgl": [
           {
            "colorbar": {
             "outlinewidth": 0,
             "ticks": ""
            },
            "colorscale": [
             [
              0,
              "#0d0887"
             ],
             [
              0.1111111111111111,
              "#46039f"
             ],
             [
              0.2222222222222222,
              "#7201a8"
             ],
             [
              0.3333333333333333,
              "#9c179e"
             ],
             [
              0.4444444444444444,
              "#bd3786"
             ],
             [
              0.5555555555555556,
              "#d8576b"
             ],
             [
              0.6666666666666666,
              "#ed7953"
             ],
             [
              0.7777777777777778,
              "#fb9f3a"
             ],
             [
              0.8888888888888888,
              "#fdca26"
             ],
             [
              1,
              "#f0f921"
             ]
            ],
            "type": "heatmapgl"
           }
          ],
          "histogram": [
           {
            "marker": {
             "pattern": {
              "fillmode": "overlay",
              "size": 10,
              "solidity": 0.2
             }
            },
            "type": "histogram"
           }
          ],
          "histogram2d": [
           {
            "colorbar": {
             "outlinewidth": 0,
             "ticks": ""
            },
            "colorscale": [
             [
              0,
              "#0d0887"
             ],
             [
              0.1111111111111111,
              "#46039f"
             ],
             [
              0.2222222222222222,
              "#7201a8"
             ],
             [
              0.3333333333333333,
              "#9c179e"
             ],
             [
              0.4444444444444444,
              "#bd3786"
             ],
             [
              0.5555555555555556,
              "#d8576b"
             ],
             [
              0.6666666666666666,
              "#ed7953"
             ],
             [
              0.7777777777777778,
              "#fb9f3a"
             ],
             [
              0.8888888888888888,
              "#fdca26"
             ],
             [
              1,
              "#f0f921"
             ]
            ],
            "type": "histogram2d"
           }
          ],
          "histogram2dcontour": [
           {
            "colorbar": {
             "outlinewidth": 0,
             "ticks": ""
            },
            "colorscale": [
             [
              0,
              "#0d0887"
             ],
             [
              0.1111111111111111,
              "#46039f"
             ],
             [
              0.2222222222222222,
              "#7201a8"
             ],
             [
              0.3333333333333333,
              "#9c179e"
             ],
             [
              0.4444444444444444,
              "#bd3786"
             ],
             [
              0.5555555555555556,
              "#d8576b"
             ],
             [
              0.6666666666666666,
              "#ed7953"
             ],
             [
              0.7777777777777778,
              "#fb9f3a"
             ],
             [
              0.8888888888888888,
              "#fdca26"
             ],
             [
              1,
              "#f0f921"
             ]
            ],
            "type": "histogram2dcontour"
           }
          ],
          "mesh3d": [
           {
            "colorbar": {
             "outlinewidth": 0,
             "ticks": ""
            },
            "type": "mesh3d"
           }
          ],
          "parcoords": [
           {
            "line": {
             "colorbar": {
              "outlinewidth": 0,
              "ticks": ""
             }
            },
            "type": "parcoords"
           }
          ],
          "pie": [
           {
            "automargin": true,
            "type": "pie"
           }
          ],
          "scatter": [
           {
            "fillpattern": {
             "fillmode": "overlay",
             "size": 10,
             "solidity": 0.2
            },
            "type": "scatter"
           }
          ],
          "scatter3d": [
           {
            "line": {
             "colorbar": {
              "outlinewidth": 0,
              "ticks": ""
             }
            },
            "marker": {
             "colorbar": {
              "outlinewidth": 0,
              "ticks": ""
             }
            },
            "type": "scatter3d"
           }
          ],
          "scattercarpet": [
           {
            "marker": {
             "colorbar": {
              "outlinewidth": 0,
              "ticks": ""
             }
            },
            "type": "scattercarpet"
           }
          ],
          "scattergeo": [
           {
            "marker": {
             "colorbar": {
              "outlinewidth": 0,
              "ticks": ""
             }
            },
            "type": "scattergeo"
           }
          ],
          "scattergl": [
           {
            "marker": {
             "colorbar": {
              "outlinewidth": 0,
              "ticks": ""
             }
            },
            "type": "scattergl"
           }
          ],
          "scattermapbox": [
           {
            "marker": {
             "colorbar": {
              "outlinewidth": 0,
              "ticks": ""
             }
            },
            "type": "scattermapbox"
           }
          ],
          "scatterpolar": [
           {
            "marker": {
             "colorbar": {
              "outlinewidth": 0,
              "ticks": ""
             }
            },
            "type": "scatterpolar"
           }
          ],
          "scatterpolargl": [
           {
            "marker": {
             "colorbar": {
              "outlinewidth": 0,
              "ticks": ""
             }
            },
            "type": "scatterpolargl"
           }
          ],
          "scatterternary": [
           {
            "marker": {
             "colorbar": {
              "outlinewidth": 0,
              "ticks": ""
             }
            },
            "type": "scatterternary"
           }
          ],
          "surface": [
           {
            "colorbar": {
             "outlinewidth": 0,
             "ticks": ""
            },
            "colorscale": [
             [
              0,
              "#0d0887"
             ],
             [
              0.1111111111111111,
              "#46039f"
             ],
             [
              0.2222222222222222,
              "#7201a8"
             ],
             [
              0.3333333333333333,
              "#9c179e"
             ],
             [
              0.4444444444444444,
              "#bd3786"
             ],
             [
              0.5555555555555556,
              "#d8576b"
             ],
             [
              0.6666666666666666,
              "#ed7953"
             ],
             [
              0.7777777777777778,
              "#fb9f3a"
             ],
             [
              0.8888888888888888,
              "#fdca26"
             ],
             [
              1,
              "#f0f921"
             ]
            ],
            "type": "surface"
           }
          ],
          "table": [
           {
            "cells": {
             "fill": {
              "color": "#EBF0F8"
             },
             "line": {
              "color": "white"
             }
            },
            "header": {
             "fill": {
              "color": "#C8D4E3"
             },
             "line": {
              "color": "white"
             }
            },
            "type": "table"
           }
          ]
         },
         "layout": {
          "annotationdefaults": {
           "arrowcolor": "#2a3f5f",
           "arrowhead": 0,
           "arrowwidth": 1
          },
          "autotypenumbers": "strict",
          "coloraxis": {
           "colorbar": {
            "outlinewidth": 0,
            "ticks": ""
           }
          },
          "colorscale": {
           "diverging": [
            [
             0,
             "#8e0152"
            ],
            [
             0.1,
             "#c51b7d"
            ],
            [
             0.2,
             "#de77ae"
            ],
            [
             0.3,
             "#f1b6da"
            ],
            [
             0.4,
             "#fde0ef"
            ],
            [
             0.5,
             "#f7f7f7"
            ],
            [
             0.6,
             "#e6f5d0"
            ],
            [
             0.7,
             "#b8e186"
            ],
            [
             0.8,
             "#7fbc41"
            ],
            [
             0.9,
             "#4d9221"
            ],
            [
             1,
             "#276419"
            ]
           ],
           "sequential": [
            [
             0,
             "#0d0887"
            ],
            [
             0.1111111111111111,
             "#46039f"
            ],
            [
             0.2222222222222222,
             "#7201a8"
            ],
            [
             0.3333333333333333,
             "#9c179e"
            ],
            [
             0.4444444444444444,
             "#bd3786"
            ],
            [
             0.5555555555555556,
             "#d8576b"
            ],
            [
             0.6666666666666666,
             "#ed7953"
            ],
            [
             0.7777777777777778,
             "#fb9f3a"
            ],
            [
             0.8888888888888888,
             "#fdca26"
            ],
            [
             1,
             "#f0f921"
            ]
           ],
           "sequentialminus": [
            [
             0,
             "#0d0887"
            ],
            [
             0.1111111111111111,
             "#46039f"
            ],
            [
             0.2222222222222222,
             "#7201a8"
            ],
            [
             0.3333333333333333,
             "#9c179e"
            ],
            [
             0.4444444444444444,
             "#bd3786"
            ],
            [
             0.5555555555555556,
             "#d8576b"
            ],
            [
             0.6666666666666666,
             "#ed7953"
            ],
            [
             0.7777777777777778,
             "#fb9f3a"
            ],
            [
             0.8888888888888888,
             "#fdca26"
            ],
            [
             1,
             "#f0f921"
            ]
           ]
          },
          "colorway": [
           "#636efa",
           "#EF553B",
           "#00cc96",
           "#ab63fa",
           "#FFA15A",
           "#19d3f3",
           "#FF6692",
           "#B6E880",
           "#FF97FF",
           "#FECB52"
          ],
          "font": {
           "color": "#2a3f5f"
          },
          "geo": {
           "bgcolor": "white",
           "lakecolor": "white",
           "landcolor": "white",
           "showlakes": true,
           "showland": true,
           "subunitcolor": "#C8D4E3"
          },
          "hoverlabel": {
           "align": "left"
          },
          "hovermode": "closest",
          "mapbox": {
           "style": "light"
          },
          "paper_bgcolor": "white",
          "plot_bgcolor": "white",
          "polar": {
           "angularaxis": {
            "gridcolor": "#EBF0F8",
            "linecolor": "#EBF0F8",
            "ticks": ""
           },
           "bgcolor": "white",
           "radialaxis": {
            "gridcolor": "#EBF0F8",
            "linecolor": "#EBF0F8",
            "ticks": ""
           }
          },
          "scene": {
           "xaxis": {
            "backgroundcolor": "white",
            "gridcolor": "#DFE8F3",
            "gridwidth": 2,
            "linecolor": "#EBF0F8",
            "showbackground": true,
            "ticks": "",
            "zerolinecolor": "#EBF0F8"
           },
           "yaxis": {
            "backgroundcolor": "white",
            "gridcolor": "#DFE8F3",
            "gridwidth": 2,
            "linecolor": "#EBF0F8",
            "showbackground": true,
            "ticks": "",
            "zerolinecolor": "#EBF0F8"
           },
           "zaxis": {
            "backgroundcolor": "white",
            "gridcolor": "#DFE8F3",
            "gridwidth": 2,
            "linecolor": "#EBF0F8",
            "showbackground": true,
            "ticks": "",
            "zerolinecolor": "#EBF0F8"
           }
          },
          "shapedefaults": {
           "line": {
            "color": "#2a3f5f"
           }
          },
          "ternary": {
           "aaxis": {
            "gridcolor": "#DFE8F3",
            "linecolor": "#A2B1C6",
            "ticks": ""
           },
           "baxis": {
            "gridcolor": "#DFE8F3",
            "linecolor": "#A2B1C6",
            "ticks": ""
           },
           "bgcolor": "white",
           "caxis": {
            "gridcolor": "#DFE8F3",
            "linecolor": "#A2B1C6",
            "ticks": ""
           }
          },
          "title": {
           "x": 0.05
          },
          "xaxis": {
           "automargin": true,
           "gridcolor": "#EBF0F8",
           "linecolor": "#EBF0F8",
           "ticks": "",
           "title": {
            "standoff": 15
           },
           "zerolinecolor": "#EBF0F8",
           "zerolinewidth": 2
          },
          "yaxis": {
           "automargin": true,
           "gridcolor": "#EBF0F8",
           "linecolor": "#EBF0F8",
           "ticks": "",
           "title": {
            "standoff": 15
           },
           "zerolinecolor": "#EBF0F8",
           "zerolinewidth": 2
          }
         }
        },
        "width": 1200,
        "xaxis": {
         "anchor": "y",
         "domain": [
          0,
          0.45
         ]
        },
        "xaxis2": {
         "anchor": "y2",
         "domain": [
          0.55,
          1
         ]
        },
        "xaxis3": {
         "anchor": "y3",
         "domain": [
          0,
          0.45
         ]
        },
        "xaxis4": {
         "anchor": "y4",
         "domain": [
          0.55,
          1
         ]
        },
        "yaxis": {
         "anchor": "x",
         "domain": [
          0.625,
          1
         ]
        },
        "yaxis2": {
         "anchor": "x2",
         "domain": [
          0.625,
          1
         ]
        },
        "yaxis3": {
         "anchor": "x3",
         "domain": [
          0,
          0.375
         ]
        },
        "yaxis4": {
         "anchor": "x4",
         "domain": [
          0,
          0.375
         ]
        }
       }
      }
     },
     "metadata": {},
     "output_type": "display_data"
    }
   ],
   "source": [
    "# Plot imshow of F1 scores between each pair of models, using plotly, separated by dataset, add the number in each cell\n",
    "\n",
    "from plotly.subplots import make_subplots\n",
    "\n",
    "import plotly.graph_objects as go\n",
    "models = prediction_algos.model.unique()\n",
    "\n",
    "fig = make_subplots(rows=2, cols=2, subplot_titles=full_data.dataset.unique())\n",
    "\n",
    "for k, dataset in enumerate(full_data.dataset.unique()):\n",
    "    data = full_data[full_data['dataset']==dataset]\n",
    "\n",
    "    f1_matrix = np.zeros((len(models), len(models)))\n",
    "\n",
    "    for i, model1 in enumerate(models):\n",
    "        for j, model2 in enumerate(models):\n",
    "            f1_matrix[i,j] = data[(data['model_1']==model1) & (data['model_2']==model2)]['F1'].mean()\n",
    "\n",
    "    fig.add_trace(go.Heatmap(z=f1_matrix, x=models, y=models, \n",
    "                             text=f1_matrix.round(2).astype(str), texttemplate=\"%{text}\",\n",
    "                             showscale=False), row=(k//2)+1, col=(k%2)+1)\n",
    "\n",
    "\n",
    "fig.update_layout(height=1200, width=1200, \n",
    "                  template='plotly_white', font_size=14, font_color='black', font_family='times new roman',)\n",
    "fig.show()"
   ]
  },
  {
   "cell_type": "code",
   "execution_count": 89,
   "metadata": {},
   "outputs": [],
   "source": [
    "fig.write_image(\"images/S4/prediction_similarity.pdf\")"
   ]
  }
 ],
 "metadata": {
  "kernelspec": {
   "display_name": "Python 3",
   "language": "python",
   "name": "python3"
  },
  "language_info": {
   "codemirror_mode": {
    "name": "ipython",
    "version": 3
   },
   "file_extension": ".py",
   "mimetype": "text/x-python",
   "name": "python",
   "nbconvert_exporter": "python",
   "pygments_lexer": "ipython3",
   "version": "3.10.9"
  }
 },
 "nbformat": 4,
 "nbformat_minor": 2
}

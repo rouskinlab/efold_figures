{
 "cells": [
  {
   "cell_type": "markdown",
   "metadata": {},
   "source": [
    "## Ablation study of our final best model, on structure prediction\n",
    "\n",
    "Show performance difference (Delta of F1 score) of different versions of our model, vs our best model (baseline, ∆F1=0)\n",
    "\n",
    "- Is pretraining useful (Ribo, ArchiveII, bpRNA, RNAstralign, zuber, synthetic)\n",
    "- Is finetuning useful (UTR, pri-miRNA, human_mRNA fragments?)\n",
    "- Is training on everything at once better ?\n",
    "- Is is useful to have a SHAPE/DMS head ?\n",
    "- Pearson loss for SHAPE/DMS vs MSE\n",
    "- model architecture (Evoformer, Transformer, CNN)\n",
    "\n",
    "The test set could be a weighted average of the tree standard set (PDB, viral_fragments, lncRNA) if there is no outliers\n",
    "\n",
    "\n",
    "**Assigned to**: Alberic\n",
    "\n",
    "Use Ploty, and a white background"
   ]
  },
  {
   "cell_type": "code",
   "execution_count": 2,
   "metadata": {},
   "outputs": [],
   "source": [
    "import pandas as pd\n",
    "from rouskinhf import get_dataset\n",
    "import torch\n",
    "import numpy as np\n",
    "import os\n",
    "\n",
    "def compute_f1(pred_matrix, target_matrix, threshold=0.5):\n",
    "    \"\"\"\n",
    "    Compute the F1 score of the predictions.\n",
    "\n",
    "    :param pred_matrix: Predicted pairing matrix probability  (L,L)\n",
    "    :param target_matrix: True binary pairing matrix (L,L)\n",
    "    :return: F1 score for this RNA structure\n",
    "    \"\"\"\n",
    "\n",
    "    pred_matrix = (pred_matrix > threshold).float()\n",
    "\n",
    "    sum_pair = torch.sum(pred_matrix) + torch.sum(target_matrix)\n",
    "\n",
    "    if sum_pair == 0:\n",
    "        return 1.0\n",
    "    else:\n",
    "        return (2 * torch.sum(pred_matrix * target_matrix) / sum_pair).item()\n",
    "    \n",
    "def pairList2pairMatrix(pair_list, len_seq):\n",
    "    pair_list = np.array(pair_list).astype(int)\n",
    "    pairing_matrix = torch.zeros((len_seq, len_seq))\n",
    "\n",
    "    if len(pair_list) > 0:\n",
    "        pairing_matrix[pair_list[:,0], pair_list[:,1]] = 1.0\n",
    "        pairing_matrix[pair_list[:,1], pair_list[:,0]] = 1.0\n",
    "\n",
    "    return pairing_matrix"
   ]
  },
  {
   "cell_type": "code",
   "execution_count": 3,
   "metadata": {},
   "outputs": [
    {
     "name": "stdout",
     "output_type": "stream",
     "text": [
      "PDB: Downloading dataset from HuggingFace Hub...\n"
     ]
    },
    {
     "data": {
      "application/vnd.jupyter.widget-view+json": {
       "model_id": "87583fdd3e6340f981c6c4ac2ccd42f1",
       "version_major": 2,
       "version_minor": 0
      },
      "text/plain": [
       "Fetching 1 files:   0%|          | 0/1 [00:00<?, ?it/s]"
      ]
     },
     "metadata": {},
     "output_type": "display_data"
    },
    {
     "name": "stdout",
     "output_type": "stream",
     "text": [
      "PDB: Download complete. File saved at data/PDB/data.json\n",
      "archiveII_blast: Downloading dataset from HuggingFace Hub...\n"
     ]
    },
    {
     "data": {
      "application/vnd.jupyter.widget-view+json": {
       "model_id": "8e5922abfafc4bbfbc31ef0a157c9498",
       "version_major": 2,
       "version_minor": 0
      },
      "text/plain": [
       "Fetching 1 files:   0%|          | 0/1 [00:00<?, ?it/s]"
      ]
     },
     "metadata": {},
     "output_type": "display_data"
    },
    {
     "name": "stdout",
     "output_type": "stream",
     "text": [
      "archiveII_blast: Download complete. File saved at data/archiveII_blast/data.json\n",
      "lncRNA: Downloading dataset from HuggingFace Hub...\n"
     ]
    },
    {
     "data": {
      "application/vnd.jupyter.widget-view+json": {
       "model_id": "bd0ba6bb6ca7487b81ed2957847d3630",
       "version_major": 2,
       "version_minor": 0
      },
      "text/plain": [
       "Fetching 1 files:   0%|          | 0/1 [00:00<?, ?it/s]"
      ]
     },
     "metadata": {},
     "output_type": "display_data"
    },
    {
     "name": "stdout",
     "output_type": "stream",
     "text": [
      "lncRNA: Download complete. File saved at data/lncRNA/data.json\n",
      "viral_fragments: Downloading dataset from HuggingFace Hub...\n"
     ]
    },
    {
     "data": {
      "application/vnd.jupyter.widget-view+json": {
       "model_id": "685f5187e2c7444f9575cb40c0be0500",
       "version_major": 2,
       "version_minor": 0
      },
      "text/plain": [
       "Fetching 1 files:   0%|          | 0/1 [00:00<?, ?it/s]"
      ]
     },
     "metadata": {},
     "output_type": "display_data"
    },
    {
     "name": "stdout",
     "output_type": "stream",
     "text": [
      "viral_fragments: Download complete. File saved at data/viral_fragments/data.json\n"
     ]
    }
   ],
   "source": [
    "ground_truth = pd.DataFrame()\n",
    "\n",
    "for test_set in [\"PDB\", \"archiveII_blast\", \"lncRNA\", \"viral_fragments\"]:\n",
    "    data = get_dataset(test_set, force_download=True)\n",
    "    data = pd.DataFrame(data).T[['sequence', 'structure']]\n",
    "    data['dataset'] = test_set\n",
    "\n",
    "    ground_truth = pd.concat([ground_truth, data])\n",
    "    del data"
   ]
  },
  {
   "cell_type": "code",
   "execution_count": 4,
   "metadata": {},
   "outputs": [
    {
     "name": "stdout",
     "output_type": "stream",
     "text": [
      "PT+FT-primiRNA\n",
      "dataset\n",
      "PDB                0.900898\n",
      "archiveII_blast    0.666530\n",
      "lncRNA             0.399686\n",
      "viral_fragments    0.696693\n",
      "Name: f1, dtype: float64\n",
      "ribonanza\n",
      "dataset\n",
      "PDB                0.849423\n",
      "archiveII_blast    0.492899\n",
      "lncRNA             0.295483\n",
      "viral_fragments    0.605082\n",
      "Name: f1, dtype: float64\n",
      "RNAstralign\n",
      "dataset\n",
      "PDB                0.728857\n",
      "archiveII_blast    0.664344\n",
      "lncRNA             0.019434\n",
      "viral_fragments    0.124726\n",
      "Name: f1, dtype: float64\n",
      "bpRNA\n",
      "dataset\n",
      "PDB                0.816722\n",
      "archiveII_blast    0.647147\n",
      "lncRNA             0.192751\n",
      "viral_fragments    0.302771\n",
      "Name: f1, dtype: float64\n",
      "PT-UFold\n",
      "dataset\n",
      "PDB                0.843829\n",
      "archiveII_blast    0.627999\n",
      "lncRNA             0.262879\n",
      "viral_fragments    0.609994\n",
      "Name: f1, dtype: float64\n",
      "PT+FT-mRNA\n",
      "dataset\n",
      "PDB                0.890331\n",
      "archiveII_blast    0.611764\n",
      "lncRNA             0.423370\n",
      "viral_fragments    0.660925\n",
      "Name: f1, dtype: float64\n",
      "PT+FT\n",
      "dataset\n",
      "PDB                0.889730\n",
      "archiveII_blast    0.635189\n",
      "lncRNA             0.441511\n",
      "viral_fragments    0.676539\n",
      "Name: f1, dtype: float64\n",
      "RNAcentral-synthetic\n",
      "dataset\n",
      "PDB                0.887913\n",
      "archiveII_blast    0.529867\n",
      "lncRNA             0.394756\n",
      "viral_fragments    0.659824\n",
      "Name: f1, dtype: float64\n",
      "PT\n",
      "dataset\n",
      "PDB                0.828786\n",
      "archiveII_blast    0.613202\n",
      "lncRNA             0.382487\n",
      "viral_fragments    0.604011\n",
      "Name: f1, dtype: float64\n"
     ]
    }
   ],
   "source": [
    "data_comparison = pd.DataFrame()\n",
    "\n",
    "path_data = '../Figure5/saved_data_plot/results_main'\n",
    "\n",
    "for model in os.listdir(path_data):\n",
    "\n",
    "    prediction = pd.read_feather(os.path.join(path_data, model))\n",
    "\n",
    "    merged = ground_truth.reset_index().rename(columns={'index': 'reference'}).merge(prediction, on=['sequence', 'reference'], suffixes=('_true', '_pred'))\n",
    "\n",
    "    f1s = []\n",
    "    for i, row in merged.iterrows():\n",
    "        f1s.append(compute_f1(torch.tensor(np.stack(row['structure_pred'])), \n",
    "                            pairList2pairMatrix(row['structure_true'], len(row['sequence'])), threshold=0.5))\n",
    "\n",
    "    model = model.split('.feather')[0].split('_')[-1]\n",
    "    print(model)\n",
    "    merged['f1'] = f1s\n",
    "    merged['model'] = model\n",
    "    print(merged.groupby('dataset')['f1'].mean())\n",
    "\n",
    "    data_comparison = pd.concat([data_comparison, merged[['reference', 'sequence', 'model', 'dataset', 'f1']]])\n",
    "\n",
    "data_comparison.loc[data_comparison['dataset']=='viral_fragments', 'dataset'] = 'viral mRNA'\n",
    "data_comparison.loc[data_comparison['dataset']=='lncRNA', 'dataset'] = 'long ncRNA'\n",
    "data_comparison.loc[data_comparison['dataset']=='archiveII_blast', 'dataset'] = 'archiveII'\n",
    "\n",
    "data_comparison.loc[data_comparison['model']=='PT+FT', 'model'] = 'baseline<br> (PT+FT)'\n",
    "data_comparison.loc[data_comparison['model']=='PT', 'model'] = 'no finetuning<br> (PT)'\n",
    "data_comparison.loc[data_comparison['model']=='PT-UFold', 'model'] = 'no finetuning, with <br> UFold architecture'\n",
    "data_comparison.loc[data_comparison['model']=='PT+FT-mRNA', 'model'] = 'finetune on mRNA'\n",
    "data_comparison.loc[data_comparison['model']=='PT+FT-primiRNA', 'model'] = 'finetune on pri-miRNA'"
   ]
  },
  {
   "cell_type": "code",
   "execution_count": 6,
   "metadata": {},
   "outputs": [
    {
     "data": {
      "application/vnd.plotly.v1+json": {
       "config": {
        "plotlyServerURL": "https://plot.ly"
       },
       "data": [
        {
         "error_x": {
          "array": [
           0.18363147583863043
          ],
          "thickness": 3,
          "type": "data"
         },
         "marker": {
          "color": "rgb(246, 207, 113)",
          "size": 7
         },
         "mode": "markers",
         "showlegend": false,
         "type": "scatter",
         "x": [
          0
         ],
         "xaxis": "x",
         "y": [
          "baseline<br> (PT+FT)"
         ],
         "yaxis": "y"
        },
        {
         "error_x": {
          "array": [
           0.21596255955143043
          ],
          "thickness": 3,
          "type": "data"
         },
         "marker": {
          "color": "rgb(246, 207, 113)",
          "size": 7
         },
         "mode": "markers",
         "showlegend": false,
         "type": "scatter",
         "x": [
          0
         ],
         "xaxis": "x2",
         "y": [
          "baseline<br> (PT+FT)"
         ],
         "yaxis": "y2"
        },
        {
         "error_x": {
          "array": [
           0.1776567093847245
          ],
          "thickness": 3,
          "type": "data"
         },
         "marker": {
          "color": "rgb(246, 207, 113)",
          "size": 7
         },
         "mode": "markers",
         "showlegend": false,
         "type": "scatter",
         "x": [
          0
         ],
         "xaxis": "x3",
         "y": [
          "baseline<br> (PT+FT)"
         ],
         "yaxis": "y3"
        },
        {
         "error_x": {
          "array": [
           0.1274272899622718
          ],
          "thickness": 3,
          "type": "data"
         },
         "marker": {
          "color": "rgb(246, 207, 113)",
          "size": 7
         },
         "mode": "markers",
         "showlegend": false,
         "type": "scatter",
         "x": [
          0
         ],
         "xaxis": "x4",
         "y": [
          "baseline<br> (PT+FT)"
         ],
         "yaxis": "y4"
        },
        {
         "error_x": {
          "array": [
           0.18029485242245977
          ],
          "thickness": 3,
          "type": "data"
         },
         "marker": {
          "color": "rgb(201, 219, 116)",
          "size": 7
         },
         "mode": "markers",
         "showlegend": false,
         "type": "scatter",
         "x": [
          0.0006002041228702071
         ],
         "xaxis": "x5",
         "y": [
          "finetune on mRNA"
         ],
         "yaxis": "y5"
        },
        {
         "error_x": {
          "array": [
           0.21397468422311913
          ],
          "thickness": 3,
          "type": "data"
         },
         "marker": {
          "color": "rgb(201, 219, 116)",
          "size": 7
         },
         "mode": "markers",
         "showlegend": false,
         "type": "scatter",
         "x": [
          -0.023425121699840235
         ],
         "xaxis": "x6",
         "y": [
          "finetune on mRNA"
         ],
         "yaxis": "y6"
        },
        {
         "error_x": {
          "array": [
           0.18216330161153765
          ],
          "thickness": 3,
          "type": "data"
         },
         "marker": {
          "color": "rgb(201, 219, 116)",
          "size": 7
         },
         "mode": "markers",
         "showlegend": false,
         "type": "scatter",
         "x": [
          -0.015614222606708195
         ],
         "xaxis": "x7",
         "y": [
          "finetune on mRNA"
         ],
         "yaxis": "y7"
        },
        {
         "error_x": {
          "array": [
           0.12534693280776424
          ],
          "thickness": 3,
          "type": "data"
         },
         "marker": {
          "color": "rgb(201, 219, 116)",
          "size": 7
         },
         "mode": "markers",
         "showlegend": false,
         "type": "scatter",
         "x": [
          -0.018140975634256984
         ],
         "xaxis": "x8",
         "y": [
          "finetune on mRNA"
         ],
         "yaxis": "y8"
        },
        {
         "error_x": {
          "array": [
           0.17663602241084797
          ],
          "thickness": 3,
          "type": "data"
         },
         "marker": {
          "color": "rgb(135, 197, 95)",
          "size": 7
         },
         "mode": "markers",
         "showlegend": false,
         "type": "scatter",
         "x": [
          0.011167367187778665
         ],
         "xaxis": "x9",
         "y": [
          "finetune on pri-miRNA"
         ],
         "yaxis": "y9"
        },
        {
         "error_x": {
          "array": [
           0.20981674236273756
          ],
          "thickness": 3,
          "type": "data"
         },
         "marker": {
          "color": "rgb(135, 197, 95)",
          "size": 7
         },
         "mode": "markers",
         "showlegend": false,
         "type": "scatter",
         "x": [
          0.031341198747846466
         ],
         "xaxis": "x10",
         "y": [
          "finetune on pri-miRNA"
         ],
         "yaxis": "y10"
        },
        {
         "error_x": {
          "array": [
           0.1758205295703819
          ],
          "thickness": 3,
          "type": "data"
         },
         "marker": {
          "color": "rgb(135, 197, 95)",
          "size": 7
         },
         "mode": "markers",
         "showlegend": false,
         "type": "scatter",
         "x": [
          0.02015413241139774
         ],
         "xaxis": "x11",
         "y": [
          "finetune on pri-miRNA"
         ],
         "yaxis": "y11"
        },
        {
         "error_x": {
          "array": [
           0.14680111752781974
          ],
          "thickness": 3,
          "type": "data"
         },
         "marker": {
          "color": "rgb(135, 197, 95)",
          "size": 7
         },
         "mode": "markers",
         "showlegend": false,
         "type": "scatter",
         "x": [
          -0.04182588160037992
         ],
         "xaxis": "x12",
         "y": [
          "finetune on pri-miRNA"
         ],
         "yaxis": "y12"
        },
        {
         "error_x": {
          "array": [
           0.2016130275828967
          ],
          "thickness": 3,
          "type": "data"
         },
         "marker": {
          "color": "rgb(102, 197, 204)",
          "size": 7
         },
         "mode": "markers",
         "showlegend": false,
         "type": "scatter",
         "x": [
          -0.0609445569178696
         ],
         "xaxis": "x13",
         "y": [
          "no finetuning<br> (PT)"
         ],
         "yaxis": "y13"
        },
        {
         "error_x": {
          "array": [
           0.20772785158593463
          ],
          "thickness": 3,
          "type": "data"
         },
         "marker": {
          "color": "rgb(102, 197, 204)",
          "size": 7
         },
         "mode": "markers",
         "showlegend": false,
         "type": "scatter",
         "x": [
          -0.02198681140607084
         ],
         "xaxis": "x14",
         "y": [
          "no finetuning<br> (PT)"
         ],
         "yaxis": "y14"
        },
        {
         "error_x": {
          "array": [
           0.18360275541491078
          ],
          "thickness": 3,
          "type": "data"
         },
         "marker": {
          "color": "rgb(102, 197, 204)",
          "size": 7
         },
         "mode": "markers",
         "showlegend": false,
         "type": "scatter",
         "x": [
          -0.07252871322220766
         ],
         "xaxis": "x15",
         "y": [
          "no finetuning<br> (PT)"
         ],
         "yaxis": "y15"
        },
        {
         "error_x": {
          "array": [
           0.135443640400952
          ],
          "thickness": 3,
          "type": "data"
         },
         "marker": {
          "color": "rgb(102, 197, 204)",
          "size": 7
         },
         "mode": "markers",
         "showlegend": false,
         "type": "scatter",
         "x": [
          -0.05902464985847472
         ],
         "xaxis": "x16",
         "y": [
          "no finetuning<br> (PT)"
         ],
         "yaxis": "y16"
        },
        {
         "error_x": {
          "array": [
           0.14954098545132835
          ],
          "thickness": 3,
          "type": "data"
         },
         "marker": {
          "color": "rgb(180, 151, 231)",
          "size": 7
         },
         "mode": "markers",
         "showlegend": false,
         "type": "scatter",
         "x": [
          -0.045900980157128846
         ],
         "xaxis": "x17",
         "y": [
          "no finetuning, with <br> UFold architecture"
         ],
         "yaxis": "y17"
        },
        {
         "error_x": {
          "array": [
           0.20078737818352158
          ],
          "thickness": 3,
          "type": "data"
         },
         "marker": {
          "color": "rgb(180, 151, 231)",
          "size": 7
         },
         "mode": "markers",
         "showlegend": false,
         "type": "scatter",
         "x": [
          -0.007189434368005898
         ],
         "xaxis": "x18",
         "y": [
          "no finetuning, with <br> UFold architecture"
         ],
         "yaxis": "y18"
        },
        {
         "error_x": {
          "array": [
           0.18928030878651686
          ],
          "thickness": 3,
          "type": "data"
         },
         "marker": {
          "color": "rgb(180, 151, 231)",
          "size": 7
         },
         "mode": "markers",
         "showlegend": false,
         "type": "scatter",
         "x": [
          -0.06654510133225344
         ],
         "xaxis": "x19",
         "y": [
          "no finetuning, with <br> UFold architecture"
         ],
         "yaxis": "y19"
        },
        {
         "error_x": {
          "array": [
           0.1954293573067235
          ],
          "thickness": 3,
          "type": "data"
         },
         "marker": {
          "color": "rgb(180, 151, 231)",
          "size": 7
         },
         "mode": "markers",
         "showlegend": false,
         "type": "scatter",
         "x": [
          -0.17863254100084303
         ],
         "xaxis": "x20",
         "y": [
          "no finetuning, with <br> UFold architecture"
         ],
         "yaxis": "y20"
        }
       ],
       "layout": {
        "annotations": [
         {
          "font": {
           "size": 20
          },
          "showarrow": false,
          "text": "PDB",
          "x": 0.095,
          "xanchor": "center",
          "xref": "paper",
          "y": 1,
          "yanchor": "bottom",
          "yref": "paper"
         },
         {
          "font": {
           "size": 20
          },
          "showarrow": false,
          "text": "archiveII",
          "x": 0.365,
          "xanchor": "center",
          "xref": "paper",
          "y": 1,
          "yanchor": "bottom",
          "yref": "paper"
         },
         {
          "font": {
           "size": 20
          },
          "showarrow": false,
          "text": "viral mRNA",
          "x": 0.635,
          "xanchor": "center",
          "xref": "paper",
          "y": 1,
          "yanchor": "bottom",
          "yref": "paper"
         },
         {
          "font": {
           "size": 20
          },
          "showarrow": false,
          "text": "long ncRNA",
          "x": 0.905,
          "xanchor": "center",
          "xref": "paper",
          "y": 1,
          "yanchor": "bottom",
          "yref": "paper"
         }
        ],
        "font": {
         "color": "black",
         "family": "helvetica light",
         "size": 20
        },
        "height": 700,
        "template": {
         "data": {
          "bar": [
           {
            "error_x": {
             "color": "#2a3f5f"
            },
            "error_y": {
             "color": "#2a3f5f"
            },
            "marker": {
             "line": {
              "color": "white",
              "width": 0.5
             },
             "pattern": {
              "fillmode": "overlay",
              "size": 10,
              "solidity": 0.2
             }
            },
            "type": "bar"
           }
          ],
          "barpolar": [
           {
            "marker": {
             "line": {
              "color": "white",
              "width": 0.5
             },
             "pattern": {
              "fillmode": "overlay",
              "size": 10,
              "solidity": 0.2
             }
            },
            "type": "barpolar"
           }
          ],
          "carpet": [
           {
            "aaxis": {
             "endlinecolor": "#2a3f5f",
             "gridcolor": "#C8D4E3",
             "linecolor": "#C8D4E3",
             "minorgridcolor": "#C8D4E3",
             "startlinecolor": "#2a3f5f"
            },
            "baxis": {
             "endlinecolor": "#2a3f5f",
             "gridcolor": "#C8D4E3",
             "linecolor": "#C8D4E3",
             "minorgridcolor": "#C8D4E3",
             "startlinecolor": "#2a3f5f"
            },
            "type": "carpet"
           }
          ],
          "choropleth": [
           {
            "colorbar": {
             "outlinewidth": 0,
             "ticks": ""
            },
            "type": "choropleth"
           }
          ],
          "contour": [
           {
            "colorbar": {
             "outlinewidth": 0,
             "ticks": ""
            },
            "colorscale": [
             [
              0,
              "#0d0887"
             ],
             [
              0.1111111111111111,
              "#46039f"
             ],
             [
              0.2222222222222222,
              "#7201a8"
             ],
             [
              0.3333333333333333,
              "#9c179e"
             ],
             [
              0.4444444444444444,
              "#bd3786"
             ],
             [
              0.5555555555555556,
              "#d8576b"
             ],
             [
              0.6666666666666666,
              "#ed7953"
             ],
             [
              0.7777777777777778,
              "#fb9f3a"
             ],
             [
              0.8888888888888888,
              "#fdca26"
             ],
             [
              1,
              "#f0f921"
             ]
            ],
            "type": "contour"
           }
          ],
          "contourcarpet": [
           {
            "colorbar": {
             "outlinewidth": 0,
             "ticks": ""
            },
            "type": "contourcarpet"
           }
          ],
          "heatmap": [
           {
            "colorbar": {
             "outlinewidth": 0,
             "ticks": ""
            },
            "colorscale": [
             [
              0,
              "#0d0887"
             ],
             [
              0.1111111111111111,
              "#46039f"
             ],
             [
              0.2222222222222222,
              "#7201a8"
             ],
             [
              0.3333333333333333,
              "#9c179e"
             ],
             [
              0.4444444444444444,
              "#bd3786"
             ],
             [
              0.5555555555555556,
              "#d8576b"
             ],
             [
              0.6666666666666666,
              "#ed7953"
             ],
             [
              0.7777777777777778,
              "#fb9f3a"
             ],
             [
              0.8888888888888888,
              "#fdca26"
             ],
             [
              1,
              "#f0f921"
             ]
            ],
            "type": "heatmap"
           }
          ],
          "heatmapgl": [
           {
            "colorbar": {
             "outlinewidth": 0,
             "ticks": ""
            },
            "colorscale": [
             [
              0,
              "#0d0887"
             ],
             [
              0.1111111111111111,
              "#46039f"
             ],
             [
              0.2222222222222222,
              "#7201a8"
             ],
             [
              0.3333333333333333,
              "#9c179e"
             ],
             [
              0.4444444444444444,
              "#bd3786"
             ],
             [
              0.5555555555555556,
              "#d8576b"
             ],
             [
              0.6666666666666666,
              "#ed7953"
             ],
             [
              0.7777777777777778,
              "#fb9f3a"
             ],
             [
              0.8888888888888888,
              "#fdca26"
             ],
             [
              1,
              "#f0f921"
             ]
            ],
            "type": "heatmapgl"
           }
          ],
          "histogram": [
           {
            "marker": {
             "pattern": {
              "fillmode": "overlay",
              "size": 10,
              "solidity": 0.2
             }
            },
            "type": "histogram"
           }
          ],
          "histogram2d": [
           {
            "colorbar": {
             "outlinewidth": 0,
             "ticks": ""
            },
            "colorscale": [
             [
              0,
              "#0d0887"
             ],
             [
              0.1111111111111111,
              "#46039f"
             ],
             [
              0.2222222222222222,
              "#7201a8"
             ],
             [
              0.3333333333333333,
              "#9c179e"
             ],
             [
              0.4444444444444444,
              "#bd3786"
             ],
             [
              0.5555555555555556,
              "#d8576b"
             ],
             [
              0.6666666666666666,
              "#ed7953"
             ],
             [
              0.7777777777777778,
              "#fb9f3a"
             ],
             [
              0.8888888888888888,
              "#fdca26"
             ],
             [
              1,
              "#f0f921"
             ]
            ],
            "type": "histogram2d"
           }
          ],
          "histogram2dcontour": [
           {
            "colorbar": {
             "outlinewidth": 0,
             "ticks": ""
            },
            "colorscale": [
             [
              0,
              "#0d0887"
             ],
             [
              0.1111111111111111,
              "#46039f"
             ],
             [
              0.2222222222222222,
              "#7201a8"
             ],
             [
              0.3333333333333333,
              "#9c179e"
             ],
             [
              0.4444444444444444,
              "#bd3786"
             ],
             [
              0.5555555555555556,
              "#d8576b"
             ],
             [
              0.6666666666666666,
              "#ed7953"
             ],
             [
              0.7777777777777778,
              "#fb9f3a"
             ],
             [
              0.8888888888888888,
              "#fdca26"
             ],
             [
              1,
              "#f0f921"
             ]
            ],
            "type": "histogram2dcontour"
           }
          ],
          "mesh3d": [
           {
            "colorbar": {
             "outlinewidth": 0,
             "ticks": ""
            },
            "type": "mesh3d"
           }
          ],
          "parcoords": [
           {
            "line": {
             "colorbar": {
              "outlinewidth": 0,
              "ticks": ""
             }
            },
            "type": "parcoords"
           }
          ],
          "pie": [
           {
            "automargin": true,
            "type": "pie"
           }
          ],
          "scatter": [
           {
            "fillpattern": {
             "fillmode": "overlay",
             "size": 10,
             "solidity": 0.2
            },
            "type": "scatter"
           }
          ],
          "scatter3d": [
           {
            "line": {
             "colorbar": {
              "outlinewidth": 0,
              "ticks": ""
             }
            },
            "marker": {
             "colorbar": {
              "outlinewidth": 0,
              "ticks": ""
             }
            },
            "type": "scatter3d"
           }
          ],
          "scattercarpet": [
           {
            "marker": {
             "colorbar": {
              "outlinewidth": 0,
              "ticks": ""
             }
            },
            "type": "scattercarpet"
           }
          ],
          "scattergeo": [
           {
            "marker": {
             "colorbar": {
              "outlinewidth": 0,
              "ticks": ""
             }
            },
            "type": "scattergeo"
           }
          ],
          "scattergl": [
           {
            "marker": {
             "colorbar": {
              "outlinewidth": 0,
              "ticks": ""
             }
            },
            "type": "scattergl"
           }
          ],
          "scattermapbox": [
           {
            "marker": {
             "colorbar": {
              "outlinewidth": 0,
              "ticks": ""
             }
            },
            "type": "scattermapbox"
           }
          ],
          "scatterpolar": [
           {
            "marker": {
             "colorbar": {
              "outlinewidth": 0,
              "ticks": ""
             }
            },
            "type": "scatterpolar"
           }
          ],
          "scatterpolargl": [
           {
            "marker": {
             "colorbar": {
              "outlinewidth": 0,
              "ticks": ""
             }
            },
            "type": "scatterpolargl"
           }
          ],
          "scatterternary": [
           {
            "marker": {
             "colorbar": {
              "outlinewidth": 0,
              "ticks": ""
             }
            },
            "type": "scatterternary"
           }
          ],
          "surface": [
           {
            "colorbar": {
             "outlinewidth": 0,
             "ticks": ""
            },
            "colorscale": [
             [
              0,
              "#0d0887"
             ],
             [
              0.1111111111111111,
              "#46039f"
             ],
             [
              0.2222222222222222,
              "#7201a8"
             ],
             [
              0.3333333333333333,
              "#9c179e"
             ],
             [
              0.4444444444444444,
              "#bd3786"
             ],
             [
              0.5555555555555556,
              "#d8576b"
             ],
             [
              0.6666666666666666,
              "#ed7953"
             ],
             [
              0.7777777777777778,
              "#fb9f3a"
             ],
             [
              0.8888888888888888,
              "#fdca26"
             ],
             [
              1,
              "#f0f921"
             ]
            ],
            "type": "surface"
           }
          ],
          "table": [
           {
            "cells": {
             "fill": {
              "color": "#EBF0F8"
             },
             "line": {
              "color": "white"
             }
            },
            "header": {
             "fill": {
              "color": "#C8D4E3"
             },
             "line": {
              "color": "white"
             }
            },
            "type": "table"
           }
          ]
         },
         "layout": {
          "annotationdefaults": {
           "arrowcolor": "#2a3f5f",
           "arrowhead": 0,
           "arrowwidth": 1
          },
          "autotypenumbers": "strict",
          "coloraxis": {
           "colorbar": {
            "outlinewidth": 0,
            "ticks": ""
           }
          },
          "colorscale": {
           "diverging": [
            [
             0,
             "#8e0152"
            ],
            [
             0.1,
             "#c51b7d"
            ],
            [
             0.2,
             "#de77ae"
            ],
            [
             0.3,
             "#f1b6da"
            ],
            [
             0.4,
             "#fde0ef"
            ],
            [
             0.5,
             "#f7f7f7"
            ],
            [
             0.6,
             "#e6f5d0"
            ],
            [
             0.7,
             "#b8e186"
            ],
            [
             0.8,
             "#7fbc41"
            ],
            [
             0.9,
             "#4d9221"
            ],
            [
             1,
             "#276419"
            ]
           ],
           "sequential": [
            [
             0,
             "#0d0887"
            ],
            [
             0.1111111111111111,
             "#46039f"
            ],
            [
             0.2222222222222222,
             "#7201a8"
            ],
            [
             0.3333333333333333,
             "#9c179e"
            ],
            [
             0.4444444444444444,
             "#bd3786"
            ],
            [
             0.5555555555555556,
             "#d8576b"
            ],
            [
             0.6666666666666666,
             "#ed7953"
            ],
            [
             0.7777777777777778,
             "#fb9f3a"
            ],
            [
             0.8888888888888888,
             "#fdca26"
            ],
            [
             1,
             "#f0f921"
            ]
           ],
           "sequentialminus": [
            [
             0,
             "#0d0887"
            ],
            [
             0.1111111111111111,
             "#46039f"
            ],
            [
             0.2222222222222222,
             "#7201a8"
            ],
            [
             0.3333333333333333,
             "#9c179e"
            ],
            [
             0.4444444444444444,
             "#bd3786"
            ],
            [
             0.5555555555555556,
             "#d8576b"
            ],
            [
             0.6666666666666666,
             "#ed7953"
            ],
            [
             0.7777777777777778,
             "#fb9f3a"
            ],
            [
             0.8888888888888888,
             "#fdca26"
            ],
            [
             1,
             "#f0f921"
            ]
           ]
          },
          "colorway": [
           "#636efa",
           "#EF553B",
           "#00cc96",
           "#ab63fa",
           "#FFA15A",
           "#19d3f3",
           "#FF6692",
           "#B6E880",
           "#FF97FF",
           "#FECB52"
          ],
          "font": {
           "color": "#2a3f5f"
          },
          "geo": {
           "bgcolor": "white",
           "lakecolor": "white",
           "landcolor": "white",
           "showlakes": true,
           "showland": true,
           "subunitcolor": "#C8D4E3"
          },
          "hoverlabel": {
           "align": "left"
          },
          "hovermode": "closest",
          "mapbox": {
           "style": "light"
          },
          "paper_bgcolor": "white",
          "plot_bgcolor": "white",
          "polar": {
           "angularaxis": {
            "gridcolor": "#EBF0F8",
            "linecolor": "#EBF0F8",
            "ticks": ""
           },
           "bgcolor": "white",
           "radialaxis": {
            "gridcolor": "#EBF0F8",
            "linecolor": "#EBF0F8",
            "ticks": ""
           }
          },
          "scene": {
           "xaxis": {
            "backgroundcolor": "white",
            "gridcolor": "#DFE8F3",
            "gridwidth": 2,
            "linecolor": "#EBF0F8",
            "showbackground": true,
            "ticks": "",
            "zerolinecolor": "#EBF0F8"
           },
           "yaxis": {
            "backgroundcolor": "white",
            "gridcolor": "#DFE8F3",
            "gridwidth": 2,
            "linecolor": "#EBF0F8",
            "showbackground": true,
            "ticks": "",
            "zerolinecolor": "#EBF0F8"
           },
           "zaxis": {
            "backgroundcolor": "white",
            "gridcolor": "#DFE8F3",
            "gridwidth": 2,
            "linecolor": "#EBF0F8",
            "showbackground": true,
            "ticks": "",
            "zerolinecolor": "#EBF0F8"
           }
          },
          "shapedefaults": {
           "line": {
            "color": "#2a3f5f"
           }
          },
          "ternary": {
           "aaxis": {
            "gridcolor": "#DFE8F3",
            "linecolor": "#A2B1C6",
            "ticks": ""
           },
           "baxis": {
            "gridcolor": "#DFE8F3",
            "linecolor": "#A2B1C6",
            "ticks": ""
           },
           "bgcolor": "white",
           "caxis": {
            "gridcolor": "#DFE8F3",
            "linecolor": "#A2B1C6",
            "ticks": ""
           }
          },
          "title": {
           "x": 0.05
          },
          "xaxis": {
           "automargin": true,
           "gridcolor": "#EBF0F8",
           "linecolor": "#EBF0F8",
           "ticks": "",
           "title": {
            "standoff": 15
           },
           "zerolinecolor": "#EBF0F8",
           "zerolinewidth": 2
          },
          "yaxis": {
           "automargin": true,
           "gridcolor": "#EBF0F8",
           "linecolor": "#EBF0F8",
           "ticks": "",
           "title": {
            "standoff": 15
           },
           "zerolinecolor": "#EBF0F8",
           "zerolinewidth": 2
          }
         }
        },
        "width": 1000,
        "xaxis": {
         "anchor": "y",
         "domain": [
          0,
          0.19
         ],
         "matches": "x17",
         "mirror": true,
         "range": [
          -0.4,
          0.25
         ],
         "showticklabels": false,
         "tickfont": {
          "size": 5
         }
        },
        "xaxis10": {
         "anchor": "y10",
         "domain": [
          0.27,
          0.46
         ],
         "matches": "x18",
         "mirror": true,
         "range": [
          -0.4,
          0.25
         ],
         "showticklabels": false
        },
        "xaxis11": {
         "anchor": "y11",
         "domain": [
          0.54,
          0.73
         ],
         "matches": "x19",
         "mirror": true,
         "range": [
          -0.4,
          0.25
         ],
         "showticklabels": false
        },
        "xaxis12": {
         "anchor": "y12",
         "domain": [
          0.81,
          1
         ],
         "matches": "x20",
         "mirror": true,
         "range": [
          -0.4,
          0.25
         ],
         "showticklabels": false
        },
        "xaxis13": {
         "anchor": "y13",
         "domain": [
          0,
          0.19
         ],
         "matches": "x17",
         "mirror": true,
         "range": [
          -0.4,
          0.25
         ],
         "showticklabels": false
        },
        "xaxis14": {
         "anchor": "y14",
         "domain": [
          0.27,
          0.46
         ],
         "matches": "x18",
         "mirror": true,
         "range": [
          -0.4,
          0.25
         ],
         "showticklabels": false
        },
        "xaxis15": {
         "anchor": "y15",
         "domain": [
          0.54,
          0.73
         ],
         "matches": "x19",
         "mirror": true,
         "range": [
          -0.4,
          0.25
         ],
         "showticklabels": false
        },
        "xaxis16": {
         "anchor": "y16",
         "domain": [
          0.81,
          1
         ],
         "matches": "x20",
         "mirror": true,
         "range": [
          -0.4,
          0.25
         ],
         "showticklabels": false
        },
        "xaxis17": {
         "anchor": "y17",
         "domain": [
          0,
          0.19
         ],
         "mirror": true,
         "range": [
          -0.4,
          0.25
         ]
        },
        "xaxis18": {
         "anchor": "y18",
         "domain": [
          0.27,
          0.46
         ],
         "mirror": true,
         "range": [
          -0.4,
          0.25
         ]
        },
        "xaxis19": {
         "anchor": "y19",
         "domain": [
          0.54,
          0.73
         ],
         "mirror": true,
         "range": [
          -0.4,
          0.25
         ]
        },
        "xaxis2": {
         "anchor": "y2",
         "domain": [
          0.27,
          0.46
         ],
         "matches": "x18",
         "mirror": true,
         "range": [
          -0.4,
          0.25
         ],
         "showticklabels": false
        },
        "xaxis20": {
         "anchor": "y20",
         "domain": [
          0.81,
          1
         ],
         "mirror": true,
         "range": [
          -0.4,
          0.25
         ]
        },
        "xaxis3": {
         "anchor": "y3",
         "domain": [
          0.54,
          0.73
         ],
         "matches": "x19",
         "mirror": true,
         "range": [
          -0.4,
          0.25
         ],
         "showticklabels": false
        },
        "xaxis4": {
         "anchor": "y4",
         "domain": [
          0.81,
          1
         ],
         "matches": "x20",
         "mirror": true,
         "range": [
          -0.4,
          0.25
         ],
         "showticklabels": false
        },
        "xaxis5": {
         "anchor": "y5",
         "domain": [
          0,
          0.19
         ],
         "matches": "x17",
         "mirror": true,
         "range": [
          -0.4,
          0.25
         ],
         "showticklabels": false
        },
        "xaxis6": {
         "anchor": "y6",
         "domain": [
          0.27,
          0.46
         ],
         "matches": "x18",
         "mirror": true,
         "range": [
          -0.4,
          0.25
         ],
         "showticklabels": false
        },
        "xaxis7": {
         "anchor": "y7",
         "domain": [
          0.54,
          0.73
         ],
         "matches": "x19",
         "mirror": true,
         "range": [
          -0.4,
          0.25
         ],
         "showticklabels": false
        },
        "xaxis8": {
         "anchor": "y8",
         "domain": [
          0.81,
          1
         ],
         "matches": "x20",
         "mirror": true,
         "range": [
          -0.4,
          0.25
         ],
         "showticklabels": false
        },
        "xaxis9": {
         "anchor": "y9",
         "domain": [
          0,
          0.19
         ],
         "matches": "x17",
         "mirror": true,
         "range": [
          -0.4,
          0.25
         ],
         "showticklabels": false
        },
        "yaxis": {
         "anchor": "x",
         "domain": [
          0.8,
          1
         ]
        },
        "yaxis10": {
         "anchor": "x10",
         "domain": [
          0.4,
          0.6000000000000001
         ],
         "matches": "y9",
         "showticklabels": false
        },
        "yaxis11": {
         "anchor": "x11",
         "domain": [
          0.4,
          0.6000000000000001
         ],
         "matches": "y9",
         "showticklabels": false
        },
        "yaxis12": {
         "anchor": "x12",
         "domain": [
          0.4,
          0.6000000000000001
         ],
         "matches": "y9",
         "showticklabels": false
        },
        "yaxis13": {
         "anchor": "x13",
         "domain": [
          0.2,
          0.4
         ]
        },
        "yaxis14": {
         "anchor": "x14",
         "domain": [
          0.2,
          0.4
         ],
         "matches": "y13",
         "showticklabels": false
        },
        "yaxis15": {
         "anchor": "x15",
         "domain": [
          0.2,
          0.4
         ],
         "matches": "y13",
         "showticklabels": false
        },
        "yaxis16": {
         "anchor": "x16",
         "domain": [
          0.2,
          0.4
         ],
         "matches": "y13",
         "showticklabels": false
        },
        "yaxis17": {
         "anchor": "x17",
         "domain": [
          0,
          0.2
         ]
        },
        "yaxis18": {
         "anchor": "x18",
         "domain": [
          0,
          0.2
         ],
         "matches": "y17",
         "showticklabels": false
        },
        "yaxis19": {
         "anchor": "x19",
         "domain": [
          0,
          0.2
         ],
         "matches": "y17",
         "showticklabels": false
        },
        "yaxis2": {
         "anchor": "x2",
         "domain": [
          0.8,
          1
         ],
         "matches": "y",
         "showticklabels": false
        },
        "yaxis20": {
         "anchor": "x20",
         "domain": [
          0,
          0.2
         ],
         "matches": "y17",
         "showticklabels": false
        },
        "yaxis3": {
         "anchor": "x3",
         "domain": [
          0.8,
          1
         ],
         "matches": "y",
         "showticklabels": false
        },
        "yaxis4": {
         "anchor": "x4",
         "domain": [
          0.8,
          1
         ],
         "matches": "y",
         "showticklabels": false
        },
        "yaxis5": {
         "anchor": "x5",
         "domain": [
          0.6000000000000001,
          0.8
         ]
        },
        "yaxis6": {
         "anchor": "x6",
         "domain": [
          0.6000000000000001,
          0.8
         ],
         "matches": "y5",
         "showticklabels": false
        },
        "yaxis7": {
         "anchor": "x7",
         "domain": [
          0.6000000000000001,
          0.8
         ],
         "matches": "y5",
         "showticklabels": false
        },
        "yaxis8": {
         "anchor": "x8",
         "domain": [
          0.6000000000000001,
          0.8
         ],
         "matches": "y5",
         "showticklabels": false
        },
        "yaxis9": {
         "anchor": "x9",
         "domain": [
          0.4,
          0.6000000000000001
         ]
        }
       }
      }
     },
     "metadata": {},
     "output_type": "display_data"
    }
   ],
   "source": [
    "import plotly.graph_objects as go\n",
    "from plotly.subplots import make_subplots\n",
    "import plotly.express as px\n",
    "\n",
    "models = [\n",
    "            'baseline<br> (PT+FT)',\n",
    "            'finetune on mRNA',\n",
    "            'finetune on pri-miRNA',\n",
    "            'no finetuning<br> (PT)',\n",
    "            'no finetuning, with <br> UFold architecture',\n",
    "          ]\n",
    "\n",
    "datasets = ['PDB', \"archiveII\", 'viral mRNA', 'long ncRNA']\n",
    "\n",
    "baseline = data_comparison[data_comparison['model']=='baseline<br> (PT+FT)'].groupby('dataset')['f1'].mean()\n",
    "\n",
    "fig = make_subplots(rows=len(models), cols=len(datasets), \n",
    "                    subplot_titles=([f'{dataset}' for dataset in datasets]), shared_yaxes=True, shared_xaxes=True,\n",
    "                    vertical_spacing=0,\n",
    "                    horizontal_spacing=0.08\n",
    "                    )\n",
    "palette = px.colors.qualitative.Pastel\n",
    "colors = {'baseline<br> (PT+FT)': palette[1],\n",
    "          'finetune on mRNA': palette[7],\n",
    "          'finetune on pri-miRNA': palette[4],\n",
    "          'no finetuning<br> (PT)': palette[0],\n",
    "          'no finetuning, with <br> UFold architecture': palette[9]}\n",
    "\n",
    "for i, model in enumerate(models):\n",
    "    for j, dataset in enumerate(datasets):\n",
    "        \n",
    "        data = data_comparison[(data_comparison['model']==model) & (data_comparison['dataset']==dataset)]\n",
    "\n",
    "        # fig.add_trace(go.Box(x=data['f1'] - baseline[dataset], #meanline_visible=True, \n",
    "        #                      boxpoints=False,\n",
    "        #                      name=model, marker_color=colors[i], showlegend=False), row=1+i, col=1+j)\n",
    "        \n",
    "        fig.add_trace(go.Scatter(x=[data['f1'].mean() - baseline[dataset]], y=[model], \n",
    "                                 error_x=dict(type='data', array=[data['f1'].std()], thickness=3),\n",
    "                                 mode='markers', marker_color=colors[model], marker_size=7,\n",
    "                                 showlegend=False), row=1+i, col=1+j)\n",
    "        \n",
    "fig.update_annotations(font_size=20)\n",
    "fig.update_xaxes(range=[-0.4, 0.25], mirror=True,)\n",
    "fig.update_layout(\n",
    "                    xaxis=dict(\n",
    "                        tickfont=dict(size=1)  # Set the desired font size here\n",
    "                    ),\n",
    "                    height=len(models)*100 +200, width=1000,\n",
    "                    template='plotly_white', \n",
    "                    font_size=20, font_color='black', font_family='helvetica light')\n",
    "fig.update_layout(\n",
    "xaxis = dict(\n",
    "tickfont = dict(size=5)))\n",
    "fig.show()"
   ]
  },
  {
   "cell_type": "code",
   "execution_count": 8,
   "metadata": {},
   "outputs": [],
   "source": [
    "# save pdf\n",
    "fig.write_image(\"images/S4/a_ablation_study.pdf\")"
   ]
  },
  {
   "cell_type": "code",
   "execution_count": null,
   "metadata": {},
   "outputs": [],
   "source": []
  }
 ],
 "metadata": {
  "kernelspec": {
   "display_name": "Python 3",
   "language": "python",
   "name": "python3"
  },
  "language_info": {
   "codemirror_mode": {
    "name": "ipython",
    "version": 3
   },
   "file_extension": ".py",
   "mimetype": "text/x-python",
   "name": "python",
   "nbconvert_exporter": "python",
   "pygments_lexer": "ipython3",
   "version": "3.10.9"
  }
 },
 "nbformat": 4,
 "nbformat_minor": 2
}

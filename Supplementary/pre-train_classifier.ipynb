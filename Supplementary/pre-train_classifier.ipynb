{
 "cells": [
  {
   "cell_type": "code",
   "execution_count": 2,
   "metadata": {},
   "outputs": [],
   "source": [
    "import json\n",
    "import pandas as pd\n",
    "import numpy as np"
   ]
  },
  {
   "cell_type": "markdown",
   "metadata": {},
   "source": [
    "## Ribonanza"
   ]
  },
  {
   "cell_type": "code",
   "execution_count": 3,
   "metadata": {},
   "outputs": [],
   "source": [
    "def rename_families(x):\n",
    "    if x == '5s' or x == '16s' or x == '23s' or 'rRNA' in x:\n",
    "        return 'rRNA'\n",
    "    if x == 'grp1' or x == 'group_I_intron':\n",
    "        return 'Introns'\n",
    "    if x == 'grp2' or 'intron' in x:\n",
    "        return 'Introns'\n",
    "    if x == 'srp' or x == 'SRP':\n",
    "        return 'SRP'\n",
    "    if x == 'telomerase':\n",
    "        return 'telomerase'\n",
    "    if x == 'RNaseP':\n",
    "        return 'rRNA'\n",
    "    else: \n",
    "        return x"
   ]
  },
  {
   "cell_type": "markdown",
   "metadata": {},
   "source": [
    "## RNAStralign"
   ]
  },
  {
   "cell_type": "code",
   "execution_count": 4,
   "metadata": {},
   "outputs": [],
   "source": [
    "import rouskinhf\n",
    "data = rouskinhf.get_dataset('RNAstralign')\n",
    "families_rnastralign = pd.DataFrame.from_dict(data, orient='index')['family'].apply(lambda x: x.split('__')[0].replace('_database', '')).apply(rename_families)\n",
    "fam_rnastralign = families_rnastralign.value_counts()\n",
    "len_rnastralign = pd.DataFrame.from_dict(data, orient='index')['sequence'].apply(len)\n",
    "families_rnastralign = pd.merge(families_rnastralign,  pd.DataFrame.from_dict(data, orient='index')['sequence'], left_index=True, right_index=True)"
   ]
  },
  {
   "cell_type": "markdown",
   "metadata": {},
   "source": [
    "## archiveII"
   ]
  },
  {
   "cell_type": "code",
   "execution_count": 5,
   "metadata": {},
   "outputs": [
    {
     "data": {
      "text/html": [
       "<div>\n",
       "<style scoped>\n",
       "    .dataframe tbody tr th:only-of-type {\n",
       "        vertical-align: middle;\n",
       "    }\n",
       "\n",
       "    .dataframe tbody tr th {\n",
       "        vertical-align: top;\n",
       "    }\n",
       "\n",
       "    .dataframe thead th {\n",
       "        text-align: right;\n",
       "    }\n",
       "</style>\n",
       "<table border=\"1\" class=\"dataframe\">\n",
       "  <thead>\n",
       "    <tr style=\"text-align: right;\">\n",
       "      <th></th>\n",
       "      <th>family</th>\n",
       "      <th>sequence</th>\n",
       "    </tr>\n",
       "  </thead>\n",
       "  <tbody>\n",
       "    <tr>\n",
       "      <th>0</th>\n",
       "      <td>rRNA</td>\n",
       "      <td>UGCCUGGCGGCCAUAGUGCGGUGGUCCCACCUGACCCCAUGCCGAA...</td>\n",
       "    </tr>\n",
       "    <tr>\n",
       "      <th>1</th>\n",
       "      <td>rRNA</td>\n",
       "      <td>GCCUACGGCCACACCACACUGAAUGCGCCUGAUCUCGUCUGAUCUC...</td>\n",
       "    </tr>\n",
       "    <tr>\n",
       "      <th>2</th>\n",
       "      <td>SRP</td>\n",
       "      <td>GCUGGCGGGCCCCUUCGCAUGGUUCGGCGGUGAAUCUGGUCAGGUC...</td>\n",
       "    </tr>\n",
       "    <tr>\n",
       "      <th>3</th>\n",
       "      <td>rRNA</td>\n",
       "      <td>UUGCUUGGCGACCAUAGCGUUUUGGACCCACCUGAAUCCAUUCCGA...</td>\n",
       "    </tr>\n",
       "    <tr>\n",
       "      <th>4</th>\n",
       "      <td>tmRNA</td>\n",
       "      <td>GGGGGCGUUCUUGGAUUCGACGGGGAUUGCGAGGCUCGAGGUGCAU...</td>\n",
       "    </tr>\n",
       "    <tr>\n",
       "      <th>...</th>\n",
       "      <td>...</td>\n",
       "      <td>...</td>\n",
       "    </tr>\n",
       "    <tr>\n",
       "      <th>3481</th>\n",
       "      <td>tRNA</td>\n",
       "      <td>GGUUCUCUGGCCGAGUGGUCUAAGGCGCAUGGUUAAGGUCCAUGUC...</td>\n",
       "    </tr>\n",
       "    <tr>\n",
       "      <th>3482</th>\n",
       "      <td>rRNA</td>\n",
       "      <td>AGAGGGGUGAGAAUCCCUCCACCGAAUGCCUAAGGGUUCCUGAGGA...</td>\n",
       "    </tr>\n",
       "    <tr>\n",
       "      <th>3483</th>\n",
       "      <td>rRNA</td>\n",
       "      <td>UACCUGGUUGAUCCUGCCAGUAGCAUAUGCUUGUCUCAAAGAUUAA...</td>\n",
       "    </tr>\n",
       "    <tr>\n",
       "      <th>3484</th>\n",
       "      <td>rRNA</td>\n",
       "      <td>GAUCUGGUGGCCAUGGCGGGGCGCAAUCACCCGAUCCCAUCCCGAA...</td>\n",
       "    </tr>\n",
       "    <tr>\n",
       "      <th>3485</th>\n",
       "      <td>rRNA</td>\n",
       "      <td>CUUGGUGAGUAUAGCUAUGGGGGUACACCUAGUUACAUUCCGAACC...</td>\n",
       "    </tr>\n",
       "  </tbody>\n",
       "</table>\n",
       "<p>3486 rows × 2 columns</p>\n",
       "</div>"
      ],
      "text/plain": [
       "     family                                           sequence\n",
       "0      rRNA  UGCCUGGCGGCCAUAGUGCGGUGGUCCCACCUGACCCCAUGCCGAA...\n",
       "1      rRNA  GCCUACGGCCACACCACACUGAAUGCGCCUGAUCUCGUCUGAUCUC...\n",
       "2       SRP  GCUGGCGGGCCCCUUCGCAUGGUUCGGCGGUGAAUCUGGUCAGGUC...\n",
       "3      rRNA  UUGCUUGGCGACCAUAGCGUUUUGGACCCACCUGAAUCCAUUCCGA...\n",
       "4     tmRNA  GGGGGCGUUCUUGGAUUCGACGGGGAUUGCGAGGCUCGAGGUGCAU...\n",
       "...     ...                                                ...\n",
       "3481   tRNA  GGUUCUCUGGCCGAGUGGUCUAAGGCGCAUGGUUAAGGUCCAUGUC...\n",
       "3482   rRNA  AGAGGGGUGAGAAUCCCUCCACCGAAUGCCUAAGGGUUCCUGAGGA...\n",
       "3483   rRNA  UACCUGGUUGAUCCUGCCAGUAGCAUAUGCUUGUCUCAAAGAUUAA...\n",
       "3484   rRNA  GAUCUGGUGGCCAUGGCGGGGCGCAAUCACCCGAUCCCAUCCCGAA...\n",
       "3485   rRNA  CUUGGUGAGUAUAGCUAUGGGGGUACACCUAGUUACAUUCCGAACC...\n",
       "\n",
       "[3486 rows x 2 columns]"
      ]
     },
     "execution_count": 5,
     "metadata": {},
     "output_type": "execute_result"
    }
   ],
   "source": [
    "data = rouskinhf.get_dataset('archiveII')\n",
    "families_archivII = pd.DataFrame.from_dict(data, orient='index').reset_index()['index'].apply(lambda x: x.split('_')[0]).apply(rename_families)\n",
    "fam_archivII = families_archivII.value_counts()\n",
    "len_archivII = pd.DataFrame.from_dict(data, orient='index')['sequence'].apply(len)\n",
    "families_archivII = pd.merge(families_archivII,  pd.DataFrame.from_dict(data, orient='index')['sequence'].reset_index(drop=True), left_index=True, right_index=True).rename(columns={'index': 'family'})\n",
    "families_archivII"
   ]
  },
  {
   "cell_type": "markdown",
   "metadata": {},
   "source": [
    "## bpRNA (own analysis)\n"
   ]
  },
  {
   "cell_type": "code",
   "execution_count": 6,
   "metadata": {},
   "outputs": [],
   "source": [
    "data = rouskinhf.get_dataset('bpRNA')\n",
    "df = pd.DataFrame.from_dict(data, orient='index').reset_index().rename(columns={'index': 'reference'})\n",
    "df['family'] = df['reference'].apply(lambda x: x.split('_')[1])\n",
    "df['sequence'] = df['sequence'].apply(lambda x: x.replace('T', 'U'))\n",
    "df.set_index('reference', inplace=True)\n",
    "print(len(df))  "
   ]
  },
  {
   "cell_type": "markdown",
   "metadata": {},
   "source": [
    "### bpRNA/labeled"
   ]
  },
  {
   "cell_type": "code",
   "execution_count": null,
   "metadata": {},
   "outputs": [
    {
     "data": {
      "text/plain": [
       "family\n",
       "SRP      723\n",
       "ncRNA    533\n",
       "SPR      483\n",
       "RNP      419\n",
       "tmRNA    404\n",
       "Name: count, dtype: int64"
      ]
     },
     "execution_count": 7,
     "metadata": {},
     "output_type": "execute_result"
    }
   ],
   "source": [
    "valid_labels = list(fam_archivII.keys()) + list(fam_rnastralign.keys()) + ['SPR', 'RNP', 'ncRNA']\n",
    "df['family'] = df['family'].apply(lambda x: 'ncRNA' if x == 'PDB' else x)\n",
    "df_labeled = df[df['family'].isin(valid_labels)].copy()\n",
    "df_labeled['family'].value_counts()"
   ]
  },
  {
   "cell_type": "markdown",
   "metadata": {},
   "source": [
    "### bpRNA/unlabeled"
   ]
  },
  {
   "cell_type": "code",
   "execution_count": null,
   "metadata": {},
   "outputs": [
    {
     "data": {
      "text/plain": [
       "64153"
      ]
     },
     "execution_count": 8,
     "metadata": {},
     "output_type": "execute_result"
    }
   ],
   "source": [
    "df_un = df[~df['family'].isin(valid_labels)].copy()\n",
    "df_un = df_un[['sequence']].reset_index().rename(columns={'index': 'reference'})\n",
    "len(df_un)"
   ]
  },
  {
   "cell_type": "markdown",
   "metadata": {},
   "source": [
    "### Add labels from external databases through sequence matching\n",
    "\n",
    "#### Rfam fasta files"
   ]
  },
  {
   "cell_type": "code",
   "execution_count": null,
   "metadata": {},
   "outputs": [],
   "source": [
    "rfam = pd.read_csv('/Users/yvesmartin/src/supermodels-data/rfam/data/rfam.csv')\n",
    "rfam = rfam[['ref_desc', 'sequence', 'family_name', 'full_family_name', 'clan_name']]\n",
    "rfam['sequence'] = rfam['sequence'].apply(lambda x: x.replace('T', 'U'))"
   ]
  },
  {
   "cell_type": "code",
   "execution_count": null,
   "metadata": {},
   "outputs": [
    {
     "data": {
      "text/html": [
       "<div>\n",
       "<style scoped>\n",
       "    .dataframe tbody tr th:only-of-type {\n",
       "        vertical-align: middle;\n",
       "    }\n",
       "\n",
       "    .dataframe tbody tr th {\n",
       "        vertical-align: top;\n",
       "    }\n",
       "\n",
       "    .dataframe thead th {\n",
       "        text-align: right;\n",
       "    }\n",
       "</style>\n",
       "<table border=\"1\" class=\"dataframe\">\n",
       "  <thead>\n",
       "    <tr style=\"text-align: right;\">\n",
       "      <th></th>\n",
       "      <th>reference</th>\n",
       "      <th>sequence</th>\n",
       "      <th>ref_desc</th>\n",
       "      <th>family_name</th>\n",
       "      <th>full_family_name</th>\n",
       "      <th>clan_name</th>\n",
       "    </tr>\n",
       "  </thead>\n",
       "  <tbody>\n",
       "    <tr>\n",
       "      <th>182156</th>\n",
       "      <td>bpRNA_RFAM_23070</td>\n",
       "      <td>CCUUCAUUGGUUUACCUCAAACCUGUUGUGAUGUAAGUUAAUGAAG...</td>\n",
       "      <td>Streptococcus sanguinis SK36, complete genome.</td>\n",
       "      <td>23S-methyl</td>\n",
       "      <td>23S methyl RNA motif</td>\n",
       "      <td>NaN</td>\n",
       "    </tr>\n",
       "    <tr>\n",
       "      <th>184249</th>\n",
       "      <td>bpRNA_RFAM_23072</td>\n",
       "      <td>CGUUUGGCGGUCGAUAUCAGCGUUUAACUGUUAGCGGCAGACAAGU...</td>\n",
       "      <td>Lactobacillus brevis ATCC 367, complete genome.</td>\n",
       "      <td>23S-methyl</td>\n",
       "      <td>23S methyl RNA motif</td>\n",
       "      <td>NaN</td>\n",
       "    </tr>\n",
       "    <tr>\n",
       "      <th>126285</th>\n",
       "      <td>bpRNA_RFAM_23065</td>\n",
       "      <td>CGUUUGGUAGUUAACAUCGACAUGUCGUUGGUGACUACCGAGUUGU...</td>\n",
       "      <td>Lactobacillus plantarum WCFS1 complete genome</td>\n",
       "      <td>23S-methyl</td>\n",
       "      <td>23S methyl RNA motif</td>\n",
       "      <td>NaN</td>\n",
       "    </tr>\n",
       "    <tr>\n",
       "      <th>34815</th>\n",
       "      <td>bpRNA_RFAM_23059</td>\n",
       "      <td>UUUUCAUUGGUUUUUAUCAGGUUCCUGUUCUGAUAAAAGUUAGUGA...</td>\n",
       "      <td>Enterococcus villorum ATCC 700913 genomic scaf...</td>\n",
       "      <td>23S-methyl</td>\n",
       "      <td>23S methyl RNA motif</td>\n",
       "      <td>NaN</td>\n",
       "    </tr>\n",
       "    <tr>\n",
       "      <th>206677</th>\n",
       "      <td>bpRNA_RFAM_23077</td>\n",
       "      <td>UUUUCCCUAACUUUUAUCAGAAUACUUUUUGAUAAAAGCUAGUGAU...</td>\n",
       "      <td>Lactobacillus sakei strain 23K complete genome.</td>\n",
       "      <td>23S-methyl</td>\n",
       "      <td>23S methyl RNA motif</td>\n",
       "      <td>NaN</td>\n",
       "    </tr>\n",
       "    <tr>\n",
       "      <th>...</th>\n",
       "      <td>...</td>\n",
       "      <td>...</td>\n",
       "      <td>...</td>\n",
       "      <td>...</td>\n",
       "      <td>...</td>\n",
       "      <td>...</td>\n",
       "    </tr>\n",
       "    <tr>\n",
       "      <th>223807</th>\n",
       "      <td>bpRNA_CRW_54700</td>\n",
       "      <td>AAAGACUCAGUCCUAACCUUACUAUUGGUUUUUGCUAGACAUAUAC...</td>\n",
       "      <td>NaN</td>\n",
       "      <td>NaN</td>\n",
       "      <td>NaN</td>\n",
       "      <td>NaN</td>\n",
       "    </tr>\n",
       "    <tr>\n",
       "      <th>223808</th>\n",
       "      <td>bpRNA_CRW_43706</td>\n",
       "      <td>GGGUCUGUAGCUCAGUCGGUUAGAGCAGGGGACUCAUAAUCCCUUG...</td>\n",
       "      <td>NaN</td>\n",
       "      <td>NaN</td>\n",
       "      <td>NaN</td>\n",
       "      <td>NaN</td>\n",
       "    </tr>\n",
       "    <tr>\n",
       "      <th>223809</th>\n",
       "      <td>bpRNA_CRW_15161</td>\n",
       "      <td>GAUCCUGGCUCAGGACGAACGCUGGCGGCGUGCCUAAUACAUGCAA...</td>\n",
       "      <td>NaN</td>\n",
       "      <td>NaN</td>\n",
       "      <td>NaN</td>\n",
       "      <td>NaN</td>\n",
       "    </tr>\n",
       "    <tr>\n",
       "      <th>223830</th>\n",
       "      <td>bpRNA_RFAM_23681</td>\n",
       "      <td>CCCAAAGGUUCCCUCAGGCUGAAUGGAAACCAGCCAGAGAGUGUAA...</td>\n",
       "      <td>NaN</td>\n",
       "      <td>NaN</td>\n",
       "      <td>NaN</td>\n",
       "      <td>NaN</td>\n",
       "    </tr>\n",
       "    <tr>\n",
       "      <th>223831</th>\n",
       "      <td>bpRNA_RFAM_33397</td>\n",
       "      <td>UUCUGAUCUGUCGAUUCGACUCCCUCCCGUCGGCCCUGAGACACCU...</td>\n",
       "      <td>NaN</td>\n",
       "      <td>NaN</td>\n",
       "      <td>NaN</td>\n",
       "      <td>NaN</td>\n",
       "    </tr>\n",
       "  </tbody>\n",
       "</table>\n",
       "<p>64153 rows × 6 columns</p>\n",
       "</div>"
      ],
      "text/plain": [
       "               reference                                           sequence  \\\n",
       "182156  bpRNA_RFAM_23070  CCUUCAUUGGUUUACCUCAAACCUGUUGUGAUGUAAGUUAAUGAAG...   \n",
       "184249  bpRNA_RFAM_23072  CGUUUGGCGGUCGAUAUCAGCGUUUAACUGUUAGCGGCAGACAAGU...   \n",
       "126285  bpRNA_RFAM_23065  CGUUUGGUAGUUAACAUCGACAUGUCGUUGGUGACUACCGAGUUGU...   \n",
       "34815   bpRNA_RFAM_23059  UUUUCAUUGGUUUUUAUCAGGUUCCUGUUCUGAUAAAAGUUAGUGA...   \n",
       "206677  bpRNA_RFAM_23077  UUUUCCCUAACUUUUAUCAGAAUACUUUUUGAUAAAAGCUAGUGAU...   \n",
       "...                  ...                                                ...   \n",
       "223807   bpRNA_CRW_54700  AAAGACUCAGUCCUAACCUUACUAUUGGUUUUUGCUAGACAUAUAC...   \n",
       "223808   bpRNA_CRW_43706  GGGUCUGUAGCUCAGUCGGUUAGAGCAGGGGACUCAUAAUCCCUUG...   \n",
       "223809   bpRNA_CRW_15161  GAUCCUGGCUCAGGACGAACGCUGGCGGCGUGCCUAAUACAUGCAA...   \n",
       "223830  bpRNA_RFAM_23681  CCCAAAGGUUCCCUCAGGCUGAAUGGAAACCAGCCAGAGAGUGUAA...   \n",
       "223831  bpRNA_RFAM_33397  UUCUGAUCUGUCGAUUCGACUCCCUCCCGUCGGCCCUGAGACACCU...   \n",
       "\n",
       "                                                 ref_desc family_name  \\\n",
       "182156     Streptococcus sanguinis SK36, complete genome.  23S-methyl   \n",
       "184249    Lactobacillus brevis ATCC 367, complete genome.  23S-methyl   \n",
       "126285      Lactobacillus plantarum WCFS1 complete genome  23S-methyl   \n",
       "34815   Enterococcus villorum ATCC 700913 genomic scaf...  23S-methyl   \n",
       "206677    Lactobacillus sakei strain 23K complete genome.  23S-methyl   \n",
       "...                                                   ...         ...   \n",
       "223807                                                NaN         NaN   \n",
       "223808                                                NaN         NaN   \n",
       "223809                                                NaN         NaN   \n",
       "223830                                                NaN         NaN   \n",
       "223831                                                NaN         NaN   \n",
       "\n",
       "            full_family_name clan_name  \n",
       "182156  23S methyl RNA motif       NaN  \n",
       "184249  23S methyl RNA motif       NaN  \n",
       "126285  23S methyl RNA motif       NaN  \n",
       "34815   23S methyl RNA motif       NaN  \n",
       "206677  23S methyl RNA motif       NaN  \n",
       "...                      ...       ...  \n",
       "223807                   NaN       NaN  \n",
       "223808                   NaN       NaN  \n",
       "223809                   NaN       NaN  \n",
       "223830                   NaN       NaN  \n",
       "223831                   NaN       NaN  \n",
       "\n",
       "[64153 rows x 6 columns]"
      ]
     },
     "execution_count": 10,
     "metadata": {},
     "output_type": "execute_result"
    }
   ],
   "source": [
    "df = pd.merge(df_un, rfam, on='sequence', how='left')\n",
    "df.sort_values(by='family_name', inplace=True, na_position='last')\n",
    "df.drop_duplicates(subset=['reference'], inplace=True, keep='first')\n",
    "df"
   ]
  },
  {
   "cell_type": "markdown",
   "metadata": {},
   "source": [
    "#### CRW "
   ]
  },
  {
   "cell_type": "code",
   "execution_count": null,
   "metadata": {},
   "outputs": [
    {
     "data": {
      "text/plain": [
       "family_name\n",
       "tRNA              3620\n",
       "5S_rRNA            848\n",
       "RNaseP_bact_a      450\n",
       "SAM                433\n",
       "tmRNA              413\n",
       "                  ... \n",
       "CbSR2                1\n",
       "CbSR14               1\n",
       "SBWMV2_UPD-PKl       1\n",
       "CbSR1                1\n",
       "TB10Cs2H2            1\n",
       "Name: count, Length: 1604, dtype: int64"
      ]
     },
     "execution_count": 12,
     "metadata": {},
     "output_type": "execute_result"
    }
   ],
   "source": [
    "data = pd.DataFrame.from_dict(json.load(open('/Users/yvesmartin/src/supermodels-data/CRW/crw.json')), orient='index').reset_index().rename(columns={'index': 'reference', 'family':'family_name'})[['sequence', 'family_name']]\n",
    "df = pd.merge(df, data, on='sequence', how='left')\n",
    "df['family_name'] = df.apply(lambda x: x['family_name_x'] if pd.isnull(x['family_name_y']) else x['family_name_y'], axis=1)\n",
    "df.drop(['family_name_x', 'family_name_y'], axis=1, inplace=True)\n",
    "df['family_name'].value_counts()"
   ]
  },
  {
   "cell_type": "code",
   "execution_count": null,
   "metadata": {},
   "outputs": [],
   "source": [
    "translation_family_name = {\n",
    "    'sRNA': ['sRNA', 'rli', 'rivX', 'CC', 'STnc', 'sau-', 'Atu_', 'GlsR', '6C', 'ArcZ', 'Bsr', 'C0', 'CyaR_RyeE', 'whalefall-1', 'tpke11', 'tfoR',\\\n",
    "        't44', 'sro', 'FsrA', 'sraA', 'ryfA', 'GadY', 'GcvB', 'Hgc', 'IS009', 'InvR', 'MtlS', 'OmrA-B', 'OrzO-P', 'OxyS', 'PrrF', 'Qrr', 'RybB', 'RydC', 'SgrS',\\\n",
    "        'Spot_42', 'Sra'\n",
    "            ],\n",
    "    'tRNA': ['tRNA', 'TLS-PK'],\n",
    "    'rRNA': ['rRNA', '5s', '5S_rRNA', '16s', '16S_rRNA', '23s', '23S_rRNA', 'RF_site', 'ribozyme', 'GOLLD'],\n",
    "    'ncRNA': ['ncRNA', 'rdlD', 'NRON', 'CopA', 'DicF', 'uc_338', 'Dicty_Class_I_RNA', 'DsrA', 'FourU', 'srg1', 'sok', 'symR', 'sar', 'rncO', \\\n",
    "            'rydB', 'msr', 'IS102', 'IS128', 'MicC', 'MicF', 'NrrF', 'NsiR1', 'Plasmid_RNAIII','RNA-OUT', 'RNAI','RUF', \\\n",
    "             'RprA', 'Rsa', 'SprD'\n",
    "                ],\n",
    "    'group_I_intron': ['grp1'],\n",
    "    'group_II_intron': ['grp2', 'group-II'],\n",
    "    'SRP': ['srp', 'SRP'],\n",
    "    'RNaseP': ['RNaseP'],\n",
    "    'crRNA': ['CRISPR'],\n",
    "    'RNP': ['HACA'],\n",
    "    'snRNA': ['snRNA', 'sn', 'Gl_U', 'SNORA', 'U1', 'U7', 'U3', 'VA', 'SCARNA'],\n",
    "    'microRNA': ['mir-', 'MIR', 'lsy-6'],\n",
    "    'virus': ['virus', 'CuYV_BPYV', 'SPCSV', 'HAV', 'BMV3_UPD', 'Rubella_3', 'HIV', 'HBV', 'IRES'],\n",
    "    'tmRNA': ['tmRNA'],\n",
    "    'mRNA': ['SAM', 'mini-ykkC', 'FIE3'],\n",
    "    'CRE': ['sucA', 'Antizyme_FSE', 'CAESAR', 'ylbH', 'yjdF', 'ydaO-yuaA', 'ybhL', 'wcaG', 'G-CSF_SLDE', 'GABA3', 'GAIT', 'speF', 'GP_knot', \n",
    "            'Gurken', 'K_chan_RES', 'Mg_sensor', 'PyrR', 'RtT', 'SECIS_'                                   ],\n",
    "    'other': ['IMES-3', 'isrK', 'isrL', 'DapZ', 'ppoRNA', 'DNA', 'RyhB'],\n",
    "    'telomerase': ['tp2'],\n",
    "    'motif': ['MS2', 'OLE', 'PYLIS_'],\n",
    "}\n",
    "\n",
    "translation_clan_name = {\n",
    "    'snRNA': ['7SK'],\n",
    "    'ncRNA': ['Csr_Rsm_clan', 'FinP-traJ','Glm', 'suhB'],\n",
    "    'sRNA': ['RyeA-RyeB', 'LhrC'],\n",
    "    'RNaseP': ['RNaseP'],\n",
    "    'mRNA': ['SL'],\n",
    "}\n",
    "\n",
    "translation_family_description = {\n",
    "    'mRNA': ['riboswitch', 'UTR', 'mRNA', 'promoter', ],\n",
    "    'snRNA': ['spliceosomal', 'Small nucleolar', 'snoRNA', 'Small Nucleolar RNA', 'small nucleolar'],\n",
    "    'sRNA': ['sRNA', 'small RNA', 'AniS', 'Anti-Q RNA', 'Hfq binding', 'antisense','anti-sense', 'Antisense', 'anti-toxin', 'Short', 'antitoxin'],\n",
    "    'virus': ['virus'],\n",
    "    'microRNA': ['microRNA'],\n",
    "    'tRNA': ['tRNA'],\n",
    "    'tmRNA': ['tmRNA'],\n",
    "    'crRNA': ['CRISPR'],\n",
    "    'telomerase': ['telomerase'],\n",
    "    '23S_rRNA': ['23S'],\n",
    "    '6S_rRNA': ['6S'],\n",
    "    'motif': ['pseudoknot', 'Hammerhead', 'motif', 'Stem loopII regulatory element in POLB', 'Pseudoknot'],\n",
    "    'CRE': ['Alpha operon ribosome binding site', 'leader', 'cis-regulatory element', 'element'],\n",
    "    'rRNA': ['rRNA', 'Ribosomal', 'ribosomal', 'ribozyme', 'pRNA', 'ribosome'],\n",
    "    'ncRNA': ['Y RNA', 'thermometer', 'noncoding', 'SscA', 'Non-coding'], \n",
    "    'group_I_intron': ['Group I'],\n",
    "}\n",
    "\n",
    "def clean_family(row):\n",
    "    x = row['clan_name']\n",
    "    if not pd.isna(x):\n",
    "        for family, v in translation_clan_name.items():\n",
    "            for vv in v:\n",
    "                if vv in x:\n",
    "                    return family\n",
    "\n",
    "    x = row['family_name']\n",
    "    if pd.isna(x):\n",
    "        return 'other'\n",
    "    for family, v in translation_family_name.items():\n",
    "        for vv in v:\n",
    "            if vv in x:\n",
    "                return family\n",
    "            \n",
    "    full_family_name = row['full_family_name']\n",
    "    if pd.isna(full_family_name):\n",
    "        return 'other'\n",
    "    for family, keywords in translation_family_description.items():\n",
    "        for kw in keywords:\n",
    "            if kw in full_family_name:\n",
    "                return family     \n",
    "    return 'other'\n",
    "\n",
    "def rename_families_bp2(x):\n",
    "    if x == '5s' or x == '16s' or x == '23s' or 'rRNA' in x:\n",
    "        return 'rRNA'\n",
    "    if x == 'grp1' or x == 'group_I_intron' or x == 'Introns':\n",
    "        return 'Introns'\n",
    "    if x == 'grp2' or 'intron' in x:\n",
    "        return 'Introns'\n",
    "    if x == 'srp' or x == 'SRP':\n",
    "        return 'Other'\n",
    "    if x == 'telomerase':\n",
    "        return 'telomerase'\n",
    "    if x == 'RNaseP':\n",
    "        return 'rRNA'\n",
    "    if x == 'snRNA' or x == 'microRNA' or x == 'CRE' or x == 'sRNA':\n",
    "        return 'sRNA'\n",
    "    if x in ['virus', 'motif', 'other']:\n",
    "        return 'Other'\n",
    "    else: \n",
    "        return x\n",
    "\n",
    "df_temp = df.copy()\n",
    "df_temp['family'] = df.apply(clean_family, axis=1)\n",
    "df_temp['length'] = df_temp['sequence'].apply(len)\n",
    "df_temp.set_index('reference', inplace=True)\n",
    "df_final = pd.concat([df_labeled, df_temp])[['sequence', 'family']]\n",
    "df_final['family'] = df_final['family'].apply(rename_families_bp2)\n",
    "families_bpRNA = df_final.copy()\n",
    "bprna = df_final.value_counts('family')\n",
    "len_bprna = df_final['sequence'].apply(len).tolist()\n",
    "df_bprna = df_final.copy()"
   ]
  },
  {
   "cell_type": "code",
   "execution_count": null,
   "metadata": {},
   "outputs": [],
   "source": [
    "bprna = pd.DataFrame({\n",
    "    'tRNA': 35622,\n",
    "    \"rRNA\": 17641 + 477 + 1425 + 191 + 186,\n",
    "    'SRP': 1603,\n",
    "    'Introns': 237+131,\n",
    "    'tmRNA': 161,\n",
    "}, index=[0])"
   ]
  },
  {
   "cell_type": "code",
   "execution_count": null,
   "metadata": {},
   "outputs": [],
   "source": [
    "# label bprna 90\n",
    "df90 =  open('/Users/yvesmartin/data/bpRNA/bpRNA_1m_90.fasta').read().split('\\n')\n",
    "\n",
    "\n",
    "refs, seqs = df90[::2], df90[1::2]\n",
    "df90 = pd.DataFrame({'reference': [r.split('>')[1] for r in refs if '>' in r], 'sequence': seqs})\n",
    "df90 = pd.merge(df_final, df90, on='sequence', how='inner')\n",
    "bprna90 = df90.value_counts('family')\n",
    "len_bprna90 = df90['sequence'].apply(len).tolist()"
   ]
  },
  {
   "cell_type": "code",
   "execution_count": null,
   "metadata": {},
   "outputs": [],
   "source": [
    "# add ribonanza\n",
    "import rouskinhf\n",
    "df_ribo = pd.DataFrame.from_dict(rouskinhf.get_dataset('ribo500-blast'), orient='index').reset_index().rename(columns={'index': 'reference'})\n",
    "df_ribo['database'] = 'Ribonanza'\n",
    "df_ribo['family'] = 'Ribonanza'"
   ]
  },
  {
   "cell_type": "code",
   "execution_count": null,
   "metadata": {},
   "outputs": [
    {
     "name": "stdout",
     "output_type": "stream",
     "text": [
      "final df has 125523 sequences\n"
     ]
    },
    {
     "data": {
      "application/vnd.plotly.v1+json": {
       "config": {
        "plotlyServerURL": "https://plot.ly"
       },
       "data": [
        {
         "hole": 0.3,
         "labels": [
          "Ribonanza (N=46,060)",
          "Other (N=24,859)",
          "rRNA (N=21,956)",
          "sRNA (N=15,193)",
          "tRNA (N=9,018)",
          "mRNA (N=2,467)",
          "Introns (N=2,236)",
          "ncRNA (N=1,315)",
          "SRP (N=702)",
          "tmRNA (N=665)",
          "SPR (N=482)",
          "RNP (N=475)",
          "telomerase (N=95)"
         ],
         "textinfo": "label+percent",
         "textposition": "inside",
         "type": "pie",
         "values": [
          46060,
          24859,
          21956,
          15193,
          9018,
          2467,
          2236,
          1315,
          702,
          665,
          482,
          475,
          95
         ]
        }
       ],
       "layout": {
        "height": 700,
        "template": {
         "data": {
          "bar": [
           {
            "error_x": {
             "color": "#2a3f5f"
            },
            "error_y": {
             "color": "#2a3f5f"
            },
            "marker": {
             "line": {
              "color": "#E5ECF6",
              "width": 0.5
             },
             "pattern": {
              "fillmode": "overlay",
              "size": 10,
              "solidity": 0.2
             }
            },
            "type": "bar"
           }
          ],
          "barpolar": [
           {
            "marker": {
             "line": {
              "color": "#E5ECF6",
              "width": 0.5
             },
             "pattern": {
              "fillmode": "overlay",
              "size": 10,
              "solidity": 0.2
             }
            },
            "type": "barpolar"
           }
          ],
          "carpet": [
           {
            "aaxis": {
             "endlinecolor": "#2a3f5f",
             "gridcolor": "white",
             "linecolor": "white",
             "minorgridcolor": "white",
             "startlinecolor": "#2a3f5f"
            },
            "baxis": {
             "endlinecolor": "#2a3f5f",
             "gridcolor": "white",
             "linecolor": "white",
             "minorgridcolor": "white",
             "startlinecolor": "#2a3f5f"
            },
            "type": "carpet"
           }
          ],
          "choropleth": [
           {
            "colorbar": {
             "outlinewidth": 0,
             "ticks": ""
            },
            "type": "choropleth"
           }
          ],
          "contour": [
           {
            "colorbar": {
             "outlinewidth": 0,
             "ticks": ""
            },
            "colorscale": [
             [
              0,
              "#0d0887"
             ],
             [
              0.1111111111111111,
              "#46039f"
             ],
             [
              0.2222222222222222,
              "#7201a8"
             ],
             [
              0.3333333333333333,
              "#9c179e"
             ],
             [
              0.4444444444444444,
              "#bd3786"
             ],
             [
              0.5555555555555556,
              "#d8576b"
             ],
             [
              0.6666666666666666,
              "#ed7953"
             ],
             [
              0.7777777777777778,
              "#fb9f3a"
             ],
             [
              0.8888888888888888,
              "#fdca26"
             ],
             [
              1,
              "#f0f921"
             ]
            ],
            "type": "contour"
           }
          ],
          "contourcarpet": [
           {
            "colorbar": {
             "outlinewidth": 0,
             "ticks": ""
            },
            "type": "contourcarpet"
           }
          ],
          "heatmap": [
           {
            "colorbar": {
             "outlinewidth": 0,
             "ticks": ""
            },
            "colorscale": [
             [
              0,
              "#0d0887"
             ],
             [
              0.1111111111111111,
              "#46039f"
             ],
             [
              0.2222222222222222,
              "#7201a8"
             ],
             [
              0.3333333333333333,
              "#9c179e"
             ],
             [
              0.4444444444444444,
              "#bd3786"
             ],
             [
              0.5555555555555556,
              "#d8576b"
             ],
             [
              0.6666666666666666,
              "#ed7953"
             ],
             [
              0.7777777777777778,
              "#fb9f3a"
             ],
             [
              0.8888888888888888,
              "#fdca26"
             ],
             [
              1,
              "#f0f921"
             ]
            ],
            "type": "heatmap"
           }
          ],
          "heatmapgl": [
           {
            "colorbar": {
             "outlinewidth": 0,
             "ticks": ""
            },
            "colorscale": [
             [
              0,
              "#0d0887"
             ],
             [
              0.1111111111111111,
              "#46039f"
             ],
             [
              0.2222222222222222,
              "#7201a8"
             ],
             [
              0.3333333333333333,
              "#9c179e"
             ],
             [
              0.4444444444444444,
              "#bd3786"
             ],
             [
              0.5555555555555556,
              "#d8576b"
             ],
             [
              0.6666666666666666,
              "#ed7953"
             ],
             [
              0.7777777777777778,
              "#fb9f3a"
             ],
             [
              0.8888888888888888,
              "#fdca26"
             ],
             [
              1,
              "#f0f921"
             ]
            ],
            "type": "heatmapgl"
           }
          ],
          "histogram": [
           {
            "marker": {
             "pattern": {
              "fillmode": "overlay",
              "size": 10,
              "solidity": 0.2
             }
            },
            "type": "histogram"
           }
          ],
          "histogram2d": [
           {
            "colorbar": {
             "outlinewidth": 0,
             "ticks": ""
            },
            "colorscale": [
             [
              0,
              "#0d0887"
             ],
             [
              0.1111111111111111,
              "#46039f"
             ],
             [
              0.2222222222222222,
              "#7201a8"
             ],
             [
              0.3333333333333333,
              "#9c179e"
             ],
             [
              0.4444444444444444,
              "#bd3786"
             ],
             [
              0.5555555555555556,
              "#d8576b"
             ],
             [
              0.6666666666666666,
              "#ed7953"
             ],
             [
              0.7777777777777778,
              "#fb9f3a"
             ],
             [
              0.8888888888888888,
              "#fdca26"
             ],
             [
              1,
              "#f0f921"
             ]
            ],
            "type": "histogram2d"
           }
          ],
          "histogram2dcontour": [
           {
            "colorbar": {
             "outlinewidth": 0,
             "ticks": ""
            },
            "colorscale": [
             [
              0,
              "#0d0887"
             ],
             [
              0.1111111111111111,
              "#46039f"
             ],
             [
              0.2222222222222222,
              "#7201a8"
             ],
             [
              0.3333333333333333,
              "#9c179e"
             ],
             [
              0.4444444444444444,
              "#bd3786"
             ],
             [
              0.5555555555555556,
              "#d8576b"
             ],
             [
              0.6666666666666666,
              "#ed7953"
             ],
             [
              0.7777777777777778,
              "#fb9f3a"
             ],
             [
              0.8888888888888888,
              "#fdca26"
             ],
             [
              1,
              "#f0f921"
             ]
            ],
            "type": "histogram2dcontour"
           }
          ],
          "mesh3d": [
           {
            "colorbar": {
             "outlinewidth": 0,
             "ticks": ""
            },
            "type": "mesh3d"
           }
          ],
          "parcoords": [
           {
            "line": {
             "colorbar": {
              "outlinewidth": 0,
              "ticks": ""
             }
            },
            "type": "parcoords"
           }
          ],
          "pie": [
           {
            "automargin": true,
            "type": "pie"
           }
          ],
          "scatter": [
           {
            "fillpattern": {
             "fillmode": "overlay",
             "size": 10,
             "solidity": 0.2
            },
            "type": "scatter"
           }
          ],
          "scatter3d": [
           {
            "line": {
             "colorbar": {
              "outlinewidth": 0,
              "ticks": ""
             }
            },
            "marker": {
             "colorbar": {
              "outlinewidth": 0,
              "ticks": ""
             }
            },
            "type": "scatter3d"
           }
          ],
          "scattercarpet": [
           {
            "marker": {
             "colorbar": {
              "outlinewidth": 0,
              "ticks": ""
             }
            },
            "type": "scattercarpet"
           }
          ],
          "scattergeo": [
           {
            "marker": {
             "colorbar": {
              "outlinewidth": 0,
              "ticks": ""
             }
            },
            "type": "scattergeo"
           }
          ],
          "scattergl": [
           {
            "marker": {
             "colorbar": {
              "outlinewidth": 0,
              "ticks": ""
             }
            },
            "type": "scattergl"
           }
          ],
          "scattermapbox": [
           {
            "marker": {
             "colorbar": {
              "outlinewidth": 0,
              "ticks": ""
             }
            },
            "type": "scattermapbox"
           }
          ],
          "scatterpolar": [
           {
            "marker": {
             "colorbar": {
              "outlinewidth": 0,
              "ticks": ""
             }
            },
            "type": "scatterpolar"
           }
          ],
          "scatterpolargl": [
           {
            "marker": {
             "colorbar": {
              "outlinewidth": 0,
              "ticks": ""
             }
            },
            "type": "scatterpolargl"
           }
          ],
          "scatterternary": [
           {
            "marker": {
             "colorbar": {
              "outlinewidth": 0,
              "ticks": ""
             }
            },
            "type": "scatterternary"
           }
          ],
          "surface": [
           {
            "colorbar": {
             "outlinewidth": 0,
             "ticks": ""
            },
            "colorscale": [
             [
              0,
              "#0d0887"
             ],
             [
              0.1111111111111111,
              "#46039f"
             ],
             [
              0.2222222222222222,
              "#7201a8"
             ],
             [
              0.3333333333333333,
              "#9c179e"
             ],
             [
              0.4444444444444444,
              "#bd3786"
             ],
             [
              0.5555555555555556,
              "#d8576b"
             ],
             [
              0.6666666666666666,
              "#ed7953"
             ],
             [
              0.7777777777777778,
              "#fb9f3a"
             ],
             [
              0.8888888888888888,
              "#fdca26"
             ],
             [
              1,
              "#f0f921"
             ]
            ],
            "type": "surface"
           }
          ],
          "table": [
           {
            "cells": {
             "fill": {
              "color": "#EBF0F8"
             },
             "line": {
              "color": "white"
             }
            },
            "header": {
             "fill": {
              "color": "#C8D4E3"
             },
             "line": {
              "color": "white"
             }
            },
            "type": "table"
           }
          ]
         },
         "layout": {
          "annotationdefaults": {
           "arrowcolor": "#2a3f5f",
           "arrowhead": 0,
           "arrowwidth": 1
          },
          "autotypenumbers": "strict",
          "coloraxis": {
           "colorbar": {
            "outlinewidth": 0,
            "ticks": ""
           }
          },
          "colorscale": {
           "diverging": [
            [
             0,
             "#8e0152"
            ],
            [
             0.1,
             "#c51b7d"
            ],
            [
             0.2,
             "#de77ae"
            ],
            [
             0.3,
             "#f1b6da"
            ],
            [
             0.4,
             "#fde0ef"
            ],
            [
             0.5,
             "#f7f7f7"
            ],
            [
             0.6,
             "#e6f5d0"
            ],
            [
             0.7,
             "#b8e186"
            ],
            [
             0.8,
             "#7fbc41"
            ],
            [
             0.9,
             "#4d9221"
            ],
            [
             1,
             "#276419"
            ]
           ],
           "sequential": [
            [
             0,
             "#0d0887"
            ],
            [
             0.1111111111111111,
             "#46039f"
            ],
            [
             0.2222222222222222,
             "#7201a8"
            ],
            [
             0.3333333333333333,
             "#9c179e"
            ],
            [
             0.4444444444444444,
             "#bd3786"
            ],
            [
             0.5555555555555556,
             "#d8576b"
            ],
            [
             0.6666666666666666,
             "#ed7953"
            ],
            [
             0.7777777777777778,
             "#fb9f3a"
            ],
            [
             0.8888888888888888,
             "#fdca26"
            ],
            [
             1,
             "#f0f921"
            ]
           ],
           "sequentialminus": [
            [
             0,
             "#0d0887"
            ],
            [
             0.1111111111111111,
             "#46039f"
            ],
            [
             0.2222222222222222,
             "#7201a8"
            ],
            [
             0.3333333333333333,
             "#9c179e"
            ],
            [
             0.4444444444444444,
             "#bd3786"
            ],
            [
             0.5555555555555556,
             "#d8576b"
            ],
            [
             0.6666666666666666,
             "#ed7953"
            ],
            [
             0.7777777777777778,
             "#fb9f3a"
            ],
            [
             0.8888888888888888,
             "#fdca26"
            ],
            [
             1,
             "#f0f921"
            ]
           ]
          },
          "colorway": [
           "#636efa",
           "#EF553B",
           "#00cc96",
           "#ab63fa",
           "#FFA15A",
           "#19d3f3",
           "#FF6692",
           "#B6E880",
           "#FF97FF",
           "#FECB52"
          ],
          "font": {
           "color": "#2a3f5f"
          },
          "geo": {
           "bgcolor": "white",
           "lakecolor": "white",
           "landcolor": "#E5ECF6",
           "showlakes": true,
           "showland": true,
           "subunitcolor": "white"
          },
          "hoverlabel": {
           "align": "left"
          },
          "hovermode": "closest",
          "mapbox": {
           "style": "light"
          },
          "paper_bgcolor": "white",
          "plot_bgcolor": "#E5ECF6",
          "polar": {
           "angularaxis": {
            "gridcolor": "white",
            "linecolor": "white",
            "ticks": ""
           },
           "bgcolor": "#E5ECF6",
           "radialaxis": {
            "gridcolor": "white",
            "linecolor": "white",
            "ticks": ""
           }
          },
          "scene": {
           "xaxis": {
            "backgroundcolor": "#E5ECF6",
            "gridcolor": "white",
            "gridwidth": 2,
            "linecolor": "white",
            "showbackground": true,
            "ticks": "",
            "zerolinecolor": "white"
           },
           "yaxis": {
            "backgroundcolor": "#E5ECF6",
            "gridcolor": "white",
            "gridwidth": 2,
            "linecolor": "white",
            "showbackground": true,
            "ticks": "",
            "zerolinecolor": "white"
           },
           "zaxis": {
            "backgroundcolor": "#E5ECF6",
            "gridcolor": "white",
            "gridwidth": 2,
            "linecolor": "white",
            "showbackground": true,
            "ticks": "",
            "zerolinecolor": "white"
           }
          },
          "shapedefaults": {
           "line": {
            "color": "#2a3f5f"
           }
          },
          "ternary": {
           "aaxis": {
            "gridcolor": "white",
            "linecolor": "white",
            "ticks": ""
           },
           "baxis": {
            "gridcolor": "white",
            "linecolor": "white",
            "ticks": ""
           },
           "bgcolor": "#E5ECF6",
           "caxis": {
            "gridcolor": "white",
            "linecolor": "white",
            "ticks": ""
           }
          },
          "title": {
           "x": 0.05
          },
          "xaxis": {
           "automargin": true,
           "gridcolor": "white",
           "linecolor": "white",
           "ticks": "",
           "title": {
            "standoff": 15
           },
           "zerolinecolor": "white",
           "zerolinewidth": 2
          },
          "yaxis": {
           "automargin": true,
           "gridcolor": "white",
           "linecolor": "white",
           "ticks": "",
           "title": {
            "standoff": 15
           },
           "zerolinecolor": "white",
           "zerolinewidth": 2
          }
         }
        },
        "width": 800
       }
      }
     },
     "metadata": {},
     "output_type": "display_data"
    }
   ],
   "source": [
    "df_bprna['database'] = 'bpRNA'\n",
    "families_rnastralign['database'] = 'RNAStralign'\n",
    "families_archivII['database'] = 'archiveII'\n",
    "df_final = pd.concat([df_bprna, families_rnastralign, families_archivII, df_ribo])\n",
    "df_final['family'] = df_final['family'].apply(lambda x: np.nan if x == 'Other' else x)\n",
    "df_final.sort_values(by='family', inplace=True, na_position='last')\n",
    "df_final.drop_duplicates(subset=['sequence'], inplace=True, keep='first')\n",
    "df_final['family'].fillna('Other', inplace=True)\n",
    "df_final.family.value_counts()\n",
    "\n",
    "for family_name in df_final.family.unique():\n",
    "    df_final.loc[df_final['family'] == family_name, 'family'] = family_name + ' (N={:,})'.format(df_final[df_final['family'] == family_name].shape[0])\n",
    "\n",
    "# display this on a pie chart\n",
    "import plotly.express as px\n",
    "import plotly.graph_objects as go\n",
    "\n",
    "print(\"final df has {} sequences\".format(len(df_final)))\n",
    "\n",
    "fig = go.Figure(data=[go.Pie(labels=df_final.family.value_counts().index, values=df_final.family.value_counts().values, hole=.3,\n",
    "                             # show real numbers in textinfo\n",
    "                                textinfo='label+percent',\n",
    "                                textposition='inside',\n",
    "                             )])\n",
    "fig.update_layout( height=700, width=800)\n",
    "fig.show()\n",
    "\n",
    "# to pdf\n",
    "import plotly.io as pio\n",
    "pio.write_image(fig, 'images/family_classification.pdf')"
   ]
  },
  {
   "cell_type": "markdown",
   "metadata": {},
   "source": [
    "# Aggregate"
   ]
  },
  {
   "cell_type": "code",
   "execution_count": null,
   "metadata": {},
   "outputs": [
    {
     "ename": "NameError",
     "evalue": "name 'pd' is not defined",
     "output_type": "error",
     "traceback": [
      "\u001b[0;31m---------------------------------------------------------------------------\u001b[0m",
      "\u001b[0;31mNameError\u001b[0m                                 Traceback (most recent call last)",
      "Cell \u001b[0;32mIn[1], line 1\u001b[0m\n\u001b[0;32m----> 1\u001b[0m df \u001b[38;5;241m=\u001b[39m \u001b[43mpd\u001b[49m\u001b[38;5;241m.\u001b[39mconcat([bprna, bprna90, fam_rnastralign, fam_archivII], axis\u001b[38;5;241m=\u001b[39m\u001b[38;5;241m1\u001b[39m)\n\u001b[1;32m      2\u001b[0m df\u001b[38;5;241m.\u001b[39mcolumns \u001b[38;5;241m=\u001b[39m [\u001b[38;5;124m'\u001b[39m\u001b[38;5;124mbpRNA-1m\u001b[39m\u001b[38;5;124m'\u001b[39m, \u001b[38;5;124m'\u001b[39m\u001b[38;5;124mRNAStralign\u001b[39m\u001b[38;5;124m'\u001b[39m, \u001b[38;5;124m'\u001b[39m\u001b[38;5;124mArchiveII\u001b[39m\u001b[38;5;124m'\u001b[39m]\n\u001b[1;32m      3\u001b[0m \u001b[38;5;66;03m# df = df.fillna(0).astype(int)\u001b[39;00m\n",
      "\u001b[0;31mNameError\u001b[0m: name 'pd' is not defined"
     ]
    }
   ],
   "source": [
    "\n",
    "df = pd.concat([bprna, bprna90, fam_rnastralign, fam_archivII], axis=1)\n",
    "df.columns = ['bpRNA-1m', 'RNAStralign', 'ArchiveII']\n",
    "# df = df.fillna(0).astype(int)\n",
    "df_family = df.copy()\n",
    "df_family.loc['total'] = {\n",
    "    'bpRNA-1m': len(len_bprna),\n",
    "    # 'bpRNA-1m(90)': len(len_bprna90),\n",
    "    'RNAStralign': len(len_rnastralign),\n",
    "    'ArchiveII': len(len_archivII),\n",
    "}\n",
    "# others = total - df_family.sum()\n",
    "\n",
    "assert df_family.loc[df_family.index[:-1]].sum().sum() == df_family.loc['total'].sum()\n",
    "df_family.drop('total', inplace=True)\n",
    "# df_family = df_family.fillna(0).astype(int)\n",
    "df_family"
   ]
  },
  {
   "cell_type": "code",
   "execution_count": null,
   "metadata": {},
   "outputs": [
    {
     "data": {
      "text/plain": [
       "bpRNA-1m        66862.0\n",
       "bpRNA-1m(90)    27798.0\n",
       "RNAStralign     26093.0\n",
       "ArchiveII        2761.0\n",
       "dtype: float64"
      ]
     },
     "execution_count": 141,
     "metadata": {},
     "output_type": "execute_result"
    }
   ],
   "source": [
    "df_family.loc[df_family.index[:-1]].sum()"
   ]
  },
  {
   "cell_type": "code",
   "execution_count": null,
   "metadata": {},
   "outputs": [],
   "source": [
    "# one value per bin\n",
    "def make_histograms(l):\n",
    "    min_val = 0\n",
    "    max_val = 4400\n",
    "    bin_size = 100\n",
    "    bins = np.arange(min_val + bin_size/2, max_val - bin_size/2, bin_size)\n",
    "    hist, bins = np.histogram(l, bins=max_val//bin_size, range=(min_val, max_val))\n",
    "    return hist, bins\n",
    "hists = {\n",
    "    'bpRNA-1m': make_histograms(len_bprna),\n",
    "    'RNAStralign': make_histograms(len_rnastralign),\n",
    "    'ArchiveII': make_histograms(len_archivII),\n",
    "}"
   ]
  },
  {
   "cell_type": "markdown",
   "metadata": {},
   "source": [
    "### Plot as piecharts"
   ]
  },
  {
   "cell_type": "code",
   "execution_count": null,
   "metadata": {},
   "outputs": [],
   "source": [
    "horizontal_spacing = 0.08\n",
    "vertical_spacing = 0.2\n",
    "height = 650\n",
    "width = 1200"
   ]
  },
  {
   "cell_type": "code",
   "execution_count": null,
   "metadata": {},
   "outputs": [
    {
     "data": {
      "application/vnd.plotly.v1+json": {
       "config": {
        "plotlyServerURL": "https://plot.ly"
       },
       "data": [
        {
         "domain": {
          "x": [
           0,
           0.27999999999999997
          ],
          "y": [
           0.4285714285714286,
           1
          ]
         },
         "labels": [
          "Other",
          "sRNA",
          "tRNA",
          "rRNA",
          "mRNA",
          "Introns",
          "ncRNA",
          "tmRNA",
          "SPR",
          "RNP",
          "telomerase",
          "SRP"
         ],
         "name": "bpRNA-1m",
         "showlegend": true,
         "textinfo": "percent",
         "textposition": "auto",
         "texttemplate": "%{percent}",
         "type": "pie",
         "values": [
          37340,
          15216,
          3828,
          3093,
          2470,
          1488,
          1403,
          971,
          483,
          475,
          95,
          null
         ]
        },
        {
         "marker": {
          "color": "rgb(0, 0, 0)"
         },
         "name": "bpRNA-1m",
         "showlegend": false,
         "type": "bar",
         "x": [
          0,
          100,
          200,
          300,
          400,
          500,
          600,
          700,
          800,
          900,
          1000,
          1100,
          1200,
          1300,
          1400,
          1500,
          1600,
          1700,
          1800,
          1900,
          2000,
          2100,
          2200,
          2300,
          2400,
          2500,
          2600,
          2700,
          2800,
          2900,
          3000,
          3100,
          3200,
          3300,
          3400,
          3500,
          3600,
          3700,
          3800,
          3900,
          4000,
          4100,
          4200,
          4300
         ],
         "xaxis": "x",
         "y": [
          31062,
          17054,
          2641,
          2502,
          1025,
          755,
          424,
          552,
          764,
          341,
          120,
          107,
          270,
          1536,
          5534,
          1557,
          18,
          49,
          55,
          23,
          14,
          11,
          1,
          1,
          2,
          2,
          4,
          12,
          71,
          179,
          50,
          14,
          7,
          19,
          17,
          15,
          9,
          9,
          4,
          17,
          6,
          0,
          3,
          6
         ],
         "yaxis": "y"
        },
        {
         "domain": {
          "x": [
           0.36,
           0.6399999999999999
          ],
          "y": [
           0.4285714285714286,
           1
          ]
         },
         "labels": [
          "Other",
          "sRNA",
          "tRNA",
          "rRNA",
          "mRNA",
          "Introns",
          "ncRNA",
          "tmRNA",
          "SPR",
          "RNP",
          "telomerase",
          "SRP"
         ],
         "name": "RNAStralign",
         "showlegend": false,
         "textinfo": "percent",
         "textposition": "auto",
         "texttemplate": "%{percent}",
         "type": "pie",
         "values": [
          null,
          null,
          6436,
          18939,
          null,
          511,
          null,
          170,
          null,
          null,
          37,
          193
         ]
        },
        {
         "marker": {
          "color": "rgb(0, 0, 0)"
         },
         "name": "RNAStralign",
         "showlegend": false,
         "type": "bar",
         "x": [
          0,
          100,
          200,
          300,
          400,
          500,
          600,
          700,
          800,
          900,
          1000,
          1100,
          1200,
          1300,
          1400,
          1500,
          1600,
          1700,
          1800,
          1900,
          2000,
          2100,
          2200,
          2300,
          2400,
          2500,
          2600,
          2700,
          2800,
          2900,
          3000,
          3100,
          3200,
          3300,
          3400,
          3500,
          3600,
          3700,
          3800,
          3900,
          4000,
          4100,
          4200,
          4300
         ],
         "xaxis": "x2",
         "y": [
          6454,
          9362,
          291,
          533,
          660,
          497,
          297,
          488,
          732,
          212,
          80,
          79,
          185,
          1087,
          4223,
          1100,
          3,
          1,
          2,
          0,
          0,
          0,
          0,
          0,
          0,
          0,
          0,
          0,
          0,
          0,
          0,
          0,
          0,
          0,
          0,
          0,
          0,
          0,
          0,
          0,
          0,
          0,
          0,
          0
         ],
         "yaxis": "y2"
        },
        {
         "domain": {
          "x": [
           0.72,
           1
          ],
          "y": [
           0.4285714285714286,
           1
          ]
         },
         "labels": [
          "Other",
          "sRNA",
          "tRNA",
          "rRNA",
          "mRNA",
          "Introns",
          "ncRNA",
          "tmRNA",
          "SPR",
          "RNP",
          "telomerase",
          "SRP"
         ],
         "name": "ArchiveII",
         "showlegend": false,
         "textinfo": "percent",
         "textposition": "auto",
         "texttemplate": "%{percent}",
         "type": "pie",
         "values": [
          null,
          null,
          493,
          1723,
          null,
          104,
          null,
          404,
          null,
          null,
          37,
          725
         ]
        },
        {
         "marker": {
          "color": "rgb(0, 0, 0)"
         },
         "name": "ArchiveII",
         "showlegend": false,
         "type": "bar",
         "x": [
          0,
          100,
          200,
          300,
          400,
          500,
          600,
          700,
          800,
          900,
          1000,
          1100,
          1200,
          1300,
          1400,
          1500,
          1600,
          1700,
          1800,
          1900,
          2000,
          2100,
          2200,
          2300,
          2400,
          2500,
          2600,
          2700,
          2800,
          2900,
          3000,
          3100,
          3200,
          3300,
          3400,
          3500,
          3600,
          3700,
          3800,
          3900,
          4000,
          4100,
          4200,
          4300
         ],
         "xaxis": "x3",
         "y": [
          694,
          1355,
          330,
          826,
          164,
          53,
          28,
          9,
          0,
          2,
          0,
          0,
          1,
          0,
          6,
          7,
          0,
          1,
          3,
          2,
          0,
          0,
          0,
          0,
          0,
          0,
          0,
          0,
          0,
          5,
          0,
          0,
          0,
          0,
          0,
          0,
          0,
          0,
          0,
          0,
          0,
          0,
          0,
          0
         ],
         "yaxis": "y3"
        }
       ],
       "layout": {
        "annotations": [
         {
          "font": {
           "size": 22
          },
          "showarrow": false,
          "text": "bpRNA-1m (N=66862)",
          "x": 0.13999999999999999,
          "xanchor": "center",
          "xref": "paper",
          "y": 1,
          "yanchor": "bottom",
          "yref": "paper"
         },
         {
          "font": {
           "size": 22
          },
          "showarrow": false,
          "text": "RNAStralign (N=26286)",
          "x": 0.49999999999999994,
          "xanchor": "center",
          "xref": "paper",
          "y": 1,
          "yanchor": "bottom",
          "yref": "paper"
         },
         {
          "font": {
           "size": 22
          },
          "showarrow": false,
          "text": "ArchiveII (N=3486)",
          "x": 0.86,
          "xanchor": "center",
          "xref": "paper",
          "y": 1,
          "yanchor": "bottom",
          "yref": "paper"
         },
         {
          "font": {
           "size": 22
          },
          "showarrow": false,
          "text": "Sequence length (bin size: 100)",
          "x": 0.5,
          "xanchor": "center",
          "xref": "paper",
          "y": -0.15,
          "yanchor": "bottom",
          "yref": "paper"
         },
         {
          "font": {
           "size": 22
          },
          "showarrow": false,
          "text": "Count",
          "textangle": -90,
          "x": -0.06,
          "xanchor": "center",
          "xref": "paper",
          "y": 0.03,
          "yanchor": "bottom",
          "yref": "paper"
         }
        ],
        "bargap": 0.1,
        "bargroupgap": 0.1,
        "barmode": "overlay",
        "font": {
         "color": "black",
         "family": "Arial",
         "size": 20
        },
        "height": 650,
        "legend": {
         "bordercolor": "black",
         "font": {
          "color": "black",
          "family": "Arial",
          "size": 20
         },
         "traceorder": "normal",
         "x": 1.03,
         "y": 0.95
        },
        "template": {
         "data": {
          "bar": [
           {
            "error_x": {
             "color": "#2a3f5f"
            },
            "error_y": {
             "color": "#2a3f5f"
            },
            "marker": {
             "line": {
              "color": "white",
              "width": 0.5
             },
             "pattern": {
              "fillmode": "overlay",
              "size": 10,
              "solidity": 0.2
             }
            },
            "type": "bar"
           }
          ],
          "barpolar": [
           {
            "marker": {
             "line": {
              "color": "white",
              "width": 0.5
             },
             "pattern": {
              "fillmode": "overlay",
              "size": 10,
              "solidity": 0.2
             }
            },
            "type": "barpolar"
           }
          ],
          "carpet": [
           {
            "aaxis": {
             "endlinecolor": "#2a3f5f",
             "gridcolor": "#C8D4E3",
             "linecolor": "#C8D4E3",
             "minorgridcolor": "#C8D4E3",
             "startlinecolor": "#2a3f5f"
            },
            "baxis": {
             "endlinecolor": "#2a3f5f",
             "gridcolor": "#C8D4E3",
             "linecolor": "#C8D4E3",
             "minorgridcolor": "#C8D4E3",
             "startlinecolor": "#2a3f5f"
            },
            "type": "carpet"
           }
          ],
          "choropleth": [
           {
            "colorbar": {
             "outlinewidth": 0,
             "ticks": ""
            },
            "type": "choropleth"
           }
          ],
          "contour": [
           {
            "colorbar": {
             "outlinewidth": 0,
             "ticks": ""
            },
            "colorscale": [
             [
              0,
              "#0d0887"
             ],
             [
              0.1111111111111111,
              "#46039f"
             ],
             [
              0.2222222222222222,
              "#7201a8"
             ],
             [
              0.3333333333333333,
              "#9c179e"
             ],
             [
              0.4444444444444444,
              "#bd3786"
             ],
             [
              0.5555555555555556,
              "#d8576b"
             ],
             [
              0.6666666666666666,
              "#ed7953"
             ],
             [
              0.7777777777777778,
              "#fb9f3a"
             ],
             [
              0.8888888888888888,
              "#fdca26"
             ],
             [
              1,
              "#f0f921"
             ]
            ],
            "type": "contour"
           }
          ],
          "contourcarpet": [
           {
            "colorbar": {
             "outlinewidth": 0,
             "ticks": ""
            },
            "type": "contourcarpet"
           }
          ],
          "heatmap": [
           {
            "colorbar": {
             "outlinewidth": 0,
             "ticks": ""
            },
            "colorscale": [
             [
              0,
              "#0d0887"
             ],
             [
              0.1111111111111111,
              "#46039f"
             ],
             [
              0.2222222222222222,
              "#7201a8"
             ],
             [
              0.3333333333333333,
              "#9c179e"
             ],
             [
              0.4444444444444444,
              "#bd3786"
             ],
             [
              0.5555555555555556,
              "#d8576b"
             ],
             [
              0.6666666666666666,
              "#ed7953"
             ],
             [
              0.7777777777777778,
              "#fb9f3a"
             ],
             [
              0.8888888888888888,
              "#fdca26"
             ],
             [
              1,
              "#f0f921"
             ]
            ],
            "type": "heatmap"
           }
          ],
          "heatmapgl": [
           {
            "colorbar": {
             "outlinewidth": 0,
             "ticks": ""
            },
            "colorscale": [
             [
              0,
              "#0d0887"
             ],
             [
              0.1111111111111111,
              "#46039f"
             ],
             [
              0.2222222222222222,
              "#7201a8"
             ],
             [
              0.3333333333333333,
              "#9c179e"
             ],
             [
              0.4444444444444444,
              "#bd3786"
             ],
             [
              0.5555555555555556,
              "#d8576b"
             ],
             [
              0.6666666666666666,
              "#ed7953"
             ],
             [
              0.7777777777777778,
              "#fb9f3a"
             ],
             [
              0.8888888888888888,
              "#fdca26"
             ],
             [
              1,
              "#f0f921"
             ]
            ],
            "type": "heatmapgl"
           }
          ],
          "histogram": [
           {
            "marker": {
             "pattern": {
              "fillmode": "overlay",
              "size": 10,
              "solidity": 0.2
             }
            },
            "type": "histogram"
           }
          ],
          "histogram2d": [
           {
            "colorbar": {
             "outlinewidth": 0,
             "ticks": ""
            },
            "colorscale": [
             [
              0,
              "#0d0887"
             ],
             [
              0.1111111111111111,
              "#46039f"
             ],
             [
              0.2222222222222222,
              "#7201a8"
             ],
             [
              0.3333333333333333,
              "#9c179e"
             ],
             [
              0.4444444444444444,
              "#bd3786"
             ],
             [
              0.5555555555555556,
              "#d8576b"
             ],
             [
              0.6666666666666666,
              "#ed7953"
             ],
             [
              0.7777777777777778,
              "#fb9f3a"
             ],
             [
              0.8888888888888888,
              "#fdca26"
             ],
             [
              1,
              "#f0f921"
             ]
            ],
            "type": "histogram2d"
           }
          ],
          "histogram2dcontour": [
           {
            "colorbar": {
             "outlinewidth": 0,
             "ticks": ""
            },
            "colorscale": [
             [
              0,
              "#0d0887"
             ],
             [
              0.1111111111111111,
              "#46039f"
             ],
             [
              0.2222222222222222,
              "#7201a8"
             ],
             [
              0.3333333333333333,
              "#9c179e"
             ],
             [
              0.4444444444444444,
              "#bd3786"
             ],
             [
              0.5555555555555556,
              "#d8576b"
             ],
             [
              0.6666666666666666,
              "#ed7953"
             ],
             [
              0.7777777777777778,
              "#fb9f3a"
             ],
             [
              0.8888888888888888,
              "#fdca26"
             ],
             [
              1,
              "#f0f921"
             ]
            ],
            "type": "histogram2dcontour"
           }
          ],
          "mesh3d": [
           {
            "colorbar": {
             "outlinewidth": 0,
             "ticks": ""
            },
            "type": "mesh3d"
           }
          ],
          "parcoords": [
           {
            "line": {
             "colorbar": {
              "outlinewidth": 0,
              "ticks": ""
             }
            },
            "type": "parcoords"
           }
          ],
          "pie": [
           {
            "automargin": true,
            "type": "pie"
           }
          ],
          "scatter": [
           {
            "fillpattern": {
             "fillmode": "overlay",
             "size": 10,
             "solidity": 0.2
            },
            "type": "scatter"
           }
          ],
          "scatter3d": [
           {
            "line": {
             "colorbar": {
              "outlinewidth": 0,
              "ticks": ""
             }
            },
            "marker": {
             "colorbar": {
              "outlinewidth": 0,
              "ticks": ""
             }
            },
            "type": "scatter3d"
           }
          ],
          "scattercarpet": [
           {
            "marker": {
             "colorbar": {
              "outlinewidth": 0,
              "ticks": ""
             }
            },
            "type": "scattercarpet"
           }
          ],
          "scattergeo": [
           {
            "marker": {
             "colorbar": {
              "outlinewidth": 0,
              "ticks": ""
             }
            },
            "type": "scattergeo"
           }
          ],
          "scattergl": [
           {
            "marker": {
             "colorbar": {
              "outlinewidth": 0,
              "ticks": ""
             }
            },
            "type": "scattergl"
           }
          ],
          "scattermapbox": [
           {
            "marker": {
             "colorbar": {
              "outlinewidth": 0,
              "ticks": ""
             }
            },
            "type": "scattermapbox"
           }
          ],
          "scatterpolar": [
           {
            "marker": {
             "colorbar": {
              "outlinewidth": 0,
              "ticks": ""
             }
            },
            "type": "scatterpolar"
           }
          ],
          "scatterpolargl": [
           {
            "marker": {
             "colorbar": {
              "outlinewidth": 0,
              "ticks": ""
             }
            },
            "type": "scatterpolargl"
           }
          ],
          "scatterternary": [
           {
            "marker": {
             "colorbar": {
              "outlinewidth": 0,
              "ticks": ""
             }
            },
            "type": "scatterternary"
           }
          ],
          "surface": [
           {
            "colorbar": {
             "outlinewidth": 0,
             "ticks": ""
            },
            "colorscale": [
             [
              0,
              "#0d0887"
             ],
             [
              0.1111111111111111,
              "#46039f"
             ],
             [
              0.2222222222222222,
              "#7201a8"
             ],
             [
              0.3333333333333333,
              "#9c179e"
             ],
             [
              0.4444444444444444,
              "#bd3786"
             ],
             [
              0.5555555555555556,
              "#d8576b"
             ],
             [
              0.6666666666666666,
              "#ed7953"
             ],
             [
              0.7777777777777778,
              "#fb9f3a"
             ],
             [
              0.8888888888888888,
              "#fdca26"
             ],
             [
              1,
              "#f0f921"
             ]
            ],
            "type": "surface"
           }
          ],
          "table": [
           {
            "cells": {
             "fill": {
              "color": "#EBF0F8"
             },
             "line": {
              "color": "white"
             }
            },
            "header": {
             "fill": {
              "color": "#C8D4E3"
             },
             "line": {
              "color": "white"
             }
            },
            "type": "table"
           }
          ]
         },
         "layout": {
          "annotationdefaults": {
           "arrowcolor": "#2a3f5f",
           "arrowhead": 0,
           "arrowwidth": 1
          },
          "autotypenumbers": "strict",
          "coloraxis": {
           "colorbar": {
            "outlinewidth": 0,
            "ticks": ""
           }
          },
          "colorscale": {
           "diverging": [
            [
             0,
             "#8e0152"
            ],
            [
             0.1,
             "#c51b7d"
            ],
            [
             0.2,
             "#de77ae"
            ],
            [
             0.3,
             "#f1b6da"
            ],
            [
             0.4,
             "#fde0ef"
            ],
            [
             0.5,
             "#f7f7f7"
            ],
            [
             0.6,
             "#e6f5d0"
            ],
            [
             0.7,
             "#b8e186"
            ],
            [
             0.8,
             "#7fbc41"
            ],
            [
             0.9,
             "#4d9221"
            ],
            [
             1,
             "#276419"
            ]
           ],
           "sequential": [
            [
             0,
             "#0d0887"
            ],
            [
             0.1111111111111111,
             "#46039f"
            ],
            [
             0.2222222222222222,
             "#7201a8"
            ],
            [
             0.3333333333333333,
             "#9c179e"
            ],
            [
             0.4444444444444444,
             "#bd3786"
            ],
            [
             0.5555555555555556,
             "#d8576b"
            ],
            [
             0.6666666666666666,
             "#ed7953"
            ],
            [
             0.7777777777777778,
             "#fb9f3a"
            ],
            [
             0.8888888888888888,
             "#fdca26"
            ],
            [
             1,
             "#f0f921"
            ]
           ],
           "sequentialminus": [
            [
             0,
             "#0d0887"
            ],
            [
             0.1111111111111111,
             "#46039f"
            ],
            [
             0.2222222222222222,
             "#7201a8"
            ],
            [
             0.3333333333333333,
             "#9c179e"
            ],
            [
             0.4444444444444444,
             "#bd3786"
            ],
            [
             0.5555555555555556,
             "#d8576b"
            ],
            [
             0.6666666666666666,
             "#ed7953"
            ],
            [
             0.7777777777777778,
             "#fb9f3a"
            ],
            [
             0.8888888888888888,
             "#fdca26"
            ],
            [
             1,
             "#f0f921"
            ]
           ]
          },
          "colorway": [
           "#636efa",
           "#EF553B",
           "#00cc96",
           "#ab63fa",
           "#FFA15A",
           "#19d3f3",
           "#FF6692",
           "#B6E880",
           "#FF97FF",
           "#FECB52"
          ],
          "font": {
           "color": "#2a3f5f"
          },
          "geo": {
           "bgcolor": "white",
           "lakecolor": "white",
           "landcolor": "white",
           "showlakes": true,
           "showland": true,
           "subunitcolor": "#C8D4E3"
          },
          "hoverlabel": {
           "align": "left"
          },
          "hovermode": "closest",
          "mapbox": {
           "style": "light"
          },
          "paper_bgcolor": "white",
          "plot_bgcolor": "white",
          "polar": {
           "angularaxis": {
            "gridcolor": "#EBF0F8",
            "linecolor": "#EBF0F8",
            "ticks": ""
           },
           "bgcolor": "white",
           "radialaxis": {
            "gridcolor": "#EBF0F8",
            "linecolor": "#EBF0F8",
            "ticks": ""
           }
          },
          "scene": {
           "xaxis": {
            "backgroundcolor": "white",
            "gridcolor": "#DFE8F3",
            "gridwidth": 2,
            "linecolor": "#EBF0F8",
            "showbackground": true,
            "ticks": "",
            "zerolinecolor": "#EBF0F8"
           },
           "yaxis": {
            "backgroundcolor": "white",
            "gridcolor": "#DFE8F3",
            "gridwidth": 2,
            "linecolor": "#EBF0F8",
            "showbackground": true,
            "ticks": "",
            "zerolinecolor": "#EBF0F8"
           },
           "zaxis": {
            "backgroundcolor": "white",
            "gridcolor": "#DFE8F3",
            "gridwidth": 2,
            "linecolor": "#EBF0F8",
            "showbackground": true,
            "ticks": "",
            "zerolinecolor": "#EBF0F8"
           }
          },
          "shapedefaults": {
           "line": {
            "color": "#2a3f5f"
           }
          },
          "ternary": {
           "aaxis": {
            "gridcolor": "#DFE8F3",
            "linecolor": "#A2B1C6",
            "ticks": ""
           },
           "baxis": {
            "gridcolor": "#DFE8F3",
            "linecolor": "#A2B1C6",
            "ticks": ""
           },
           "bgcolor": "white",
           "caxis": {
            "gridcolor": "#DFE8F3",
            "linecolor": "#A2B1C6",
            "ticks": ""
           }
          },
          "title": {
           "x": 0.05
          },
          "xaxis": {
           "automargin": true,
           "gridcolor": "#EBF0F8",
           "linecolor": "#EBF0F8",
           "ticks": "",
           "title": {
            "standoff": 15
           },
           "zerolinecolor": "#EBF0F8",
           "zerolinewidth": 2
          },
          "yaxis": {
           "automargin": true,
           "gridcolor": "#EBF0F8",
           "linecolor": "#EBF0F8",
           "ticks": "",
           "title": {
            "standoff": 15
           },
           "zerolinecolor": "#EBF0F8",
           "zerolinewidth": 2
          }
         }
        },
        "title": {
         "x": 0.5,
         "y": 0.95
        },
        "width": 1200,
        "xaxis": {
         "anchor": "y",
         "domain": [
          0,
          0.27999999999999997
         ],
         "dtick": 2000,
         "range": [
          -100,
          2000
         ],
         "tick0": 0
        },
        "xaxis2": {
         "anchor": "y2",
         "domain": [
          0.36,
          0.6399999999999999
         ],
         "dtick": 2000,
         "range": [
          -100,
          2000
         ],
         "tick0": 0
        },
        "xaxis3": {
         "anchor": "y3",
         "domain": [
          0.72,
          1
         ],
         "dtick": 2000,
         "range": [
          -100,
          2000
         ],
         "tick0": 0
        },
        "yaxis": {
         "anchor": "x",
         "domain": [
          0,
          0.22857142857142862
         ]
        },
        "yaxis2": {
         "anchor": "x2",
         "domain": [
          0,
          0.22857142857142862
         ]
        },
        "yaxis3": {
         "anchor": "x3",
         "domain": [
          0,
          0.22857142857142862
         ]
        }
       }
      }
     },
     "metadata": {},
     "output_type": "display_data"
    }
   ],
   "source": [
    "\n",
    "import plotly.graph_objects as go\n",
    "from plotly.subplots import make_subplots\n",
    "\n",
    "\n",
    "\n",
    "# first row is piechart of family distribution\n",
    "# second row is histogram of sequence length distribution\n",
    "# I want it to look like a paper figure\n",
    "\n",
    "if 'bpRNA-1m(90)' in hists.keys():\n",
    "    del hists['bpRNA-1m(90)'] \n",
    "\n",
    "fig = make_subplots(rows=2, cols=3, specs=[[{'type': 'domain'}]*3, [{'type': 'histogram'}]*3], \n",
    "                    subplot_titles=[f\"{name} (N={np.nansum(df_family[name]).astype(int)})\" for name in hists.keys()],\n",
    "                    vertical_spacing=vertical_spacing,\n",
    "                    horizontal_spacing=horizontal_spacing,\n",
    "                    row_heights=[0.5, 0.2],\n",
    ")\n",
    "\n",
    "for i in fig['layout']['annotations']:\n",
    "    i['font'] = dict(size=22)\n",
    "    \n",
    "\n",
    "for i, name in enumerate(hists.keys()):\n",
    "    fig.add_trace(go.Pie(\n",
    "        labels=df_family.index,\n",
    "        values=df_family[name],\n",
    "        name=name,\n",
    "        textinfo=f'percent',\n",
    "        texttemplate='%{percent}',\n",
    "        textposition='auto',\n",
    "        showlegend=i==0,\n",
    "        # sort=True,\n",
    "        # legennd location\n",
    "        # domain={'x': [0.0, 0.25], 'y': [0.5, 1.0]} if i == 0 else {'x': [0.25, 0.5], 'y': [0.5, 1.0]} if i == 1 else {'x': [0.5, 0.75], 'y': [0.5, 1.0]} if i == 2 else {'x': [0.75, 1.0], 'y': [0.5, 1.0]},\n",
    "    ), row=1, col=i+1)\n",
    "    fig.add_trace(go.Bar(\n",
    "        x=hists[name][1][:-1],\n",
    "        y=hists[name][0],\n",
    "        name=name,\n",
    "        showlegend=False,\n",
    "        marker_color='rgb(0, 0, 0)',\n",
    "    ), row=2, col=i+1)\n",
    "    # fig.update_yaxes(row=2, col=i+1,  range=[0, 50000])\n",
    "    fig.update_xaxes(row=2, col=i+1, range=[-100, 2000], tick0=0, dtick=2000)\n",
    "    # make bar width constant\n",
    "    # add horitontal lines\n",
    "    fig.update_layout(barmode='overlay', bargap=0.1, bargroupgap=0.1)\n",
    "\n",
    "# write 'sequence length' at the bottom, centered\n",
    "fig.add_annotation(dict(\n",
    "    x=0.5,\n",
    "    y=-0.15,\n",
    "    text='Sequence length (bin size: 100)',\n",
    "    showarrow=False,\n",
    "    font=dict(size=22),\n",
    "    xref='paper',\n",
    "    yref='paper',\n",
    "    xanchor='center',\n",
    "    yanchor='bottom',\n",
    "))\n",
    "\n",
    "fig.add_annotation(dict(\n",
    "    x=-0.06,\n",
    "    y=0.03,\n",
    "    text='Count',\n",
    "    showarrow=False,\n",
    "    font=dict(size=22),\n",
    "    xref='paper',\n",
    "    yref='paper',\n",
    "    xanchor='center',\n",
    "    yanchor='bottom',\n",
    "    textangle=-90\n",
    "), \n",
    ")\n",
    "\n",
    "fig.update_layout(\n",
    "    height=height,\n",
    "    width=width,\n",
    "    title_x=0.5,\n",
    "    title_y=0.95,\n",
    "    font_size=20,\n",
    "    font_family='Arial',\n",
    "    font_color='black',\n",
    "    legend_font_size=20,\n",
    "    legend_font_family='Arial',\n",
    "    legend_font_color='black',\n",
    "    legend_x=1.03,\n",
    "    legend_y=0.95,\n",
    "    # legend_orientation='h',\n",
    "    legend_traceorder='normal',\n",
    "    legend_bordercolor='black',\n",
    "    template=\"plotly_white\",\n",
    ")\n",
    "\n",
    "\n",
    "\n",
    "\n"
   ]
  },
  {
   "cell_type": "code",
   "execution_count": null,
   "metadata": {},
   "outputs": [],
   "source": []
  }
 ],
 "metadata": {
  "kernelspec": {
   "display_name": "Python 3",
   "language": "python",
   "name": "python3"
  },
  "language_info": {
   "codemirror_mode": {
    "name": "ipython",
    "version": 3
   },
   "file_extension": ".py",
   "mimetype": "text/x-python",
   "name": "python",
   "nbconvert_exporter": "python",
   "pygments_lexer": "ipython3",
   "version": "3.11.6"
  }
 },
 "nbformat": 4,
 "nbformat_minor": 2
}

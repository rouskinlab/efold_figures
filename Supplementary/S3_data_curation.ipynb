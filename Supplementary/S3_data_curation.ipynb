{
 "cells": [
  {
   "cell_type": "code",
   "execution_count": 66,
   "metadata": {},
   "outputs": [
    {
     "data": {
      "text/html": [
       "<div>\n",
       "<style scoped>\n",
       "    .dataframe tbody tr th:only-of-type {\n",
       "        vertical-align: middle;\n",
       "    }\n",
       "\n",
       "    .dataframe tbody tr th {\n",
       "        vertical-align: top;\n",
       "    }\n",
       "\n",
       "    .dataframe thead th {\n",
       "        text-align: right;\n",
       "    }\n",
       "</style>\n",
       "<table border=\"1\" class=\"dataframe\">\n",
       "  <thead>\n",
       "    <tr style=\"text-align: right;\">\n",
       "      <th></th>\n",
       "      <th>Fetched from online repository</th>\n",
       "      <th>Reads &gt; 500 and S/N &gt; 1</th>\n",
       "      <th>AUROC</th>\n",
       "      <th>BLAST</th>\n",
       "      <th>Duplicates</th>\n",
       "      <th>Non-ACGU characters</th>\n",
       "      <th>Sequences below 10nt</th>\n",
       "      <th>No structure</th>\n",
       "      <th>Redundancy across databases</th>\n",
       "    </tr>\n",
       "    <tr>\n",
       "      <th>Dataset</th>\n",
       "      <th></th>\n",
       "      <th></th>\n",
       "      <th></th>\n",
       "      <th></th>\n",
       "      <th></th>\n",
       "      <th></th>\n",
       "      <th></th>\n",
       "      <th></th>\n",
       "      <th></th>\n",
       "    </tr>\n",
       "  </thead>\n",
       "  <tbody>\n",
       "    <tr>\n",
       "      <th>zuber</th>\n",
       "      <td>1450</td>\n",
       "      <td>0</td>\n",
       "      <td>0</td>\n",
       "      <td>0</td>\n",
       "      <td>123</td>\n",
       "      <td>20</td>\n",
       "      <td>0</td>\n",
       "      <td>0</td>\n",
       "      <td>164</td>\n",
       "    </tr>\n",
       "    <tr>\n",
       "      <th>archiveII</th>\n",
       "      <td>3975</td>\n",
       "      <td>0</td>\n",
       "      <td>0</td>\n",
       "      <td>0</td>\n",
       "      <td>489</td>\n",
       "      <td>0</td>\n",
       "      <td>0</td>\n",
       "      <td>4</td>\n",
       "      <td>977</td>\n",
       "    </tr>\n",
       "    <tr>\n",
       "      <th>RNAstralign</th>\n",
       "      <td>37149</td>\n",
       "      <td>0</td>\n",
       "      <td>0</td>\n",
       "      <td>0</td>\n",
       "      <td>6066</td>\n",
       "      <td>3949</td>\n",
       "      <td>0</td>\n",
       "      <td>3</td>\n",
       "      <td>24213</td>\n",
       "    </tr>\n",
       "    <tr>\n",
       "      <th>bpRNA</th>\n",
       "      <td>102318</td>\n",
       "      <td>0</td>\n",
       "      <td>0</td>\n",
       "      <td>74617</td>\n",
       "      <td>0</td>\n",
       "      <td>0</td>\n",
       "      <td>0</td>\n",
       "      <td>135</td>\n",
       "      <td>24833</td>\n",
       "    </tr>\n",
       "    <tr>\n",
       "      <th>Ribonanza</th>\n",
       "      <td>806573</td>\n",
       "      <td>597452</td>\n",
       "      <td>84310</td>\n",
       "      <td>16398</td>\n",
       "      <td>0</td>\n",
       "      <td>0</td>\n",
       "      <td>0</td>\n",
       "      <td>1</td>\n",
       "      <td>108412</td>\n",
       "    </tr>\n",
       "  </tbody>\n",
       "</table>\n",
       "</div>"
      ],
      "text/plain": [
       "             Fetched from online repository  Reads > 500 and S/N > 1  AUROC  \\\n",
       "Dataset                                                                       \n",
       "zuber                                  1450                        0      0   \n",
       "archiveII                              3975                        0      0   \n",
       "RNAstralign                           37149                        0      0   \n",
       "bpRNA                                102318                        0      0   \n",
       "Ribonanza                            806573                   597452  84310   \n",
       "\n",
       "             BLAST  Duplicates  Non-ACGU characters  Sequences below 10nt  \\\n",
       "Dataset                                                                     \n",
       "zuber            0         123                   20                     0   \n",
       "archiveII        0         489                    0                     0   \n",
       "RNAstralign      0        6066                 3949                     0   \n",
       "bpRNA        74617           0                    0                     0   \n",
       "Ribonanza    16398           0                    0                     0   \n",
       "\n",
       "             No structure  Redundancy across databases  \n",
       "Dataset                                                 \n",
       "zuber                   0                          164  \n",
       "archiveII               4                          977  \n",
       "RNAstralign             3                        24213  \n",
       "bpRNA                 135                        24833  \n",
       "Ribonanza               1                       108412  "
      ]
     },
     "execution_count": 66,
     "metadata": {},
     "output_type": "execute_result"
    }
   ],
   "source": [
    "import pandas as pd\n",
    "import plotly.express as px\n",
    "\n",
    "df = pd.read_csv('saved_data_plot/data_curation_stats.csv').set_index('Dataset')\n",
    "df\n",
    "\n"
   ]
  },
  {
   "cell_type": "code",
   "execution_count": 67,
   "metadata": {},
   "outputs": [
    {
     "data": {
      "application/vnd.plotly.v1+json": {
       "config": {
        "plotlyServerURL": "https://plot.ly"
       },
       "data": [
        {
         "hovertemplate": "Dataset=zuber<br>Stage=%{x}<br>Count=%{y}<extra></extra>",
         "legendgroup": "zuber",
         "line": {
          "color": "#636efa"
         },
         "marker": {
          "symbol": "circle"
         },
         "mode": "lines",
         "name": "zuber",
         "orientation": "v",
         "showlegend": true,
         "stackgroup": "1",
         "type": "scatter",
         "x": [
          "Fetched from online repository",
          "Reads > 500 and S/N > 1",
          "AUROC",
          "BLAST",
          "Duplicates",
          "Non-ACGU characters",
          "Sequences below 10nt",
          "No structure",
          "Redundancy across databases"
         ],
         "xaxis": "x",
         "y": [
          1450,
          1450,
          1450,
          1450,
          1327,
          1307,
          1307,
          1307,
          164
         ],
         "yaxis": "y"
        },
        {
         "hovertemplate": "Dataset=archiveII<br>Stage=%{x}<br>Count=%{y}<extra></extra>",
         "legendgroup": "archiveII",
         "line": {
          "color": "#EF553B"
         },
         "marker": {
          "symbol": "circle"
         },
         "mode": "lines",
         "name": "archiveII",
         "orientation": "v",
         "showlegend": true,
         "stackgroup": "1",
         "type": "scatter",
         "x": [
          "Fetched from online repository",
          "Reads > 500 and S/N > 1",
          "AUROC",
          "BLAST",
          "Duplicates",
          "Non-ACGU characters",
          "Sequences below 10nt",
          "No structure",
          "Redundancy across databases"
         ],
         "xaxis": "x",
         "y": [
          3975,
          3975,
          3975,
          3975,
          3486,
          3486,
          3486,
          3482,
          977
         ],
         "yaxis": "y"
        },
        {
         "hovertemplate": "Dataset=Multi-databases<br>Stage=%{x}<br>Count=%{y}<extra></extra>",
         "legendgroup": "Multi-databases",
         "line": {
          "color": "#00cc96"
         },
         "marker": {
          "symbol": "circle"
         },
         "mode": "lines",
         "name": "Multi-databases",
         "orientation": "v",
         "showlegend": true,
         "stackgroup": "1",
         "type": "scatter",
         "x": [
          "No structure",
          "Redundancy across databases"
         ],
         "xaxis": "x",
         "y": [
          0,
          3392
         ],
         "yaxis": "y"
        },
        {
         "hovertemplate": "Dataset=RNAstralign<br>Stage=%{x}<br>Count=%{y}<extra></extra>",
         "legendgroup": "RNAstralign",
         "line": {
          "color": "#ab63fa"
         },
         "marker": {
          "symbol": "circle"
         },
         "mode": "lines",
         "name": "RNAstralign",
         "orientation": "v",
         "showlegend": true,
         "stackgroup": "1",
         "type": "scatter",
         "x": [
          "Fetched from online repository",
          "Reads > 500 and S/N > 1",
          "AUROC",
          "BLAST",
          "Duplicates",
          "Non-ACGU characters",
          "Sequences below 10nt",
          "No structure",
          "Redundancy across databases"
         ],
         "xaxis": "x",
         "y": [
          37149,
          37149,
          37149,
          37149,
          31083,
          27134,
          27134,
          27131,
          24213
         ],
         "yaxis": "y"
        },
        {
         "hovertemplate": "Dataset=bpRNA<br>Stage=%{x}<br>Count=%{y}<extra></extra>",
         "legendgroup": "bpRNA",
         "line": {
          "color": "#FFA15A"
         },
         "marker": {
          "symbol": "circle"
         },
         "mode": "lines",
         "name": "bpRNA",
         "orientation": "v",
         "showlegend": true,
         "stackgroup": "1",
         "type": "scatter",
         "x": [
          "Fetched from online repository",
          "Reads > 500 and S/N > 1",
          "AUROC",
          "BLAST",
          "Duplicates",
          "Non-ACGU characters",
          "Sequences below 10nt",
          "No structure",
          "Redundancy across databases"
         ],
         "xaxis": "x",
         "y": [
          102318,
          102318,
          102318,
          27701,
          27701,
          27701,
          27701,
          27566,
          24833
         ],
         "yaxis": "y"
        },
        {
         "fillpattern": {
          "shape": "x"
         },
         "hovertemplate": "Dataset=Ribonanza<br>Stage=%{x}<br>Count=%{y}<extra></extra>",
         "legendgroup": "Ribonanza",
         "line": {
          "color": "#19d3f3"
         },
         "marker": {
          "symbol": "circle"
         },
         "mode": "lines",
         "name": "Ribonanza",
         "orientation": "v",
         "showlegend": true,
         "stackgroup": "1",
         "type": "scatter",
         "x": [
          "Fetched from online repository",
          "Reads > 500 and S/N > 1",
          "AUROC",
          "BLAST",
          "Duplicates",
          "Non-ACGU characters",
          "Sequences below 10nt",
          "No structure",
          "Redundancy across databases"
         ],
         "xaxis": "x",
         "y": [
          806573,
          209121,
          124811,
          108413,
          108413,
          108413,
          108413,
          108412,
          108412
         ],
         "yaxis": "y"
        }
       ],
       "layout": {
        "annotations": [
         {
          "font": {
           "size": 12
          },
          "showarrow": false,
          "text": "zuber (N =1,450)",
          "x": "Fetched from online repository",
          "xanchor": "left",
          "y": 3.161368002234975,
          "yshift": -27
         },
         {
          "font": {
           "size": 12
          },
          "showarrow": false,
          "text": "archiveII (N =3,975)",
          "x": "Fetched from online repository",
          "xanchor": "left",
          "y": 3.5993371329924893,
          "yshift": -5
         },
         {
          "font": {
           "size": 12
          },
          "showarrow": false,
          "text": "RNAstralign (N =37,149)",
          "x": "Fetched from online repository",
          "xanchor": "left",
          "y": 4.569947127643642,
          "yshift": -20
         },
         {
          "font": {
           "size": 12
          },
          "showarrow": false,
          "text": "bpRNA (N =102,318)",
          "x": "Fetched from online repository",
          "xanchor": "left",
          "y": 5.009952042441543,
          "yshift": -5
         },
         {
          "font": {
           "size": 12
          },
          "showarrow": false,
          "text": "Ribonanza (N =806,573)",
          "x": "Fetched from online repository",
          "xanchor": "left",
          "y": 5.906643679923928,
          "yshift": -20
         },
         {
          "font": {
           "size": 12
          },
          "showarrow": false,
          "text": "zuber (N =164)",
          "x": "Redundancy across databases",
          "xanchor": "left",
          "y": 2.214843848047698,
          "yshift": -10
         },
         {
          "font": {
           "size": 12
          },
          "showarrow": false,
          "text": "archiveII (N =977)",
          "x": "Redundancy across databases",
          "xanchor": "left",
          "y": 2.989894563718773,
          "yshift": -13
         },
         {
          "font": {
           "size": 12
          },
          "showarrow": false,
          "text": "RNAstralign (N =24,213)",
          "x": "Redundancy across databases",
          "xanchor": "left",
          "y": 4.384048602028618,
          "yshift": -15
         },
         {
          "font": {
           "size": 12
          },
          "showarrow": false,
          "text": "Ribonanza (N =108,412)",
          "x": "Redundancy across databases",
          "xanchor": "left",
          "y": 5.035077356421398,
          "yshift": 4
         },
         {
          "font": {
           "size": 12
          },
          "showarrow": false,
          "text": "bpRNA90 (N =24,833)",
          "x": "Redundancy across databases",
          "xanchor": "left",
          "y": 4.395029188533373,
          "yshift": 13
         },
         {
          "font": {
           "size": 12
          },
          "showarrow": false,
          "text": "Multi-databases (N =3,392)",
          "x": "Redundancy across databases",
          "xanchor": "left",
          "y": 3.5304558435846762,
          "yshift": -10
         },
         {
          "font": {
           "size": 12
          },
          "showarrow": false,
          "text": "Total (N =158,599)",
          "x": "Redundancy across databases",
          "xanchor": "left",
          "y": 5.20030044467231,
          "yshift": 20
         },
         {
          "font": {
           "size": 12
          },
          "showarrow": false,
          "text": "Total (N =951,465)",
          "x": "Fetched from online repository",
          "xanchor": "left",
          "y": 5.978392817230041,
          "yshift": 20
         }
        ],
        "font": {
         "color": "black",
         "family": "Helvetica",
         "size": 15
        },
        "height": 500,
        "legend": {
         "orientation": "h",
         "title": {
          "font": {
           "color": "black",
           "size": 15
          },
          "text": "Dataset"
         },
         "tracegroupgap": 0,
         "x": 1,
         "xanchor": "right",
         "y": 1.02,
         "yanchor": "bottom"
        },
        "margin": {
         "t": 60
        },
        "plot_bgcolor": "rgba(0,0,0,0)",
        "template": {
         "data": {
          "bar": [
           {
            "error_x": {
             "color": "#2a3f5f"
            },
            "error_y": {
             "color": "#2a3f5f"
            },
            "marker": {
             "line": {
              "color": "#E5ECF6",
              "width": 0.5
             },
             "pattern": {
              "fillmode": "overlay",
              "size": 10,
              "solidity": 0.2
             }
            },
            "type": "bar"
           }
          ],
          "barpolar": [
           {
            "marker": {
             "line": {
              "color": "#E5ECF6",
              "width": 0.5
             },
             "pattern": {
              "fillmode": "overlay",
              "size": 10,
              "solidity": 0.2
             }
            },
            "type": "barpolar"
           }
          ],
          "carpet": [
           {
            "aaxis": {
             "endlinecolor": "#2a3f5f",
             "gridcolor": "white",
             "linecolor": "white",
             "minorgridcolor": "white",
             "startlinecolor": "#2a3f5f"
            },
            "baxis": {
             "endlinecolor": "#2a3f5f",
             "gridcolor": "white",
             "linecolor": "white",
             "minorgridcolor": "white",
             "startlinecolor": "#2a3f5f"
            },
            "type": "carpet"
           }
          ],
          "choropleth": [
           {
            "colorbar": {
             "outlinewidth": 0,
             "ticks": ""
            },
            "type": "choropleth"
           }
          ],
          "contour": [
           {
            "colorbar": {
             "outlinewidth": 0,
             "ticks": ""
            },
            "colorscale": [
             [
              0,
              "#0d0887"
             ],
             [
              0.1111111111111111,
              "#46039f"
             ],
             [
              0.2222222222222222,
              "#7201a8"
             ],
             [
              0.3333333333333333,
              "#9c179e"
             ],
             [
              0.4444444444444444,
              "#bd3786"
             ],
             [
              0.5555555555555556,
              "#d8576b"
             ],
             [
              0.6666666666666666,
              "#ed7953"
             ],
             [
              0.7777777777777778,
              "#fb9f3a"
             ],
             [
              0.8888888888888888,
              "#fdca26"
             ],
             [
              1,
              "#f0f921"
             ]
            ],
            "type": "contour"
           }
          ],
          "contourcarpet": [
           {
            "colorbar": {
             "outlinewidth": 0,
             "ticks": ""
            },
            "type": "contourcarpet"
           }
          ],
          "heatmap": [
           {
            "colorbar": {
             "outlinewidth": 0,
             "ticks": ""
            },
            "colorscale": [
             [
              0,
              "#0d0887"
             ],
             [
              0.1111111111111111,
              "#46039f"
             ],
             [
              0.2222222222222222,
              "#7201a8"
             ],
             [
              0.3333333333333333,
              "#9c179e"
             ],
             [
              0.4444444444444444,
              "#bd3786"
             ],
             [
              0.5555555555555556,
              "#d8576b"
             ],
             [
              0.6666666666666666,
              "#ed7953"
             ],
             [
              0.7777777777777778,
              "#fb9f3a"
             ],
             [
              0.8888888888888888,
              "#fdca26"
             ],
             [
              1,
              "#f0f921"
             ]
            ],
            "type": "heatmap"
           }
          ],
          "heatmapgl": [
           {
            "colorbar": {
             "outlinewidth": 0,
             "ticks": ""
            },
            "colorscale": [
             [
              0,
              "#0d0887"
             ],
             [
              0.1111111111111111,
              "#46039f"
             ],
             [
              0.2222222222222222,
              "#7201a8"
             ],
             [
              0.3333333333333333,
              "#9c179e"
             ],
             [
              0.4444444444444444,
              "#bd3786"
             ],
             [
              0.5555555555555556,
              "#d8576b"
             ],
             [
              0.6666666666666666,
              "#ed7953"
             ],
             [
              0.7777777777777778,
              "#fb9f3a"
             ],
             [
              0.8888888888888888,
              "#fdca26"
             ],
             [
              1,
              "#f0f921"
             ]
            ],
            "type": "heatmapgl"
           }
          ],
          "histogram": [
           {
            "marker": {
             "pattern": {
              "fillmode": "overlay",
              "size": 10,
              "solidity": 0.2
             }
            },
            "type": "histogram"
           }
          ],
          "histogram2d": [
           {
            "colorbar": {
             "outlinewidth": 0,
             "ticks": ""
            },
            "colorscale": [
             [
              0,
              "#0d0887"
             ],
             [
              0.1111111111111111,
              "#46039f"
             ],
             [
              0.2222222222222222,
              "#7201a8"
             ],
             [
              0.3333333333333333,
              "#9c179e"
             ],
             [
              0.4444444444444444,
              "#bd3786"
             ],
             [
              0.5555555555555556,
              "#d8576b"
             ],
             [
              0.6666666666666666,
              "#ed7953"
             ],
             [
              0.7777777777777778,
              "#fb9f3a"
             ],
             [
              0.8888888888888888,
              "#fdca26"
             ],
             [
              1,
              "#f0f921"
             ]
            ],
            "type": "histogram2d"
           }
          ],
          "histogram2dcontour": [
           {
            "colorbar": {
             "outlinewidth": 0,
             "ticks": ""
            },
            "colorscale": [
             [
              0,
              "#0d0887"
             ],
             [
              0.1111111111111111,
              "#46039f"
             ],
             [
              0.2222222222222222,
              "#7201a8"
             ],
             [
              0.3333333333333333,
              "#9c179e"
             ],
             [
              0.4444444444444444,
              "#bd3786"
             ],
             [
              0.5555555555555556,
              "#d8576b"
             ],
             [
              0.6666666666666666,
              "#ed7953"
             ],
             [
              0.7777777777777778,
              "#fb9f3a"
             ],
             [
              0.8888888888888888,
              "#fdca26"
             ],
             [
              1,
              "#f0f921"
             ]
            ],
            "type": "histogram2dcontour"
           }
          ],
          "mesh3d": [
           {
            "colorbar": {
             "outlinewidth": 0,
             "ticks": ""
            },
            "type": "mesh3d"
           }
          ],
          "parcoords": [
           {
            "line": {
             "colorbar": {
              "outlinewidth": 0,
              "ticks": ""
             }
            },
            "type": "parcoords"
           }
          ],
          "pie": [
           {
            "automargin": true,
            "type": "pie"
           }
          ],
          "scatter": [
           {
            "fillpattern": {
             "fillmode": "overlay",
             "size": 10,
             "solidity": 0.2
            },
            "type": "scatter"
           }
          ],
          "scatter3d": [
           {
            "line": {
             "colorbar": {
              "outlinewidth": 0,
              "ticks": ""
             }
            },
            "marker": {
             "colorbar": {
              "outlinewidth": 0,
              "ticks": ""
             }
            },
            "type": "scatter3d"
           }
          ],
          "scattercarpet": [
           {
            "marker": {
             "colorbar": {
              "outlinewidth": 0,
              "ticks": ""
             }
            },
            "type": "scattercarpet"
           }
          ],
          "scattergeo": [
           {
            "marker": {
             "colorbar": {
              "outlinewidth": 0,
              "ticks": ""
             }
            },
            "type": "scattergeo"
           }
          ],
          "scattergl": [
           {
            "marker": {
             "colorbar": {
              "outlinewidth": 0,
              "ticks": ""
             }
            },
            "type": "scattergl"
           }
          ],
          "scattermapbox": [
           {
            "marker": {
             "colorbar": {
              "outlinewidth": 0,
              "ticks": ""
             }
            },
            "type": "scattermapbox"
           }
          ],
          "scatterpolar": [
           {
            "marker": {
             "colorbar": {
              "outlinewidth": 0,
              "ticks": ""
             }
            },
            "type": "scatterpolar"
           }
          ],
          "scatterpolargl": [
           {
            "marker": {
             "colorbar": {
              "outlinewidth": 0,
              "ticks": ""
             }
            },
            "type": "scatterpolargl"
           }
          ],
          "scatterternary": [
           {
            "marker": {
             "colorbar": {
              "outlinewidth": 0,
              "ticks": ""
             }
            },
            "type": "scatterternary"
           }
          ],
          "surface": [
           {
            "colorbar": {
             "outlinewidth": 0,
             "ticks": ""
            },
            "colorscale": [
             [
              0,
              "#0d0887"
             ],
             [
              0.1111111111111111,
              "#46039f"
             ],
             [
              0.2222222222222222,
              "#7201a8"
             ],
             [
              0.3333333333333333,
              "#9c179e"
             ],
             [
              0.4444444444444444,
              "#bd3786"
             ],
             [
              0.5555555555555556,
              "#d8576b"
             ],
             [
              0.6666666666666666,
              "#ed7953"
             ],
             [
              0.7777777777777778,
              "#fb9f3a"
             ],
             [
              0.8888888888888888,
              "#fdca26"
             ],
             [
              1,
              "#f0f921"
             ]
            ],
            "type": "surface"
           }
          ],
          "table": [
           {
            "cells": {
             "fill": {
              "color": "#EBF0F8"
             },
             "line": {
              "color": "white"
             }
            },
            "header": {
             "fill": {
              "color": "#C8D4E3"
             },
             "line": {
              "color": "white"
             }
            },
            "type": "table"
           }
          ]
         },
         "layout": {
          "annotationdefaults": {
           "arrowcolor": "#2a3f5f",
           "arrowhead": 0,
           "arrowwidth": 1
          },
          "autotypenumbers": "strict",
          "coloraxis": {
           "colorbar": {
            "outlinewidth": 0,
            "ticks": ""
           }
          },
          "colorscale": {
           "diverging": [
            [
             0,
             "#8e0152"
            ],
            [
             0.1,
             "#c51b7d"
            ],
            [
             0.2,
             "#de77ae"
            ],
            [
             0.3,
             "#f1b6da"
            ],
            [
             0.4,
             "#fde0ef"
            ],
            [
             0.5,
             "#f7f7f7"
            ],
            [
             0.6,
             "#e6f5d0"
            ],
            [
             0.7,
             "#b8e186"
            ],
            [
             0.8,
             "#7fbc41"
            ],
            [
             0.9,
             "#4d9221"
            ],
            [
             1,
             "#276419"
            ]
           ],
           "sequential": [
            [
             0,
             "#0d0887"
            ],
            [
             0.1111111111111111,
             "#46039f"
            ],
            [
             0.2222222222222222,
             "#7201a8"
            ],
            [
             0.3333333333333333,
             "#9c179e"
            ],
            [
             0.4444444444444444,
             "#bd3786"
            ],
            [
             0.5555555555555556,
             "#d8576b"
            ],
            [
             0.6666666666666666,
             "#ed7953"
            ],
            [
             0.7777777777777778,
             "#fb9f3a"
            ],
            [
             0.8888888888888888,
             "#fdca26"
            ],
            [
             1,
             "#f0f921"
            ]
           ],
           "sequentialminus": [
            [
             0,
             "#0d0887"
            ],
            [
             0.1111111111111111,
             "#46039f"
            ],
            [
             0.2222222222222222,
             "#7201a8"
            ],
            [
             0.3333333333333333,
             "#9c179e"
            ],
            [
             0.4444444444444444,
             "#bd3786"
            ],
            [
             0.5555555555555556,
             "#d8576b"
            ],
            [
             0.6666666666666666,
             "#ed7953"
            ],
            [
             0.7777777777777778,
             "#fb9f3a"
            ],
            [
             0.8888888888888888,
             "#fdca26"
            ],
            [
             1,
             "#f0f921"
            ]
           ]
          },
          "colorway": [
           "#636efa",
           "#EF553B",
           "#00cc96",
           "#ab63fa",
           "#FFA15A",
           "#19d3f3",
           "#FF6692",
           "#B6E880",
           "#FF97FF",
           "#FECB52"
          ],
          "font": {
           "color": "#2a3f5f"
          },
          "geo": {
           "bgcolor": "white",
           "lakecolor": "white",
           "landcolor": "#E5ECF6",
           "showlakes": true,
           "showland": true,
           "subunitcolor": "white"
          },
          "hoverlabel": {
           "align": "left"
          },
          "hovermode": "closest",
          "mapbox": {
           "style": "light"
          },
          "paper_bgcolor": "white",
          "plot_bgcolor": "#E5ECF6",
          "polar": {
           "angularaxis": {
            "gridcolor": "white",
            "linecolor": "white",
            "ticks": ""
           },
           "bgcolor": "#E5ECF6",
           "radialaxis": {
            "gridcolor": "white",
            "linecolor": "white",
            "ticks": ""
           }
          },
          "scene": {
           "xaxis": {
            "backgroundcolor": "#E5ECF6",
            "gridcolor": "white",
            "gridwidth": 2,
            "linecolor": "white",
            "showbackground": true,
            "ticks": "",
            "zerolinecolor": "white"
           },
           "yaxis": {
            "backgroundcolor": "#E5ECF6",
            "gridcolor": "white",
            "gridwidth": 2,
            "linecolor": "white",
            "showbackground": true,
            "ticks": "",
            "zerolinecolor": "white"
           },
           "zaxis": {
            "backgroundcolor": "#E5ECF6",
            "gridcolor": "white",
            "gridwidth": 2,
            "linecolor": "white",
            "showbackground": true,
            "ticks": "",
            "zerolinecolor": "white"
           }
          },
          "shapedefaults": {
           "line": {
            "color": "#2a3f5f"
           }
          },
          "ternary": {
           "aaxis": {
            "gridcolor": "white",
            "linecolor": "white",
            "ticks": ""
           },
           "baxis": {
            "gridcolor": "white",
            "linecolor": "white",
            "ticks": ""
           },
           "bgcolor": "#E5ECF6",
           "caxis": {
            "gridcolor": "white",
            "linecolor": "white",
            "ticks": ""
           }
          },
          "title": {
           "x": 0.05
          },
          "xaxis": {
           "automargin": true,
           "gridcolor": "white",
           "linecolor": "white",
           "ticks": "",
           "title": {
            "standoff": 15
           },
           "zerolinecolor": "white",
           "zerolinewidth": 2
          },
          "yaxis": {
           "automargin": true,
           "gridcolor": "white",
           "linecolor": "white",
           "ticks": "",
           "title": {
            "standoff": 15
           },
           "zerolinecolor": "white",
           "zerolinewidth": 2
          }
         }
        },
        "title": {
         "font": {
          "color": "black",
          "family": "Helvetica",
          "size": 15
         }
        },
        "width": 800,
        "xaxis": {
         "anchor": "y",
         "categoryarray": [
          "Fetched from online repository",
          "Reads > 500 and S/N > 1",
          "AUROC",
          "BLAST",
          "Duplicates",
          "Non-ACGU characters",
          "Sequences below 10nt",
          "No structure",
          "Redundancy across databases"
         ],
         "categoryorder": "array",
         "domain": [
          0,
          1
         ],
         "gridcolor": "lightgrey",
         "gridwidth": 1,
         "linecolor": "black",
         "linewidth": 1,
         "mirror": true,
         "showgrid": true,
         "showline": true,
         "title": {
          "text": "Data curation stage"
         }
        },
        "yaxis": {
         "anchor": "x",
         "domain": [
          0,
          1
         ],
         "linecolor": "black",
         "linewidth": 1,
         "mirror": true,
         "showline": true,
         "title": {
          "text": "Count of sequences"
         },
         "type": "log"
        }
       }
      }
     },
     "metadata": {},
     "output_type": "display_data"
    }
   ],
   "source": [
    "\n",
    "df_expanded = []\n",
    "\n",
    "for dataset, row in df.iterrows():\n",
    "    for stage in row.index:\n",
    "        if stage == 'Fetched from online repository':\n",
    "            val = row[stage]  \n",
    "        elif stage == 'Redundancy across databases':\n",
    "            val = row[stage]\n",
    "        else:\n",
    "            val = val - row[stage]\n",
    "        df_expanded.append([dataset, stage, val])\n",
    "        \n",
    "        \n",
    "df_expanded = pd.DataFrame(df_expanded, columns=['Dataset', 'Stage', 'Count'])\n",
    "\n",
    "df_expanded = pd.concat([df_expanded, pd.DataFrame(\n",
    "    {\n",
    "        'Dataset': 'Multi-databases',\n",
    "        'Stage': ['No structure', 'Redundancy across databases'],\n",
    "        'Count': [0, n_redundant_sequences:=161991 - df_expanded[df_expanded['Stage'] == 'Redundancy across databases']['Count'].sum()]\n",
    "    }, \n",
    "    index=[10, 11]\n",
    ")])\n",
    "\n",
    "df_expanded.sort_index(inplace=True)\n",
    "\n",
    "\n",
    "fig = px.area(df_expanded, x=\"Stage\", y=\"Count\", color=\"Dataset\", log_y=1, title='', category_orders={'Stage': df.columns.tolist()}, line_shape=None,\n",
    "    # make ribonanza patterned\n",
    "    pattern_shape='Dataset',\n",
    "    pattern_shape_map={**{dataset: None for dataset in df.index}, **{'Ribonanza': 'x', 'Multi-databases': None}},\n",
    "    # pattern shape legend\n",
    "\n",
    "    \n",
    ")\n",
    "# fig.update_layout(\n",
    "#     legend=dict(    \n",
    "#         orientation=\"h\",\n",
    "#         yanchor=\"bottom\",\n",
    "#         y=1.02,\n",
    "#         xanchor=\"right\",\n",
    "#         x=1\n",
    "#     )\n",
    "# )\n",
    "\n",
    "fig.update_xaxes(title_text='Data curation stage')\n",
    "fig.update_yaxes(title_text='Count of sequences')\n",
    "\n",
    "# add annotations\n",
    "# add count of sequences per dataset at the beginning and end of each line\n",
    "import numpy as np\n",
    "\n",
    "def add_annotation(fig, dataset, count, position, yshift=0, xanchor='right'):\n",
    "    fig.add_annotation(x=position, y=np.log10(count), text=dataset + ' (N ={:,})'.format(count), showarrow=False, yshift=yshift, xanchor=xanchor, font=dict(size=12))\n",
    "\n",
    "# add start\n",
    "yshift_start = {'zuber': -27, 'archiveII': -5, 'bpRNA': -5, 'RNAstralign': -20, 'Ribonanza': -20, 'Multi-databases': 0}\n",
    "for dataset in df.index:\n",
    "    add_annotation(fig, dataset, df.loc[dataset, df.columns[0]], df.columns[0], yshift=yshift_start[dataset], xanchor='left')\n",
    "\n",
    "yshift_end = {'zuber': -10, 'archiveII': -13, 'bpRNA': 13, 'RNAstralign': -15, 'Ribonanza': 4, 'Multi-databases': -10}\n",
    "for dataset in df.index:\n",
    "    if dataset == 'bpRNA':\n",
    "        continue\n",
    "    add_annotation(fig, dataset, df.loc[dataset, df.columns[-1]], df.columns[-1], yshift=yshift_end[dataset], xanchor='left')\n",
    "add_annotation(fig, 'bpRNA90', df.loc['bpRNA', df.columns[-1]], df.columns[-1], yshift=yshift_end['bpRNA'], xanchor='left')\n",
    "add_annotation(fig, 'Multi-databases', n_redundant_sequences, df.columns[-1], yshift=yshift_end['Multi-databases'], xanchor='left')\n",
    "\n",
    "# add total\n",
    "add_annotation(fig, 'Total',  df[df.columns[-1]].sum(), df.columns[-1], yshift=20, xanchor='left')\n",
    "add_annotation(fig, 'Total',  df[df.columns[0]].sum(), df.columns[0], yshift=20, xanchor='left')\n",
    "\n",
    "fig.update_layout(\n",
    "    height=500,\n",
    "    width=800,\n",
    ")\n",
    "\n",
    "# make legend horizontal\n",
    "fig.update_layout(\n",
    "    legend=dict(\n",
    "        orientation=\"h\",\n",
    "        yanchor=\"bottom\",\n",
    "        y=1.02,\n",
    "        xanchor=\"right\",\n",
    "        x=1\n",
    "    )\n",
    ")\n",
    "\n",
    "# make background transparent\n",
    "fig.update_layout(\n",
    "    plot_bgcolor='rgba(0,0,0,0)',\n",
    "    # paper_bgcolor='white',\n",
    ")\n",
    "# add a grid\n",
    "fig.update_xaxes(showgrid=True, gridwidth=1, gridcolor='lightgrey')\n",
    "\n",
    "# add a frame\n",
    "fig.update_layout(\n",
    "    xaxis=dict(\n",
    "        showline=True,\n",
    "        linewidth=1,\n",
    "        linecolor='black',\n",
    "        mirror=True,\n",
    "    ),\n",
    "    yaxis=dict(\n",
    "        showline=True,\n",
    "        linewidth=1,\n",
    "        linecolor='black',\n",
    "        mirror=True,\n",
    "    )\n",
    ")\n",
    "\n",
    "# set everything to helvetica\n",
    "fig.update_layout(\n",
    "    font_family=\"Helvetica\",\n",
    "    font_color=\"black\",\n",
    "    title_font_family=\"Helvetica\",\n",
    "    title_font_color=\"black\",\n",
    "    legend_title_font_color=\"black\",\n",
    "    # size\n",
    "    font_size=15,\n",
    "    title_font_size=15,\n",
    "    legend_title_font_size=15,\n",
    ")\n",
    "\n",
    "fig.show()\n",
    "\n",
    "import plotly.io as pio\n",
    "pio.write_image(fig, 'images/S3/data_curation_stats_log.pdf')#, width=800, height=600)"
   ]
  },
  {
   "cell_type": "code",
   "execution_count": 69,
   "metadata": {},
   "outputs": [
    {
     "data": {
      "text/html": [
       "<div>\n",
       "<style scoped>\n",
       "    .dataframe tbody tr th:only-of-type {\n",
       "        vertical-align: middle;\n",
       "    }\n",
       "\n",
       "    .dataframe tbody tr th {\n",
       "        vertical-align: top;\n",
       "    }\n",
       "\n",
       "    .dataframe thead th {\n",
       "        text-align: right;\n",
       "    }\n",
       "</style>\n",
       "<table border=\"1\" class=\"dataframe\">\n",
       "  <thead>\n",
       "    <tr style=\"text-align: right;\">\n",
       "      <th></th>\n",
       "      <th>Fetched from online repository</th>\n",
       "      <th>Reads &lt; 3'000</th>\n",
       "      <th>No abnormally high mutations</th>\n",
       "      <th>Coverage &gt; 3000</th>\n",
       "      <th>Unique sequences</th>\n",
       "      <th>Replicate R2 &gt; 0.8</th>\n",
       "      <th>AUROC &gt; 0.8</th>\n",
       "    </tr>\n",
       "    <tr>\n",
       "      <th>Dataset</th>\n",
       "      <th></th>\n",
       "      <th></th>\n",
       "      <th></th>\n",
       "      <th></th>\n",
       "      <th></th>\n",
       "      <th></th>\n",
       "      <th></th>\n",
       "    </tr>\n",
       "  </thead>\n",
       "  <tbody>\n",
       "    <tr>\n",
       "      <th>Human mRNA</th>\n",
       "      <td>7115</td>\n",
       "      <td>4502</td>\n",
       "      <td>3848</td>\n",
       "      <td>2929</td>\n",
       "      <td>1523</td>\n",
       "      <td>1503</td>\n",
       "      <td>1456</td>\n",
       "    </tr>\n",
       "    <tr>\n",
       "      <th>Pri-miRNA</th>\n",
       "      <td>2516</td>\n",
       "      <td>2179</td>\n",
       "      <td>2179</td>\n",
       "      <td>2178</td>\n",
       "      <td>1107</td>\n",
       "      <td>1107</td>\n",
       "      <td>1105</td>\n",
       "    </tr>\n",
       "  </tbody>\n",
       "</table>\n",
       "</div>"
      ],
      "text/plain": [
       "            Fetched from online repository  Reads < 3'000  \\\n",
       "Dataset                                                     \n",
       "Human mRNA                            7115           4502   \n",
       "Pri-miRNA                             2516           2179   \n",
       "\n",
       "            No abnormally high mutations  Coverage > 3000  Unique sequences  \\\n",
       "Dataset                                                                       \n",
       "Human mRNA                          3848             2929              1523   \n",
       "Pri-miRNA                           2179             2178              1107   \n",
       "\n",
       "            Replicate R2 > 0.8  AUROC > 0.8  \n",
       "Dataset                                      \n",
       "Human mRNA                1503         1456  \n",
       "Pri-miRNA                 1107         1105  "
      ]
     },
     "execution_count": 69,
     "metadata": {},
     "output_type": "execute_result"
    }
   ],
   "source": [
    "import pandas as pd\n",
    "import plotly.express as px\n",
    "\n",
    "df = pd.read_csv('saved_data_plot/data_curation_stats_test.csv').set_index('Dataset')\n",
    "df\n"
   ]
  },
  {
   "cell_type": "code",
   "execution_count": null,
   "metadata": {},
   "outputs": [
    {
     "data": {
      "application/vnd.plotly.v1+json": {
       "config": {
        "plotlyServerURL": "https://plot.ly"
       },
       "data": [
        {
         "marker": {
          "color": "#EF553B"
         },
         "name": "pri-miRNA",
         "text": [
          2516,
          2179,
          2179,
          2178,
          1107,
          1107,
          1105
         ],
         "textposition": "outside",
         "type": "bar",
         "x": [
          "Fetched from online repository",
          "Reads < 3'000",
          "No abnormally high mutations",
          "Coverage > 3000",
          "Unique sequences",
          "Replicate R2 > 0.8",
          "AUROC > 0.8"
         ],
         "y": [
          2516,
          2179,
          2179,
          2178,
          1107,
          1107,
          1105
         ]
        },
        {
         "marker": {
          "color": "#00CC96"
         },
         "name": "mRNA",
         "text": [
          7115,
          4502,
          3848,
          2929,
          1523,
          1503,
          1456
         ],
         "textposition": "outside",
         "type": "bar",
         "x": [
          "Fetched from online repository",
          "Reads < 3'000",
          "No abnormally high mutations",
          "Coverage > 3000",
          "Unique sequences",
          "Replicate R2 > 0.8",
          "AUROC > 0.8"
         ],
         "y": [
          7115,
          4502,
          3848,
          2929,
          1523,
          1503,
          1456
         ]
        }
       ],
       "layout": {
        "font": {
         "family": "Times New Roman",
         "size": 20
        },
        "height": 500,
        "legend": {
         "orientation": "h",
         "x": 1,
         "xanchor": "right",
         "y": 0.82,
         "yanchor": "bottom"
        },
        "template": {
         "data": {
          "bar": [
           {
            "error_x": {
             "color": "#2a3f5f"
            },
            "error_y": {
             "color": "#2a3f5f"
            },
            "marker": {
             "line": {
              "color": "white",
              "width": 0.5
             },
             "pattern": {
              "fillmode": "overlay",
              "size": 10,
              "solidity": 0.2
             }
            },
            "type": "bar"
           }
          ],
          "barpolar": [
           {
            "marker": {
             "line": {
              "color": "white",
              "width": 0.5
             },
             "pattern": {
              "fillmode": "overlay",
              "size": 10,
              "solidity": 0.2
             }
            },
            "type": "barpolar"
           }
          ],
          "carpet": [
           {
            "aaxis": {
             "endlinecolor": "#2a3f5f",
             "gridcolor": "#C8D4E3",
             "linecolor": "#C8D4E3",
             "minorgridcolor": "#C8D4E3",
             "startlinecolor": "#2a3f5f"
            },
            "baxis": {
             "endlinecolor": "#2a3f5f",
             "gridcolor": "#C8D4E3",
             "linecolor": "#C8D4E3",
             "minorgridcolor": "#C8D4E3",
             "startlinecolor": "#2a3f5f"
            },
            "type": "carpet"
           }
          ],
          "choropleth": [
           {
            "colorbar": {
             "outlinewidth": 0,
             "ticks": ""
            },
            "type": "choropleth"
           }
          ],
          "contour": [
           {
            "colorbar": {
             "outlinewidth": 0,
             "ticks": ""
            },
            "colorscale": [
             [
              0,
              "#0d0887"
             ],
             [
              0.1111111111111111,
              "#46039f"
             ],
             [
              0.2222222222222222,
              "#7201a8"
             ],
             [
              0.3333333333333333,
              "#9c179e"
             ],
             [
              0.4444444444444444,
              "#bd3786"
             ],
             [
              0.5555555555555556,
              "#d8576b"
             ],
             [
              0.6666666666666666,
              "#ed7953"
             ],
             [
              0.7777777777777778,
              "#fb9f3a"
             ],
             [
              0.8888888888888888,
              "#fdca26"
             ],
             [
              1,
              "#f0f921"
             ]
            ],
            "type": "contour"
           }
          ],
          "contourcarpet": [
           {
            "colorbar": {
             "outlinewidth": 0,
             "ticks": ""
            },
            "type": "contourcarpet"
           }
          ],
          "heatmap": [
           {
            "colorbar": {
             "outlinewidth": 0,
             "ticks": ""
            },
            "colorscale": [
             [
              0,
              "#0d0887"
             ],
             [
              0.1111111111111111,
              "#46039f"
             ],
             [
              0.2222222222222222,
              "#7201a8"
             ],
             [
              0.3333333333333333,
              "#9c179e"
             ],
             [
              0.4444444444444444,
              "#bd3786"
             ],
             [
              0.5555555555555556,
              "#d8576b"
             ],
             [
              0.6666666666666666,
              "#ed7953"
             ],
             [
              0.7777777777777778,
              "#fb9f3a"
             ],
             [
              0.8888888888888888,
              "#fdca26"
             ],
             [
              1,
              "#f0f921"
             ]
            ],
            "type": "heatmap"
           }
          ],
          "heatmapgl": [
           {
            "colorbar": {
             "outlinewidth": 0,
             "ticks": ""
            },
            "colorscale": [
             [
              0,
              "#0d0887"
             ],
             [
              0.1111111111111111,
              "#46039f"
             ],
             [
              0.2222222222222222,
              "#7201a8"
             ],
             [
              0.3333333333333333,
              "#9c179e"
             ],
             [
              0.4444444444444444,
              "#bd3786"
             ],
             [
              0.5555555555555556,
              "#d8576b"
             ],
             [
              0.6666666666666666,
              "#ed7953"
             ],
             [
              0.7777777777777778,
              "#fb9f3a"
             ],
             [
              0.8888888888888888,
              "#fdca26"
             ],
             [
              1,
              "#f0f921"
             ]
            ],
            "type": "heatmapgl"
           }
          ],
          "histogram": [
           {
            "marker": {
             "pattern": {
              "fillmode": "overlay",
              "size": 10,
              "solidity": 0.2
             }
            },
            "type": "histogram"
           }
          ],
          "histogram2d": [
           {
            "colorbar": {
             "outlinewidth": 0,
             "ticks": ""
            },
            "colorscale": [
             [
              0,
              "#0d0887"
             ],
             [
              0.1111111111111111,
              "#46039f"
             ],
             [
              0.2222222222222222,
              "#7201a8"
             ],
             [
              0.3333333333333333,
              "#9c179e"
             ],
             [
              0.4444444444444444,
              "#bd3786"
             ],
             [
              0.5555555555555556,
              "#d8576b"
             ],
             [
              0.6666666666666666,
              "#ed7953"
             ],
             [
              0.7777777777777778,
              "#fb9f3a"
             ],
             [
              0.8888888888888888,
              "#fdca26"
             ],
             [
              1,
              "#f0f921"
             ]
            ],
            "type": "histogram2d"
           }
          ],
          "histogram2dcontour": [
           {
            "colorbar": {
             "outlinewidth": 0,
             "ticks": ""
            },
            "colorscale": [
             [
              0,
              "#0d0887"
             ],
             [
              0.1111111111111111,
              "#46039f"
             ],
             [
              0.2222222222222222,
              "#7201a8"
             ],
             [
              0.3333333333333333,
              "#9c179e"
             ],
             [
              0.4444444444444444,
              "#bd3786"
             ],
             [
              0.5555555555555556,
              "#d8576b"
             ],
             [
              0.6666666666666666,
              "#ed7953"
             ],
             [
              0.7777777777777778,
              "#fb9f3a"
             ],
             [
              0.8888888888888888,
              "#fdca26"
             ],
             [
              1,
              "#f0f921"
             ]
            ],
            "type": "histogram2dcontour"
           }
          ],
          "mesh3d": [
           {
            "colorbar": {
             "outlinewidth": 0,
             "ticks": ""
            },
            "type": "mesh3d"
           }
          ],
          "parcoords": [
           {
            "line": {
             "colorbar": {
              "outlinewidth": 0,
              "ticks": ""
             }
            },
            "type": "parcoords"
           }
          ],
          "pie": [
           {
            "automargin": true,
            "type": "pie"
           }
          ],
          "scatter": [
           {
            "fillpattern": {
             "fillmode": "overlay",
             "size": 10,
             "solidity": 0.2
            },
            "type": "scatter"
           }
          ],
          "scatter3d": [
           {
            "line": {
             "colorbar": {
              "outlinewidth": 0,
              "ticks": ""
             }
            },
            "marker": {
             "colorbar": {
              "outlinewidth": 0,
              "ticks": ""
             }
            },
            "type": "scatter3d"
           }
          ],
          "scattercarpet": [
           {
            "marker": {
             "colorbar": {
              "outlinewidth": 0,
              "ticks": ""
             }
            },
            "type": "scattercarpet"
           }
          ],
          "scattergeo": [
           {
            "marker": {
             "colorbar": {
              "outlinewidth": 0,
              "ticks": ""
             }
            },
            "type": "scattergeo"
           }
          ],
          "scattergl": [
           {
            "marker": {
             "colorbar": {
              "outlinewidth": 0,
              "ticks": ""
             }
            },
            "type": "scattergl"
           }
          ],
          "scattermapbox": [
           {
            "marker": {
             "colorbar": {
              "outlinewidth": 0,
              "ticks": ""
             }
            },
            "type": "scattermapbox"
           }
          ],
          "scatterpolar": [
           {
            "marker": {
             "colorbar": {
              "outlinewidth": 0,
              "ticks": ""
             }
            },
            "type": "scatterpolar"
           }
          ],
          "scatterpolargl": [
           {
            "marker": {
             "colorbar": {
              "outlinewidth": 0,
              "ticks": ""
             }
            },
            "type": "scatterpolargl"
           }
          ],
          "scatterternary": [
           {
            "marker": {
             "colorbar": {
              "outlinewidth": 0,
              "ticks": ""
             }
            },
            "type": "scatterternary"
           }
          ],
          "surface": [
           {
            "colorbar": {
             "outlinewidth": 0,
             "ticks": ""
            },
            "colorscale": [
             [
              0,
              "#0d0887"
             ],
             [
              0.1111111111111111,
              "#46039f"
             ],
             [
              0.2222222222222222,
              "#7201a8"
             ],
             [
              0.3333333333333333,
              "#9c179e"
             ],
             [
              0.4444444444444444,
              "#bd3786"
             ],
             [
              0.5555555555555556,
              "#d8576b"
             ],
             [
              0.6666666666666666,
              "#ed7953"
             ],
             [
              0.7777777777777778,
              "#fb9f3a"
             ],
             [
              0.8888888888888888,
              "#fdca26"
             ],
             [
              1,
              "#f0f921"
             ]
            ],
            "type": "surface"
           }
          ],
          "table": [
           {
            "cells": {
             "fill": {
              "color": "#EBF0F8"
             },
             "line": {
              "color": "white"
             }
            },
            "header": {
             "fill": {
              "color": "#C8D4E3"
             },
             "line": {
              "color": "white"
             }
            },
            "type": "table"
           }
          ]
         },
         "layout": {
          "annotationdefaults": {
           "arrowcolor": "#2a3f5f",
           "arrowhead": 0,
           "arrowwidth": 1
          },
          "autotypenumbers": "strict",
          "coloraxis": {
           "colorbar": {
            "outlinewidth": 0,
            "ticks": ""
           }
          },
          "colorscale": {
           "diverging": [
            [
             0,
             "#8e0152"
            ],
            [
             0.1,
             "#c51b7d"
            ],
            [
             0.2,
             "#de77ae"
            ],
            [
             0.3,
             "#f1b6da"
            ],
            [
             0.4,
             "#fde0ef"
            ],
            [
             0.5,
             "#f7f7f7"
            ],
            [
             0.6,
             "#e6f5d0"
            ],
            [
             0.7,
             "#b8e186"
            ],
            [
             0.8,
             "#7fbc41"
            ],
            [
             0.9,
             "#4d9221"
            ],
            [
             1,
             "#276419"
            ]
           ],
           "sequential": [
            [
             0,
             "#0d0887"
            ],
            [
             0.1111111111111111,
             "#46039f"
            ],
            [
             0.2222222222222222,
             "#7201a8"
            ],
            [
             0.3333333333333333,
             "#9c179e"
            ],
            [
             0.4444444444444444,
             "#bd3786"
            ],
            [
             0.5555555555555556,
             "#d8576b"
            ],
            [
             0.6666666666666666,
             "#ed7953"
            ],
            [
             0.7777777777777778,
             "#fb9f3a"
            ],
            [
             0.8888888888888888,
             "#fdca26"
            ],
            [
             1,
             "#f0f921"
            ]
           ],
           "sequentialminus": [
            [
             0,
             "#0d0887"
            ],
            [
             0.1111111111111111,
             "#46039f"
            ],
            [
             0.2222222222222222,
             "#7201a8"
            ],
            [
             0.3333333333333333,
             "#9c179e"
            ],
            [
             0.4444444444444444,
             "#bd3786"
            ],
            [
             0.5555555555555556,
             "#d8576b"
            ],
            [
             0.6666666666666666,
             "#ed7953"
            ],
            [
             0.7777777777777778,
             "#fb9f3a"
            ],
            [
             0.8888888888888888,
             "#fdca26"
            ],
            [
             1,
             "#f0f921"
            ]
           ]
          },
          "colorway": [
           "#636efa",
           "#EF553B",
           "#00cc96",
           "#ab63fa",
           "#FFA15A",
           "#19d3f3",
           "#FF6692",
           "#B6E880",
           "#FF97FF",
           "#FECB52"
          ],
          "font": {
           "color": "#2a3f5f"
          },
          "geo": {
           "bgcolor": "white",
           "lakecolor": "white",
           "landcolor": "white",
           "showlakes": true,
           "showland": true,
           "subunitcolor": "#C8D4E3"
          },
          "hoverlabel": {
           "align": "left"
          },
          "hovermode": "closest",
          "mapbox": {
           "style": "light"
          },
          "paper_bgcolor": "white",
          "plot_bgcolor": "white",
          "polar": {
           "angularaxis": {
            "gridcolor": "#EBF0F8",
            "linecolor": "#EBF0F8",
            "ticks": ""
           },
           "bgcolor": "white",
           "radialaxis": {
            "gridcolor": "#EBF0F8",
            "linecolor": "#EBF0F8",
            "ticks": ""
           }
          },
          "scene": {
           "xaxis": {
            "backgroundcolor": "white",
            "gridcolor": "#DFE8F3",
            "gridwidth": 2,
            "linecolor": "#EBF0F8",
            "showbackground": true,
            "ticks": "",
            "zerolinecolor": "#EBF0F8"
           },
           "yaxis": {
            "backgroundcolor": "white",
            "gridcolor": "#DFE8F3",
            "gridwidth": 2,
            "linecolor": "#EBF0F8",
            "showbackground": true,
            "ticks": "",
            "zerolinecolor": "#EBF0F8"
           },
           "zaxis": {
            "backgroundcolor": "white",
            "gridcolor": "#DFE8F3",
            "gridwidth": 2,
            "linecolor": "#EBF0F8",
            "showbackground": true,
            "ticks": "",
            "zerolinecolor": "#EBF0F8"
           }
          },
          "shapedefaults": {
           "line": {
            "color": "#2a3f5f"
           }
          },
          "ternary": {
           "aaxis": {
            "gridcolor": "#DFE8F3",
            "linecolor": "#A2B1C6",
            "ticks": ""
           },
           "baxis": {
            "gridcolor": "#DFE8F3",
            "linecolor": "#A2B1C6",
            "ticks": ""
           },
           "bgcolor": "white",
           "caxis": {
            "gridcolor": "#DFE8F3",
            "linecolor": "#A2B1C6",
            "ticks": ""
           }
          },
          "title": {
           "x": 0.05
          },
          "xaxis": {
           "automargin": true,
           "gridcolor": "#EBF0F8",
           "linecolor": "#EBF0F8",
           "ticks": "",
           "title": {
            "standoff": 15
           },
           "zerolinecolor": "#EBF0F8",
           "zerolinewidth": 2
          },
          "yaxis": {
           "automargin": true,
           "gridcolor": "#EBF0F8",
           "linecolor": "#EBF0F8",
           "ticks": "",
           "title": {
            "standoff": 15
           },
           "zerolinecolor": "#EBF0F8",
           "zerolinewidth": 2
          }
         }
        },
        "width": 1000,
        "xaxis": {
         "title": {
          "text": "Data curation stage"
         }
        },
        "yaxis": {
         "range": [
          0,
          8538
         ],
         "showgrid": false,
         "title": {
          "text": "Count of sequences"
         }
        }
       }
      }
     },
     "metadata": {},
     "output_type": "display_data"
    }
   ],
   "source": [
    "import plotly.graph_objects as go\n",
    "import plotly\n",
    "\n",
    "colors = plotly.colors.qualitative.Plotly\n",
    "\n",
    "fig = go.Figure()\n",
    "# show the count of sequences at each stage\n",
    "fig.add_trace(go.Bar(x=df.columns, y=df.loc['Pri-miRNA'], name='pri-miRNA', marker_color=colors[1], text=df.loc['Pri-miRNA'], textposition='outside'))\n",
    "fig.add_trace(go.Bar(x=df.columns, y=df.loc['Human mRNA'], name='mRNA', marker_color=colors[2], text=df.loc['Human mRNA'], textposition='outside'))\n",
    "fig.update_layout(xaxis_title='Data curation stage', yaxis_title='Count of sequences')\n",
    "fig.update_layout(template='plotly_white', font=dict(size=20, family='Times New Roman'))\n",
    "# remove horizontal grid lines\n",
    "fig.update_yaxes(showgrid=False)\n",
    "# place the legend inside the plot\n",
    "fig.update_layout(legend=dict(\n",
    "    orientation=\"h\",\n",
    "    yanchor=\"bottom\",\n",
    "    y=.82,\n",
    "    xanchor=\"right\",\n",
    "    x=1\n",
    "))\n",
    "# increase the y axis range\n",
    "fig.update_layout(yaxis=dict(range=[0, 1.2*df.max().max()]))\n",
    "fig.update_layout(height=500, width=1000)\n",
    "# save as high resolution png\n",
    "fig.write_image('images/S3/data_curation_stats.png', scale=5)\n",
    "fig.show()"
   ]
  }
 ],
 "metadata": {
  "kernelspec": {
   "display_name": "Python 3",
   "language": "python",
   "name": "python3"
  },
  "language_info": {
   "codemirror_mode": {
    "name": "ipython",
    "version": 3
   },
   "file_extension": ".py",
   "mimetype": "text/x-python",
   "name": "python",
   "nbconvert_exporter": "python",
   "pygments_lexer": "ipython3",
   "version": "3.11.6"
  }
 },
 "nbformat": 4,
 "nbformat_minor": 2
}

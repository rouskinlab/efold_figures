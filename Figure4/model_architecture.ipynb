{
 "cells": [
  {
   "cell_type": "markdown",
   "metadata": {},
   "source": [
    "## Schematic of the model architecture\n",
    "\n",
    "For the Evoformer: show high level schematic:\n",
    "- Embedding of input\n",
    "- High level view of the Evoformer block (like [here](https://www.researchgate.net/figure/Architectural-details-a-Evoformer-block-Arrows-show-the-information-flow-The-shape-of_fig3_353275939) )\n",
    "- The three heads (MLP for DMS/SHAPE, Resnet for structure)\n",
    "\n",
    "**Assigned to**: Colin"
   ]
  },
  {
   "cell_type": "code",
   "execution_count": null,
   "metadata": {},
   "outputs": [],
   "source": []
  }
 ],
 "metadata": {
  "language_info": {
   "name": "python"
  }
 },
 "nbformat": 4,
 "nbformat_minor": 2
}

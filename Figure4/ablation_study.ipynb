{
 "cells": [
  {
   "cell_type": "markdown",
   "metadata": {},
   "source": [
    "## Ablation study of our final best model, on structure prediction\n",
    "\n",
    "Show performance difference (Delta of F1 score) of different versions of our model, vs our best model (baseline, ∆F1=0)\n",
    "\n",
    "- Is pretraining useful (Ribo, ArchiveII, bpRNA, RNAstralign, zuber, synthetic)\n",
    "- Is finetuning useful (UTR, pri-miRNA, human_mRNA fragments?)\n",
    "- Is training on everything at once better ?\n",
    "- Is is useful to have a SHAPE/DMS head ?\n",
    "- Pearson loss for SHAPE/DMS vs MSE\n",
    "- model architecture (Evoformer, Transformer, CNN)\n",
    "\n",
    "The test set could be a weighted average of the tree standard set (PDB, viral_fragments, lncRNA) if there is no outliers\n",
    "\n",
    "\n",
    "**Assigned to**: Alberic\n",
    "\n",
    "Use Ploty, and a white background"
   ]
  },
  {
   "cell_type": "code",
   "execution_count": null,
   "metadata": {},
   "outputs": [],
   "source": []
  }
 ],
 "metadata": {
  "language_info": {
   "name": "python"
  }
 },
 "nbformat": 4,
 "nbformat_minor": 2
}

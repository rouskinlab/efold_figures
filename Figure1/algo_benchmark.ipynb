{
 "cells": [
  {
   "cell_type": "markdown",
   "metadata": {},
   "source": [
    "## Benchmark different algos on different test sets, for structure prediction\n",
    "\n",
    "One violin plot with the three test sets (PDB, lncRNA, viral_fragments) for each algorithm (RNAstructure, EternaFold, MxFold2, Ufold). \n",
    "\n",
    "Group by algorithm.\n",
    "Colored by test set\n",
    "\n",
    "**Assigned to**: Alberic\n",
    "\n",
    "Use Ploty, and a white background"
   ]
  },
  {
   "cell_type": "code",
   "execution_count": null,
   "metadata": {},
   "outputs": [],
   "source": []
  }
 ],
 "metadata": {
  "language_info": {
   "name": "python"
  }
 },
 "nbformat": 4,
 "nbformat_minor": 2
}

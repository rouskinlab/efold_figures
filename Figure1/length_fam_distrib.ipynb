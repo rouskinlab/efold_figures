{
 "cells": [
  {
   "cell_type": "markdown",
   "metadata": {},
   "source": [
    "## Characterize the length and family distributions of commonly used databases\n",
    "\n",
    "We need a subplot with one database per column: PDB, bpRNA, and RNAStralign\n",
    "- On the first row, a pie chart of the family distribution: No need to have all possible families, check the biggest one used (probably the ones used by RNAstralign)\n",
    "- One the second row, a histogram of the length distribution\n",
    "\n",
    "**Assigned to**: Yves\n",
    "\n",
    "Use Ploty, and a white background"
   ]
  },
  {
   "cell_type": "code",
   "execution_count": null,
   "metadata": {},
   "outputs": [],
   "source": []
  }
 ],
 "metadata": {
  "language_info": {
   "name": "python"
  }
 },
 "nbformat": 4,
 "nbformat_minor": 2
}

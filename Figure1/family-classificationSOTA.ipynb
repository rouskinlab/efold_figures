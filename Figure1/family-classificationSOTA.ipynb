{
 "cells": [
  {
   "cell_type": "code",
   "execution_count": 146,
   "metadata": {},
   "outputs": [],
   "source": [
    "import json\n",
    "import pandas as pd\n",
    "import numpy as np"
   ]
  },
  {
   "cell_type": "markdown",
   "metadata": {},
   "source": [
    "## Ribonanza"
   ]
  },
  {
   "cell_type": "code",
   "execution_count": 147,
   "metadata": {},
   "outputs": [],
   "source": [
    "def rename_families(x):\n",
    "    if x == '5s' or x == '16s' or x == '23s' or 'rRNA' in x:\n",
    "        return 'rRNA'\n",
    "    if x == 'grp1' or x == 'group_I_intron':\n",
    "        return 'Introns'\n",
    "    if x == 'grp2' or 'intron' in x:\n",
    "        return 'Introns'\n",
    "    if x == 'srp' or x == 'SRP':\n",
    "        return 'SRP'\n",
    "    if x == 'telomerase':\n",
    "        return 'telomerase'\n",
    "    if x == 'RNaseP':\n",
    "        return 'rRNA'\n",
    "    else: \n",
    "        return x"
   ]
  },
  {
   "cell_type": "markdown",
   "metadata": {},
   "source": [
    "## RNAStralign"
   ]
  },
  {
   "cell_type": "code",
   "execution_count": 148,
   "metadata": {},
   "outputs": [
    {
     "name": "stderr",
     "output_type": "stream",
     "text": [
      "Parsing ct files: 100%|██████████| 37149/37149 [00:24<00:00, 1505.37it/s]\n"
     ]
    },
    {
     "name": "stdout",
     "output_type": "stream",
     "text": [
      "Drop 3949 datapoints with None values (null sequence or reference)\n"
     ]
    },
    {
     "data": {
      "text/html": [
       "<div>\n",
       "<style scoped>\n",
       "    .dataframe tbody tr th:only-of-type {\n",
       "        vertical-align: middle;\n",
       "    }\n",
       "\n",
       "    .dataframe tbody tr th {\n",
       "        vertical-align: top;\n",
       "    }\n",
       "\n",
       "    .dataframe thead th {\n",
       "        text-align: right;\n",
       "    }\n",
       "</style>\n",
       "<table border=\"1\" class=\"dataframe\">\n",
       "  <thead>\n",
       "    <tr style=\"text-align: right;\">\n",
       "      <th></th>\n",
       "      <th>RNAStralign</th>\n",
       "    </tr>\n",
       "    <tr>\n",
       "      <th>family</th>\n",
       "      <th></th>\n",
       "    </tr>\n",
       "  </thead>\n",
       "  <tbody>\n",
       "    <tr>\n",
       "      <th>rRNA</th>\n",
       "      <td>21904</td>\n",
       "    </tr>\n",
       "    <tr>\n",
       "      <th>tRNA</th>\n",
       "      <td>9234</td>\n",
       "    </tr>\n",
       "    <tr>\n",
       "      <th>Introns</th>\n",
       "      <td>453</td>\n",
       "    </tr>\n",
       "    <tr>\n",
       "      <th>SRP</th>\n",
       "      <td>164</td>\n",
       "    </tr>\n",
       "    <tr>\n",
       "      <th>tmRNA</th>\n",
       "      <td>133</td>\n",
       "    </tr>\n",
       "    <tr>\n",
       "      <th>telomerase</th>\n",
       "      <td>37</td>\n",
       "    </tr>\n",
       "  </tbody>\n",
       "</table>\n",
       "</div>"
      ],
      "text/plain": [
       "            RNAStralign\n",
       "family                 \n",
       "rRNA              21904\n",
       "tRNA               9234\n",
       "Introns             453\n",
       "SRP                 164\n",
       "tmRNA               133\n",
       "telomerase           37"
      ]
     },
     "execution_count": 148,
     "metadata": {},
     "output_type": "execute_result"
    }
   ],
   "source": [
    "data = json.load(open('../RNAStralign/data.json'))\n",
    "from rouskinhf import convert\n",
    "data = convert(\n",
    "                'ct',\n",
    "                file_or_folder='../RNAStralign/data',\n",
    "                name='RNAStralign',\n",
    "                filter=0\n",
    "            )\n",
    "\n",
    "new_data = {}\n",
    "refs = {}\n",
    "for ref, attr in data.items():\n",
    "    if '__####' in ref:\n",
    "        family, ref = ref.split('__####')\n",
    "        attr['family'] = family\n",
    "    if not ref in refs:\n",
    "        refs[ref] = 0\n",
    "    else:\n",
    "        while f'{ref}_{refs[ref]}' in refs:\n",
    "            refs[ref] += 1\n",
    "        ref = f'{ref}_{refs[ref]}'\n",
    "    new_data[ref] = attr\n",
    "    \n",
    "data = new_data\n",
    "families = pd.DataFrame.from_dict(data, orient='index')['family'].apply(lambda x: x.split('__')[0].replace('_database', '')).apply(rename_families)\n",
    "fam_rnastralign = pd.DataFrame(families.value_counts()).rename(columns={'count': 'RNAStralign'})\n",
    "len_rnastralign = pd.DataFrame.from_dict(data, orient='index')['sequence'].apply(len)\n",
    "fam_rnastralign"
   ]
  },
  {
   "cell_type": "markdown",
   "metadata": {},
   "source": [
    "## archiveII"
   ]
  },
  {
   "cell_type": "code",
   "execution_count": 149,
   "metadata": {},
   "outputs": [
    {
     "data": {
      "text/plain": [
       "{'5s': 1283,\n",
       " 'tRNA': 557,\n",
       " 'srp': 928,\n",
       " 'tmRNA': 462,\n",
       " 'RNaseP': 454,\n",
       " 'grp1': 115,\n",
       " '23s': 35,\n",
       " '16s': 110,\n",
       " 'telomerase': 37,\n",
       " 'grp2': 11}"
      ]
     },
     "execution_count": 149,
     "metadata": {},
     "output_type": "execute_result"
    }
   ],
   "source": [
    "import os\n",
    "fam_archivII = {}\n",
    "len_archivII = []\n",
    "for file in os.listdir('/Users/yvesmartin/data/archiveII'):\n",
    "    if not file.endswith('.seq'):\n",
    "        continue\n",
    "    seq = open(f'/Users/yvesmartin/data/archiveII/{file}').read().split('\\n')[2]\n",
    "    family = file.split('_')[0]\n",
    "    fam_archivII[family] = fam_archivII.get(family, 0) + 1\n",
    "    len_archivII.append(len(seq))\n",
    "len(len_archivII)\n",
    "fam_archivII"
   ]
  },
  {
   "cell_type": "code",
   "execution_count": 150,
   "metadata": {},
   "outputs": [
    {
     "data": {
      "text/html": [
       "<div>\n",
       "<style scoped>\n",
       "    .dataframe tbody tr th:only-of-type {\n",
       "        vertical-align: middle;\n",
       "    }\n",
       "\n",
       "    .dataframe tbody tr th {\n",
       "        vertical-align: top;\n",
       "    }\n",
       "\n",
       "    .dataframe thead th {\n",
       "        text-align: right;\n",
       "    }\n",
       "</style>\n",
       "<table border=\"1\" class=\"dataframe\">\n",
       "  <thead>\n",
       "    <tr style=\"text-align: right;\">\n",
       "      <th></th>\n",
       "      <th>archiveII</th>\n",
       "    </tr>\n",
       "  </thead>\n",
       "  <tbody>\n",
       "    <tr>\n",
       "      <th>rRNA</th>\n",
       "      <td>1882</td>\n",
       "    </tr>\n",
       "    <tr>\n",
       "      <th>tRNA</th>\n",
       "      <td>557</td>\n",
       "    </tr>\n",
       "    <tr>\n",
       "      <th>SRP</th>\n",
       "      <td>928</td>\n",
       "    </tr>\n",
       "    <tr>\n",
       "      <th>tmRNA</th>\n",
       "      <td>462</td>\n",
       "    </tr>\n",
       "    <tr>\n",
       "      <th>Introns</th>\n",
       "      <td>126</td>\n",
       "    </tr>\n",
       "    <tr>\n",
       "      <th>telomerase</th>\n",
       "      <td>37</td>\n",
       "    </tr>\n",
       "  </tbody>\n",
       "</table>\n",
       "</div>"
      ],
      "text/plain": [
       "            archiveII\n",
       "rRNA             1882\n",
       "tRNA              557\n",
       "SRP               928\n",
       "tmRNA             462\n",
       "Introns           126\n",
       "telomerase         37"
      ]
     },
     "execution_count": 150,
     "metadata": {},
     "output_type": "execute_result"
    }
   ],
   "source": [
    "fam_archivII_new = {}\n",
    "for k, v in fam_archivII.items():\n",
    "    fam_archivII_new[rename_families(k)] = fam_archivII_new.get(rename_families(k), 0) + v\n",
    "fam_archivII = pd.DataFrame.from_dict(fam_archivII_new, orient='index').rename({0: 'archiveII'}, axis=1)\n",
    "fam_archivII"
   ]
  },
  {
   "cell_type": "code",
   "execution_count": 160,
   "metadata": {},
   "outputs": [],
   "source": [
    "assert len(len_archivII) == fam_archivII['archiveII'].sum()"
   ]
  },
  {
   "cell_type": "markdown",
   "metadata": {},
   "source": [
    "## bpRNA (from paper)"
   ]
  },
  {
   "cell_type": "code",
   "execution_count": 151,
   "metadata": {},
   "outputs": [
    {
     "data": {
      "text/html": [
       "<div>\n",
       "<style scoped>\n",
       "    .dataframe tbody tr th:only-of-type {\n",
       "        vertical-align: middle;\n",
       "    }\n",
       "\n",
       "    .dataframe tbody tr th {\n",
       "        vertical-align: top;\n",
       "    }\n",
       "\n",
       "    .dataframe thead th {\n",
       "        text-align: right;\n",
       "    }\n",
       "</style>\n",
       "<table border=\"1\" class=\"dataframe\">\n",
       "  <thead>\n",
       "    <tr style=\"text-align: right;\">\n",
       "      <th></th>\n",
       "      <th>bpRNA-1m</th>\n",
       "      <th>bpRNA-1m(90)</th>\n",
       "    </tr>\n",
       "    <tr>\n",
       "      <th>RNA Type</th>\n",
       "      <th></th>\n",
       "      <th></th>\n",
       "    </tr>\n",
       "  </thead>\n",
       "  <tbody>\n",
       "    <tr>\n",
       "      <th>Introns</th>\n",
       "      <td>368</td>\n",
       "      <td>224</td>\n",
       "    </tr>\n",
       "    <tr>\n",
       "      <th>Other</th>\n",
       "      <td>3028</td>\n",
       "      <td>993</td>\n",
       "    </tr>\n",
       "    <tr>\n",
       "      <th>rRNA</th>\n",
       "      <td>18495</td>\n",
       "      <td>1823</td>\n",
       "    </tr>\n",
       "    <tr>\n",
       "      <th>tRNA</th>\n",
       "      <td>35622</td>\n",
       "      <td>3383</td>\n",
       "    </tr>\n",
       "    <tr>\n",
       "      <th>tmRNA</th>\n",
       "      <td>161</td>\n",
       "      <td>449</td>\n",
       "    </tr>\n",
       "  </tbody>\n",
       "</table>\n",
       "</div>"
      ],
      "text/plain": [
       "          bpRNA-1m  bpRNA-1m(90)\n",
       "RNA Type                        \n",
       "Introns        368           224\n",
       "Other         3028           993\n",
       "rRNA         18495          1823\n",
       "tRNA         35622          3383\n",
       "tmRNA          161           449"
      ]
     },
     "execution_count": 151,
     "metadata": {},
     "output_type": "execute_result"
    }
   ],
   "source": [
    "import pandas as pd\n",
    "from io import StringIO\n",
    "\n",
    "# Provided data\n",
    "data = \"\"\"\n",
    "RNA Type,bpRNA-1m,bpRNA-1m(90)\n",
    "Transfer RNA,35622,3383\n",
    "16S Ribosomal RNA,17641,1067\n",
    "5S Ribosomal RNA,477,607\n",
    "Signal Recognition Particle RNA,1603,388\n",
    "Ribonuclease P RNA,1425,605\n",
    "Transfer Messenger RNA,161,449\n",
    "Group I Intron,237,123\n",
    "23S Ribosomal RNA,191,72\n",
    "Hammerhead Ribozyme,186,77\n",
    "Group II Intron,131,101\n",
    "\"\"\"\n",
    "\n",
    "# Create a DataFrame\n",
    "bprna = pd.read_csv(StringIO(data), delimiter=',')#.set_index('RNA Type')\n",
    "def rename_families_bp(x):\n",
    "    return {\n",
    "    'Transfer RNA': 'tRNA',\n",
    "    '16S Ribosomal RNA': 'rRNA',\n",
    "    '5S Ribosomal RNA': 'rRNA',\n",
    "    'Signal Recognition Particle RNA': 'Other',\n",
    "    'Ribonuclease P RNA': 'Other',\n",
    "    'Transfer Messenger RNA': 'tmRNA',\n",
    "    'Group I Intron': 'Introns',\n",
    "    '23S Ribosomal RNA': 'rRNA',\n",
    "    'Hammerhead Ribozyme': 'rRNA',\n",
    "    'Group II Intron': 'Introns',\n",
    "    }.get(x, x)\n",
    "bprna['RNA Type'] = bprna['RNA Type'].apply(rename_families_bp)\n",
    "bprna = bprna.groupby('RNA Type').sum()\n",
    "bprna"
   ]
  },
  {
   "cell_type": "markdown",
   "metadata": {},
   "source": [
    "### bpRNA from data"
   ]
  },
  {
   "cell_type": "code",
   "execution_count": 152,
   "metadata": {},
   "outputs": [
    {
     "name": "stderr",
     "output_type": "stream",
     "text": [
      "Parsing bpseq files: 100%|██████████| 102318/102318 [00:34<00:00, 2970.80it/s]\n"
     ]
    },
    {
     "name": "stdout",
     "output_type": "stream",
     "text": [
      "Drop 5064 datapoints with None values (null sequence or reference)\n"
     ]
    },
    {
     "data": {
      "text/plain": [
       "97254"
      ]
     },
     "execution_count": 152,
     "metadata": {},
     "output_type": "execute_result"
    }
   ],
   "source": [
    "from rouskinhf import convert\n",
    "\n",
    "data = convert(\n",
    "    'bpseq',\n",
    "    '/Users/yvesmartin/data/bpRNA',\n",
    "    name='bpRNA',\n",
    "    path_out='data',\n",
    "    filter=False\n",
    ")\n",
    "len_bprna = [len(dp['sequence']) for dp in data.values()]\n",
    "len(len_bprna)"
   ]
  },
  {
   "cell_type": "code",
   "execution_count": 153,
   "metadata": {},
   "outputs": [],
   "source": [
    "len_bprna90 = [len(l) for l in open('/Users/yvesmartin/data/bpRNA/bpRNA_1m_90.fasta').read().split('\\n')[1::2]]"
   ]
  },
  {
   "cell_type": "markdown",
   "metadata": {},
   "source": [
    "# Aggregate"
   ]
  },
  {
   "cell_type": "code",
   "execution_count": 173,
   "metadata": {},
   "outputs": [
    {
     "data": {
      "text/html": [
       "<div>\n",
       "<style scoped>\n",
       "    .dataframe tbody tr th:only-of-type {\n",
       "        vertical-align: middle;\n",
       "    }\n",
       "\n",
       "    .dataframe tbody tr th {\n",
       "        vertical-align: top;\n",
       "    }\n",
       "\n",
       "    .dataframe thead th {\n",
       "        text-align: right;\n",
       "    }\n",
       "</style>\n",
       "<table border=\"1\" class=\"dataframe\">\n",
       "  <thead>\n",
       "    <tr style=\"text-align: right;\">\n",
       "      <th></th>\n",
       "      <th>bpRNA-1m</th>\n",
       "      <th>bpRNA-1m(90)</th>\n",
       "      <th>RNAStralign</th>\n",
       "      <th>ArchiveII</th>\n",
       "    </tr>\n",
       "  </thead>\n",
       "  <tbody>\n",
       "    <tr>\n",
       "      <th>Introns</th>\n",
       "      <td>368.0</td>\n",
       "      <td>224.0</td>\n",
       "      <td>453.0</td>\n",
       "      <td>126.0</td>\n",
       "    </tr>\n",
       "    <tr>\n",
       "      <th>Other</th>\n",
       "      <td>44644.0</td>\n",
       "      <td>21498.0</td>\n",
       "      <td>0.0</td>\n",
       "      <td>0.0</td>\n",
       "    </tr>\n",
       "    <tr>\n",
       "      <th>rRNA</th>\n",
       "      <td>18495.0</td>\n",
       "      <td>1823.0</td>\n",
       "      <td>21904.0</td>\n",
       "      <td>1882.0</td>\n",
       "    </tr>\n",
       "    <tr>\n",
       "      <th>tRNA</th>\n",
       "      <td>35622.0</td>\n",
       "      <td>3383.0</td>\n",
       "      <td>9234.0</td>\n",
       "      <td>557.0</td>\n",
       "    </tr>\n",
       "    <tr>\n",
       "      <th>tmRNA</th>\n",
       "      <td>161.0</td>\n",
       "      <td>449.0</td>\n",
       "      <td>133.0</td>\n",
       "      <td>462.0</td>\n",
       "    </tr>\n",
       "    <tr>\n",
       "      <th>SRP</th>\n",
       "      <td>NaN</td>\n",
       "      <td>NaN</td>\n",
       "      <td>164.0</td>\n",
       "      <td>928.0</td>\n",
       "    </tr>\n",
       "    <tr>\n",
       "      <th>telomerase</th>\n",
       "      <td>NaN</td>\n",
       "      <td>NaN</td>\n",
       "      <td>37.0</td>\n",
       "      <td>37.0</td>\n",
       "    </tr>\n",
       "  </tbody>\n",
       "</table>\n",
       "</div>"
      ],
      "text/plain": [
       "            bpRNA-1m  bpRNA-1m(90)  RNAStralign  ArchiveII\n",
       "Introns        368.0         224.0        453.0      126.0\n",
       "Other        44644.0       21498.0          0.0        0.0\n",
       "rRNA         18495.0        1823.0      21904.0     1882.0\n",
       "tRNA         35622.0        3383.0       9234.0      557.0\n",
       "tmRNA          161.0         449.0        133.0      462.0\n",
       "SRP              NaN           NaN        164.0      928.0\n",
       "telomerase       NaN           NaN         37.0       37.0"
      ]
     },
     "execution_count": 173,
     "metadata": {},
     "output_type": "execute_result"
    }
   ],
   "source": [
    "df = pd.concat([bprna, fam_rnastralign, fam_archivII], axis=1)\n",
    "df.columns = ['bpRNA-1m', 'bpRNA-1m(90)', 'RNAStralign', 'ArchiveII']\n",
    "# df = df.fillna(0).astype(int)\n",
    "df_family = df.copy()\n",
    "df_family.loc['total'] = df_family.sum()\n",
    "df_family.loc['total', 'bpRNA-1m'] = 102_318\n",
    "df_family.loc['total', 'bpRNA-1m(90)'] = len(len_bprna90)\n",
    "df_family.loc['total', 'RNAStralign'] = len(len_rnastralign)\n",
    "df_family.loc['total', 'ArchiveII'] = len(len_archivII)\n",
    "# others = total - df_family.sum()\n",
    "df_family.loc['Other'] = df_family.loc['total'] - np.nansum(df_family.loc[[c for c in df_family.index if c != 'total']].values, axis=0)\n",
    "# \n",
    "# assert df_family.loc[df_family.index[:-1]].sum().sum() == df_family.loc['total'].sum()\n",
    "df_family.drop('total', inplace=True)\n",
    "df_family\n"
   ]
  },
  {
   "cell_type": "code",
   "execution_count": 174,
   "metadata": {},
   "outputs": [],
   "source": [
    "# one value per bin\n",
    "def make_histograms(l):\n",
    "    min_val = 0\n",
    "    max_val = 4400\n",
    "    bin_size = 100\n",
    "    bins = np.arange(min_val + bin_size/2, max_val - bin_size/2, bin_size)\n",
    "    hist, bins = np.histogram(l, bins=max_val//bin_size, range=(min_val, max_val))\n",
    "    return hist, bins\n",
    "hists = {\n",
    "    'bpRNA-1m': make_histograms(len_bprna),\n",
    "    'bpRNA-1m(90)': make_histograms(len_bprna90),\n",
    "    'RNAStralign': make_histograms(len_rnastralign),\n",
    "    'ArchiveII': make_histograms(len_archivII),\n",
    "}"
   ]
  },
  {
   "cell_type": "markdown",
   "metadata": {},
   "source": [
    "### Plot as piecharts"
   ]
  },
  {
   "cell_type": "code",
   "execution_count": 185,
   "metadata": {},
   "outputs": [],
   "source": [
    "horizontal_spacing = 0.08\n",
    "vertical_spacing = 0.\n",
    "height = 600\n",
    "width = 1300"
   ]
  },
  {
   "cell_type": "code",
   "execution_count": 186,
   "metadata": {},
   "outputs": [
    {
     "data": {
      "application/vnd.plotly.v1+json": {
       "config": {
        "plotlyServerURL": "https://plot.ly"
       },
       "data": [
        {
         "domain": {
          "x": [
           0,
           0.19
          ],
          "y": [
           0.28571428571428575,
           1
          ]
         },
         "labels": [
          "Introns",
          "Other",
          "rRNA",
          "tRNA",
          "tmRNA",
          "SRP",
          "telomerase"
         ],
         "name": "bpRNA-1m",
         "showlegend": false,
         "sort": true,
         "textinfo": "percent",
         "textposition": "auto",
         "type": "pie",
         "values": [
          368,
          44644,
          18495,
          35622,
          161,
          null,
          null
         ]
        },
        {
         "marker": {
          "color": "rgb(0, 0, 0)"
         },
         "name": "bpRNA-1m",
         "showlegend": false,
         "type": "bar",
         "x": [
          0,
          100,
          200,
          300,
          400,
          500,
          600,
          700,
          800,
          900,
          1000,
          1100,
          1200,
          1300,
          1400,
          1500,
          1600,
          1700,
          1800,
          1900,
          2000,
          2100,
          2200,
          2300,
          2400,
          2500,
          2600,
          2700,
          2800,
          2900,
          3000,
          3100,
          3200,
          3300,
          3400,
          3500,
          3600,
          3700,
          3800,
          3900,
          4000,
          4100,
          4200,
          4300
         ],
         "xaxis": "x",
         "y": [
          57128,
          19622,
          2832,
          2685,
          1169,
          850,
          444,
          556,
          837,
          361,
          120,
          111,
          285,
          1789,
          6027,
          1840,
          29,
          50,
          72,
          23,
          14,
          11,
          1,
          1,
          2,
          4,
          4,
          10,
          60,
          158,
          47,
          12,
          7,
          19,
          17,
          12,
          9,
          9,
          4,
          13,
          6,
          0,
          2,
          2
         ],
         "yaxis": "y"
        },
        {
         "domain": {
          "x": [
           0.27,
           0.46
          ],
          "y": [
           0.28571428571428575,
           1
          ]
         },
         "labels": [
          "Introns",
          "Other",
          "rRNA",
          "tRNA",
          "tmRNA",
          "SRP",
          "telomerase"
         ],
         "name": "bpRNA-1m(90)",
         "showlegend": false,
         "sort": true,
         "textinfo": "percent",
         "textposition": "auto",
         "type": "pie",
         "values": [
          224,
          21498,
          1823,
          3383,
          449,
          null,
          null
         ]
        },
        {
         "marker": {
          "color": "rgb(0, 0, 0)"
         },
         "name": "bpRNA-1m(90)",
         "showlegend": false,
         "type": "bar",
         "x": [
          0,
          100,
          200,
          300,
          400,
          500,
          600,
          700,
          800,
          900,
          1000,
          1100,
          1200,
          1300,
          1400,
          1500,
          1600,
          1700,
          1800,
          1900,
          2000,
          2100,
          2200,
          2300,
          2400,
          2500,
          2600,
          2700,
          2800,
          2900,
          3000,
          3100,
          3200,
          3300,
          3400,
          3500,
          3600,
          3700,
          3800,
          3900,
          4000,
          4100,
          4200,
          4300
         ],
         "xaxis": "x2",
         "y": [
          13864,
          9764,
          1469,
          1222,
          364,
          136,
          87,
          57,
          42,
          86,
          40,
          30,
          50,
          101,
          279,
          255,
          25,
          49,
          73,
          26,
          20,
          12,
          3,
          1,
          2,
          2,
          4,
          9,
          42,
          115,
          37,
          10,
          7,
          18,
          17,
          9,
          9,
          10,
          5,
          11,
          6,
          0,
          1,
          1
         ],
         "yaxis": "y2"
        },
        {
         "domain": {
          "x": [
           0.54,
           0.73
          ],
          "y": [
           0.28571428571428575,
           1
          ]
         },
         "labels": [
          "Introns",
          "Other",
          "rRNA",
          "tRNA",
          "tmRNA",
          "SRP",
          "telomerase"
         ],
         "name": "RNAStralign",
         "showlegend": false,
         "sort": true,
         "textinfo": "percent",
         "textposition": "auto",
         "type": "pie",
         "values": [
          453,
          0,
          21904,
          9234,
          133,
          164,
          37
         ]
        },
        {
         "marker": {
          "color": "rgb(0, 0, 0)"
         },
         "name": "RNAStralign",
         "showlegend": false,
         "type": "bar",
         "x": [
          0,
          100,
          200,
          300,
          400,
          500,
          600,
          700,
          800,
          900,
          1000,
          1100,
          1200,
          1300,
          1400,
          1500,
          1600,
          1700,
          1800,
          1900,
          2000,
          2100,
          2200,
          2300,
          2400,
          2500,
          2600,
          2700,
          2800,
          2900,
          3000,
          3100,
          3200,
          3300,
          3400,
          3500,
          3600,
          3700,
          3800,
          3900,
          4000,
          4100,
          4200,
          4300
         ],
         "xaxis": "x3",
         "y": [
          9260,
          11403,
          299,
          487,
          739,
          572,
          311,
          492,
          804,
          224,
          80,
          82,
          191,
          1159,
          4606,
          1207,
          6,
          1,
          2,
          0,
          0,
          0,
          0,
          0,
          0,
          0,
          0,
          0,
          0,
          0,
          0,
          0,
          0,
          0,
          0,
          0,
          0,
          0,
          0,
          0,
          0,
          0,
          0,
          0
         ],
         "yaxis": "y3"
        },
        {
         "domain": {
          "x": [
           0.81,
           1
          ],
          "y": [
           0.28571428571428575,
           1
          ]
         },
         "labels": [
          "Introns",
          "Other",
          "rRNA",
          "tRNA",
          "tmRNA",
          "SRP",
          "telomerase"
         ],
         "name": "ArchiveII",
         "showlegend": true,
         "sort": true,
         "textinfo": "percent",
         "textposition": "auto",
         "type": "pie",
         "values": [
          126,
          0,
          1882,
          557,
          462,
          928,
          37
         ]
        },
        {
         "marker": {
          "color": "rgb(0, 0, 0)"
         },
         "name": "ArchiveII",
         "showlegend": false,
         "type": "bar",
         "x": [
          0,
          100,
          200,
          300,
          400,
          500,
          600,
          700,
          800,
          900,
          1000,
          1100,
          1200,
          1300,
          1400,
          1500,
          1600,
          1700,
          1800,
          1900,
          2000,
          2100,
          2200,
          2300,
          2400,
          2500,
          2600,
          2700,
          2800,
          2900,
          3000,
          3100,
          3200,
          3300,
          3400,
          3500,
          3600,
          3700,
          3800,
          3900,
          4000,
          4100,
          4200,
          4300
         ],
         "xaxis": "x4",
         "y": [
          797,
          1596,
          350,
          937,
          181,
          67,
          28,
          9,
          0,
          2,
          0,
          0,
          1,
          0,
          6,
          7,
          0,
          1,
          3,
          2,
          0,
          0,
          0,
          0,
          0,
          0,
          0,
          0,
          0,
          5,
          0,
          0,
          0,
          0,
          0,
          0,
          0,
          0,
          0,
          0,
          0,
          0,
          0,
          0
         ],
         "yaxis": "y4"
        }
       ],
       "layout": {
        "annotations": [
         {
          "font": {
           "size": 22
          },
          "showarrow": false,
          "text": "bpRNA-1m (N=97254)",
          "x": 0.095,
          "xanchor": "center",
          "xref": "paper",
          "y": 1,
          "yanchor": "bottom",
          "yref": "paper"
         },
         {
          "font": {
           "size": 22
          },
          "showarrow": false,
          "text": "bpRNA-1m(90) (N=28370)",
          "x": 0.365,
          "xanchor": "center",
          "xref": "paper",
          "y": 1,
          "yanchor": "bottom",
          "yref": "paper"
         },
         {
          "font": {
           "size": 22
          },
          "showarrow": false,
          "text": "RNAStralign (N=31925)",
          "x": 0.635,
          "xanchor": "center",
          "xref": "paper",
          "y": 1,
          "yanchor": "bottom",
          "yref": "paper"
         },
         {
          "font": {
           "size": 22
          },
          "showarrow": false,
          "text": "ArchiveII (N=3992)",
          "x": 0.905,
          "xanchor": "center",
          "xref": "paper",
          "y": 1,
          "yanchor": "bottom",
          "yref": "paper"
         },
         {
          "font": {
           "size": 22
          },
          "showarrow": false,
          "text": "Sequence length (bin size: 100)",
          "x": 0.5,
          "xanchor": "center",
          "xref": "paper",
          "y": -0.15,
          "yanchor": "bottom",
          "yref": "paper"
         },
         {
          "font": {
           "size": 22
          },
          "showarrow": false,
          "text": "Families",
          "textangle": -90,
          "x": -0.06,
          "xanchor": "center",
          "xref": "paper",
          "y": 0.63,
          "yanchor": "bottom",
          "yref": "paper"
         },
         {
          "font": {
           "size": 22
          },
          "showarrow": false,
          "text": "Count",
          "textangle": -90,
          "x": -0.06,
          "xanchor": "center",
          "xref": "paper",
          "y": 0.03,
          "yanchor": "bottom",
          "yref": "paper"
         }
        ],
        "bargap": 0.1,
        "bargroupgap": 0.1,
        "barmode": "overlay",
        "font": {
         "color": "black",
         "family": "Arial",
         "size": 20
        },
        "height": 600,
        "legend": {
         "bordercolor": "black",
         "font": {
          "color": "black",
          "family": "Arial",
          "size": 20
         },
         "traceorder": "normal",
         "x": 1.03,
         "y": 0.95
        },
        "template": {
         "data": {
          "bar": [
           {
            "error_x": {
             "color": "#2a3f5f"
            },
            "error_y": {
             "color": "#2a3f5f"
            },
            "marker": {
             "line": {
              "color": "white",
              "width": 0.5
             },
             "pattern": {
              "fillmode": "overlay",
              "size": 10,
              "solidity": 0.2
             }
            },
            "type": "bar"
           }
          ],
          "barpolar": [
           {
            "marker": {
             "line": {
              "color": "white",
              "width": 0.5
             },
             "pattern": {
              "fillmode": "overlay",
              "size": 10,
              "solidity": 0.2
             }
            },
            "type": "barpolar"
           }
          ],
          "carpet": [
           {
            "aaxis": {
             "endlinecolor": "#2a3f5f",
             "gridcolor": "#C8D4E3",
             "linecolor": "#C8D4E3",
             "minorgridcolor": "#C8D4E3",
             "startlinecolor": "#2a3f5f"
            },
            "baxis": {
             "endlinecolor": "#2a3f5f",
             "gridcolor": "#C8D4E3",
             "linecolor": "#C8D4E3",
             "minorgridcolor": "#C8D4E3",
             "startlinecolor": "#2a3f5f"
            },
            "type": "carpet"
           }
          ],
          "choropleth": [
           {
            "colorbar": {
             "outlinewidth": 0,
             "ticks": ""
            },
            "type": "choropleth"
           }
          ],
          "contour": [
           {
            "colorbar": {
             "outlinewidth": 0,
             "ticks": ""
            },
            "colorscale": [
             [
              0,
              "#0d0887"
             ],
             [
              0.1111111111111111,
              "#46039f"
             ],
             [
              0.2222222222222222,
              "#7201a8"
             ],
             [
              0.3333333333333333,
              "#9c179e"
             ],
             [
              0.4444444444444444,
              "#bd3786"
             ],
             [
              0.5555555555555556,
              "#d8576b"
             ],
             [
              0.6666666666666666,
              "#ed7953"
             ],
             [
              0.7777777777777778,
              "#fb9f3a"
             ],
             [
              0.8888888888888888,
              "#fdca26"
             ],
             [
              1,
              "#f0f921"
             ]
            ],
            "type": "contour"
           }
          ],
          "contourcarpet": [
           {
            "colorbar": {
             "outlinewidth": 0,
             "ticks": ""
            },
            "type": "contourcarpet"
           }
          ],
          "heatmap": [
           {
            "colorbar": {
             "outlinewidth": 0,
             "ticks": ""
            },
            "colorscale": [
             [
              0,
              "#0d0887"
             ],
             [
              0.1111111111111111,
              "#46039f"
             ],
             [
              0.2222222222222222,
              "#7201a8"
             ],
             [
              0.3333333333333333,
              "#9c179e"
             ],
             [
              0.4444444444444444,
              "#bd3786"
             ],
             [
              0.5555555555555556,
              "#d8576b"
             ],
             [
              0.6666666666666666,
              "#ed7953"
             ],
             [
              0.7777777777777778,
              "#fb9f3a"
             ],
             [
              0.8888888888888888,
              "#fdca26"
             ],
             [
              1,
              "#f0f921"
             ]
            ],
            "type": "heatmap"
           }
          ],
          "heatmapgl": [
           {
            "colorbar": {
             "outlinewidth": 0,
             "ticks": ""
            },
            "colorscale": [
             [
              0,
              "#0d0887"
             ],
             [
              0.1111111111111111,
              "#46039f"
             ],
             [
              0.2222222222222222,
              "#7201a8"
             ],
             [
              0.3333333333333333,
              "#9c179e"
             ],
             [
              0.4444444444444444,
              "#bd3786"
             ],
             [
              0.5555555555555556,
              "#d8576b"
             ],
             [
              0.6666666666666666,
              "#ed7953"
             ],
             [
              0.7777777777777778,
              "#fb9f3a"
             ],
             [
              0.8888888888888888,
              "#fdca26"
             ],
             [
              1,
              "#f0f921"
             ]
            ],
            "type": "heatmapgl"
           }
          ],
          "histogram": [
           {
            "marker": {
             "pattern": {
              "fillmode": "overlay",
              "size": 10,
              "solidity": 0.2
             }
            },
            "type": "histogram"
           }
          ],
          "histogram2d": [
           {
            "colorbar": {
             "outlinewidth": 0,
             "ticks": ""
            },
            "colorscale": [
             [
              0,
              "#0d0887"
             ],
             [
              0.1111111111111111,
              "#46039f"
             ],
             [
              0.2222222222222222,
              "#7201a8"
             ],
             [
              0.3333333333333333,
              "#9c179e"
             ],
             [
              0.4444444444444444,
              "#bd3786"
             ],
             [
              0.5555555555555556,
              "#d8576b"
             ],
             [
              0.6666666666666666,
              "#ed7953"
             ],
             [
              0.7777777777777778,
              "#fb9f3a"
             ],
             [
              0.8888888888888888,
              "#fdca26"
             ],
             [
              1,
              "#f0f921"
             ]
            ],
            "type": "histogram2d"
           }
          ],
          "histogram2dcontour": [
           {
            "colorbar": {
             "outlinewidth": 0,
             "ticks": ""
            },
            "colorscale": [
             [
              0,
              "#0d0887"
             ],
             [
              0.1111111111111111,
              "#46039f"
             ],
             [
              0.2222222222222222,
              "#7201a8"
             ],
             [
              0.3333333333333333,
              "#9c179e"
             ],
             [
              0.4444444444444444,
              "#bd3786"
             ],
             [
              0.5555555555555556,
              "#d8576b"
             ],
             [
              0.6666666666666666,
              "#ed7953"
             ],
             [
              0.7777777777777778,
              "#fb9f3a"
             ],
             [
              0.8888888888888888,
              "#fdca26"
             ],
             [
              1,
              "#f0f921"
             ]
            ],
            "type": "histogram2dcontour"
           }
          ],
          "mesh3d": [
           {
            "colorbar": {
             "outlinewidth": 0,
             "ticks": ""
            },
            "type": "mesh3d"
           }
          ],
          "parcoords": [
           {
            "line": {
             "colorbar": {
              "outlinewidth": 0,
              "ticks": ""
             }
            },
            "type": "parcoords"
           }
          ],
          "pie": [
           {
            "automargin": true,
            "type": "pie"
           }
          ],
          "scatter": [
           {
            "fillpattern": {
             "fillmode": "overlay",
             "size": 10,
             "solidity": 0.2
            },
            "type": "scatter"
           }
          ],
          "scatter3d": [
           {
            "line": {
             "colorbar": {
              "outlinewidth": 0,
              "ticks": ""
             }
            },
            "marker": {
             "colorbar": {
              "outlinewidth": 0,
              "ticks": ""
             }
            },
            "type": "scatter3d"
           }
          ],
          "scattercarpet": [
           {
            "marker": {
             "colorbar": {
              "outlinewidth": 0,
              "ticks": ""
             }
            },
            "type": "scattercarpet"
           }
          ],
          "scattergeo": [
           {
            "marker": {
             "colorbar": {
              "outlinewidth": 0,
              "ticks": ""
             }
            },
            "type": "scattergeo"
           }
          ],
          "scattergl": [
           {
            "marker": {
             "colorbar": {
              "outlinewidth": 0,
              "ticks": ""
             }
            },
            "type": "scattergl"
           }
          ],
          "scattermapbox": [
           {
            "marker": {
             "colorbar": {
              "outlinewidth": 0,
              "ticks": ""
             }
            },
            "type": "scattermapbox"
           }
          ],
          "scatterpolar": [
           {
            "marker": {
             "colorbar": {
              "outlinewidth": 0,
              "ticks": ""
             }
            },
            "type": "scatterpolar"
           }
          ],
          "scatterpolargl": [
           {
            "marker": {
             "colorbar": {
              "outlinewidth": 0,
              "ticks": ""
             }
            },
            "type": "scatterpolargl"
           }
          ],
          "scatterternary": [
           {
            "marker": {
             "colorbar": {
              "outlinewidth": 0,
              "ticks": ""
             }
            },
            "type": "scatterternary"
           }
          ],
          "surface": [
           {
            "colorbar": {
             "outlinewidth": 0,
             "ticks": ""
            },
            "colorscale": [
             [
              0,
              "#0d0887"
             ],
             [
              0.1111111111111111,
              "#46039f"
             ],
             [
              0.2222222222222222,
              "#7201a8"
             ],
             [
              0.3333333333333333,
              "#9c179e"
             ],
             [
              0.4444444444444444,
              "#bd3786"
             ],
             [
              0.5555555555555556,
              "#d8576b"
             ],
             [
              0.6666666666666666,
              "#ed7953"
             ],
             [
              0.7777777777777778,
              "#fb9f3a"
             ],
             [
              0.8888888888888888,
              "#fdca26"
             ],
             [
              1,
              "#f0f921"
             ]
            ],
            "type": "surface"
           }
          ],
          "table": [
           {
            "cells": {
             "fill": {
              "color": "#EBF0F8"
             },
             "line": {
              "color": "white"
             }
            },
            "header": {
             "fill": {
              "color": "#C8D4E3"
             },
             "line": {
              "color": "white"
             }
            },
            "type": "table"
           }
          ]
         },
         "layout": {
          "annotationdefaults": {
           "arrowcolor": "#2a3f5f",
           "arrowhead": 0,
           "arrowwidth": 1
          },
          "autotypenumbers": "strict",
          "coloraxis": {
           "colorbar": {
            "outlinewidth": 0,
            "ticks": ""
           }
          },
          "colorscale": {
           "diverging": [
            [
             0,
             "#8e0152"
            ],
            [
             0.1,
             "#c51b7d"
            ],
            [
             0.2,
             "#de77ae"
            ],
            [
             0.3,
             "#f1b6da"
            ],
            [
             0.4,
             "#fde0ef"
            ],
            [
             0.5,
             "#f7f7f7"
            ],
            [
             0.6,
             "#e6f5d0"
            ],
            [
             0.7,
             "#b8e186"
            ],
            [
             0.8,
             "#7fbc41"
            ],
            [
             0.9,
             "#4d9221"
            ],
            [
             1,
             "#276419"
            ]
           ],
           "sequential": [
            [
             0,
             "#0d0887"
            ],
            [
             0.1111111111111111,
             "#46039f"
            ],
            [
             0.2222222222222222,
             "#7201a8"
            ],
            [
             0.3333333333333333,
             "#9c179e"
            ],
            [
             0.4444444444444444,
             "#bd3786"
            ],
            [
             0.5555555555555556,
             "#d8576b"
            ],
            [
             0.6666666666666666,
             "#ed7953"
            ],
            [
             0.7777777777777778,
             "#fb9f3a"
            ],
            [
             0.8888888888888888,
             "#fdca26"
            ],
            [
             1,
             "#f0f921"
            ]
           ],
           "sequentialminus": [
            [
             0,
             "#0d0887"
            ],
            [
             0.1111111111111111,
             "#46039f"
            ],
            [
             0.2222222222222222,
             "#7201a8"
            ],
            [
             0.3333333333333333,
             "#9c179e"
            ],
            [
             0.4444444444444444,
             "#bd3786"
            ],
            [
             0.5555555555555556,
             "#d8576b"
            ],
            [
             0.6666666666666666,
             "#ed7953"
            ],
            [
             0.7777777777777778,
             "#fb9f3a"
            ],
            [
             0.8888888888888888,
             "#fdca26"
            ],
            [
             1,
             "#f0f921"
            ]
           ]
          },
          "colorway": [
           "#636efa",
           "#EF553B",
           "#00cc96",
           "#ab63fa",
           "#FFA15A",
           "#19d3f3",
           "#FF6692",
           "#B6E880",
           "#FF97FF",
           "#FECB52"
          ],
          "font": {
           "color": "#2a3f5f"
          },
          "geo": {
           "bgcolor": "white",
           "lakecolor": "white",
           "landcolor": "white",
           "showlakes": true,
           "showland": true,
           "subunitcolor": "#C8D4E3"
          },
          "hoverlabel": {
           "align": "left"
          },
          "hovermode": "closest",
          "mapbox": {
           "style": "light"
          },
          "paper_bgcolor": "white",
          "plot_bgcolor": "white",
          "polar": {
           "angularaxis": {
            "gridcolor": "#EBF0F8",
            "linecolor": "#EBF0F8",
            "ticks": ""
           },
           "bgcolor": "white",
           "radialaxis": {
            "gridcolor": "#EBF0F8",
            "linecolor": "#EBF0F8",
            "ticks": ""
           }
          },
          "scene": {
           "xaxis": {
            "backgroundcolor": "white",
            "gridcolor": "#DFE8F3",
            "gridwidth": 2,
            "linecolor": "#EBF0F8",
            "showbackground": true,
            "ticks": "",
            "zerolinecolor": "#EBF0F8"
           },
           "yaxis": {
            "backgroundcolor": "white",
            "gridcolor": "#DFE8F3",
            "gridwidth": 2,
            "linecolor": "#EBF0F8",
            "showbackground": true,
            "ticks": "",
            "zerolinecolor": "#EBF0F8"
           },
           "zaxis": {
            "backgroundcolor": "white",
            "gridcolor": "#DFE8F3",
            "gridwidth": 2,
            "linecolor": "#EBF0F8",
            "showbackground": true,
            "ticks": "",
            "zerolinecolor": "#EBF0F8"
           }
          },
          "shapedefaults": {
           "line": {
            "color": "#2a3f5f"
           }
          },
          "ternary": {
           "aaxis": {
            "gridcolor": "#DFE8F3",
            "linecolor": "#A2B1C6",
            "ticks": ""
           },
           "baxis": {
            "gridcolor": "#DFE8F3",
            "linecolor": "#A2B1C6",
            "ticks": ""
           },
           "bgcolor": "white",
           "caxis": {
            "gridcolor": "#DFE8F3",
            "linecolor": "#A2B1C6",
            "ticks": ""
           }
          },
          "title": {
           "x": 0.05
          },
          "xaxis": {
           "automargin": true,
           "gridcolor": "#EBF0F8",
           "linecolor": "#EBF0F8",
           "ticks": "",
           "title": {
            "standoff": 15
           },
           "zerolinecolor": "#EBF0F8",
           "zerolinewidth": 2
          },
          "yaxis": {
           "automargin": true,
           "gridcolor": "#EBF0F8",
           "linecolor": "#EBF0F8",
           "ticks": "",
           "title": {
            "standoff": 15
           },
           "zerolinecolor": "#EBF0F8",
           "zerolinewidth": 2
          }
         }
        },
        "title": {
         "x": 0.5,
         "y": 0.95
        },
        "width": 1300,
        "xaxis": {
         "anchor": "y",
         "domain": [
          0,
          0.19
         ],
         "dtick": 2000,
         "range": [
          -100,
          2000
         ],
         "tick0": 0
        },
        "xaxis2": {
         "anchor": "y2",
         "domain": [
          0.27,
          0.46
         ],
         "dtick": 2000,
         "range": [
          -100,
          2000
         ],
         "tick0": 0
        },
        "xaxis3": {
         "anchor": "y3",
         "domain": [
          0.54,
          0.73
         ],
         "dtick": 2000,
         "range": [
          -100,
          2000
         ],
         "tick0": 0
        },
        "xaxis4": {
         "anchor": "y4",
         "domain": [
          0.81,
          1
         ],
         "dtick": 2000,
         "range": [
          -100,
          2000
         ],
         "tick0": 0
        },
        "yaxis": {
         "anchor": "x",
         "domain": [
          0,
          0.28571428571428575
         ]
        },
        "yaxis2": {
         "anchor": "x2",
         "domain": [
          0,
          0.28571428571428575
         ]
        },
        "yaxis3": {
         "anchor": "x3",
         "domain": [
          0,
          0.28571428571428575
         ]
        },
        "yaxis4": {
         "anchor": "x4",
         "domain": [
          0,
          0.28571428571428575
         ]
        }
       }
      }
     },
     "metadata": {},
     "output_type": "display_data"
    }
   ],
   "source": [
    "\n",
    "import plotly.graph_objects as go\n",
    "from plotly.subplots import make_subplots\n",
    "\n",
    "\n",
    "\n",
    "# first row is piechart of family distribution\n",
    "# second row is histogram of sequence length distribution\n",
    "# I want it to look like a paper figure\n",
    "fig = make_subplots(rows=2, cols=4, specs=[[{'type': 'domain'}]*4, [{'type': 'histogram'}]*4], \n",
    "                    subplot_titles=[f\"{name} (N={len(l)})\" for name, l in zip(\n",
    "                        ['bpRNA-1m', 'bpRNA-1m(90)', 'RNAStralign', 'ArchiveII'],\n",
    "                        [len_bprna, len_bprna90, len_rnastralign, len_archivII])],\n",
    "                    vertical_spacing=vertical_spacing,\n",
    "                    horizontal_spacing=horizontal_spacing,\n",
    "                    row_heights=[0.5, 0.2],\n",
    ")\n",
    "\n",
    "for i in fig['layout']['annotations']:\n",
    "    i['font'] = dict(size=22)\n",
    "    \n",
    "for i, name in enumerate(hists.keys()):\n",
    "    fig.add_trace(go.Pie(\n",
    "        labels=df_family.index,\n",
    "        values=df_family[name],\n",
    "        name=name,\n",
    "        textinfo=f'percent',\n",
    "        textposition='auto',\n",
    "        showlegend=i==3,\n",
    "        sort=True,\n",
    "        # legennd location\n",
    "        # domain={'x': [0.0, 0.25], 'y': [0.5, 1.0]} if i == 0 else {'x': [0.25, 0.5], 'y': [0.5, 1.0]} if i == 1 else {'x': [0.5, 0.75], 'y': [0.5, 1.0]} if i == 2 else {'x': [0.75, 1.0], 'y': [0.5, 1.0]},\n",
    "    ), row=1, col=i+1)\n",
    "    fig.add_trace(go.Bar(\n",
    "        x=hists[name][1][:-1],\n",
    "        y=hists[name][0],\n",
    "        name=name,\n",
    "        showlegend=False,\n",
    "        marker_color='rgb(0, 0, 0)',\n",
    "    ), row=2, col=i+1)\n",
    "    # fig.update_yaxes(row=2, col=i+1,  range=[0, 50000])\n",
    "    fig.update_xaxes(row=2, col=i+1, range=[-100, 2000], tick0=0, dtick=2000)\n",
    "    # make bar width constant\n",
    "    # add horitontal lines\n",
    "    fig.update_layout(barmode='overlay', bargap=0.1, bargroupgap=0.1)\n",
    "\n",
    "# write 'sequence length' at the bottom, centered\n",
    "fig.add_annotation(dict(\n",
    "    x=0.5,\n",
    "    y=-0.15,\n",
    "    text='Sequence length (bin size: 100)',\n",
    "    showarrow=False,\n",
    "    font=dict(size=22),\n",
    "    xref='paper',\n",
    "    yref='paper',\n",
    "    xanchor='center',\n",
    "    yanchor='bottom',\n",
    "))\n",
    "\n",
    "fig.add_annotation(dict(\n",
    "    x=-0.06,\n",
    "    y=0.63,\n",
    "    text='Families',\n",
    "    showarrow=False,\n",
    "    font=dict(size=22),\n",
    "    xref='paper',\n",
    "    yref='paper',\n",
    "    xanchor='center',\n",
    "    yanchor='bottom',\n",
    "    textangle=-90\n",
    "), \n",
    ")\n",
    "\n",
    "fig.add_annotation(dict(\n",
    "    x=-0.06,\n",
    "    y=0.03,\n",
    "    text='Count',\n",
    "    showarrow=False,\n",
    "    font=dict(size=22),\n",
    "    xref='paper',\n",
    "    yref='paper',\n",
    "    xanchor='center',\n",
    "    yanchor='bottom',\n",
    "    textangle=-90\n",
    "), \n",
    ")\n",
    "\n",
    "fig.update_layout(\n",
    "    height=height,\n",
    "    width=width,\n",
    "    title_x=0.5,\n",
    "    title_y=0.95,\n",
    "    font_size=20,\n",
    "    font_family='Arial',\n",
    "    font_color='black',\n",
    "    legend_font_size=20,\n",
    "    legend_font_family='Arial',\n",
    "    legend_font_color='black',\n",
    "    legend_x=1.03,\n",
    "    legend_y=0.95,\n",
    "    # legend_orientation='h',\n",
    "    legend_traceorder='normal',\n",
    "    legend_bordercolor='black',\n",
    "    template=\"plotly_white\",\n",
    "\n",
    ")\n",
    "\n",
    "\n",
    "\n",
    "# save image \n"
   ]
  }
 ],
 "metadata": {
  "kernelspec": {
   "display_name": "Python 3",
   "language": "python",
   "name": "python3"
  },
  "language_info": {
   "codemirror_mode": {
    "name": "ipython",
    "version": 3
   },
   "file_extension": ".py",
   "mimetype": "text/x-python",
   "name": "python",
   "nbconvert_exporter": "python",
   "pygments_lexer": "ipython3",
   "version": "3.11.6"
  }
 },
 "nbformat": 4,
 "nbformat_minor": 2
}

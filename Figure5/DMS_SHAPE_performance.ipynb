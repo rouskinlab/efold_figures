{
 "cells": [
  {
   "cell_type": "markdown",
   "metadata": {},
   "source": [
    "## Show distribution of SHAPE/DMS performance, and an example\n",
    "\n",
    "One plot with two subplots\n",
    "- First row is distribution of R2 (or pearson) for validation set vs viral_fragments, for SHAPE and DMS. Colored by type of prediction. Grouped by test set. Use Box plot or violin\n",
    "- Second row is an example of one prediction, preferably DMS, with a scatter plot of true vs predicted. Add a line of best fit and the R2 (or pearson score). The score of this example should be very close to the mean score on viral_fragments\n",
    "\n",
    "**Assigned to**: Colin\n",
    "\n",
    "Use Ploty, and a white background"
   ]
  },
  {
   "cell_type": "code",
   "execution_count": null,
   "metadata": {},
   "outputs": [],
   "source": []
  }
 ],
 "metadata": {
  "language_info": {
   "name": "python"
  }
 },
 "nbformat": 4,
 "nbformat_minor": 2
}

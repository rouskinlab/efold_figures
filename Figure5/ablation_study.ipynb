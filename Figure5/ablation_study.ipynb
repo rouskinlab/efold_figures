{
 "cells": [
  {
   "cell_type": "markdown",
   "metadata": {},
   "source": [
    "## Ablation study of our final best model, on structure prediction\n",
    "\n",
    "Show performance difference (Delta of F1 score) of different versions of our model, vs our best model (baseline, ∆F1=0)\n",
    "\n",
    "- Is pretraining useful (Ribo, ArchiveII, bpRNA, RNAstralign, zuber, synthetic)\n",
    "- Is finetuning useful (UTR, pri-miRNA, human_mRNA fragments?)\n",
    "- Is training on everything at once better ?\n",
    "- Is is useful to have a SHAPE/DMS head ?\n",
    "- Pearson loss for SHAPE/DMS vs MSE\n",
    "- model architecture (Evoformer, Transformer, CNN)\n",
    "\n",
    "The test set could be a weighted average of the tree standard set (PDB, viral_fragments, lncRNA) if there is no outliers\n",
    "\n",
    "\n",
    "**Assigned to**: Alberic\n",
    "\n",
    "Use Ploty, and a white background"
   ]
  },
  {
   "cell_type": "code",
   "execution_count": 2,
   "metadata": {},
   "outputs": [],
   "source": [
    "import pandas as pd\n",
    "from rouskinhf import get_dataset\n",
    "import torch\n",
    "import numpy as np\n",
    "\n",
    "def compute_f1(pred_matrix, target_matrix, threshold=0.5):\n",
    "    \"\"\"\n",
    "    Compute the F1 score of the predictions.\n",
    "\n",
    "    :param pred_matrix: Predicted pairing matrix probability  (L,L)\n",
    "    :param target_matrix: True binary pairing matrix (L,L)\n",
    "    :return: F1 score for this RNA structure\n",
    "    \"\"\"\n",
    "\n",
    "    pred_matrix = (pred_matrix > threshold).float()\n",
    "\n",
    "    sum_pair = torch.sum(pred_matrix) + torch.sum(target_matrix)\n",
    "\n",
    "    if sum_pair == 0:\n",
    "        return 1.0\n",
    "    else:\n",
    "        return (2 * torch.sum(pred_matrix * target_matrix) / sum_pair).item()\n",
    "    \n",
    "def pairList2pairMatrix(pair_list, len_seq):\n",
    "    pair_list = np.array(pair_list).astype(int)\n",
    "    pairing_matrix = torch.zeros((len_seq, len_seq))\n",
    "\n",
    "    if len(pair_list) > 0:\n",
    "        pairing_matrix[pair_list[:,0], pair_list[:,1]] = 1.0\n",
    "        pairing_matrix[pair_list[:,1], pair_list[:,0]] = 1.0\n",
    "\n",
    "    return pairing_matrix"
   ]
  },
  {
   "cell_type": "code",
   "execution_count": 127,
   "metadata": {},
   "outputs": [
    {
     "name": "stdout",
     "output_type": "stream",
     "text": [
      "PDB: Downloading dataset from HuggingFace Hub...\n"
     ]
    },
    {
     "data": {
      "application/vnd.jupyter.widget-view+json": {
       "model_id": "d2ba98ee88e448f0894fa535d5845948",
       "version_major": 2,
       "version_minor": 0
      },
      "text/plain": [
       "Fetching 1 files:   0%|          | 0/1 [00:00<?, ?it/s]"
      ]
     },
     "metadata": {},
     "output_type": "display_data"
    },
    {
     "name": "stdout",
     "output_type": "stream",
     "text": [
      "PDB: Download complete. File saved at data/PDB/data.json\n",
      "lncRNA: Downloading dataset from HuggingFace Hub...\n"
     ]
    },
    {
     "data": {
      "application/vnd.jupyter.widget-view+json": {
       "model_id": "acd58f4ff6b940c5bddb6dd0a31846ba",
       "version_major": 2,
       "version_minor": 0
      },
      "text/plain": [
       "Fetching 1 files:   0%|          | 0/1 [00:00<?, ?it/s]"
      ]
     },
     "metadata": {},
     "output_type": "display_data"
    },
    {
     "name": "stdout",
     "output_type": "stream",
     "text": [
      "lncRNA: Download complete. File saved at data/lncRNA/data.json\n",
      "viral_fragments: Downloading dataset from HuggingFace Hub...\n"
     ]
    },
    {
     "data": {
      "application/vnd.jupyter.widget-view+json": {
       "model_id": "5e483fe1e5d84e769677c564658471db",
       "version_major": 2,
       "version_minor": 0
      },
      "text/plain": [
       "Fetching 1 files:   0%|          | 0/1 [00:00<?, ?it/s]"
      ]
     },
     "metadata": {},
     "output_type": "display_data"
    },
    {
     "name": "stdout",
     "output_type": "stream",
     "text": [
      "viral_fragments: Download complete. File saved at data/viral_fragments/data.json\n"
     ]
    }
   ],
   "source": [
    "ground_truth = pd.DataFrame()\n",
    "\n",
    "for test_set in [\"PDB\", \"lncRNA\", \"viral_fragments\"]:\n",
    "    data = get_dataset(test_set, force_download=True)\n",
    "    data = pd.DataFrame(data).T[['sequence', 'structure']]\n",
    "    data['dataset'] = test_set\n",
    "\n",
    "    ground_truth = pd.concat([ground_truth, data])\n",
    "    del data"
   ]
  },
  {
   "cell_type": "code",
   "execution_count": 128,
   "metadata": {},
   "outputs": [
    {
     "name": "stdout",
     "output_type": "stream",
     "text": [
      "PT\n",
      "dataset\n",
      "PDB                0.846920\n",
      "lncRNA             0.315571\n",
      "viral_fragments    0.527542\n",
      "Name: f1, dtype: float64\n",
      "PT+FT\n",
      "dataset\n",
      "PDB                0.879710\n",
      "lncRNA             0.368814\n",
      "viral_fragments    0.576445\n",
      "Name: f1, dtype: float64\n",
      "UFoldPT\n",
      "dataset\n",
      "PDB                0.829544\n",
      "lncRNA             0.073930\n",
      "viral_fragments    0.491223\n",
      "Name: f1, dtype: float64\n",
      "PT+mRNA_FT\n",
      "dataset\n",
      "PDB                0.841140\n",
      "lncRNA             0.364154\n",
      "viral_fragments    0.559930\n",
      "Name: f1, dtype: float64\n",
      "PT+primiRNA_FT\n",
      "dataset\n",
      "PDB                0.857658\n",
      "lncRNA             0.278404\n",
      "viral_fragments    0.544281\n",
      "Name: f1, dtype: float64\n"
     ]
    }
   ],
   "source": [
    "data_comparison = pd.DataFrame()\n",
    "\n",
    "for model in ['PT', 'PT+FT', 'UFoldPT', 'PT+mRNA_FT', 'PT+primiRNA_FT']:\n",
    "\n",
    "    prediction = pd.read_feather(f'data/test_results_{model}.feather')\n",
    "\n",
    "    merged = ground_truth.reset_index().rename(columns={'index': 'reference'}).merge(prediction, on=['sequence', 'reference'], suffixes=('_true', '_pred'))\n",
    "\n",
    "    f1s = []\n",
    "    for i, row in merged.iterrows():\n",
    "        f1s.append(compute_f1(torch.tensor(np.stack(row['structure_pred'])), \n",
    "                            pairList2pairMatrix(row['structure_true'], len(row['sequence'])), threshold=0.5))\n",
    "\n",
    "    merged['f1'] = f1s\n",
    "    merged['model'] = model\n",
    "    print(model)\n",
    "    print(merged.groupby('dataset')['f1'].mean())\n",
    "\n",
    "    data_comparison = pd.concat([data_comparison, merged[['reference', 'sequence', 'model', 'dataset', 'f1']]])\n",
    "\n",
    "data_comparison.loc[data_comparison['dataset']=='viral_fragments', 'dataset'] = 'viral mRNA'\n",
    "data_comparison.loc[data_comparison['dataset']=='lncRNA', 'dataset'] = 'long ncRNA'\n",
    "\n",
    "data_comparison.loc[data_comparison['model']=='PT+FT', 'model'] = 'baseline'\n",
    "data_comparison.loc[data_comparison['model']=='PT', 'model'] = 'no finetuning'\n",
    "data_comparison.loc[data_comparison['model']=='UFoldPT', 'model'] = 'no finetuning, <br>with UFold architecture'\n",
    "data_comparison.loc[data_comparison['model']=='PT+mRNA_FT', 'model'] = 'finetune on mRNA'\n",
    "data_comparison.loc[data_comparison['model']=='PT+primiRNA_FT', 'model'] = 'finetune on pri-miRNA'"
   ]
  },
  {
   "cell_type": "code",
   "execution_count": 133,
   "metadata": {},
   "outputs": [
    {
     "data": {
      "application/vnd.plotly.v1+json": {
       "config": {
        "plotlyServerURL": "https://plot.ly"
       },
       "data": [
        {
         "error_x": {
          "array": [
           0.18051294742071183
          ],
          "type": "data"
         },
         "marker": {
          "color": "#1F77B4"
         },
         "mode": "markers",
         "showlegend": false,
         "type": "scatter",
         "x": [
          0
         ],
         "xaxis": "x",
         "y": [
          "baseline"
         ],
         "yaxis": "y"
        },
        {
         "error_x": {
          "array": [
           0.1444942973243338
          ],
          "type": "data"
         },
         "marker": {
          "color": "#1F77B4"
         },
         "mode": "markers",
         "showlegend": false,
         "type": "scatter",
         "x": [
          0
         ],
         "xaxis": "x2",
         "y": [
          "baseline"
         ],
         "yaxis": "y2"
        },
        {
         "error_x": {
          "array": [
           0.1674067702653061
          ],
          "type": "data"
         },
         "marker": {
          "color": "#1F77B4"
         },
         "mode": "markers",
         "showlegend": false,
         "type": "scatter",
         "x": [
          0
         ],
         "xaxis": "x3",
         "y": [
          "baseline"
         ],
         "yaxis": "y3"
        },
        {
         "error_x": {
          "array": [
           0.17359651729188386
          ],
          "type": "data"
         },
         "marker": {
          "color": "#FF7F0E"
         },
         "mode": "markers",
         "showlegend": false,
         "type": "scatter",
         "x": [
          -0.03856984350118742
         ],
         "xaxis": "x4",
         "y": [
          "finetune on mRNA"
         ],
         "yaxis": "y4"
        },
        {
         "error_x": {
          "array": [
           0.13574503311887703
          ],
          "type": "data"
         },
         "marker": {
          "color": "#FF7F0E"
         },
         "mode": "markers",
         "showlegend": false,
         "type": "scatter",
         "x": [
          -0.004660322268803918
         ],
         "xaxis": "x5",
         "y": [
          "finetune on mRNA"
         ],
         "yaxis": "y5"
        },
        {
         "error_x": {
          "array": [
           0.1541419148870482
          ],
          "type": "data"
         },
         "marker": {
          "color": "#FF7F0E"
         },
         "mode": "markers",
         "showlegend": false,
         "type": "scatter",
         "x": [
          -0.016514867929549037
         ],
         "xaxis": "x6",
         "y": [
          "finetune on mRNA"
         ],
         "yaxis": "y6"
        },
        {
         "error_x": {
          "array": [
           0.18254837650850547
          ],
          "type": "data"
         },
         "marker": {
          "color": "#2CA02C"
         },
         "mode": "markers",
         "showlegend": false,
         "type": "scatter",
         "x": [
          -0.022052524736925427
         ],
         "xaxis": "x7",
         "y": [
          "finetune on pri-miRNA"
         ],
         "yaxis": "y7"
        },
        {
         "error_x": {
          "array": [
           0.15363955296013598
          ],
          "type": "data"
         },
         "marker": {
          "color": "#2CA02C"
         },
         "mode": "markers",
         "showlegend": false,
         "type": "scatter",
         "x": [
          -0.0904100308815638
         ],
         "xaxis": "x8",
         "y": [
          "finetune on pri-miRNA"
         ],
         "yaxis": "y8"
        },
        {
         "error_x": {
          "array": [
           0.17106032224081638
          ],
          "type": "data"
         },
         "marker": {
          "color": "#2CA02C"
         },
         "mode": "markers",
         "showlegend": false,
         "type": "scatter",
         "x": [
          -0.032163263266456465
         ],
         "xaxis": "x9",
         "y": [
          "finetune on pri-miRNA"
         ],
         "yaxis": "y9"
        },
        {
         "error_x": {
          "array": [
           0.18271997709947252
          ],
          "type": "data"
         },
         "marker": {
          "color": "#D62728"
         },
         "mode": "markers",
         "showlegend": false,
         "type": "scatter",
         "x": [
          -0.0327900964138883
         ],
         "xaxis": "x10",
         "y": [
          "no finetuning"
         ],
         "yaxis": "y10"
        },
        {
         "error_x": {
          "array": [
           0.16861645325200178
          ],
          "type": "data"
         },
         "marker": {
          "color": "#D62728"
         },
         "mode": "markers",
         "showlegend": false,
         "type": "scatter",
         "x": [
          -0.05324278771877289
         ],
         "xaxis": "x11",
         "y": [
          "no finetuning"
         ],
         "yaxis": "y11"
        },
        {
         "error_x": {
          "array": [
           0.20372100641673732
          ],
          "type": "data"
         },
         "marker": {
          "color": "#D62728"
         },
         "mode": "markers",
         "showlegend": false,
         "type": "scatter",
         "x": [
          -0.048902433140781354
         ],
         "xaxis": "x12",
         "y": [
          "no finetuning"
         ],
         "yaxis": "y12"
        },
        {
         "error_x": {
          "array": [
           0.18497806950519846
          ],
          "type": "data"
         },
         "marker": {
          "color": "#9467BD"
         },
         "mode": "markers",
         "showlegend": false,
         "type": "scatter",
         "x": [
          -0.050166464086328966
         ],
         "xaxis": "x13",
         "y": [
          "no finetuning, <br>with UFold architecture"
         ],
         "yaxis": "y13"
        },
        {
         "error_x": {
          "array": [
           0.16003181623590898
          ],
          "type": "data"
         },
         "marker": {
          "color": "#9467BD"
         },
         "mode": "markers",
         "showlegend": false,
         "type": "scatter",
         "x": [
          -0.29488426893949504
         ],
         "xaxis": "x14",
         "y": [
          "no finetuning, <br>with UFold architecture"
         ],
         "yaxis": "y14"
        },
        {
         "error_x": {
          "array": [
           0.20824443392701728
          ],
          "type": "data"
         },
         "marker": {
          "color": "#9467BD"
         },
         "mode": "markers",
         "showlegend": false,
         "type": "scatter",
         "x": [
          -0.08522131448162007
         ],
         "xaxis": "x15",
         "y": [
          "no finetuning, <br>with UFold architecture"
         ],
         "yaxis": "y15"
        }
       ],
       "layout": {
        "annotations": [
         {
          "font": {
           "size": 16
          },
          "showarrow": false,
          "text": "∆F1 score on PDB",
          "x": 0.14444444444444446,
          "xanchor": "center",
          "xref": "paper",
          "y": 1,
          "yanchor": "bottom",
          "yref": "paper"
         },
         {
          "font": {
           "size": 16
          },
          "showarrow": false,
          "text": "∆F1 score on long ncRNA",
          "x": 0.5,
          "xanchor": "center",
          "xref": "paper",
          "y": 1,
          "yanchor": "bottom",
          "yref": "paper"
         },
         {
          "font": {
           "size": 16
          },
          "showarrow": false,
          "text": "∆F1 score on viral mRNA",
          "x": 0.8555555555555556,
          "xanchor": "center",
          "xref": "paper",
          "y": 1,
          "yanchor": "bottom",
          "yref": "paper"
         }
        ],
        "font": {
         "color": "black",
         "size": 15
        },
        "height": 650,
        "template": {
         "data": {
          "bar": [
           {
            "error_x": {
             "color": "#2a3f5f"
            },
            "error_y": {
             "color": "#2a3f5f"
            },
            "marker": {
             "line": {
              "color": "white",
              "width": 0.5
             },
             "pattern": {
              "fillmode": "overlay",
              "size": 10,
              "solidity": 0.2
             }
            },
            "type": "bar"
           }
          ],
          "barpolar": [
           {
            "marker": {
             "line": {
              "color": "white",
              "width": 0.5
             },
             "pattern": {
              "fillmode": "overlay",
              "size": 10,
              "solidity": 0.2
             }
            },
            "type": "barpolar"
           }
          ],
          "carpet": [
           {
            "aaxis": {
             "endlinecolor": "#2a3f5f",
             "gridcolor": "#C8D4E3",
             "linecolor": "#C8D4E3",
             "minorgridcolor": "#C8D4E3",
             "startlinecolor": "#2a3f5f"
            },
            "baxis": {
             "endlinecolor": "#2a3f5f",
             "gridcolor": "#C8D4E3",
             "linecolor": "#C8D4E3",
             "minorgridcolor": "#C8D4E3",
             "startlinecolor": "#2a3f5f"
            },
            "type": "carpet"
           }
          ],
          "choropleth": [
           {
            "colorbar": {
             "outlinewidth": 0,
             "ticks": ""
            },
            "type": "choropleth"
           }
          ],
          "contour": [
           {
            "colorbar": {
             "outlinewidth": 0,
             "ticks": ""
            },
            "colorscale": [
             [
              0,
              "#0d0887"
             ],
             [
              0.1111111111111111,
              "#46039f"
             ],
             [
              0.2222222222222222,
              "#7201a8"
             ],
             [
              0.3333333333333333,
              "#9c179e"
             ],
             [
              0.4444444444444444,
              "#bd3786"
             ],
             [
              0.5555555555555556,
              "#d8576b"
             ],
             [
              0.6666666666666666,
              "#ed7953"
             ],
             [
              0.7777777777777778,
              "#fb9f3a"
             ],
             [
              0.8888888888888888,
              "#fdca26"
             ],
             [
              1,
              "#f0f921"
             ]
            ],
            "type": "contour"
           }
          ],
          "contourcarpet": [
           {
            "colorbar": {
             "outlinewidth": 0,
             "ticks": ""
            },
            "type": "contourcarpet"
           }
          ],
          "heatmap": [
           {
            "colorbar": {
             "outlinewidth": 0,
             "ticks": ""
            },
            "colorscale": [
             [
              0,
              "#0d0887"
             ],
             [
              0.1111111111111111,
              "#46039f"
             ],
             [
              0.2222222222222222,
              "#7201a8"
             ],
             [
              0.3333333333333333,
              "#9c179e"
             ],
             [
              0.4444444444444444,
              "#bd3786"
             ],
             [
              0.5555555555555556,
              "#d8576b"
             ],
             [
              0.6666666666666666,
              "#ed7953"
             ],
             [
              0.7777777777777778,
              "#fb9f3a"
             ],
             [
              0.8888888888888888,
              "#fdca26"
             ],
             [
              1,
              "#f0f921"
             ]
            ],
            "type": "heatmap"
           }
          ],
          "heatmapgl": [
           {
            "colorbar": {
             "outlinewidth": 0,
             "ticks": ""
            },
            "colorscale": [
             [
              0,
              "#0d0887"
             ],
             [
              0.1111111111111111,
              "#46039f"
             ],
             [
              0.2222222222222222,
              "#7201a8"
             ],
             [
              0.3333333333333333,
              "#9c179e"
             ],
             [
              0.4444444444444444,
              "#bd3786"
             ],
             [
              0.5555555555555556,
              "#d8576b"
             ],
             [
              0.6666666666666666,
              "#ed7953"
             ],
             [
              0.7777777777777778,
              "#fb9f3a"
             ],
             [
              0.8888888888888888,
              "#fdca26"
             ],
             [
              1,
              "#f0f921"
             ]
            ],
            "type": "heatmapgl"
           }
          ],
          "histogram": [
           {
            "marker": {
             "pattern": {
              "fillmode": "overlay",
              "size": 10,
              "solidity": 0.2
             }
            },
            "type": "histogram"
           }
          ],
          "histogram2d": [
           {
            "colorbar": {
             "outlinewidth": 0,
             "ticks": ""
            },
            "colorscale": [
             [
              0,
              "#0d0887"
             ],
             [
              0.1111111111111111,
              "#46039f"
             ],
             [
              0.2222222222222222,
              "#7201a8"
             ],
             [
              0.3333333333333333,
              "#9c179e"
             ],
             [
              0.4444444444444444,
              "#bd3786"
             ],
             [
              0.5555555555555556,
              "#d8576b"
             ],
             [
              0.6666666666666666,
              "#ed7953"
             ],
             [
              0.7777777777777778,
              "#fb9f3a"
             ],
             [
              0.8888888888888888,
              "#fdca26"
             ],
             [
              1,
              "#f0f921"
             ]
            ],
            "type": "histogram2d"
           }
          ],
          "histogram2dcontour": [
           {
            "colorbar": {
             "outlinewidth": 0,
             "ticks": ""
            },
            "colorscale": [
             [
              0,
              "#0d0887"
             ],
             [
              0.1111111111111111,
              "#46039f"
             ],
             [
              0.2222222222222222,
              "#7201a8"
             ],
             [
              0.3333333333333333,
              "#9c179e"
             ],
             [
              0.4444444444444444,
              "#bd3786"
             ],
             [
              0.5555555555555556,
              "#d8576b"
             ],
             [
              0.6666666666666666,
              "#ed7953"
             ],
             [
              0.7777777777777778,
              "#fb9f3a"
             ],
             [
              0.8888888888888888,
              "#fdca26"
             ],
             [
              1,
              "#f0f921"
             ]
            ],
            "type": "histogram2dcontour"
           }
          ],
          "mesh3d": [
           {
            "colorbar": {
             "outlinewidth": 0,
             "ticks": ""
            },
            "type": "mesh3d"
           }
          ],
          "parcoords": [
           {
            "line": {
             "colorbar": {
              "outlinewidth": 0,
              "ticks": ""
             }
            },
            "type": "parcoords"
           }
          ],
          "pie": [
           {
            "automargin": true,
            "type": "pie"
           }
          ],
          "scatter": [
           {
            "fillpattern": {
             "fillmode": "overlay",
             "size": 10,
             "solidity": 0.2
            },
            "type": "scatter"
           }
          ],
          "scatter3d": [
           {
            "line": {
             "colorbar": {
              "outlinewidth": 0,
              "ticks": ""
             }
            },
            "marker": {
             "colorbar": {
              "outlinewidth": 0,
              "ticks": ""
             }
            },
            "type": "scatter3d"
           }
          ],
          "scattercarpet": [
           {
            "marker": {
             "colorbar": {
              "outlinewidth": 0,
              "ticks": ""
             }
            },
            "type": "scattercarpet"
           }
          ],
          "scattergeo": [
           {
            "marker": {
             "colorbar": {
              "outlinewidth": 0,
              "ticks": ""
             }
            },
            "type": "scattergeo"
           }
          ],
          "scattergl": [
           {
            "marker": {
             "colorbar": {
              "outlinewidth": 0,
              "ticks": ""
             }
            },
            "type": "scattergl"
           }
          ],
          "scattermapbox": [
           {
            "marker": {
             "colorbar": {
              "outlinewidth": 0,
              "ticks": ""
             }
            },
            "type": "scattermapbox"
           }
          ],
          "scatterpolar": [
           {
            "marker": {
             "colorbar": {
              "outlinewidth": 0,
              "ticks": ""
             }
            },
            "type": "scatterpolar"
           }
          ],
          "scatterpolargl": [
           {
            "marker": {
             "colorbar": {
              "outlinewidth": 0,
              "ticks": ""
             }
            },
            "type": "scatterpolargl"
           }
          ],
          "scatterternary": [
           {
            "marker": {
             "colorbar": {
              "outlinewidth": 0,
              "ticks": ""
             }
            },
            "type": "scatterternary"
           }
          ],
          "surface": [
           {
            "colorbar": {
             "outlinewidth": 0,
             "ticks": ""
            },
            "colorscale": [
             [
              0,
              "#0d0887"
             ],
             [
              0.1111111111111111,
              "#46039f"
             ],
             [
              0.2222222222222222,
              "#7201a8"
             ],
             [
              0.3333333333333333,
              "#9c179e"
             ],
             [
              0.4444444444444444,
              "#bd3786"
             ],
             [
              0.5555555555555556,
              "#d8576b"
             ],
             [
              0.6666666666666666,
              "#ed7953"
             ],
             [
              0.7777777777777778,
              "#fb9f3a"
             ],
             [
              0.8888888888888888,
              "#fdca26"
             ],
             [
              1,
              "#f0f921"
             ]
            ],
            "type": "surface"
           }
          ],
          "table": [
           {
            "cells": {
             "fill": {
              "color": "#EBF0F8"
             },
             "line": {
              "color": "white"
             }
            },
            "header": {
             "fill": {
              "color": "#C8D4E3"
             },
             "line": {
              "color": "white"
             }
            },
            "type": "table"
           }
          ]
         },
         "layout": {
          "annotationdefaults": {
           "arrowcolor": "#2a3f5f",
           "arrowhead": 0,
           "arrowwidth": 1
          },
          "autotypenumbers": "strict",
          "coloraxis": {
           "colorbar": {
            "outlinewidth": 0,
            "ticks": ""
           }
          },
          "colorscale": {
           "diverging": [
            [
             0,
             "#8e0152"
            ],
            [
             0.1,
             "#c51b7d"
            ],
            [
             0.2,
             "#de77ae"
            ],
            [
             0.3,
             "#f1b6da"
            ],
            [
             0.4,
             "#fde0ef"
            ],
            [
             0.5,
             "#f7f7f7"
            ],
            [
             0.6,
             "#e6f5d0"
            ],
            [
             0.7,
             "#b8e186"
            ],
            [
             0.8,
             "#7fbc41"
            ],
            [
             0.9,
             "#4d9221"
            ],
            [
             1,
             "#276419"
            ]
           ],
           "sequential": [
            [
             0,
             "#0d0887"
            ],
            [
             0.1111111111111111,
             "#46039f"
            ],
            [
             0.2222222222222222,
             "#7201a8"
            ],
            [
             0.3333333333333333,
             "#9c179e"
            ],
            [
             0.4444444444444444,
             "#bd3786"
            ],
            [
             0.5555555555555556,
             "#d8576b"
            ],
            [
             0.6666666666666666,
             "#ed7953"
            ],
            [
             0.7777777777777778,
             "#fb9f3a"
            ],
            [
             0.8888888888888888,
             "#fdca26"
            ],
            [
             1,
             "#f0f921"
            ]
           ],
           "sequentialminus": [
            [
             0,
             "#0d0887"
            ],
            [
             0.1111111111111111,
             "#46039f"
            ],
            [
             0.2222222222222222,
             "#7201a8"
            ],
            [
             0.3333333333333333,
             "#9c179e"
            ],
            [
             0.4444444444444444,
             "#bd3786"
            ],
            [
             0.5555555555555556,
             "#d8576b"
            ],
            [
             0.6666666666666666,
             "#ed7953"
            ],
            [
             0.7777777777777778,
             "#fb9f3a"
            ],
            [
             0.8888888888888888,
             "#fdca26"
            ],
            [
             1,
             "#f0f921"
            ]
           ]
          },
          "colorway": [
           "#636efa",
           "#EF553B",
           "#00cc96",
           "#ab63fa",
           "#FFA15A",
           "#19d3f3",
           "#FF6692",
           "#B6E880",
           "#FF97FF",
           "#FECB52"
          ],
          "font": {
           "color": "#2a3f5f"
          },
          "geo": {
           "bgcolor": "white",
           "lakecolor": "white",
           "landcolor": "white",
           "showlakes": true,
           "showland": true,
           "subunitcolor": "#C8D4E3"
          },
          "hoverlabel": {
           "align": "left"
          },
          "hovermode": "closest",
          "mapbox": {
           "style": "light"
          },
          "paper_bgcolor": "white",
          "plot_bgcolor": "white",
          "polar": {
           "angularaxis": {
            "gridcolor": "#EBF0F8",
            "linecolor": "#EBF0F8",
            "ticks": ""
           },
           "bgcolor": "white",
           "radialaxis": {
            "gridcolor": "#EBF0F8",
            "linecolor": "#EBF0F8",
            "ticks": ""
           }
          },
          "scene": {
           "xaxis": {
            "backgroundcolor": "white",
            "gridcolor": "#DFE8F3",
            "gridwidth": 2,
            "linecolor": "#EBF0F8",
            "showbackground": true,
            "ticks": "",
            "zerolinecolor": "#EBF0F8"
           },
           "yaxis": {
            "backgroundcolor": "white",
            "gridcolor": "#DFE8F3",
            "gridwidth": 2,
            "linecolor": "#EBF0F8",
            "showbackground": true,
            "ticks": "",
            "zerolinecolor": "#EBF0F8"
           },
           "zaxis": {
            "backgroundcolor": "white",
            "gridcolor": "#DFE8F3",
            "gridwidth": 2,
            "linecolor": "#EBF0F8",
            "showbackground": true,
            "ticks": "",
            "zerolinecolor": "#EBF0F8"
           }
          },
          "shapedefaults": {
           "line": {
            "color": "#2a3f5f"
           }
          },
          "ternary": {
           "aaxis": {
            "gridcolor": "#DFE8F3",
            "linecolor": "#A2B1C6",
            "ticks": ""
           },
           "baxis": {
            "gridcolor": "#DFE8F3",
            "linecolor": "#A2B1C6",
            "ticks": ""
           },
           "bgcolor": "white",
           "caxis": {
            "gridcolor": "#DFE8F3",
            "linecolor": "#A2B1C6",
            "ticks": ""
           }
          },
          "title": {
           "x": 0.05
          },
          "xaxis": {
           "automargin": true,
           "gridcolor": "#EBF0F8",
           "linecolor": "#EBF0F8",
           "ticks": "",
           "title": {
            "standoff": 15
           },
           "zerolinecolor": "#EBF0F8",
           "zerolinewidth": 2
          },
          "yaxis": {
           "automargin": true,
           "gridcolor": "#EBF0F8",
           "linecolor": "#EBF0F8",
           "ticks": "",
           "title": {
            "standoff": 15
           },
           "zerolinecolor": "#EBF0F8",
           "zerolinewidth": 2
          }
         }
        },
        "width": 1100,
        "xaxis": {
         "anchor": "y",
         "domain": [
          0,
          0.2888888888888889
         ],
         "matches": "x13",
         "range": [
          -0.5,
          0.2
         ],
         "showticklabels": false
        },
        "xaxis10": {
         "anchor": "y10",
         "domain": [
          0,
          0.2888888888888889
         ],
         "matches": "x13",
         "range": [
          -0.5,
          0.2
         ],
         "showticklabels": false
        },
        "xaxis11": {
         "anchor": "y11",
         "domain": [
          0.35555555555555557,
          0.6444444444444445
         ],
         "matches": "x14",
         "range": [
          -0.5,
          0.2
         ],
         "showticklabels": false
        },
        "xaxis12": {
         "anchor": "y12",
         "domain": [
          0.7111111111111111,
          1
         ],
         "matches": "x15",
         "range": [
          -0.5,
          0.2
         ],
         "showticklabels": false
        },
        "xaxis13": {
         "anchor": "y13",
         "domain": [
          0,
          0.2888888888888889
         ],
         "range": [
          -0.5,
          0.2
         ]
        },
        "xaxis14": {
         "anchor": "y14",
         "domain": [
          0.35555555555555557,
          0.6444444444444445
         ],
         "range": [
          -0.5,
          0.2
         ]
        },
        "xaxis15": {
         "anchor": "y15",
         "domain": [
          0.7111111111111111,
          1
         ],
         "range": [
          -0.5,
          0.2
         ]
        },
        "xaxis2": {
         "anchor": "y2",
         "domain": [
          0.35555555555555557,
          0.6444444444444445
         ],
         "matches": "x14",
         "range": [
          -0.5,
          0.2
         ],
         "showticklabels": false
        },
        "xaxis3": {
         "anchor": "y3",
         "domain": [
          0.7111111111111111,
          1
         ],
         "matches": "x15",
         "range": [
          -0.5,
          0.2
         ],
         "showticklabels": false
        },
        "xaxis4": {
         "anchor": "y4",
         "domain": [
          0,
          0.2888888888888889
         ],
         "matches": "x13",
         "range": [
          -0.5,
          0.2
         ],
         "showticklabels": false
        },
        "xaxis5": {
         "anchor": "y5",
         "domain": [
          0.35555555555555557,
          0.6444444444444445
         ],
         "matches": "x14",
         "range": [
          -0.5,
          0.2
         ],
         "showticklabels": false
        },
        "xaxis6": {
         "anchor": "y6",
         "domain": [
          0.7111111111111111,
          1
         ],
         "matches": "x15",
         "range": [
          -0.5,
          0.2
         ],
         "showticklabels": false
        },
        "xaxis7": {
         "anchor": "y7",
         "domain": [
          0,
          0.2888888888888889
         ],
         "matches": "x13",
         "range": [
          -0.5,
          0.2
         ],
         "showticklabels": false
        },
        "xaxis8": {
         "anchor": "y8",
         "domain": [
          0.35555555555555557,
          0.6444444444444445
         ],
         "matches": "x14",
         "range": [
          -0.5,
          0.2
         ],
         "showticklabels": false
        },
        "xaxis9": {
         "anchor": "y9",
         "domain": [
          0.7111111111111111,
          1
         ],
         "matches": "x15",
         "range": [
          -0.5,
          0.2
         ],
         "showticklabels": false
        },
        "yaxis": {
         "anchor": "x",
         "domain": [
          0.88,
          1
         ]
        },
        "yaxis10": {
         "anchor": "x10",
         "domain": [
          0.22,
          0.33999999999999997
         ]
        },
        "yaxis11": {
         "anchor": "x11",
         "domain": [
          0.22,
          0.33999999999999997
         ],
         "matches": "y10",
         "showticklabels": false
        },
        "yaxis12": {
         "anchor": "x12",
         "domain": [
          0.22,
          0.33999999999999997
         ],
         "matches": "y10",
         "showticklabels": false
        },
        "yaxis13": {
         "anchor": "x13",
         "domain": [
          0,
          0.12
         ]
        },
        "yaxis14": {
         "anchor": "x14",
         "domain": [
          0,
          0.12
         ],
         "matches": "y13",
         "showticklabels": false
        },
        "yaxis15": {
         "anchor": "x15",
         "domain": [
          0,
          0.12
         ],
         "matches": "y13",
         "showticklabels": false
        },
        "yaxis2": {
         "anchor": "x2",
         "domain": [
          0.88,
          1
         ],
         "matches": "y",
         "showticklabels": false
        },
        "yaxis3": {
         "anchor": "x3",
         "domain": [
          0.88,
          1
         ],
         "matches": "y",
         "showticklabels": false
        },
        "yaxis4": {
         "anchor": "x4",
         "domain": [
          0.66,
          0.78
         ]
        },
        "yaxis5": {
         "anchor": "x5",
         "domain": [
          0.66,
          0.78
         ],
         "matches": "y4",
         "showticklabels": false
        },
        "yaxis6": {
         "anchor": "x6",
         "domain": [
          0.66,
          0.78
         ],
         "matches": "y4",
         "showticklabels": false
        },
        "yaxis7": {
         "anchor": "x7",
         "domain": [
          0.44,
          0.56
         ]
        },
        "yaxis8": {
         "anchor": "x8",
         "domain": [
          0.44,
          0.56
         ],
         "matches": "y7",
         "showticklabels": false
        },
        "yaxis9": {
         "anchor": "x9",
         "domain": [
          0.44,
          0.56
         ],
         "matches": "y7",
         "showticklabels": false
        }
       }
      }
     },
     "metadata": {},
     "output_type": "display_data"
    }
   ],
   "source": [
    "import plotly.graph_objects as go\n",
    "from plotly.subplots import make_subplots\n",
    "import plotly.express as px\n",
    "\n",
    "models = [\n",
    "            'baseline',\n",
    "            'finetune on mRNA',\n",
    "            'finetune on pri-miRNA',\n",
    "            'no finetuning',\n",
    "            'no finetuning, <br>with UFold architecture',\n",
    "          ]\n",
    "\n",
    "baseline = data_comparison[data_comparison['model']=='baseline'].groupby('dataset')['f1'].mean()\n",
    "\n",
    "fig = make_subplots(rows=len(models), cols=len(data_comparison['dataset'].unique()), \n",
    "                    subplot_titles=([f'∆F1 score on {dataset}' for dataset in data_comparison['dataset'].unique()]), shared_yaxes=True, shared_xaxes=True)\n",
    "\n",
    "colors = px.colors.qualitative.D3\n",
    "for i, model in enumerate(models):\n",
    "    for j, dataset in enumerate(data_comparison['dataset'].unique()):\n",
    "        \n",
    "        data = data_comparison[(data_comparison['model']==model) & (data_comparison['dataset']==dataset)]\n",
    "\n",
    "        # fig.add_trace(go.Box(x=data['f1'] - baseline[dataset], #meanline_visible=True, \n",
    "        #                      boxpoints=False,\n",
    "        #                      name=model, marker_color=colors[i], showlegend=False), row=1+i, col=1+j)\n",
    "        \n",
    "        fig.add_trace(go.Scatter(x=[data['f1'].mean() - baseline[dataset]], y=[model], \n",
    "                                 error_x=dict(type='data', array=[data['f1'].std()]),\n",
    "                                 mode='markers', marker_color=colors[i], showlegend=False), row=1+i, col=1+j)\n",
    "        \n",
    "\n",
    "fig.update_xaxes(range=[-0.5, 0.2])\n",
    "fig.update_layout(\n",
    "                # title= 'Ablation study', \n",
    "                # yaxis_title='F1 score', #xaxis_title='test set',\n",
    "                    # xaxis_title='F1 score difference to baseline',\n",
    "                    # xaxis_range=[-1, 1],\n",
    "                    height=len(models)*130, width=1100,\n",
    "                    template='plotly_white', \n",
    "                    font_size=15, font_color='black',)\n",
    "\n",
    "fig.show()"
   ]
  },
  {
   "cell_type": "code",
   "execution_count": null,
   "metadata": {},
   "outputs": [],
   "source": [
    "# save pdf\n",
    "fig.write_image(\"images/b_ablation_study.pdf\")"
   ]
  }
 ],
 "metadata": {
  "kernelspec": {
   "display_name": "Python 3",
   "language": "python",
   "name": "python3"
  },
  "language_info": {
   "codemirror_mode": {
    "name": "ipython",
    "version": 3
   },
   "file_extension": ".py",
   "mimetype": "text/x-python",
   "name": "python",
   "nbconvert_exporter": "python",
   "pygments_lexer": "ipython3",
   "version": "3.10.9"
  }
 },
 "nbformat": 4,
 "nbformat_minor": 2
}

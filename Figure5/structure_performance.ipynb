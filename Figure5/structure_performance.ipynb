{
 "cells": [
  {
   "cell_type": "markdown",
   "metadata": {},
   "source": [
    "## Show distribution of structure prediction performance\n",
    "\n",
    "Reuse same format as the algo_benchmark plot of Figure 1.\n",
    "\n",
    "Add our algorithm and hopefully show less performance gap\n",
    "\n",
    "**Assigned to**: Alberic\n",
    "\n",
    "Use Ploty, and a white background"
   ]
  },
  {
   "cell_type": "code",
   "execution_count": 26,
   "metadata": {},
   "outputs": [],
   "source": [
    "import pandas as pd\n",
    "from rouskinhf import get_dataset\n",
    "import torch\n",
    "import numpy as np"
   ]
  },
  {
   "cell_type": "code",
   "execution_count": 25,
   "metadata": {},
   "outputs": [],
   "source": [
    "def compute_f1(pred_matrix, target_matrix, threshold=0.5):\n",
    "    \"\"\"\n",
    "    Compute the F1 score of the predictions.\n",
    "\n",
    "    :param pred_matrix: Predicted pairing matrix probability  (L,L)\n",
    "    :param target_matrix: True binary pairing matrix (L,L)\n",
    "    :return: F1 score for this RNA structure\n",
    "    \"\"\"\n",
    "\n",
    "    pred_matrix = (pred_matrix > threshold).float()\n",
    "\n",
    "    sum_pair = torch.sum(pred_matrix) + torch.sum(target_matrix)\n",
    "\n",
    "    if sum_pair == 0:\n",
    "        return 1.0\n",
    "    else:\n",
    "        return (2 * torch.sum(pred_matrix * target_matrix) / sum_pair).item()\n",
    "    \n",
    "def pairList2pairMatrix(pair_list, len_seq):\n",
    "    pair_list = np.array(pair_list).astype(int)\n",
    "    pairing_matrix = torch.zeros((len_seq, len_seq))\n",
    "\n",
    "    if len(pair_list) > 0:\n",
    "        pairing_matrix[pair_list[:,0], pair_list[:,1]] = 1.0\n",
    "        pairing_matrix[pair_list[:,1], pair_list[:,0]] = 1.0\n",
    "\n",
    "    return pairing_matrix"
   ]
  },
  {
   "cell_type": "code",
   "execution_count": 7,
   "metadata": {},
   "outputs": [
    {
     "name": "stdout",
     "output_type": "stream",
     "text": [
      "PDB: Downloading dataset from HuggingFace Hub...\n"
     ]
    },
    {
     "data": {
      "application/vnd.jupyter.widget-view+json": {
       "model_id": "172b2ec7e54749a2a80f9d8d9ba6bdc5",
       "version_major": 2,
       "version_minor": 0
      },
      "text/plain": [
       "Fetching 1 files:   0%|          | 0/1 [00:00<?, ?it/s]"
      ]
     },
     "metadata": {},
     "output_type": "display_data"
    },
    {
     "name": "stdout",
     "output_type": "stream",
     "text": [
      "PDB: Download complete. File saved at data/PDB/data.json\n",
      "lncRNA: Downloading dataset from HuggingFace Hub...\n"
     ]
    },
    {
     "data": {
      "application/vnd.jupyter.widget-view+json": {
       "model_id": "c86a407f770b499d8e2d2863c217aa56",
       "version_major": 2,
       "version_minor": 0
      },
      "text/plain": [
       "Fetching 1 files:   0%|          | 0/1 [00:00<?, ?it/s]"
      ]
     },
     "metadata": {},
     "output_type": "display_data"
    },
    {
     "name": "stdout",
     "output_type": "stream",
     "text": [
      "lncRNA: Download complete. File saved at data/lncRNA/data.json\n",
      "viral_fragments: Downloading dataset from HuggingFace Hub...\n"
     ]
    },
    {
     "data": {
      "application/vnd.jupyter.widget-view+json": {
       "model_id": "6e64208790e8415aa39f3b40eff590eb",
       "version_major": 2,
       "version_minor": 0
      },
      "text/plain": [
       "Fetching 1 files:   0%|          | 0/1 [00:00<?, ?it/s]"
      ]
     },
     "metadata": {},
     "output_type": "display_data"
    },
    {
     "name": "stdout",
     "output_type": "stream",
     "text": [
      "viral_fragments: Download complete. File saved at data/viral_fragments/data.json\n"
     ]
    }
   ],
   "source": [
    "ground_truth = pd.DataFrame()\n",
    "\n",
    "for test_set in [\"PDB\", \"lncRNA\", \"viral_fragments\"]:\n",
    "    data = get_dataset(test_set, force_download=True)\n",
    "    data = pd.DataFrame(data).T[['sequence', 'structure']]\n",
    "    data['dataset'] = test_set\n",
    "\n",
    "    ground_truth = pd.concat([ground_truth, data])\n",
    "    del data"
   ]
  },
  {
   "cell_type": "code",
   "execution_count": 59,
   "metadata": {},
   "outputs": [
    {
     "name": "stdout",
     "output_type": "stream",
     "text": [
      "dataset\n",
      "PDB                0.828023\n",
      "lncRNA             0.076437\n",
      "viral_fragments    0.499693\n",
      "Name: f1, dtype: float64\n",
      "dataset\n",
      "PDB                0.870385\n",
      "lncRNA             0.105360\n",
      "viral_fragments    0.541010\n",
      "Name: f1, dtype: float64\n"
     ]
    }
   ],
   "source": [
    "data_comparison = pd.DataFrame()\n",
    "\n",
    "for model in ['PT', 'PT+FT']:\n",
    "\n",
    "    prediction = pd.read_feather(f'data/test_results_{model}.feather')\n",
    "\n",
    "    merged = ground_truth.reset_index().rename(columns={'index': 'reference'}).merge(prediction, on=['sequence', 'reference'], suffixes=('_true', '_pred'))\n",
    "\n",
    "    f1s = []\n",
    "    for i, row in merged.iterrows():\n",
    "        f1s.append(compute_f1(torch.tensor(np.stack(row['structure_pred'])), \n",
    "                            pairList2pairMatrix(row['structure_true'], len(row['sequence']))))\n",
    "\n",
    "    merged['f1'] = f1s\n",
    "    merged['model'] = model\n",
    "    print(merged.groupby('dataset')['f1'].mean())\n",
    "\n",
    "    data_comparison = pd.concat([data_comparison, merged[['reference', 'sequence', 'model', 'dataset', 'f1']]])"
   ]
  },
  {
   "cell_type": "code",
   "execution_count": 60,
   "metadata": {},
   "outputs": [
    {
     "data": {
      "application/vnd.plotly.v1+json": {
       "config": {
        "plotlyServerURL": "https://plot.ly"
       },
       "data": [
        {
         "alignmentgroup": "True",
         "box": {
          "visible": true
         },
         "hovertemplate": "model=PT<br>dataset=%{x}<br>f1=%{y}<extra></extra>",
         "legendgroup": "PT",
         "marker": {
          "color": "#636efa"
         },
         "name": "PT",
         "offsetgroup": "PT",
         "orientation": "v",
         "scalegroup": "True",
         "showlegend": true,
         "type": "violin",
         "x": [
          "PDB",
          "PDB",
          "PDB",
          "PDB",
          "PDB",
          "PDB",
          "PDB",
          "PDB",
          "PDB",
          "PDB",
          "PDB",
          "PDB",
          "PDB",
          "PDB",
          "PDB",
          "PDB",
          "PDB",
          "PDB",
          "PDB",
          "PDB",
          "PDB",
          "PDB",
          "PDB",
          "PDB",
          "PDB",
          "PDB",
          "PDB",
          "PDB",
          "PDB",
          "PDB",
          "PDB",
          "PDB",
          "PDB",
          "PDB",
          "PDB",
          "PDB",
          "PDB",
          "PDB",
          "PDB",
          "PDB",
          "PDB",
          "PDB",
          "PDB",
          "PDB",
          "PDB",
          "PDB",
          "PDB",
          "PDB",
          "PDB",
          "PDB",
          "PDB",
          "PDB",
          "PDB",
          "PDB",
          "PDB",
          "PDB",
          "PDB",
          "PDB",
          "PDB",
          "PDB",
          "PDB",
          "PDB",
          "PDB",
          "PDB",
          "PDB",
          "PDB",
          "PDB",
          "PDB",
          "PDB",
          "PDB",
          "PDB",
          "PDB",
          "PDB",
          "PDB",
          "PDB",
          "PDB",
          "PDB",
          "PDB",
          "PDB",
          "PDB",
          "PDB",
          "PDB",
          "PDB",
          "PDB",
          "PDB",
          "PDB",
          "PDB",
          "PDB",
          "PDB",
          "PDB",
          "PDB",
          "PDB",
          "PDB",
          "PDB",
          "PDB",
          "PDB",
          "PDB",
          "PDB",
          "PDB",
          "PDB",
          "PDB",
          "PDB",
          "PDB",
          "PDB",
          "PDB",
          "PDB",
          "PDB",
          "PDB",
          "PDB",
          "PDB",
          "PDB",
          "PDB",
          "PDB",
          "PDB",
          "PDB",
          "PDB",
          "PDB",
          "PDB",
          "PDB",
          "PDB",
          "PDB",
          "PDB",
          "PDB",
          "PDB",
          "PDB",
          "PDB",
          "PDB",
          "PDB",
          "PDB",
          "PDB",
          "PDB",
          "PDB",
          "PDB",
          "PDB",
          "PDB",
          "PDB",
          "PDB",
          "PDB",
          "PDB",
          "PDB",
          "PDB",
          "PDB",
          "PDB",
          "PDB",
          "PDB",
          "PDB",
          "PDB",
          "PDB",
          "PDB",
          "PDB",
          "PDB",
          "PDB",
          "PDB",
          "PDB",
          "PDB",
          "PDB",
          "PDB",
          "PDB",
          "PDB",
          "PDB",
          "PDB",
          "PDB",
          "PDB",
          "PDB",
          "PDB",
          "PDB",
          "PDB",
          "PDB",
          "PDB",
          "PDB",
          "PDB",
          "PDB",
          "PDB",
          "PDB",
          "PDB",
          "PDB",
          "PDB",
          "PDB",
          "PDB",
          "PDB",
          "PDB",
          "PDB",
          "PDB",
          "PDB",
          "PDB",
          "PDB",
          "PDB",
          "PDB",
          "PDB",
          "PDB",
          "PDB",
          "PDB",
          "PDB",
          "PDB",
          "PDB",
          "PDB",
          "PDB",
          "PDB",
          "PDB",
          "PDB",
          "PDB",
          "PDB",
          "PDB",
          "PDB",
          "PDB",
          "PDB",
          "PDB",
          "PDB",
          "PDB",
          "PDB",
          "PDB",
          "PDB",
          "PDB",
          "PDB",
          "PDB",
          "PDB",
          "PDB",
          "PDB",
          "PDB",
          "PDB",
          "PDB",
          "PDB",
          "PDB",
          "PDB",
          "PDB",
          "PDB",
          "PDB",
          "PDB",
          "PDB",
          "PDB",
          "PDB",
          "PDB",
          "PDB",
          "PDB",
          "PDB",
          "PDB",
          "PDB",
          "PDB",
          "PDB",
          "PDB",
          "PDB",
          "PDB",
          "PDB",
          "PDB",
          "PDB",
          "PDB",
          "PDB",
          "PDB",
          "PDB",
          "PDB",
          "PDB",
          "PDB",
          "PDB",
          "PDB",
          "PDB",
          "PDB",
          "PDB",
          "PDB",
          "PDB",
          "PDB",
          "PDB",
          "PDB",
          "PDB",
          "PDB",
          "PDB",
          "PDB",
          "PDB",
          "PDB",
          "PDB",
          "PDB",
          "PDB",
          "PDB",
          "PDB",
          "PDB",
          "PDB",
          "PDB",
          "PDB",
          "PDB",
          "PDB",
          "PDB",
          "PDB",
          "PDB",
          "PDB",
          "PDB",
          "PDB",
          "PDB",
          "PDB",
          "PDB",
          "PDB",
          "PDB",
          "PDB",
          "PDB",
          "PDB",
          "PDB",
          "PDB",
          "PDB",
          "PDB",
          "PDB",
          "PDB",
          "PDB",
          "PDB",
          "PDB",
          "PDB",
          "PDB",
          "PDB",
          "PDB",
          "PDB",
          "PDB",
          "PDB",
          "PDB",
          "PDB",
          "PDB",
          "PDB",
          "PDB",
          "PDB",
          "PDB",
          "PDB",
          "PDB",
          "PDB",
          "PDB",
          "PDB",
          "PDB",
          "PDB",
          "PDB",
          "PDB",
          "PDB",
          "PDB",
          "PDB",
          "PDB",
          "PDB",
          "PDB",
          "PDB",
          "PDB",
          "PDB",
          "PDB",
          "PDB",
          "PDB",
          "PDB",
          "PDB",
          "PDB",
          "PDB",
          "PDB",
          "PDB",
          "PDB",
          "PDB",
          "PDB",
          "PDB",
          "PDB",
          "PDB",
          "PDB",
          "PDB",
          "PDB",
          "PDB",
          "PDB",
          "PDB",
          "PDB",
          "lncRNA",
          "lncRNA",
          "lncRNA",
          "lncRNA",
          "lncRNA",
          "lncRNA",
          "lncRNA",
          "lncRNA",
          "lncRNA",
          "lncRNA",
          "lncRNA",
          "lncRNA",
          "lncRNA",
          "lncRNA",
          "lncRNA",
          "viral_fragments",
          "viral_fragments",
          "viral_fragments",
          "viral_fragments",
          "viral_fragments",
          "viral_fragments",
          "viral_fragments",
          "viral_fragments",
          "viral_fragments",
          "viral_fragments",
          "viral_fragments",
          "viral_fragments",
          "viral_fragments",
          "viral_fragments",
          "viral_fragments",
          "viral_fragments",
          "viral_fragments",
          "viral_fragments",
          "viral_fragments",
          "viral_fragments",
          "viral_fragments",
          "viral_fragments",
          "viral_fragments",
          "viral_fragments",
          "viral_fragments",
          "viral_fragments",
          "viral_fragments",
          "viral_fragments",
          "viral_fragments",
          "viral_fragments",
          "viral_fragments",
          "viral_fragments",
          "viral_fragments",
          "viral_fragments",
          "viral_fragments",
          "viral_fragments",
          "viral_fragments",
          "viral_fragments",
          "viral_fragments",
          "viral_fragments",
          "viral_fragments",
          "viral_fragments",
          "viral_fragments",
          "viral_fragments",
          "viral_fragments",
          "viral_fragments",
          "viral_fragments",
          "viral_fragments",
          "viral_fragments",
          "viral_fragments",
          "viral_fragments",
          "viral_fragments",
          "viral_fragments",
          "viral_fragments",
          "viral_fragments",
          "viral_fragments",
          "viral_fragments",
          "viral_fragments"
         ],
         "x0": " ",
         "xaxis": "x",
         "y": [
          0.7058823704719543,
          0.8039215803146362,
          0.95652174949646,
          0.9090909361839294,
          0.8421052694320679,
          0.9090909361839294,
          0.8888888955116272,
          0.7857142686843872,
          0.7692307829856873,
          0.8837209343910217,
          0.800000011920929,
          0.9230769276618958,
          0.9411764740943909,
          0.8799999952316284,
          0.875,
          0.8571428656578064,
          0.8235294222831726,
          0.9090909361839294,
          0.7692307829856873,
          0,
          0.9375,
          0.8235294222831726,
          0.8695651888847351,
          0.7639639377593994,
          0.9411764740943909,
          1,
          1,
          0.8571428656578064,
          0.6896551847457886,
          0.875,
          0.9473684430122375,
          0.8571428656578064,
          0.9545454382896423,
          0.9090909361839294,
          0.8888888955116272,
          0.9230769276618958,
          0.8695651888847351,
          0.5396825671195984,
          0.8965517282485962,
          0.9523809552192688,
          0.9090909361839294,
          0.8695651888847351,
          0.7272727489471436,
          0.9523809552192688,
          0.8235294222831726,
          0.6363636255264282,
          0.8571428656578064,
          0.8999999761581421,
          0.8333333134651184,
          0.9411764740943909,
          0,
          0.9333333373069763,
          0.6666666865348816,
          0.800000011920929,
          0.8387096524238586,
          0.7058823704719543,
          0.8571428656578064,
          1,
          0.8275862336158752,
          0.761904776096344,
          0.6666666865348816,
          0.8421052694320679,
          0.95652174949646,
          0.9473684430122375,
          0.9090909361839294,
          0,
          0.800000011920929,
          0.8888888955116272,
          0,
          0.7692307829856873,
          0.9629629850387573,
          0.8571428656578064,
          0.774193525314331,
          0.9375,
          0.8817204236984253,
          0.7941176295280457,
          0.8888888955116272,
          0.9090909361839294,
          0.8333333134651184,
          1,
          0.8571428656578064,
          0.8571428656578064,
          0.8125,
          0.9599999785423279,
          0.9090909361839294,
          0.9473684430122375,
          0.800000011920929,
          0.9166666865348816,
          0.800000011920929,
          0.8571428656578064,
          0.6792452931404114,
          0.9090909361839294,
          0.8999999761581421,
          0.9333333373069763,
          0.95652174949646,
          0.9411764740943909,
          0.8571428656578064,
          0.8421052694320679,
          0.761904776096344,
          0.6666666865348816,
          0.9473684430122375,
          0.875,
          0.8421052694320679,
          0.800000011920929,
          0.8999999761581421,
          0.800000011920929,
          0.8888888955116272,
          1,
          0.9166666865348816,
          0.875,
          0.800000011920929,
          0.6315789222717285,
          0.6451612710952759,
          0.7058823704719543,
          0.8888888955116272,
          0.8888888955116272,
          0.8571428656578064,
          0.7777777910232544,
          0.800000011920929,
          0.930232584476471,
          0.5555555820465088,
          0.699999988079071,
          0.8059701323509216,
          0.9629629850387573,
          0,
          0.9473684430122375,
          0.875,
          0.8405796885490417,
          0.8181818127632141,
          0.8235294222831726,
          0.9090909361839294,
          0.8571428656578064,
          0.9032257795333862,
          0.6153846383094788,
          0.9599999785423279,
          0.7445255517959595,
          1,
          0.8999999761581421,
          0.8333333134651184,
          0.8888888955116272,
          0.8571428656578064,
          0.9090909361839294,
          0.8421052694320679,
          0.8421052694320679,
          0.9019607901573181,
          0.8399999737739563,
          0.875,
          0.8888888955116272,
          0.9629629850387573,
          0.8999999761581421,
          0.8888888955116272,
          0.8333333134651184,
          0.8823529481887817,
          0.95652174949646,
          0.800000011920929,
          0.9411764740943909,
          0.95652174949646,
          0.782608687877655,
          0.8333333134651184,
          0.9166666865348816,
          0.8999999761581421,
          0.875,
          0.7857142686843872,
          0.47787609696388245,
          0.9090909361839294,
          0.9090909361839294,
          0.8888888955116272,
          0.9523809552192688,
          0.8999999761581421,
          0.800000011920929,
          0.6990291476249695,
          0.9090909361839294,
          1,
          0.8571428656578064,
          0.75,
          0.8999999761581421,
          0.8571428656578064,
          0.9047619104385376,
          0,
          0.9473684430122375,
          0.8888888955116272,
          0.800000011920929,
          0.7142857313156128,
          0.800000011920929,
          0.6938775777816772,
          0.9090909361839294,
          0.8888888955116272,
          1,
          0.6153846383094788,
          0.8404494524002075,
          0.8500000238418579,
          0.95652174949646,
          0.8148148059844971,
          0.8571428656578064,
          0.75,
          0.8571428656578064,
          0.9473684430122375,
          0.7272727489471436,
          0.875,
          0.8333333134651184,
          0.9333333373069763,
          0.800000011920929,
          0.9599999785423279,
          1,
          0.8015872836112976,
          0.800000011920929,
          0.7722772359848022,
          0.4146341383457184,
          0.8936170339584351,
          0.8235294222831726,
          1,
          0.8405796885490417,
          0.7850467562675476,
          0.75,
          0.8181818127632141,
          0.6666666865348816,
          1,
          0.8333333134651184,
          0.3433476388454437,
          0.800000011920929,
          1,
          0.9473684430122375,
          0.8333333134651184,
          0.6666666865348816,
          0.9090909361839294,
          0.7692307829856873,
          0.8235294222831726,
          0.8571428656578064,
          0.7692307829856873,
          0.6399999856948853,
          0,
          0.8947368264198303,
          0.9375,
          0.9411764740943909,
          0.8999999761581421,
          0.9090909361839294,
          0.9166666865348816,
          0.9285714030265808,
          0.9655172228813171,
          0.9230769276618958,
          0.7272727489471436,
          1,
          0.8333333134651184,
          0.8333333134651184,
          0.8888888955116272,
          0.8333333134651184,
          0.9333333373069763,
          0.5454545617103577,
          0.7142857313156128,
          0.8148148059844971,
          0.8888888955116272,
          0.8888888955116272,
          0.7407407164573669,
          0.8571428656578064,
          0.8695651888847351,
          0.9411764740943909,
          0.9333333373069763,
          0.8571428656578064,
          0.8799999952316284,
          0.9655172228813171,
          0.8235294222831726,
          0.9473684430122375,
          0.9473684430122375,
          0.782608687877655,
          0.9142857193946838,
          0.9230769276618958,
          0.6341463327407837,
          0.8888888955116272,
          0.9599999785423279,
          0.782608687877655,
          0.9230769276618958,
          0.8421052694320679,
          0.9230769276618958,
          0.9333333373069763,
          0.774193525314331,
          0.95652174949646,
          0.7857142686843872,
          0.800000011920929,
          0.875,
          0.8974359035491943,
          0.8965517282485962,
          0.6222222447395325,
          1,
          0.875,
          0.9473684430122375,
          1,
          0.9411764740943909,
          0.9411764740943909,
          0.8571428656578064,
          0.8421052694320679,
          0.9230769276618958,
          0.9473684430122375,
          0.9473684430122375,
          0.800000011920929,
          0.8717948794364929,
          0.9504950642585754,
          0.6666666865348816,
          0.8888888955116272,
          0.9545454382896423,
          0.9333333373069763,
          0.8888888955116272,
          0.6060606241226196,
          1,
          0.8999999761581421,
          0.6190476417541504,
          0.9090909361839294,
          0.9523809552192688,
          0.6551724076271057,
          0.8888888955116272,
          0.8666666746139526,
          0.8999999761581421,
          0.7777777910232544,
          0.6060606241226196,
          0.800000011920929,
          0.8235294222831726,
          0.8333333134651184,
          0.8235294222831726,
          0.8695651888847351,
          0.9090909361839294,
          0,
          0.9599999785423279,
          0.8181818127632141,
          0.75,
          0.6666666865348816,
          0.9333333373069763,
          0.9189189076423645,
          0.9333333373069763,
          0.695652186870575,
          0.8659793734550476,
          0.7692307829856873,
          0.7096773982048035,
          0.9473684430122375,
          0.7263922691345215,
          0.7766990065574646,
          1,
          0.875,
          0.5984252095222473,
          0.8181818127632141,
          0.4848484992980957,
          1,
          0.9333333373069763,
          0.9333333373069763,
          0.800000011920929,
          0.800000011920929,
          0.800000011920929,
          0.8333333134651184,
          0.7692307829856873,
          0.8181818127632141,
          0.9473684430122375,
          1,
          0,
          0.9142857193946838,
          0.7058823704719543,
          0.782608687877655,
          0.9599999785423279,
          0.75,
          0.23076923191547394,
          0.2405063360929489,
          0,
          0.5806451439857483,
          0,
          0,
          0,
          0,
          0,
          0,
          0,
          0,
          0,
          0,
          0.09463722258806229,
          0.8048780560493469,
          0.7777777910232544,
          0.7181817889213562,
          0.7037037014961243,
          0.7692307829856873,
          0.5888324975967407,
          0.395256906747818,
          0.5846154093742371,
          0.6570048332214355,
          0.7326732873916626,
          0.6239316463470459,
          0.631147563457489,
          0.4334600865840912,
          0.5951557159423828,
          0.4035087823867798,
          0.5408805012702942,
          0.6565656661987305,
          0.7857142686843872,
          0.5652173757553101,
          0.695652186870575,
          0.6101694703102112,
          0.6976743936538696,
          0.701298713684082,
          0.6865671873092651,
          0.556291401386261,
          0.6015625,
          0.6219512224197388,
          0.43478259444236755,
          0.07407407462596893,
          0.47887325286865234,
          0.6464646458625793,
          0.5423728823661804,
          0.7796609997749329,
          0.1488833725452423,
          0.125,
          0.17834395170211792,
          0.5080385804176331,
          0.35862070322036743,
          0.5030674934387207,
          0.3925233781337738,
          0.28664496541023254,
          0.796875,
          0.4225352108478546,
          0.6716980934143066,
          0.3466666638851166,
          0.14426229894161224,
          0.37654322385787964,
          0.23118279874324799,
          0.158620685338974,
          0.36781609058380127,
          0.014184396713972092,
          0.26829269528388977,
          0.30075186491012573,
          0.237726092338562,
          0.5161290168762207,
          0.31111112236976624,
          0.3535911738872528,
          0.8679245114326477
         ],
         "y0": " ",
         "yaxis": "y"
        },
        {
         "alignmentgroup": "True",
         "box": {
          "visible": true
         },
         "hovertemplate": "model=PT+FT<br>dataset=%{x}<br>f1=%{y}<extra></extra>",
         "legendgroup": "PT+FT",
         "marker": {
          "color": "#EF553B"
         },
         "name": "PT+FT",
         "offsetgroup": "PT+FT",
         "orientation": "v",
         "scalegroup": "True",
         "showlegend": true,
         "type": "violin",
         "x": [
          "PDB",
          "PDB",
          "PDB",
          "PDB",
          "PDB",
          "PDB",
          "PDB",
          "PDB",
          "PDB",
          "PDB",
          "PDB",
          "PDB",
          "PDB",
          "PDB",
          "PDB",
          "PDB",
          "PDB",
          "PDB",
          "PDB",
          "PDB",
          "PDB",
          "PDB",
          "PDB",
          "PDB",
          "PDB",
          "PDB",
          "PDB",
          "PDB",
          "PDB",
          "PDB",
          "PDB",
          "PDB",
          "PDB",
          "PDB",
          "PDB",
          "PDB",
          "PDB",
          "PDB",
          "PDB",
          "PDB",
          "PDB",
          "PDB",
          "PDB",
          "PDB",
          "PDB",
          "PDB",
          "PDB",
          "PDB",
          "PDB",
          "PDB",
          "PDB",
          "PDB",
          "PDB",
          "PDB",
          "PDB",
          "PDB",
          "PDB",
          "PDB",
          "PDB",
          "PDB",
          "PDB",
          "PDB",
          "PDB",
          "PDB",
          "PDB",
          "PDB",
          "PDB",
          "PDB",
          "PDB",
          "PDB",
          "PDB",
          "PDB",
          "PDB",
          "PDB",
          "PDB",
          "PDB",
          "PDB",
          "PDB",
          "PDB",
          "PDB",
          "PDB",
          "PDB",
          "PDB",
          "PDB",
          "PDB",
          "PDB",
          "PDB",
          "PDB",
          "PDB",
          "PDB",
          "PDB",
          "PDB",
          "PDB",
          "PDB",
          "PDB",
          "PDB",
          "PDB",
          "PDB",
          "PDB",
          "PDB",
          "PDB",
          "PDB",
          "PDB",
          "PDB",
          "PDB",
          "PDB",
          "PDB",
          "PDB",
          "PDB",
          "PDB",
          "PDB",
          "PDB",
          "PDB",
          "PDB",
          "PDB",
          "PDB",
          "PDB",
          "PDB",
          "PDB",
          "PDB",
          "PDB",
          "PDB",
          "PDB",
          "PDB",
          "PDB",
          "PDB",
          "PDB",
          "PDB",
          "PDB",
          "PDB",
          "PDB",
          "PDB",
          "PDB",
          "PDB",
          "PDB",
          "PDB",
          "PDB",
          "PDB",
          "PDB",
          "PDB",
          "PDB",
          "PDB",
          "PDB",
          "PDB",
          "PDB",
          "PDB",
          "PDB",
          "PDB",
          "PDB",
          "PDB",
          "PDB",
          "PDB",
          "PDB",
          "PDB",
          "PDB",
          "PDB",
          "PDB",
          "PDB",
          "PDB",
          "PDB",
          "PDB",
          "PDB",
          "PDB",
          "PDB",
          "PDB",
          "PDB",
          "PDB",
          "PDB",
          "PDB",
          "PDB",
          "PDB",
          "PDB",
          "PDB",
          "PDB",
          "PDB",
          "PDB",
          "PDB",
          "PDB",
          "PDB",
          "PDB",
          "PDB",
          "PDB",
          "PDB",
          "PDB",
          "PDB",
          "PDB",
          "PDB",
          "PDB",
          "PDB",
          "PDB",
          "PDB",
          "PDB",
          "PDB",
          "PDB",
          "PDB",
          "PDB",
          "PDB",
          "PDB",
          "PDB",
          "PDB",
          "PDB",
          "PDB",
          "PDB",
          "PDB",
          "PDB",
          "PDB",
          "PDB",
          "PDB",
          "PDB",
          "PDB",
          "PDB",
          "PDB",
          "PDB",
          "PDB",
          "PDB",
          "PDB",
          "PDB",
          "PDB",
          "PDB",
          "PDB",
          "PDB",
          "PDB",
          "PDB",
          "PDB",
          "PDB",
          "PDB",
          "PDB",
          "PDB",
          "PDB",
          "PDB",
          "PDB",
          "PDB",
          "PDB",
          "PDB",
          "PDB",
          "PDB",
          "PDB",
          "PDB",
          "PDB",
          "PDB",
          "PDB",
          "PDB",
          "PDB",
          "PDB",
          "PDB",
          "PDB",
          "PDB",
          "PDB",
          "PDB",
          "PDB",
          "PDB",
          "PDB",
          "PDB",
          "PDB",
          "PDB",
          "PDB",
          "PDB",
          "PDB",
          "PDB",
          "PDB",
          "PDB",
          "PDB",
          "PDB",
          "PDB",
          "PDB",
          "PDB",
          "PDB",
          "PDB",
          "PDB",
          "PDB",
          "PDB",
          "PDB",
          "PDB",
          "PDB",
          "PDB",
          "PDB",
          "PDB",
          "PDB",
          "PDB",
          "PDB",
          "PDB",
          "PDB",
          "PDB",
          "PDB",
          "PDB",
          "PDB",
          "PDB",
          "PDB",
          "PDB",
          "PDB",
          "PDB",
          "PDB",
          "PDB",
          "PDB",
          "PDB",
          "PDB",
          "PDB",
          "PDB",
          "PDB",
          "PDB",
          "PDB",
          "PDB",
          "PDB",
          "PDB",
          "PDB",
          "PDB",
          "PDB",
          "PDB",
          "PDB",
          "PDB",
          "PDB",
          "PDB",
          "PDB",
          "PDB",
          "PDB",
          "PDB",
          "PDB",
          "PDB",
          "PDB",
          "PDB",
          "PDB",
          "PDB",
          "PDB",
          "PDB",
          "PDB",
          "PDB",
          "PDB",
          "PDB",
          "PDB",
          "PDB",
          "PDB",
          "PDB",
          "PDB",
          "PDB",
          "PDB",
          "PDB",
          "PDB",
          "PDB",
          "PDB",
          "PDB",
          "PDB",
          "PDB",
          "PDB",
          "PDB",
          "PDB",
          "PDB",
          "PDB",
          "PDB",
          "PDB",
          "PDB",
          "PDB",
          "PDB",
          "PDB",
          "PDB",
          "PDB",
          "PDB",
          "lncRNA",
          "lncRNA",
          "lncRNA",
          "lncRNA",
          "lncRNA",
          "lncRNA",
          "lncRNA",
          "lncRNA",
          "lncRNA",
          "lncRNA",
          "lncRNA",
          "lncRNA",
          "lncRNA",
          "lncRNA",
          "lncRNA",
          "viral_fragments",
          "viral_fragments",
          "viral_fragments",
          "viral_fragments",
          "viral_fragments",
          "viral_fragments",
          "viral_fragments",
          "viral_fragments",
          "viral_fragments",
          "viral_fragments",
          "viral_fragments",
          "viral_fragments",
          "viral_fragments",
          "viral_fragments",
          "viral_fragments",
          "viral_fragments",
          "viral_fragments",
          "viral_fragments",
          "viral_fragments",
          "viral_fragments",
          "viral_fragments",
          "viral_fragments",
          "viral_fragments",
          "viral_fragments",
          "viral_fragments",
          "viral_fragments",
          "viral_fragments",
          "viral_fragments",
          "viral_fragments",
          "viral_fragments",
          "viral_fragments",
          "viral_fragments",
          "viral_fragments",
          "viral_fragments",
          "viral_fragments",
          "viral_fragments",
          "viral_fragments",
          "viral_fragments",
          "viral_fragments",
          "viral_fragments",
          "viral_fragments",
          "viral_fragments",
          "viral_fragments",
          "viral_fragments",
          "viral_fragments",
          "viral_fragments",
          "viral_fragments",
          "viral_fragments",
          "viral_fragments",
          "viral_fragments",
          "viral_fragments",
          "viral_fragments",
          "viral_fragments",
          "viral_fragments",
          "viral_fragments",
          "viral_fragments",
          "viral_fragments",
          "viral_fragments"
         ],
         "x0": " ",
         "xaxis": "x",
         "y": [
          0.625,
          0.8118811845779419,
          0.95652174949646,
          1,
          0.8888888955116272,
          1,
          0.9411764740943909,
          0.8846153616905212,
          0.8333333134651184,
          0.746666669845581,
          0.800000011920929,
          0.7692307829856873,
          1,
          0.5882353186607361,
          0.9333333373069763,
          0.8571428656578064,
          0.8235294222831726,
          1,
          0.8333333134651184,
          0,
          0.9677419066429138,
          0.875,
          0.95652174949646,
          0.8324872851371765,
          1,
          1,
          1,
          0.8571428656578064,
          0.7407407164573669,
          0.875,
          1,
          0.8571428656578064,
          0.9767441749572754,
          1,
          1,
          0.7692307829856873,
          0.9090909361839294,
          0.4333333373069763,
          0.8241205811500549,
          0.9523809552192688,
          0.7777777910232544,
          0.8421052694320679,
          0.800000011920929,
          0.9523809552192688,
          0.9333333373069763,
          0.699999988079071,
          0.9230769276618958,
          0.8947368264198303,
          0.9090909361839294,
          0.9411764740943909,
          0,
          0.8679245114326477,
          0.7272727489471436,
          0.9411764740943909,
          0.8965517282485962,
          0.6666666865348816,
          0.9473684430122375,
          1,
          0.8030887842178345,
          1,
          0.47058823704719543,
          0.9411764740943909,
          1,
          0.9473684430122375,
          1,
          0.2733812928199768,
          0.8571428656578064,
          1,
          0,
          0.7692307829856873,
          1,
          0.9599999785423279,
          0.9230769276618958,
          0.9032257795333862,
          0.7792207598686218,
          0.7936508059501648,
          1,
          1,
          0.9523809552192688,
          1,
          1,
          0.8999999761581421,
          0.8666666746139526,
          1,
          0.9090909361839294,
          1,
          0.9230769276618958,
          1,
          0.9230769276618958,
          0.9599999785423279,
          0.6666666865348816,
          0.8666666746139526,
          0.8999999761581421,
          0.9333333373069763,
          0.95652174949646,
          0.9411764740943909,
          1,
          0.8888888955116272,
          0.701298713684082,
          0.6666666865348816,
          1,
          0.9333333373069763,
          0.8888888955116272,
          1,
          0.9473684430122375,
          0.8888888955116272,
          0.8888888955116272,
          0.8571428656578064,
          0.9583333134651184,
          0.9333333373069763,
          0.9230769276618958,
          0.3461538553237915,
          0.6666666865348816,
          0.8235294222831726,
          1,
          0.75,
          0.8823529481887817,
          0.8235294222831726,
          0.9655172228813171,
          0.9756097793579102,
          0.5446009635925293,
          0.875,
          0.920634925365448,
          1,
          1,
          0.8235294222831726,
          0.875,
          0.6551724076271057,
          0.7368420958518982,
          0.9333333373069763,
          1,
          1,
          0.9032257795333862,
          0.7272727489471436,
          0.9411764740943909,
          0.8487584590911865,
          0.9473684430122375,
          0.9473684430122375,
          0.8333333134651184,
          1,
          0.9333333373069763,
          1,
          0.8888888955116272,
          0.8888888955116272,
          0.6666666865348816,
          0.8260869383811951,
          0.9333333373069763,
          1,
          0.9629629850387573,
          0.8999999761581421,
          0.9767441749572754,
          0.9090909361839294,
          0.9411764740943909,
          1,
          0.8888888955116272,
          0.9411764740943909,
          0.95652174949646,
          0.8999999761581421,
          1,
          0.8999999761581421,
          0.5,
          0.875,
          0.9333333373069763,
          0.5409836173057556,
          0.9090909361839294,
          1,
          1,
          0.9523809552192688,
          0.9729729890823364,
          0.8235294222831726,
          0.7446808218955994,
          0.9777777791023254,
          1,
          0.9473684430122375,
          0.800000011920929,
          0.9473684430122375,
          0.8999999761581421,
          0.9756097793579102,
          1,
          1,
          0.9230769276618958,
          0.9230769276618958,
          0.9090909361839294,
          0.9230769276618958,
          0.800000011920929,
          1,
          0.9166666865348816,
          0.9333333373069763,
          0.5,
          0.8503254055976868,
          0.8947368264198303,
          0.95652174949646,
          0.8846153616905212,
          1,
          1,
          0.9333333373069763,
          0.9473684430122375,
          0.800000011920929,
          0.875,
          0.9090909361839294,
          0.9333333373069763,
          0.8695651888847351,
          1,
          1,
          0.7649402618408203,
          0.800000011920929,
          0.6666666865348816,
          0.3362831771373749,
          0.9333333373069763,
          0.9333333373069763,
          0.9333333373069763,
          0.892307698726654,
          0.8867924809455872,
          0.782608687877655,
          0.7272727489471436,
          1,
          1,
          1,
          0.31313130259513855,
          0.800000011920929,
          1,
          1,
          0.9090909361839294,
          0.800000011920929,
          0.9090909361839294,
          0.8571428656578064,
          0.9333333373069763,
          1,
          0.7272727489471436,
          0.6153846383094788,
          0,
          1,
          0.9677419066429138,
          1,
          0.9473684430122375,
          0.9090909361839294,
          0.8999999761581421,
          0.9629629850387573,
          1,
          0.9230769276618958,
          0.8421052694320679,
          1,
          1,
          0.9090909361839294,
          0.8888888955116272,
          0.8695651888847351,
          1,
          0.6315789222717285,
          0.7857142686843872,
          0.9433962106704712,
          1,
          1,
          0.9166666865348816,
          0.9230769276618958,
          0.6666666865348816,
          1,
          0.9333333373069763,
          0.8421052694320679,
          1,
          1,
          1,
          0.9473684430122375,
          0.9473684430122375,
          0.9090909361839294,
          0.9411764740943909,
          0.9473684430122375,
          0.7252747416496277,
          0.8888888955116272,
          1,
          0.9473684430122375,
          0.9230769276618958,
          0.8888888955116272,
          1,
          1,
          0.8275862336158752,
          0.95652174949646,
          0.8799999952316284,
          0.8387096524238586,
          0.9333333373069763,
          0.6567164063453674,
          0.9230769276618958,
          0.8717948794364929,
          1,
          0.875,
          1,
          1,
          0.9411764740943909,
          1,
          0.9230769276618958,
          0.9411764740943909,
          1,
          0.9473684430122375,
          1,
          0.8648648858070374,
          0.9189189076423645,
          0.9399999976158142,
          0.75,
          0.8888888955116272,
          0.9767441749572754,
          1,
          0.9411764740943909,
          0.625,
          1,
          0.8484848737716675,
          0.695652186870575,
          1,
          1,
          0.7307692170143127,
          1,
          0.9629629850387573,
          0.9473684430122375,
          0.9655172228813171,
          0.7586206793785095,
          0.8888888955116272,
          0.875,
          1,
          0.9333333373069763,
          1,
          1,
          0,
          0.9599999785423279,
          0.9473684430122375,
          1,
          0,
          0.8636363744735718,
          0.9714285731315613,
          1,
          0.6315789222717285,
          0.7368420958518982,
          0.95652174949646,
          0.8461538553237915,
          1,
          0.7581395506858826,
          0.7021276354789734,
          1,
          1,
          0.6131386756896973,
          0.8999999761581421,
          0.4137931168079376,
          0.9230769276618958,
          0.5,
          0.9333333373069763,
          0.8333333134651184,
          0.8888888955116272,
          0.7142857313156128,
          1,
          0.8333333134651184,
          0.8999999761581421,
          1,
          1,
          0,
          0.9411764740943909,
          0.800000011920929,
          0.8999999761581421,
          1,
          0.9333333373069763,
          0.26356589794158936,
          0.40506330132484436,
          0.032786883413791656,
          0.6147540807723999,
          0,
          0,
          0,
          0,
          0,
          0,
          0.020325202494859695,
          0.019999999552965164,
          0.012371134012937546,
          0,
          0.21153846383094788,
          0.8500000238418579,
          0.6666666865348816,
          0.7272727489471436,
          0.6909090876579285,
          0.6451612710952759,
          0.5700934529304504,
          0.5249999761581421,
          0.698630154132843,
          0.6601941585540771,
          0.7136150002479553,
          0.6720647811889648,
          0.7348484992980957,
          0.4198473393917084,
          0.5247148275375366,
          0.35555556416511536,
          0.52173912525177,
          0.7047619223594666,
          0.7594936490058899,
          0.5882353186607361,
          0.746081531047821,
          0.7200000286102295,
          0.6758620738983154,
          0.7837837934494019,
          0.5454545617103577,
          0.6242774724960327,
          0.6058091521263123,
          0.49438202381134033,
          0.5454545617103577,
          0.5882353186607361,
          0.701298713684082,
          0.6868686676025391,
          0.5691056847572327,
          0.7924528121948242,
          0.1587301641702652,
          0.24581006169319153,
          0.21476510167121887,
          0.641269862651825,
          0.7570621371269226,
          0.5856353640556335,
          0.3120567500591278,
          0.3180212080478668,
          0.6551724076271057,
          0.44077134132385254,
          0.6814814805984497,
          0.5045045018196106,
          0.19543974101543427,
          0.3733333349227905,
          0.24117647111415863,
          0.07999999821186066,
          0.4257028102874756,
          0.20060789585113525,
          0.27450981736183167,
          0.39726027846336365,
          0.2840236723423004,
          0.6311110854148865,
          0.36947789788246155,
          0.48275861144065857,
          0.800000011920929
         ],
         "y0": " ",
         "yaxis": "y"
        }
       ],
       "layout": {
        "height": 400,
        "legend": {
         "title": {
          "text": "model"
         },
         "tracegroupgap": 0
        },
        "template": {
         "data": {
          "bar": [
           {
            "error_x": {
             "color": "#2a3f5f"
            },
            "error_y": {
             "color": "#2a3f5f"
            },
            "marker": {
             "line": {
              "color": "white",
              "width": 0.5
             },
             "pattern": {
              "fillmode": "overlay",
              "size": 10,
              "solidity": 0.2
             }
            },
            "type": "bar"
           }
          ],
          "barpolar": [
           {
            "marker": {
             "line": {
              "color": "white",
              "width": 0.5
             },
             "pattern": {
              "fillmode": "overlay",
              "size": 10,
              "solidity": 0.2
             }
            },
            "type": "barpolar"
           }
          ],
          "carpet": [
           {
            "aaxis": {
             "endlinecolor": "#2a3f5f",
             "gridcolor": "#C8D4E3",
             "linecolor": "#C8D4E3",
             "minorgridcolor": "#C8D4E3",
             "startlinecolor": "#2a3f5f"
            },
            "baxis": {
             "endlinecolor": "#2a3f5f",
             "gridcolor": "#C8D4E3",
             "linecolor": "#C8D4E3",
             "minorgridcolor": "#C8D4E3",
             "startlinecolor": "#2a3f5f"
            },
            "type": "carpet"
           }
          ],
          "choropleth": [
           {
            "colorbar": {
             "outlinewidth": 0,
             "ticks": ""
            },
            "type": "choropleth"
           }
          ],
          "contour": [
           {
            "colorbar": {
             "outlinewidth": 0,
             "ticks": ""
            },
            "colorscale": [
             [
              0,
              "#0d0887"
             ],
             [
              0.1111111111111111,
              "#46039f"
             ],
             [
              0.2222222222222222,
              "#7201a8"
             ],
             [
              0.3333333333333333,
              "#9c179e"
             ],
             [
              0.4444444444444444,
              "#bd3786"
             ],
             [
              0.5555555555555556,
              "#d8576b"
             ],
             [
              0.6666666666666666,
              "#ed7953"
             ],
             [
              0.7777777777777778,
              "#fb9f3a"
             ],
             [
              0.8888888888888888,
              "#fdca26"
             ],
             [
              1,
              "#f0f921"
             ]
            ],
            "type": "contour"
           }
          ],
          "contourcarpet": [
           {
            "colorbar": {
             "outlinewidth": 0,
             "ticks": ""
            },
            "type": "contourcarpet"
           }
          ],
          "heatmap": [
           {
            "colorbar": {
             "outlinewidth": 0,
             "ticks": ""
            },
            "colorscale": [
             [
              0,
              "#0d0887"
             ],
             [
              0.1111111111111111,
              "#46039f"
             ],
             [
              0.2222222222222222,
              "#7201a8"
             ],
             [
              0.3333333333333333,
              "#9c179e"
             ],
             [
              0.4444444444444444,
              "#bd3786"
             ],
             [
              0.5555555555555556,
              "#d8576b"
             ],
             [
              0.6666666666666666,
              "#ed7953"
             ],
             [
              0.7777777777777778,
              "#fb9f3a"
             ],
             [
              0.8888888888888888,
              "#fdca26"
             ],
             [
              1,
              "#f0f921"
             ]
            ],
            "type": "heatmap"
           }
          ],
          "heatmapgl": [
           {
            "colorbar": {
             "outlinewidth": 0,
             "ticks": ""
            },
            "colorscale": [
             [
              0,
              "#0d0887"
             ],
             [
              0.1111111111111111,
              "#46039f"
             ],
             [
              0.2222222222222222,
              "#7201a8"
             ],
             [
              0.3333333333333333,
              "#9c179e"
             ],
             [
              0.4444444444444444,
              "#bd3786"
             ],
             [
              0.5555555555555556,
              "#d8576b"
             ],
             [
              0.6666666666666666,
              "#ed7953"
             ],
             [
              0.7777777777777778,
              "#fb9f3a"
             ],
             [
              0.8888888888888888,
              "#fdca26"
             ],
             [
              1,
              "#f0f921"
             ]
            ],
            "type": "heatmapgl"
           }
          ],
          "histogram": [
           {
            "marker": {
             "pattern": {
              "fillmode": "overlay",
              "size": 10,
              "solidity": 0.2
             }
            },
            "type": "histogram"
           }
          ],
          "histogram2d": [
           {
            "colorbar": {
             "outlinewidth": 0,
             "ticks": ""
            },
            "colorscale": [
             [
              0,
              "#0d0887"
             ],
             [
              0.1111111111111111,
              "#46039f"
             ],
             [
              0.2222222222222222,
              "#7201a8"
             ],
             [
              0.3333333333333333,
              "#9c179e"
             ],
             [
              0.4444444444444444,
              "#bd3786"
             ],
             [
              0.5555555555555556,
              "#d8576b"
             ],
             [
              0.6666666666666666,
              "#ed7953"
             ],
             [
              0.7777777777777778,
              "#fb9f3a"
             ],
             [
              0.8888888888888888,
              "#fdca26"
             ],
             [
              1,
              "#f0f921"
             ]
            ],
            "type": "histogram2d"
           }
          ],
          "histogram2dcontour": [
           {
            "colorbar": {
             "outlinewidth": 0,
             "ticks": ""
            },
            "colorscale": [
             [
              0,
              "#0d0887"
             ],
             [
              0.1111111111111111,
              "#46039f"
             ],
             [
              0.2222222222222222,
              "#7201a8"
             ],
             [
              0.3333333333333333,
              "#9c179e"
             ],
             [
              0.4444444444444444,
              "#bd3786"
             ],
             [
              0.5555555555555556,
              "#d8576b"
             ],
             [
              0.6666666666666666,
              "#ed7953"
             ],
             [
              0.7777777777777778,
              "#fb9f3a"
             ],
             [
              0.8888888888888888,
              "#fdca26"
             ],
             [
              1,
              "#f0f921"
             ]
            ],
            "type": "histogram2dcontour"
           }
          ],
          "mesh3d": [
           {
            "colorbar": {
             "outlinewidth": 0,
             "ticks": ""
            },
            "type": "mesh3d"
           }
          ],
          "parcoords": [
           {
            "line": {
             "colorbar": {
              "outlinewidth": 0,
              "ticks": ""
             }
            },
            "type": "parcoords"
           }
          ],
          "pie": [
           {
            "automargin": true,
            "type": "pie"
           }
          ],
          "scatter": [
           {
            "fillpattern": {
             "fillmode": "overlay",
             "size": 10,
             "solidity": 0.2
            },
            "type": "scatter"
           }
          ],
          "scatter3d": [
           {
            "line": {
             "colorbar": {
              "outlinewidth": 0,
              "ticks": ""
             }
            },
            "marker": {
             "colorbar": {
              "outlinewidth": 0,
              "ticks": ""
             }
            },
            "type": "scatter3d"
           }
          ],
          "scattercarpet": [
           {
            "marker": {
             "colorbar": {
              "outlinewidth": 0,
              "ticks": ""
             }
            },
            "type": "scattercarpet"
           }
          ],
          "scattergeo": [
           {
            "marker": {
             "colorbar": {
              "outlinewidth": 0,
              "ticks": ""
             }
            },
            "type": "scattergeo"
           }
          ],
          "scattergl": [
           {
            "marker": {
             "colorbar": {
              "outlinewidth": 0,
              "ticks": ""
             }
            },
            "type": "scattergl"
           }
          ],
          "scattermapbox": [
           {
            "marker": {
             "colorbar": {
              "outlinewidth": 0,
              "ticks": ""
             }
            },
            "type": "scattermapbox"
           }
          ],
          "scatterpolar": [
           {
            "marker": {
             "colorbar": {
              "outlinewidth": 0,
              "ticks": ""
             }
            },
            "type": "scatterpolar"
           }
          ],
          "scatterpolargl": [
           {
            "marker": {
             "colorbar": {
              "outlinewidth": 0,
              "ticks": ""
             }
            },
            "type": "scatterpolargl"
           }
          ],
          "scatterternary": [
           {
            "marker": {
             "colorbar": {
              "outlinewidth": 0,
              "ticks": ""
             }
            },
            "type": "scatterternary"
           }
          ],
          "surface": [
           {
            "colorbar": {
             "outlinewidth": 0,
             "ticks": ""
            },
            "colorscale": [
             [
              0,
              "#0d0887"
             ],
             [
              0.1111111111111111,
              "#46039f"
             ],
             [
              0.2222222222222222,
              "#7201a8"
             ],
             [
              0.3333333333333333,
              "#9c179e"
             ],
             [
              0.4444444444444444,
              "#bd3786"
             ],
             [
              0.5555555555555556,
              "#d8576b"
             ],
             [
              0.6666666666666666,
              "#ed7953"
             ],
             [
              0.7777777777777778,
              "#fb9f3a"
             ],
             [
              0.8888888888888888,
              "#fdca26"
             ],
             [
              1,
              "#f0f921"
             ]
            ],
            "type": "surface"
           }
          ],
          "table": [
           {
            "cells": {
             "fill": {
              "color": "#EBF0F8"
             },
             "line": {
              "color": "white"
             }
            },
            "header": {
             "fill": {
              "color": "#C8D4E3"
             },
             "line": {
              "color": "white"
             }
            },
            "type": "table"
           }
          ]
         },
         "layout": {
          "annotationdefaults": {
           "arrowcolor": "#2a3f5f",
           "arrowhead": 0,
           "arrowwidth": 1
          },
          "autotypenumbers": "strict",
          "coloraxis": {
           "colorbar": {
            "outlinewidth": 0,
            "ticks": ""
           }
          },
          "colorscale": {
           "diverging": [
            [
             0,
             "#8e0152"
            ],
            [
             0.1,
             "#c51b7d"
            ],
            [
             0.2,
             "#de77ae"
            ],
            [
             0.3,
             "#f1b6da"
            ],
            [
             0.4,
             "#fde0ef"
            ],
            [
             0.5,
             "#f7f7f7"
            ],
            [
             0.6,
             "#e6f5d0"
            ],
            [
             0.7,
             "#b8e186"
            ],
            [
             0.8,
             "#7fbc41"
            ],
            [
             0.9,
             "#4d9221"
            ],
            [
             1,
             "#276419"
            ]
           ],
           "sequential": [
            [
             0,
             "#0d0887"
            ],
            [
             0.1111111111111111,
             "#46039f"
            ],
            [
             0.2222222222222222,
             "#7201a8"
            ],
            [
             0.3333333333333333,
             "#9c179e"
            ],
            [
             0.4444444444444444,
             "#bd3786"
            ],
            [
             0.5555555555555556,
             "#d8576b"
            ],
            [
             0.6666666666666666,
             "#ed7953"
            ],
            [
             0.7777777777777778,
             "#fb9f3a"
            ],
            [
             0.8888888888888888,
             "#fdca26"
            ],
            [
             1,
             "#f0f921"
            ]
           ],
           "sequentialminus": [
            [
             0,
             "#0d0887"
            ],
            [
             0.1111111111111111,
             "#46039f"
            ],
            [
             0.2222222222222222,
             "#7201a8"
            ],
            [
             0.3333333333333333,
             "#9c179e"
            ],
            [
             0.4444444444444444,
             "#bd3786"
            ],
            [
             0.5555555555555556,
             "#d8576b"
            ],
            [
             0.6666666666666666,
             "#ed7953"
            ],
            [
             0.7777777777777778,
             "#fb9f3a"
            ],
            [
             0.8888888888888888,
             "#fdca26"
            ],
            [
             1,
             "#f0f921"
            ]
           ]
          },
          "colorway": [
           "#636efa",
           "#EF553B",
           "#00cc96",
           "#ab63fa",
           "#FFA15A",
           "#19d3f3",
           "#FF6692",
           "#B6E880",
           "#FF97FF",
           "#FECB52"
          ],
          "font": {
           "color": "#2a3f5f"
          },
          "geo": {
           "bgcolor": "white",
           "lakecolor": "white",
           "landcolor": "white",
           "showlakes": true,
           "showland": true,
           "subunitcolor": "#C8D4E3"
          },
          "hoverlabel": {
           "align": "left"
          },
          "hovermode": "closest",
          "mapbox": {
           "style": "light"
          },
          "paper_bgcolor": "white",
          "plot_bgcolor": "white",
          "polar": {
           "angularaxis": {
            "gridcolor": "#EBF0F8",
            "linecolor": "#EBF0F8",
            "ticks": ""
           },
           "bgcolor": "white",
           "radialaxis": {
            "gridcolor": "#EBF0F8",
            "linecolor": "#EBF0F8",
            "ticks": ""
           }
          },
          "scene": {
           "xaxis": {
            "backgroundcolor": "white",
            "gridcolor": "#DFE8F3",
            "gridwidth": 2,
            "linecolor": "#EBF0F8",
            "showbackground": true,
            "ticks": "",
            "zerolinecolor": "#EBF0F8"
           },
           "yaxis": {
            "backgroundcolor": "white",
            "gridcolor": "#DFE8F3",
            "gridwidth": 2,
            "linecolor": "#EBF0F8",
            "showbackground": true,
            "ticks": "",
            "zerolinecolor": "#EBF0F8"
           },
           "zaxis": {
            "backgroundcolor": "white",
            "gridcolor": "#DFE8F3",
            "gridwidth": 2,
            "linecolor": "#EBF0F8",
            "showbackground": true,
            "ticks": "",
            "zerolinecolor": "#EBF0F8"
           }
          },
          "shapedefaults": {
           "line": {
            "color": "#2a3f5f"
           }
          },
          "ternary": {
           "aaxis": {
            "gridcolor": "#DFE8F3",
            "linecolor": "#A2B1C6",
            "ticks": ""
           },
           "baxis": {
            "gridcolor": "#DFE8F3",
            "linecolor": "#A2B1C6",
            "ticks": ""
           },
           "bgcolor": "white",
           "caxis": {
            "gridcolor": "#DFE8F3",
            "linecolor": "#A2B1C6",
            "ticks": ""
           }
          },
          "title": {
           "x": 0.05
          },
          "xaxis": {
           "automargin": true,
           "gridcolor": "#EBF0F8",
           "linecolor": "#EBF0F8",
           "ticks": "",
           "title": {
            "standoff": 15
           },
           "zerolinecolor": "#EBF0F8",
           "zerolinewidth": 2
          },
          "yaxis": {
           "automargin": true,
           "gridcolor": "#EBF0F8",
           "linecolor": "#EBF0F8",
           "ticks": "",
           "title": {
            "standoff": 15
           },
           "zerolinecolor": "#EBF0F8",
           "zerolinewidth": 2
          }
         }
        },
        "title": {
         "text": "F1 score on test sets"
        },
        "violinmode": "group",
        "width": 1000,
        "xaxis": {
         "anchor": "y",
         "domain": [
          0,
          1
         ],
         "title": {
          "text": "dataset"
         }
        },
        "yaxis": {
         "anchor": "x",
         "domain": [
          0,
          1
         ],
         "title": {
          "text": "f1"
         }
        }
       }
      }
     },
     "metadata": {},
     "output_type": "display_data"
    }
   ],
   "source": [
    "import plotly.express as px\n",
    "\n",
    "px.violin(data_comparison, x=\"dataset\", y=\"f1\", color=\"model\", points=None, box=True, title=\"F1 score on test sets\", template=\"plotly_white\", width=1000, height=400)\n",
    "\n"
   ]
  },
  {
   "cell_type": "code",
   "execution_count": 61,
   "metadata": {},
   "outputs": [
    {
     "data": {
      "application/vnd.plotly.v1+json": {
       "config": {
        "plotlyServerURL": "https://plot.ly"
       },
       "data": [
        {
         "marker": {
          "color": "#1F77B4"
         },
         "meanline": {
          "visible": true
         },
         "name": "PT",
         "points": false,
         "type": "violin",
         "x": [
          "PDB",
          "PDB",
          "PDB",
          "PDB",
          "PDB",
          "PDB",
          "PDB",
          "PDB",
          "PDB",
          "PDB",
          "PDB",
          "PDB",
          "PDB",
          "PDB",
          "PDB",
          "PDB",
          "PDB",
          "PDB",
          "PDB",
          "PDB",
          "PDB",
          "PDB",
          "PDB",
          "PDB",
          "PDB",
          "PDB",
          "PDB",
          "PDB",
          "PDB",
          "PDB",
          "PDB",
          "PDB",
          "PDB",
          "PDB",
          "PDB",
          "PDB",
          "PDB",
          "PDB",
          "PDB",
          "PDB",
          "PDB",
          "PDB",
          "PDB",
          "PDB",
          "PDB",
          "PDB",
          "PDB",
          "PDB",
          "PDB",
          "PDB",
          "PDB",
          "PDB",
          "PDB",
          "PDB",
          "PDB",
          "PDB",
          "PDB",
          "PDB",
          "PDB",
          "PDB",
          "PDB",
          "PDB",
          "PDB",
          "PDB",
          "PDB",
          "PDB",
          "PDB",
          "PDB",
          "PDB",
          "PDB",
          "PDB",
          "PDB",
          "PDB",
          "PDB",
          "PDB",
          "PDB",
          "PDB",
          "PDB",
          "PDB",
          "PDB",
          "PDB",
          "PDB",
          "PDB",
          "PDB",
          "PDB",
          "PDB",
          "PDB",
          "PDB",
          "PDB",
          "PDB",
          "PDB",
          "PDB",
          "PDB",
          "PDB",
          "PDB",
          "PDB",
          "PDB",
          "PDB",
          "PDB",
          "PDB",
          "PDB",
          "PDB",
          "PDB",
          "PDB",
          "PDB",
          "PDB",
          "PDB",
          "PDB",
          "PDB",
          "PDB",
          "PDB",
          "PDB",
          "PDB",
          "PDB",
          "PDB",
          "PDB",
          "PDB",
          "PDB",
          "PDB",
          "PDB",
          "PDB",
          "PDB",
          "PDB",
          "PDB",
          "PDB",
          "PDB",
          "PDB",
          "PDB",
          "PDB",
          "PDB",
          "PDB",
          "PDB",
          "PDB",
          "PDB",
          "PDB",
          "PDB",
          "PDB",
          "PDB",
          "PDB",
          "PDB",
          "PDB",
          "PDB",
          "PDB",
          "PDB",
          "PDB",
          "PDB",
          "PDB",
          "PDB",
          "PDB",
          "PDB",
          "PDB",
          "PDB",
          "PDB",
          "PDB",
          "PDB",
          "PDB",
          "PDB",
          "PDB",
          "PDB",
          "PDB",
          "PDB",
          "PDB",
          "PDB",
          "PDB",
          "PDB",
          "PDB",
          "PDB",
          "PDB",
          "PDB",
          "PDB",
          "PDB",
          "PDB",
          "PDB",
          "PDB",
          "PDB",
          "PDB",
          "PDB",
          "PDB",
          "PDB",
          "PDB",
          "PDB",
          "PDB",
          "PDB",
          "PDB",
          "PDB",
          "PDB",
          "PDB",
          "PDB",
          "PDB",
          "PDB",
          "PDB",
          "PDB",
          "PDB",
          "PDB",
          "PDB",
          "PDB",
          "PDB",
          "PDB",
          "PDB",
          "PDB",
          "PDB",
          "PDB",
          "PDB",
          "PDB",
          "PDB",
          "PDB",
          "PDB",
          "PDB",
          "PDB",
          "PDB",
          "PDB",
          "PDB",
          "PDB",
          "PDB",
          "PDB",
          "PDB",
          "PDB",
          "PDB",
          "PDB",
          "PDB",
          "PDB",
          "PDB",
          "PDB",
          "PDB",
          "PDB",
          "PDB",
          "PDB",
          "PDB",
          "PDB",
          "PDB",
          "PDB",
          "PDB",
          "PDB",
          "PDB",
          "PDB",
          "PDB",
          "PDB",
          "PDB",
          "PDB",
          "PDB",
          "PDB",
          "PDB",
          "PDB",
          "PDB",
          "PDB",
          "PDB",
          "PDB",
          "PDB",
          "PDB",
          "PDB",
          "PDB",
          "PDB",
          "PDB",
          "PDB",
          "PDB",
          "PDB",
          "PDB",
          "PDB",
          "PDB",
          "PDB",
          "PDB",
          "PDB",
          "PDB",
          "PDB",
          "PDB",
          "PDB",
          "PDB",
          "PDB",
          "PDB",
          "PDB",
          "PDB",
          "PDB",
          "PDB",
          "PDB",
          "PDB",
          "PDB",
          "PDB",
          "PDB",
          "PDB",
          "PDB",
          "PDB",
          "PDB",
          "PDB",
          "PDB",
          "PDB",
          "PDB",
          "PDB",
          "PDB",
          "PDB",
          "PDB",
          "PDB",
          "PDB",
          "PDB",
          "PDB",
          "PDB",
          "PDB",
          "PDB",
          "PDB",
          "PDB",
          "PDB",
          "PDB",
          "PDB",
          "PDB",
          "PDB",
          "PDB",
          "PDB",
          "PDB",
          "PDB",
          "PDB",
          "PDB",
          "PDB",
          "PDB",
          "PDB",
          "PDB",
          "PDB",
          "PDB",
          "PDB",
          "PDB",
          "PDB",
          "PDB",
          "PDB",
          "PDB",
          "PDB",
          "PDB",
          "PDB",
          "PDB",
          "PDB",
          "PDB",
          "PDB",
          "PDB",
          "PDB",
          "PDB",
          "PDB",
          "PDB",
          "PDB",
          "PDB",
          "PDB",
          "PDB",
          "PDB",
          "PDB",
          "PDB",
          "PDB",
          "PDB",
          "PDB",
          "PDB",
          "PDB",
          "PDB",
          "PDB",
          "PDB",
          "PDB",
          "PDB",
          "PDB",
          "PDB",
          "PDB",
          "PDB",
          "PDB",
          "lncRNA",
          "lncRNA",
          "lncRNA",
          "lncRNA",
          "lncRNA",
          "lncRNA",
          "lncRNA",
          "lncRNA",
          "lncRNA",
          "lncRNA",
          "lncRNA",
          "lncRNA",
          "lncRNA",
          "lncRNA",
          "lncRNA",
          "viral_fragments",
          "viral_fragments",
          "viral_fragments",
          "viral_fragments",
          "viral_fragments",
          "viral_fragments",
          "viral_fragments",
          "viral_fragments",
          "viral_fragments",
          "viral_fragments",
          "viral_fragments",
          "viral_fragments",
          "viral_fragments",
          "viral_fragments",
          "viral_fragments",
          "viral_fragments",
          "viral_fragments",
          "viral_fragments",
          "viral_fragments",
          "viral_fragments",
          "viral_fragments",
          "viral_fragments",
          "viral_fragments",
          "viral_fragments",
          "viral_fragments",
          "viral_fragments",
          "viral_fragments",
          "viral_fragments",
          "viral_fragments",
          "viral_fragments",
          "viral_fragments",
          "viral_fragments",
          "viral_fragments",
          "viral_fragments",
          "viral_fragments",
          "viral_fragments",
          "viral_fragments",
          "viral_fragments",
          "viral_fragments",
          "viral_fragments",
          "viral_fragments",
          "viral_fragments",
          "viral_fragments",
          "viral_fragments",
          "viral_fragments",
          "viral_fragments",
          "viral_fragments",
          "viral_fragments",
          "viral_fragments",
          "viral_fragments",
          "viral_fragments",
          "viral_fragments",
          "viral_fragments",
          "viral_fragments",
          "viral_fragments",
          "viral_fragments",
          "viral_fragments",
          "viral_fragments"
         ],
         "y": [
          0.7058823704719543,
          0.8039215803146362,
          0.95652174949646,
          0.9090909361839294,
          0.8421052694320679,
          0.9090909361839294,
          0.8888888955116272,
          0.7857142686843872,
          0.7692307829856873,
          0.8837209343910217,
          0.800000011920929,
          0.9230769276618958,
          0.9411764740943909,
          0.8799999952316284,
          0.875,
          0.8571428656578064,
          0.8235294222831726,
          0.9090909361839294,
          0.7692307829856873,
          0,
          0.9375,
          0.8235294222831726,
          0.8695651888847351,
          0.7639639377593994,
          0.9411764740943909,
          1,
          1,
          0.8571428656578064,
          0.6896551847457886,
          0.875,
          0.9473684430122375,
          0.8571428656578064,
          0.9545454382896423,
          0.9090909361839294,
          0.8888888955116272,
          0.9230769276618958,
          0.8695651888847351,
          0.5396825671195984,
          0.8965517282485962,
          0.9523809552192688,
          0.9090909361839294,
          0.8695651888847351,
          0.7272727489471436,
          0.9523809552192688,
          0.8235294222831726,
          0.6363636255264282,
          0.8571428656578064,
          0.8999999761581421,
          0.8333333134651184,
          0.9411764740943909,
          0,
          0.9333333373069763,
          0.6666666865348816,
          0.800000011920929,
          0.8387096524238586,
          0.7058823704719543,
          0.8571428656578064,
          1,
          0.8275862336158752,
          0.761904776096344,
          0.6666666865348816,
          0.8421052694320679,
          0.95652174949646,
          0.9473684430122375,
          0.9090909361839294,
          0,
          0.800000011920929,
          0.8888888955116272,
          0,
          0.7692307829856873,
          0.9629629850387573,
          0.8571428656578064,
          0.774193525314331,
          0.9375,
          0.8817204236984253,
          0.7941176295280457,
          0.8888888955116272,
          0.9090909361839294,
          0.8333333134651184,
          1,
          0.8571428656578064,
          0.8571428656578064,
          0.8125,
          0.9599999785423279,
          0.9090909361839294,
          0.9473684430122375,
          0.800000011920929,
          0.9166666865348816,
          0.800000011920929,
          0.8571428656578064,
          0.6792452931404114,
          0.9090909361839294,
          0.8999999761581421,
          0.9333333373069763,
          0.95652174949646,
          0.9411764740943909,
          0.8571428656578064,
          0.8421052694320679,
          0.761904776096344,
          0.6666666865348816,
          0.9473684430122375,
          0.875,
          0.8421052694320679,
          0.800000011920929,
          0.8999999761581421,
          0.800000011920929,
          0.8888888955116272,
          1,
          0.9166666865348816,
          0.875,
          0.800000011920929,
          0.6315789222717285,
          0.6451612710952759,
          0.7058823704719543,
          0.8888888955116272,
          0.8888888955116272,
          0.8571428656578064,
          0.7777777910232544,
          0.800000011920929,
          0.930232584476471,
          0.5555555820465088,
          0.699999988079071,
          0.8059701323509216,
          0.9629629850387573,
          0,
          0.9473684430122375,
          0.875,
          0.8405796885490417,
          0.8181818127632141,
          0.8235294222831726,
          0.9090909361839294,
          0.8571428656578064,
          0.9032257795333862,
          0.6153846383094788,
          0.9599999785423279,
          0.7445255517959595,
          1,
          0.8999999761581421,
          0.8333333134651184,
          0.8888888955116272,
          0.8571428656578064,
          0.9090909361839294,
          0.8421052694320679,
          0.8421052694320679,
          0.9019607901573181,
          0.8399999737739563,
          0.875,
          0.8888888955116272,
          0.9629629850387573,
          0.8999999761581421,
          0.8888888955116272,
          0.8333333134651184,
          0.8823529481887817,
          0.95652174949646,
          0.800000011920929,
          0.9411764740943909,
          0.95652174949646,
          0.782608687877655,
          0.8333333134651184,
          0.9166666865348816,
          0.8999999761581421,
          0.875,
          0.7857142686843872,
          0.47787609696388245,
          0.9090909361839294,
          0.9090909361839294,
          0.8888888955116272,
          0.9523809552192688,
          0.8999999761581421,
          0.800000011920929,
          0.6990291476249695,
          0.9090909361839294,
          1,
          0.8571428656578064,
          0.75,
          0.8999999761581421,
          0.8571428656578064,
          0.9047619104385376,
          0,
          0.9473684430122375,
          0.8888888955116272,
          0.800000011920929,
          0.7142857313156128,
          0.800000011920929,
          0.6938775777816772,
          0.9090909361839294,
          0.8888888955116272,
          1,
          0.6153846383094788,
          0.8404494524002075,
          0.8500000238418579,
          0.95652174949646,
          0.8148148059844971,
          0.8571428656578064,
          0.75,
          0.8571428656578064,
          0.9473684430122375,
          0.7272727489471436,
          0.875,
          0.8333333134651184,
          0.9333333373069763,
          0.800000011920929,
          0.9599999785423279,
          1,
          0.8015872836112976,
          0.800000011920929,
          0.7722772359848022,
          0.4146341383457184,
          0.8936170339584351,
          0.8235294222831726,
          1,
          0.8405796885490417,
          0.7850467562675476,
          0.75,
          0.8181818127632141,
          0.6666666865348816,
          1,
          0.8333333134651184,
          0.3433476388454437,
          0.800000011920929,
          1,
          0.9473684430122375,
          0.8333333134651184,
          0.6666666865348816,
          0.9090909361839294,
          0.7692307829856873,
          0.8235294222831726,
          0.8571428656578064,
          0.7692307829856873,
          0.6399999856948853,
          0,
          0.8947368264198303,
          0.9375,
          0.9411764740943909,
          0.8999999761581421,
          0.9090909361839294,
          0.9166666865348816,
          0.9285714030265808,
          0.9655172228813171,
          0.9230769276618958,
          0.7272727489471436,
          1,
          0.8333333134651184,
          0.8333333134651184,
          0.8888888955116272,
          0.8333333134651184,
          0.9333333373069763,
          0.5454545617103577,
          0.7142857313156128,
          0.8148148059844971,
          0.8888888955116272,
          0.8888888955116272,
          0.7407407164573669,
          0.8571428656578064,
          0.8695651888847351,
          0.9411764740943909,
          0.9333333373069763,
          0.8571428656578064,
          0.8799999952316284,
          0.9655172228813171,
          0.8235294222831726,
          0.9473684430122375,
          0.9473684430122375,
          0.782608687877655,
          0.9142857193946838,
          0.9230769276618958,
          0.6341463327407837,
          0.8888888955116272,
          0.9599999785423279,
          0.782608687877655,
          0.9230769276618958,
          0.8421052694320679,
          0.9230769276618958,
          0.9333333373069763,
          0.774193525314331,
          0.95652174949646,
          0.7857142686843872,
          0.800000011920929,
          0.875,
          0.8974359035491943,
          0.8965517282485962,
          0.6222222447395325,
          1,
          0.875,
          0.9473684430122375,
          1,
          0.9411764740943909,
          0.9411764740943909,
          0.8571428656578064,
          0.8421052694320679,
          0.9230769276618958,
          0.9473684430122375,
          0.9473684430122375,
          0.800000011920929,
          0.8717948794364929,
          0.9504950642585754,
          0.6666666865348816,
          0.8888888955116272,
          0.9545454382896423,
          0.9333333373069763,
          0.8888888955116272,
          0.6060606241226196,
          1,
          0.8999999761581421,
          0.6190476417541504,
          0.9090909361839294,
          0.9523809552192688,
          0.6551724076271057,
          0.8888888955116272,
          0.8666666746139526,
          0.8999999761581421,
          0.7777777910232544,
          0.6060606241226196,
          0.800000011920929,
          0.8235294222831726,
          0.8333333134651184,
          0.8235294222831726,
          0.8695651888847351,
          0.9090909361839294,
          0,
          0.9599999785423279,
          0.8181818127632141,
          0.75,
          0.6666666865348816,
          0.9333333373069763,
          0.9189189076423645,
          0.9333333373069763,
          0.695652186870575,
          0.8659793734550476,
          0.7692307829856873,
          0.7096773982048035,
          0.9473684430122375,
          0.7263922691345215,
          0.7766990065574646,
          1,
          0.875,
          0.5984252095222473,
          0.8181818127632141,
          0.4848484992980957,
          1,
          0.9333333373069763,
          0.9333333373069763,
          0.800000011920929,
          0.800000011920929,
          0.800000011920929,
          0.8333333134651184,
          0.7692307829856873,
          0.8181818127632141,
          0.9473684430122375,
          1,
          0,
          0.9142857193946838,
          0.7058823704719543,
          0.782608687877655,
          0.9599999785423279,
          0.75,
          0.23076923191547394,
          0.2405063360929489,
          0,
          0.5806451439857483,
          0,
          0,
          0,
          0,
          0,
          0,
          0,
          0,
          0,
          0,
          0.09463722258806229,
          0.8048780560493469,
          0.7777777910232544,
          0.7181817889213562,
          0.7037037014961243,
          0.7692307829856873,
          0.5888324975967407,
          0.395256906747818,
          0.5846154093742371,
          0.6570048332214355,
          0.7326732873916626,
          0.6239316463470459,
          0.631147563457489,
          0.4334600865840912,
          0.5951557159423828,
          0.4035087823867798,
          0.5408805012702942,
          0.6565656661987305,
          0.7857142686843872,
          0.5652173757553101,
          0.695652186870575,
          0.6101694703102112,
          0.6976743936538696,
          0.701298713684082,
          0.6865671873092651,
          0.556291401386261,
          0.6015625,
          0.6219512224197388,
          0.43478259444236755,
          0.07407407462596893,
          0.47887325286865234,
          0.6464646458625793,
          0.5423728823661804,
          0.7796609997749329,
          0.1488833725452423,
          0.125,
          0.17834395170211792,
          0.5080385804176331,
          0.35862070322036743,
          0.5030674934387207,
          0.3925233781337738,
          0.28664496541023254,
          0.796875,
          0.4225352108478546,
          0.6716980934143066,
          0.3466666638851166,
          0.14426229894161224,
          0.37654322385787964,
          0.23118279874324799,
          0.158620685338974,
          0.36781609058380127,
          0.014184396713972092,
          0.26829269528388977,
          0.30075186491012573,
          0.237726092338562,
          0.5161290168762207,
          0.31111112236976624,
          0.3535911738872528,
          0.8679245114326477
         ]
        },
        {
         "marker": {
          "color": "#FF7F0E"
         },
         "meanline": {
          "visible": true
         },
         "name": "PT+FT",
         "points": false,
         "type": "violin",
         "x": [
          "PDB",
          "PDB",
          "PDB",
          "PDB",
          "PDB",
          "PDB",
          "PDB",
          "PDB",
          "PDB",
          "PDB",
          "PDB",
          "PDB",
          "PDB",
          "PDB",
          "PDB",
          "PDB",
          "PDB",
          "PDB",
          "PDB",
          "PDB",
          "PDB",
          "PDB",
          "PDB",
          "PDB",
          "PDB",
          "PDB",
          "PDB",
          "PDB",
          "PDB",
          "PDB",
          "PDB",
          "PDB",
          "PDB",
          "PDB",
          "PDB",
          "PDB",
          "PDB",
          "PDB",
          "PDB",
          "PDB",
          "PDB",
          "PDB",
          "PDB",
          "PDB",
          "PDB",
          "PDB",
          "PDB",
          "PDB",
          "PDB",
          "PDB",
          "PDB",
          "PDB",
          "PDB",
          "PDB",
          "PDB",
          "PDB",
          "PDB",
          "PDB",
          "PDB",
          "PDB",
          "PDB",
          "PDB",
          "PDB",
          "PDB",
          "PDB",
          "PDB",
          "PDB",
          "PDB",
          "PDB",
          "PDB",
          "PDB",
          "PDB",
          "PDB",
          "PDB",
          "PDB",
          "PDB",
          "PDB",
          "PDB",
          "PDB",
          "PDB",
          "PDB",
          "PDB",
          "PDB",
          "PDB",
          "PDB",
          "PDB",
          "PDB",
          "PDB",
          "PDB",
          "PDB",
          "PDB",
          "PDB",
          "PDB",
          "PDB",
          "PDB",
          "PDB",
          "PDB",
          "PDB",
          "PDB",
          "PDB",
          "PDB",
          "PDB",
          "PDB",
          "PDB",
          "PDB",
          "PDB",
          "PDB",
          "PDB",
          "PDB",
          "PDB",
          "PDB",
          "PDB",
          "PDB",
          "PDB",
          "PDB",
          "PDB",
          "PDB",
          "PDB",
          "PDB",
          "PDB",
          "PDB",
          "PDB",
          "PDB",
          "PDB",
          "PDB",
          "PDB",
          "PDB",
          "PDB",
          "PDB",
          "PDB",
          "PDB",
          "PDB",
          "PDB",
          "PDB",
          "PDB",
          "PDB",
          "PDB",
          "PDB",
          "PDB",
          "PDB",
          "PDB",
          "PDB",
          "PDB",
          "PDB",
          "PDB",
          "PDB",
          "PDB",
          "PDB",
          "PDB",
          "PDB",
          "PDB",
          "PDB",
          "PDB",
          "PDB",
          "PDB",
          "PDB",
          "PDB",
          "PDB",
          "PDB",
          "PDB",
          "PDB",
          "PDB",
          "PDB",
          "PDB",
          "PDB",
          "PDB",
          "PDB",
          "PDB",
          "PDB",
          "PDB",
          "PDB",
          "PDB",
          "PDB",
          "PDB",
          "PDB",
          "PDB",
          "PDB",
          "PDB",
          "PDB",
          "PDB",
          "PDB",
          "PDB",
          "PDB",
          "PDB",
          "PDB",
          "PDB",
          "PDB",
          "PDB",
          "PDB",
          "PDB",
          "PDB",
          "PDB",
          "PDB",
          "PDB",
          "PDB",
          "PDB",
          "PDB",
          "PDB",
          "PDB",
          "PDB",
          "PDB",
          "PDB",
          "PDB",
          "PDB",
          "PDB",
          "PDB",
          "PDB",
          "PDB",
          "PDB",
          "PDB",
          "PDB",
          "PDB",
          "PDB",
          "PDB",
          "PDB",
          "PDB",
          "PDB",
          "PDB",
          "PDB",
          "PDB",
          "PDB",
          "PDB",
          "PDB",
          "PDB",
          "PDB",
          "PDB",
          "PDB",
          "PDB",
          "PDB",
          "PDB",
          "PDB",
          "PDB",
          "PDB",
          "PDB",
          "PDB",
          "PDB",
          "PDB",
          "PDB",
          "PDB",
          "PDB",
          "PDB",
          "PDB",
          "PDB",
          "PDB",
          "PDB",
          "PDB",
          "PDB",
          "PDB",
          "PDB",
          "PDB",
          "PDB",
          "PDB",
          "PDB",
          "PDB",
          "PDB",
          "PDB",
          "PDB",
          "PDB",
          "PDB",
          "PDB",
          "PDB",
          "PDB",
          "PDB",
          "PDB",
          "PDB",
          "PDB",
          "PDB",
          "PDB",
          "PDB",
          "PDB",
          "PDB",
          "PDB",
          "PDB",
          "PDB",
          "PDB",
          "PDB",
          "PDB",
          "PDB",
          "PDB",
          "PDB",
          "PDB",
          "PDB",
          "PDB",
          "PDB",
          "PDB",
          "PDB",
          "PDB",
          "PDB",
          "PDB",
          "PDB",
          "PDB",
          "PDB",
          "PDB",
          "PDB",
          "PDB",
          "PDB",
          "PDB",
          "PDB",
          "PDB",
          "PDB",
          "PDB",
          "PDB",
          "PDB",
          "PDB",
          "PDB",
          "PDB",
          "PDB",
          "PDB",
          "PDB",
          "PDB",
          "PDB",
          "PDB",
          "PDB",
          "PDB",
          "PDB",
          "PDB",
          "PDB",
          "PDB",
          "PDB",
          "PDB",
          "PDB",
          "PDB",
          "PDB",
          "PDB",
          "PDB",
          "PDB",
          "PDB",
          "PDB",
          "PDB",
          "PDB",
          "PDB",
          "PDB",
          "PDB",
          "PDB",
          "PDB",
          "PDB",
          "PDB",
          "PDB",
          "PDB",
          "PDB",
          "PDB",
          "PDB",
          "PDB",
          "PDB",
          "PDB",
          "PDB",
          "PDB",
          "PDB",
          "PDB",
          "PDB",
          "PDB",
          "PDB",
          "PDB",
          "PDB",
          "PDB",
          "PDB",
          "lncRNA",
          "lncRNA",
          "lncRNA",
          "lncRNA",
          "lncRNA",
          "lncRNA",
          "lncRNA",
          "lncRNA",
          "lncRNA",
          "lncRNA",
          "lncRNA",
          "lncRNA",
          "lncRNA",
          "lncRNA",
          "lncRNA",
          "viral_fragments",
          "viral_fragments",
          "viral_fragments",
          "viral_fragments",
          "viral_fragments",
          "viral_fragments",
          "viral_fragments",
          "viral_fragments",
          "viral_fragments",
          "viral_fragments",
          "viral_fragments",
          "viral_fragments",
          "viral_fragments",
          "viral_fragments",
          "viral_fragments",
          "viral_fragments",
          "viral_fragments",
          "viral_fragments",
          "viral_fragments",
          "viral_fragments",
          "viral_fragments",
          "viral_fragments",
          "viral_fragments",
          "viral_fragments",
          "viral_fragments",
          "viral_fragments",
          "viral_fragments",
          "viral_fragments",
          "viral_fragments",
          "viral_fragments",
          "viral_fragments",
          "viral_fragments",
          "viral_fragments",
          "viral_fragments",
          "viral_fragments",
          "viral_fragments",
          "viral_fragments",
          "viral_fragments",
          "viral_fragments",
          "viral_fragments",
          "viral_fragments",
          "viral_fragments",
          "viral_fragments",
          "viral_fragments",
          "viral_fragments",
          "viral_fragments",
          "viral_fragments",
          "viral_fragments",
          "viral_fragments",
          "viral_fragments",
          "viral_fragments",
          "viral_fragments",
          "viral_fragments",
          "viral_fragments",
          "viral_fragments",
          "viral_fragments",
          "viral_fragments",
          "viral_fragments"
         ],
         "y": [
          0.625,
          0.8118811845779419,
          0.95652174949646,
          1,
          0.8888888955116272,
          1,
          0.9411764740943909,
          0.8846153616905212,
          0.8333333134651184,
          0.746666669845581,
          0.800000011920929,
          0.7692307829856873,
          1,
          0.5882353186607361,
          0.9333333373069763,
          0.8571428656578064,
          0.8235294222831726,
          1,
          0.8333333134651184,
          0,
          0.9677419066429138,
          0.875,
          0.95652174949646,
          0.8324872851371765,
          1,
          1,
          1,
          0.8571428656578064,
          0.7407407164573669,
          0.875,
          1,
          0.8571428656578064,
          0.9767441749572754,
          1,
          1,
          0.7692307829856873,
          0.9090909361839294,
          0.4333333373069763,
          0.8241205811500549,
          0.9523809552192688,
          0.7777777910232544,
          0.8421052694320679,
          0.800000011920929,
          0.9523809552192688,
          0.9333333373069763,
          0.699999988079071,
          0.9230769276618958,
          0.8947368264198303,
          0.9090909361839294,
          0.9411764740943909,
          0,
          0.8679245114326477,
          0.7272727489471436,
          0.9411764740943909,
          0.8965517282485962,
          0.6666666865348816,
          0.9473684430122375,
          1,
          0.8030887842178345,
          1,
          0.47058823704719543,
          0.9411764740943909,
          1,
          0.9473684430122375,
          1,
          0.2733812928199768,
          0.8571428656578064,
          1,
          0,
          0.7692307829856873,
          1,
          0.9599999785423279,
          0.9230769276618958,
          0.9032257795333862,
          0.7792207598686218,
          0.7936508059501648,
          1,
          1,
          0.9523809552192688,
          1,
          1,
          0.8999999761581421,
          0.8666666746139526,
          1,
          0.9090909361839294,
          1,
          0.9230769276618958,
          1,
          0.9230769276618958,
          0.9599999785423279,
          0.6666666865348816,
          0.8666666746139526,
          0.8999999761581421,
          0.9333333373069763,
          0.95652174949646,
          0.9411764740943909,
          1,
          0.8888888955116272,
          0.701298713684082,
          0.6666666865348816,
          1,
          0.9333333373069763,
          0.8888888955116272,
          1,
          0.9473684430122375,
          0.8888888955116272,
          0.8888888955116272,
          0.8571428656578064,
          0.9583333134651184,
          0.9333333373069763,
          0.9230769276618958,
          0.3461538553237915,
          0.6666666865348816,
          0.8235294222831726,
          1,
          0.75,
          0.8823529481887817,
          0.8235294222831726,
          0.9655172228813171,
          0.9756097793579102,
          0.5446009635925293,
          0.875,
          0.920634925365448,
          1,
          1,
          0.8235294222831726,
          0.875,
          0.6551724076271057,
          0.7368420958518982,
          0.9333333373069763,
          1,
          1,
          0.9032257795333862,
          0.7272727489471436,
          0.9411764740943909,
          0.8487584590911865,
          0.9473684430122375,
          0.9473684430122375,
          0.8333333134651184,
          1,
          0.9333333373069763,
          1,
          0.8888888955116272,
          0.8888888955116272,
          0.6666666865348816,
          0.8260869383811951,
          0.9333333373069763,
          1,
          0.9629629850387573,
          0.8999999761581421,
          0.9767441749572754,
          0.9090909361839294,
          0.9411764740943909,
          1,
          0.8888888955116272,
          0.9411764740943909,
          0.95652174949646,
          0.8999999761581421,
          1,
          0.8999999761581421,
          0.5,
          0.875,
          0.9333333373069763,
          0.5409836173057556,
          0.9090909361839294,
          1,
          1,
          0.9523809552192688,
          0.9729729890823364,
          0.8235294222831726,
          0.7446808218955994,
          0.9777777791023254,
          1,
          0.9473684430122375,
          0.800000011920929,
          0.9473684430122375,
          0.8999999761581421,
          0.9756097793579102,
          1,
          1,
          0.9230769276618958,
          0.9230769276618958,
          0.9090909361839294,
          0.9230769276618958,
          0.800000011920929,
          1,
          0.9166666865348816,
          0.9333333373069763,
          0.5,
          0.8503254055976868,
          0.8947368264198303,
          0.95652174949646,
          0.8846153616905212,
          1,
          1,
          0.9333333373069763,
          0.9473684430122375,
          0.800000011920929,
          0.875,
          0.9090909361839294,
          0.9333333373069763,
          0.8695651888847351,
          1,
          1,
          0.7649402618408203,
          0.800000011920929,
          0.6666666865348816,
          0.3362831771373749,
          0.9333333373069763,
          0.9333333373069763,
          0.9333333373069763,
          0.892307698726654,
          0.8867924809455872,
          0.782608687877655,
          0.7272727489471436,
          1,
          1,
          1,
          0.31313130259513855,
          0.800000011920929,
          1,
          1,
          0.9090909361839294,
          0.800000011920929,
          0.9090909361839294,
          0.8571428656578064,
          0.9333333373069763,
          1,
          0.7272727489471436,
          0.6153846383094788,
          0,
          1,
          0.9677419066429138,
          1,
          0.9473684430122375,
          0.9090909361839294,
          0.8999999761581421,
          0.9629629850387573,
          1,
          0.9230769276618958,
          0.8421052694320679,
          1,
          1,
          0.9090909361839294,
          0.8888888955116272,
          0.8695651888847351,
          1,
          0.6315789222717285,
          0.7857142686843872,
          0.9433962106704712,
          1,
          1,
          0.9166666865348816,
          0.9230769276618958,
          0.6666666865348816,
          1,
          0.9333333373069763,
          0.8421052694320679,
          1,
          1,
          1,
          0.9473684430122375,
          0.9473684430122375,
          0.9090909361839294,
          0.9411764740943909,
          0.9473684430122375,
          0.7252747416496277,
          0.8888888955116272,
          1,
          0.9473684430122375,
          0.9230769276618958,
          0.8888888955116272,
          1,
          1,
          0.8275862336158752,
          0.95652174949646,
          0.8799999952316284,
          0.8387096524238586,
          0.9333333373069763,
          0.6567164063453674,
          0.9230769276618958,
          0.8717948794364929,
          1,
          0.875,
          1,
          1,
          0.9411764740943909,
          1,
          0.9230769276618958,
          0.9411764740943909,
          1,
          0.9473684430122375,
          1,
          0.8648648858070374,
          0.9189189076423645,
          0.9399999976158142,
          0.75,
          0.8888888955116272,
          0.9767441749572754,
          1,
          0.9411764740943909,
          0.625,
          1,
          0.8484848737716675,
          0.695652186870575,
          1,
          1,
          0.7307692170143127,
          1,
          0.9629629850387573,
          0.9473684430122375,
          0.9655172228813171,
          0.7586206793785095,
          0.8888888955116272,
          0.875,
          1,
          0.9333333373069763,
          1,
          1,
          0,
          0.9599999785423279,
          0.9473684430122375,
          1,
          0,
          0.8636363744735718,
          0.9714285731315613,
          1,
          0.6315789222717285,
          0.7368420958518982,
          0.95652174949646,
          0.8461538553237915,
          1,
          0.7581395506858826,
          0.7021276354789734,
          1,
          1,
          0.6131386756896973,
          0.8999999761581421,
          0.4137931168079376,
          0.9230769276618958,
          0.5,
          0.9333333373069763,
          0.8333333134651184,
          0.8888888955116272,
          0.7142857313156128,
          1,
          0.8333333134651184,
          0.8999999761581421,
          1,
          1,
          0,
          0.9411764740943909,
          0.800000011920929,
          0.8999999761581421,
          1,
          0.9333333373069763,
          0.26356589794158936,
          0.40506330132484436,
          0.032786883413791656,
          0.6147540807723999,
          0,
          0,
          0,
          0,
          0,
          0,
          0.020325202494859695,
          0.019999999552965164,
          0.012371134012937546,
          0,
          0.21153846383094788,
          0.8500000238418579,
          0.6666666865348816,
          0.7272727489471436,
          0.6909090876579285,
          0.6451612710952759,
          0.5700934529304504,
          0.5249999761581421,
          0.698630154132843,
          0.6601941585540771,
          0.7136150002479553,
          0.6720647811889648,
          0.7348484992980957,
          0.4198473393917084,
          0.5247148275375366,
          0.35555556416511536,
          0.52173912525177,
          0.7047619223594666,
          0.7594936490058899,
          0.5882353186607361,
          0.746081531047821,
          0.7200000286102295,
          0.6758620738983154,
          0.7837837934494019,
          0.5454545617103577,
          0.6242774724960327,
          0.6058091521263123,
          0.49438202381134033,
          0.5454545617103577,
          0.5882353186607361,
          0.701298713684082,
          0.6868686676025391,
          0.5691056847572327,
          0.7924528121948242,
          0.1587301641702652,
          0.24581006169319153,
          0.21476510167121887,
          0.641269862651825,
          0.7570621371269226,
          0.5856353640556335,
          0.3120567500591278,
          0.3180212080478668,
          0.6551724076271057,
          0.44077134132385254,
          0.6814814805984497,
          0.5045045018196106,
          0.19543974101543427,
          0.3733333349227905,
          0.24117647111415863,
          0.07999999821186066,
          0.4257028102874756,
          0.20060789585113525,
          0.27450981736183167,
          0.39726027846336365,
          0.2840236723423004,
          0.6311110854148865,
          0.36947789788246155,
          0.48275861144065857,
          0.800000011920929
         ]
        }
       ],
       "layout": {
        "font": {
         "color": "black",
         "size": 15
        },
        "height": 400,
        "template": {
         "data": {
          "bar": [
           {
            "error_x": {
             "color": "#2a3f5f"
            },
            "error_y": {
             "color": "#2a3f5f"
            },
            "marker": {
             "line": {
              "color": "white",
              "width": 0.5
             },
             "pattern": {
              "fillmode": "overlay",
              "size": 10,
              "solidity": 0.2
             }
            },
            "type": "bar"
           }
          ],
          "barpolar": [
           {
            "marker": {
             "line": {
              "color": "white",
              "width": 0.5
             },
             "pattern": {
              "fillmode": "overlay",
              "size": 10,
              "solidity": 0.2
             }
            },
            "type": "barpolar"
           }
          ],
          "carpet": [
           {
            "aaxis": {
             "endlinecolor": "#2a3f5f",
             "gridcolor": "#C8D4E3",
             "linecolor": "#C8D4E3",
             "minorgridcolor": "#C8D4E3",
             "startlinecolor": "#2a3f5f"
            },
            "baxis": {
             "endlinecolor": "#2a3f5f",
             "gridcolor": "#C8D4E3",
             "linecolor": "#C8D4E3",
             "minorgridcolor": "#C8D4E3",
             "startlinecolor": "#2a3f5f"
            },
            "type": "carpet"
           }
          ],
          "choropleth": [
           {
            "colorbar": {
             "outlinewidth": 0,
             "ticks": ""
            },
            "type": "choropleth"
           }
          ],
          "contour": [
           {
            "colorbar": {
             "outlinewidth": 0,
             "ticks": ""
            },
            "colorscale": [
             [
              0,
              "#0d0887"
             ],
             [
              0.1111111111111111,
              "#46039f"
             ],
             [
              0.2222222222222222,
              "#7201a8"
             ],
             [
              0.3333333333333333,
              "#9c179e"
             ],
             [
              0.4444444444444444,
              "#bd3786"
             ],
             [
              0.5555555555555556,
              "#d8576b"
             ],
             [
              0.6666666666666666,
              "#ed7953"
             ],
             [
              0.7777777777777778,
              "#fb9f3a"
             ],
             [
              0.8888888888888888,
              "#fdca26"
             ],
             [
              1,
              "#f0f921"
             ]
            ],
            "type": "contour"
           }
          ],
          "contourcarpet": [
           {
            "colorbar": {
             "outlinewidth": 0,
             "ticks": ""
            },
            "type": "contourcarpet"
           }
          ],
          "heatmap": [
           {
            "colorbar": {
             "outlinewidth": 0,
             "ticks": ""
            },
            "colorscale": [
             [
              0,
              "#0d0887"
             ],
             [
              0.1111111111111111,
              "#46039f"
             ],
             [
              0.2222222222222222,
              "#7201a8"
             ],
             [
              0.3333333333333333,
              "#9c179e"
             ],
             [
              0.4444444444444444,
              "#bd3786"
             ],
             [
              0.5555555555555556,
              "#d8576b"
             ],
             [
              0.6666666666666666,
              "#ed7953"
             ],
             [
              0.7777777777777778,
              "#fb9f3a"
             ],
             [
              0.8888888888888888,
              "#fdca26"
             ],
             [
              1,
              "#f0f921"
             ]
            ],
            "type": "heatmap"
           }
          ],
          "heatmapgl": [
           {
            "colorbar": {
             "outlinewidth": 0,
             "ticks": ""
            },
            "colorscale": [
             [
              0,
              "#0d0887"
             ],
             [
              0.1111111111111111,
              "#46039f"
             ],
             [
              0.2222222222222222,
              "#7201a8"
             ],
             [
              0.3333333333333333,
              "#9c179e"
             ],
             [
              0.4444444444444444,
              "#bd3786"
             ],
             [
              0.5555555555555556,
              "#d8576b"
             ],
             [
              0.6666666666666666,
              "#ed7953"
             ],
             [
              0.7777777777777778,
              "#fb9f3a"
             ],
             [
              0.8888888888888888,
              "#fdca26"
             ],
             [
              1,
              "#f0f921"
             ]
            ],
            "type": "heatmapgl"
           }
          ],
          "histogram": [
           {
            "marker": {
             "pattern": {
              "fillmode": "overlay",
              "size": 10,
              "solidity": 0.2
             }
            },
            "type": "histogram"
           }
          ],
          "histogram2d": [
           {
            "colorbar": {
             "outlinewidth": 0,
             "ticks": ""
            },
            "colorscale": [
             [
              0,
              "#0d0887"
             ],
             [
              0.1111111111111111,
              "#46039f"
             ],
             [
              0.2222222222222222,
              "#7201a8"
             ],
             [
              0.3333333333333333,
              "#9c179e"
             ],
             [
              0.4444444444444444,
              "#bd3786"
             ],
             [
              0.5555555555555556,
              "#d8576b"
             ],
             [
              0.6666666666666666,
              "#ed7953"
             ],
             [
              0.7777777777777778,
              "#fb9f3a"
             ],
             [
              0.8888888888888888,
              "#fdca26"
             ],
             [
              1,
              "#f0f921"
             ]
            ],
            "type": "histogram2d"
           }
          ],
          "histogram2dcontour": [
           {
            "colorbar": {
             "outlinewidth": 0,
             "ticks": ""
            },
            "colorscale": [
             [
              0,
              "#0d0887"
             ],
             [
              0.1111111111111111,
              "#46039f"
             ],
             [
              0.2222222222222222,
              "#7201a8"
             ],
             [
              0.3333333333333333,
              "#9c179e"
             ],
             [
              0.4444444444444444,
              "#bd3786"
             ],
             [
              0.5555555555555556,
              "#d8576b"
             ],
             [
              0.6666666666666666,
              "#ed7953"
             ],
             [
              0.7777777777777778,
              "#fb9f3a"
             ],
             [
              0.8888888888888888,
              "#fdca26"
             ],
             [
              1,
              "#f0f921"
             ]
            ],
            "type": "histogram2dcontour"
           }
          ],
          "mesh3d": [
           {
            "colorbar": {
             "outlinewidth": 0,
             "ticks": ""
            },
            "type": "mesh3d"
           }
          ],
          "parcoords": [
           {
            "line": {
             "colorbar": {
              "outlinewidth": 0,
              "ticks": ""
             }
            },
            "type": "parcoords"
           }
          ],
          "pie": [
           {
            "automargin": true,
            "type": "pie"
           }
          ],
          "scatter": [
           {
            "fillpattern": {
             "fillmode": "overlay",
             "size": 10,
             "solidity": 0.2
            },
            "type": "scatter"
           }
          ],
          "scatter3d": [
           {
            "line": {
             "colorbar": {
              "outlinewidth": 0,
              "ticks": ""
             }
            },
            "marker": {
             "colorbar": {
              "outlinewidth": 0,
              "ticks": ""
             }
            },
            "type": "scatter3d"
           }
          ],
          "scattercarpet": [
           {
            "marker": {
             "colorbar": {
              "outlinewidth": 0,
              "ticks": ""
             }
            },
            "type": "scattercarpet"
           }
          ],
          "scattergeo": [
           {
            "marker": {
             "colorbar": {
              "outlinewidth": 0,
              "ticks": ""
             }
            },
            "type": "scattergeo"
           }
          ],
          "scattergl": [
           {
            "marker": {
             "colorbar": {
              "outlinewidth": 0,
              "ticks": ""
             }
            },
            "type": "scattergl"
           }
          ],
          "scattermapbox": [
           {
            "marker": {
             "colorbar": {
              "outlinewidth": 0,
              "ticks": ""
             }
            },
            "type": "scattermapbox"
           }
          ],
          "scatterpolar": [
           {
            "marker": {
             "colorbar": {
              "outlinewidth": 0,
              "ticks": ""
             }
            },
            "type": "scatterpolar"
           }
          ],
          "scatterpolargl": [
           {
            "marker": {
             "colorbar": {
              "outlinewidth": 0,
              "ticks": ""
             }
            },
            "type": "scatterpolargl"
           }
          ],
          "scatterternary": [
           {
            "marker": {
             "colorbar": {
              "outlinewidth": 0,
              "ticks": ""
             }
            },
            "type": "scatterternary"
           }
          ],
          "surface": [
           {
            "colorbar": {
             "outlinewidth": 0,
             "ticks": ""
            },
            "colorscale": [
             [
              0,
              "#0d0887"
             ],
             [
              0.1111111111111111,
              "#46039f"
             ],
             [
              0.2222222222222222,
              "#7201a8"
             ],
             [
              0.3333333333333333,
              "#9c179e"
             ],
             [
              0.4444444444444444,
              "#bd3786"
             ],
             [
              0.5555555555555556,
              "#d8576b"
             ],
             [
              0.6666666666666666,
              "#ed7953"
             ],
             [
              0.7777777777777778,
              "#fb9f3a"
             ],
             [
              0.8888888888888888,
              "#fdca26"
             ],
             [
              1,
              "#f0f921"
             ]
            ],
            "type": "surface"
           }
          ],
          "table": [
           {
            "cells": {
             "fill": {
              "color": "#EBF0F8"
             },
             "line": {
              "color": "white"
             }
            },
            "header": {
             "fill": {
              "color": "#C8D4E3"
             },
             "line": {
              "color": "white"
             }
            },
            "type": "table"
           }
          ]
         },
         "layout": {
          "annotationdefaults": {
           "arrowcolor": "#2a3f5f",
           "arrowhead": 0,
           "arrowwidth": 1
          },
          "autotypenumbers": "strict",
          "coloraxis": {
           "colorbar": {
            "outlinewidth": 0,
            "ticks": ""
           }
          },
          "colorscale": {
           "diverging": [
            [
             0,
             "#8e0152"
            ],
            [
             0.1,
             "#c51b7d"
            ],
            [
             0.2,
             "#de77ae"
            ],
            [
             0.3,
             "#f1b6da"
            ],
            [
             0.4,
             "#fde0ef"
            ],
            [
             0.5,
             "#f7f7f7"
            ],
            [
             0.6,
             "#e6f5d0"
            ],
            [
             0.7,
             "#b8e186"
            ],
            [
             0.8,
             "#7fbc41"
            ],
            [
             0.9,
             "#4d9221"
            ],
            [
             1,
             "#276419"
            ]
           ],
           "sequential": [
            [
             0,
             "#0d0887"
            ],
            [
             0.1111111111111111,
             "#46039f"
            ],
            [
             0.2222222222222222,
             "#7201a8"
            ],
            [
             0.3333333333333333,
             "#9c179e"
            ],
            [
             0.4444444444444444,
             "#bd3786"
            ],
            [
             0.5555555555555556,
             "#d8576b"
            ],
            [
             0.6666666666666666,
             "#ed7953"
            ],
            [
             0.7777777777777778,
             "#fb9f3a"
            ],
            [
             0.8888888888888888,
             "#fdca26"
            ],
            [
             1,
             "#f0f921"
            ]
           ],
           "sequentialminus": [
            [
             0,
             "#0d0887"
            ],
            [
             0.1111111111111111,
             "#46039f"
            ],
            [
             0.2222222222222222,
             "#7201a8"
            ],
            [
             0.3333333333333333,
             "#9c179e"
            ],
            [
             0.4444444444444444,
             "#bd3786"
            ],
            [
             0.5555555555555556,
             "#d8576b"
            ],
            [
             0.6666666666666666,
             "#ed7953"
            ],
            [
             0.7777777777777778,
             "#fb9f3a"
            ],
            [
             0.8888888888888888,
             "#fdca26"
            ],
            [
             1,
             "#f0f921"
            ]
           ]
          },
          "colorway": [
           "#636efa",
           "#EF553B",
           "#00cc96",
           "#ab63fa",
           "#FFA15A",
           "#19d3f3",
           "#FF6692",
           "#B6E880",
           "#FF97FF",
           "#FECB52"
          ],
          "font": {
           "color": "#2a3f5f"
          },
          "geo": {
           "bgcolor": "white",
           "lakecolor": "white",
           "landcolor": "white",
           "showlakes": true,
           "showland": true,
           "subunitcolor": "#C8D4E3"
          },
          "hoverlabel": {
           "align": "left"
          },
          "hovermode": "closest",
          "mapbox": {
           "style": "light"
          },
          "paper_bgcolor": "white",
          "plot_bgcolor": "white",
          "polar": {
           "angularaxis": {
            "gridcolor": "#EBF0F8",
            "linecolor": "#EBF0F8",
            "ticks": ""
           },
           "bgcolor": "white",
           "radialaxis": {
            "gridcolor": "#EBF0F8",
            "linecolor": "#EBF0F8",
            "ticks": ""
           }
          },
          "scene": {
           "xaxis": {
            "backgroundcolor": "white",
            "gridcolor": "#DFE8F3",
            "gridwidth": 2,
            "linecolor": "#EBF0F8",
            "showbackground": true,
            "ticks": "",
            "zerolinecolor": "#EBF0F8"
           },
           "yaxis": {
            "backgroundcolor": "white",
            "gridcolor": "#DFE8F3",
            "gridwidth": 2,
            "linecolor": "#EBF0F8",
            "showbackground": true,
            "ticks": "",
            "zerolinecolor": "#EBF0F8"
           },
           "zaxis": {
            "backgroundcolor": "white",
            "gridcolor": "#DFE8F3",
            "gridwidth": 2,
            "linecolor": "#EBF0F8",
            "showbackground": true,
            "ticks": "",
            "zerolinecolor": "#EBF0F8"
           }
          },
          "shapedefaults": {
           "line": {
            "color": "#2a3f5f"
           }
          },
          "ternary": {
           "aaxis": {
            "gridcolor": "#DFE8F3",
            "linecolor": "#A2B1C6",
            "ticks": ""
           },
           "baxis": {
            "gridcolor": "#DFE8F3",
            "linecolor": "#A2B1C6",
            "ticks": ""
           },
           "bgcolor": "white",
           "caxis": {
            "gridcolor": "#DFE8F3",
            "linecolor": "#A2B1C6",
            "ticks": ""
           }
          },
          "title": {
           "x": 0.05
          },
          "xaxis": {
           "automargin": true,
           "gridcolor": "#EBF0F8",
           "linecolor": "#EBF0F8",
           "ticks": "",
           "title": {
            "standoff": 15
           },
           "zerolinecolor": "#EBF0F8",
           "zerolinewidth": 2
          },
          "yaxis": {
           "automargin": true,
           "gridcolor": "#EBF0F8",
           "linecolor": "#EBF0F8",
           "ticks": "",
           "title": {
            "standoff": 15
           },
           "zerolinecolor": "#EBF0F8",
           "zerolinewidth": 2
          }
         }
        },
        "title": {
         "text": "F1 score on test sets for pretraining vs pretraining + fine-tuning models"
        },
        "violinmode": "group",
        "width": 1000,
        "xaxis": {
         "anchor": "y",
         "domain": [
          0,
          1
         ]
        },
        "yaxis": {
         "anchor": "x",
         "domain": [
          0,
          1
         ],
         "range": [
          0,
          1
         ]
        }
       }
      }
     },
     "metadata": {},
     "output_type": "display_data"
    }
   ],
   "source": [
    "# Creat a box plot with plotly\n",
    "import plotly.graph_objects as go\n",
    "from plotly.subplots import make_subplots\n",
    "import plotly.express as px\n",
    "fig = make_subplots(rows=1, cols=1, shared_xaxes=True)\n",
    "\n",
    "colors = px.colors.qualitative.D3\n",
    "for i, model in enumerate(['PT', 'PT+FT']):\n",
    "    results_dataset = data_comparison[data_comparison['model']==model]\n",
    "    fig.add_trace(go.Violin(x=results_dataset['dataset'], y=results_dataset['f1'], \n",
    "                            name=model, marker_color=colors[i], \n",
    "                            meanline_visible=True, points=False))\n",
    "    \n",
    "fig.update_layout(title='F1 score on test sets for pretraining vs pretraining + fine-tuning models', \n",
    "                  violinmode='group', yaxis_range=[0, 1],\n",
    "                  width=1000, height=400,\n",
    "                  template='plotly_white', font_size=15, font_color='black',)\n",
    "# fig.update_xaxes(categoryorder='array', categoryarray= ['RNAstructure', 'EternaFold', 'MXFold2', 'UFold'])\n",
    "fig.show()"
   ]
  },
  {
   "cell_type": "code",
   "execution_count": null,
   "metadata": {},
   "outputs": [],
   "source": [
    "for dataset in ['PDB', 'lncRNA', 'viral_fragments']:\n",
    "\n",
    "    data = data_comparison[data_comparison['dataset']==dataset]"
   ]
  },
  {
   "cell_type": "code",
   "execution_count": 99,
   "metadata": {},
   "outputs": [
    {
     "data": {
      "text/html": [
       "<div>\n",
       "<style scoped>\n",
       "    .dataframe tbody tr th:only-of-type {\n",
       "        vertical-align: middle;\n",
       "    }\n",
       "\n",
       "    .dataframe tbody tr th {\n",
       "        vertical-align: top;\n",
       "    }\n",
       "\n",
       "    .dataframe thead th {\n",
       "        text-align: right;\n",
       "    }\n",
       "</style>\n",
       "<table border=\"1\" class=\"dataframe\">\n",
       "  <thead>\n",
       "    <tr style=\"text-align: right;\">\n",
       "      <th></th>\n",
       "      <th>dataset</th>\n",
       "      <th>f1_PT</th>\n",
       "      <th>f1_PT+FT</th>\n",
       "      <th>isBetter</th>\n",
       "    </tr>\n",
       "  </thead>\n",
       "  <tbody>\n",
       "    <tr>\n",
       "      <th>0</th>\n",
       "      <td>PDB</td>\n",
       "      <td>0.705882</td>\n",
       "      <td>0.625000</td>\n",
       "      <td>False</td>\n",
       "    </tr>\n",
       "    <tr>\n",
       "      <th>1</th>\n",
       "      <td>PDB</td>\n",
       "      <td>0.803922</td>\n",
       "      <td>0.811881</td>\n",
       "      <td>True</td>\n",
       "    </tr>\n",
       "    <tr>\n",
       "      <th>2</th>\n",
       "      <td>PDB</td>\n",
       "      <td>0.956522</td>\n",
       "      <td>0.956522</td>\n",
       "      <td>True</td>\n",
       "    </tr>\n",
       "    <tr>\n",
       "      <th>3</th>\n",
       "      <td>PDB</td>\n",
       "      <td>0.909091</td>\n",
       "      <td>1.000000</td>\n",
       "      <td>True</td>\n",
       "    </tr>\n",
       "    <tr>\n",
       "      <th>4</th>\n",
       "      <td>PDB</td>\n",
       "      <td>0.842105</td>\n",
       "      <td>0.888889</td>\n",
       "      <td>True</td>\n",
       "    </tr>\n",
       "    <tr>\n",
       "      <th>...</th>\n",
       "      <td>...</td>\n",
       "      <td>...</td>\n",
       "      <td>...</td>\n",
       "      <td>...</td>\n",
       "    </tr>\n",
       "    <tr>\n",
       "      <th>424</th>\n",
       "      <td>viral_fragments</td>\n",
       "      <td>0.237726</td>\n",
       "      <td>0.284024</td>\n",
       "      <td>True</td>\n",
       "    </tr>\n",
       "    <tr>\n",
       "      <th>425</th>\n",
       "      <td>viral_fragments</td>\n",
       "      <td>0.516129</td>\n",
       "      <td>0.631111</td>\n",
       "      <td>True</td>\n",
       "    </tr>\n",
       "    <tr>\n",
       "      <th>426</th>\n",
       "      <td>viral_fragments</td>\n",
       "      <td>0.311111</td>\n",
       "      <td>0.369478</td>\n",
       "      <td>True</td>\n",
       "    </tr>\n",
       "    <tr>\n",
       "      <th>427</th>\n",
       "      <td>viral_fragments</td>\n",
       "      <td>0.353591</td>\n",
       "      <td>0.482759</td>\n",
       "      <td>True</td>\n",
       "    </tr>\n",
       "    <tr>\n",
       "      <th>428</th>\n",
       "      <td>viral_fragments</td>\n",
       "      <td>0.867925</td>\n",
       "      <td>0.800000</td>\n",
       "      <td>False</td>\n",
       "    </tr>\n",
       "  </tbody>\n",
       "</table>\n",
       "<p>429 rows × 4 columns</p>\n",
       "</div>"
      ],
      "text/plain": [
       "             dataset     f1_PT  f1_PT+FT  isBetter\n",
       "0                PDB  0.705882  0.625000     False\n",
       "1                PDB  0.803922  0.811881      True\n",
       "2                PDB  0.956522  0.956522      True\n",
       "3                PDB  0.909091  1.000000      True\n",
       "4                PDB  0.842105  0.888889      True\n",
       "..               ...       ...       ...       ...\n",
       "424  viral_fragments  0.237726  0.284024      True\n",
       "425  viral_fragments  0.516129  0.631111      True\n",
       "426  viral_fragments  0.311111  0.369478      True\n",
       "427  viral_fragments  0.353591  0.482759      True\n",
       "428  viral_fragments  0.867925  0.800000     False\n",
       "\n",
       "[429 rows x 4 columns]"
      ]
     },
     "execution_count": 99,
     "metadata": {},
     "output_type": "execute_result"
    }
   ],
   "source": [
    "compare_f1 = data_comparison[data_comparison['model']=='PT'].merge(data_comparison[data_comparison['model']=='PT+FT'], on=['reference', 'sequence', 'dataset'], suffixes=('_PT', '_PT+FT'))[['dataset', 'f1_PT', 'f1_PT+FT']]\n",
    "compare_f1['isBetter'] = compare_f1['f1_PT+FT'] >= compare_f1['f1_PT']\n",
    "compare_f1"
   ]
  },
  {
   "cell_type": "code",
   "execution_count": 103,
   "metadata": {},
   "outputs": [
    {
     "data": {
      "application/vnd.plotly.v1+json": {
       "config": {
        "plotlyServerURL": "https://plot.ly"
       },
       "data": [
        {
         "marker": {
          "color": "#1F77B4"
         },
         "mode": "markers",
         "name": "PDB",
         "opacity": 0.8,
         "showlegend": false,
         "type": "scatter",
         "x": [
          0.7058823704719543,
          0.8039215803146362,
          0.95652174949646,
          0.9090909361839294,
          0.8421052694320679,
          0.9090909361839294,
          0.8888888955116272,
          0.7857142686843872,
          0.7692307829856873,
          0.8837209343910217,
          0.800000011920929,
          0.9230769276618958,
          0.9411764740943909,
          0.8799999952316284,
          0.875,
          0.8571428656578064,
          0.8235294222831726,
          0.9090909361839294,
          0.7692307829856873,
          0,
          0.9375,
          0.8235294222831726,
          0.8695651888847351,
          0.7639639377593994,
          0.9411764740943909,
          1,
          1,
          0.8571428656578064,
          0.6896551847457886,
          0.875,
          0.9473684430122375,
          0.8571428656578064,
          0.9545454382896423,
          0.9090909361839294,
          0.8888888955116272,
          0.9230769276618958,
          0.8695651888847351,
          0.5396825671195984,
          0.8965517282485962,
          0.9523809552192688,
          0.9090909361839294,
          0.8695651888847351,
          0.7272727489471436,
          0.9523809552192688,
          0.8235294222831726,
          0.6363636255264282,
          0.8571428656578064,
          0.8999999761581421,
          0.8333333134651184,
          0.9411764740943909,
          0,
          0.9333333373069763,
          0.6666666865348816,
          0.800000011920929,
          0.8387096524238586,
          0.7058823704719543,
          0.8571428656578064,
          1,
          0.8275862336158752,
          0.761904776096344,
          0.6666666865348816,
          0.8421052694320679,
          0.95652174949646,
          0.9473684430122375,
          0.9090909361839294,
          0,
          0.800000011920929,
          0.8888888955116272,
          0,
          0.7692307829856873,
          0.9629629850387573,
          0.8571428656578064,
          0.774193525314331,
          0.9375,
          0.8817204236984253,
          0.7941176295280457,
          0.8888888955116272,
          0.9090909361839294,
          0.8333333134651184,
          1,
          0.8571428656578064,
          0.8571428656578064,
          0.8125,
          0.9599999785423279,
          0.9090909361839294,
          0.9473684430122375,
          0.800000011920929,
          0.9166666865348816,
          0.800000011920929,
          0.8571428656578064,
          0.6792452931404114,
          0.9090909361839294,
          0.8999999761581421,
          0.9333333373069763,
          0.95652174949646,
          0.9411764740943909,
          0.8571428656578064,
          0.8421052694320679,
          0.761904776096344,
          0.6666666865348816,
          0.9473684430122375,
          0.875,
          0.8421052694320679,
          0.800000011920929,
          0.8999999761581421,
          0.800000011920929,
          0.8888888955116272,
          1,
          0.9166666865348816,
          0.875,
          0.800000011920929,
          0.6315789222717285,
          0.6451612710952759,
          0.7058823704719543,
          0.8888888955116272,
          0.8888888955116272,
          0.8571428656578064,
          0.7777777910232544,
          0.800000011920929,
          0.930232584476471,
          0.5555555820465088,
          0.699999988079071,
          0.8059701323509216,
          0.9629629850387573,
          0,
          0.9473684430122375,
          0.875,
          0.8405796885490417,
          0.8181818127632141,
          0.8235294222831726,
          0.9090909361839294,
          0.8571428656578064,
          0.9032257795333862,
          0.6153846383094788,
          0.9599999785423279,
          0.7445255517959595,
          1,
          0.8999999761581421,
          0.8333333134651184,
          0.8888888955116272,
          0.8571428656578064,
          0.9090909361839294,
          0.8421052694320679,
          0.8421052694320679,
          0.9019607901573181,
          0.8399999737739563,
          0.875,
          0.8888888955116272,
          0.9629629850387573,
          0.8999999761581421,
          0.8888888955116272,
          0.8333333134651184,
          0.8823529481887817,
          0.95652174949646,
          0.800000011920929,
          0.9411764740943909,
          0.95652174949646,
          0.782608687877655,
          0.8333333134651184,
          0.9166666865348816,
          0.8999999761581421,
          0.875,
          0.7857142686843872,
          0.47787609696388245,
          0.9090909361839294,
          0.9090909361839294,
          0.8888888955116272,
          0.9523809552192688,
          0.8999999761581421,
          0.800000011920929,
          0.6990291476249695,
          0.9090909361839294,
          1,
          0.8571428656578064,
          0.75,
          0.8999999761581421,
          0.8571428656578064,
          0.9047619104385376,
          0,
          0.9473684430122375,
          0.8888888955116272,
          0.800000011920929,
          0.7142857313156128,
          0.800000011920929,
          0.6938775777816772,
          0.9090909361839294,
          0.8888888955116272,
          1,
          0.6153846383094788,
          0.8404494524002075,
          0.8500000238418579,
          0.95652174949646,
          0.8148148059844971,
          0.8571428656578064,
          0.75,
          0.8571428656578064,
          0.9473684430122375,
          0.7272727489471436,
          0.875,
          0.8333333134651184,
          0.9333333373069763,
          0.800000011920929,
          0.9599999785423279,
          1,
          0.8015872836112976,
          0.800000011920929,
          0.7722772359848022,
          0.4146341383457184,
          0.8936170339584351,
          0.8235294222831726,
          1,
          0.8405796885490417,
          0.7850467562675476,
          0.75,
          0.8181818127632141,
          0.6666666865348816,
          1,
          0.8333333134651184,
          0.3433476388454437,
          0.800000011920929,
          1,
          0.9473684430122375,
          0.8333333134651184,
          0.6666666865348816,
          0.9090909361839294,
          0.7692307829856873,
          0.8235294222831726,
          0.8571428656578064,
          0.7692307829856873,
          0.6399999856948853,
          0,
          0.8947368264198303,
          0.9375,
          0.9411764740943909,
          0.8999999761581421,
          0.9090909361839294,
          0.9166666865348816,
          0.9285714030265808,
          0.9655172228813171,
          0.9230769276618958,
          0.7272727489471436,
          1,
          0.8333333134651184,
          0.8333333134651184,
          0.8888888955116272,
          0.8333333134651184,
          0.9333333373069763,
          0.5454545617103577,
          0.7142857313156128,
          0.8148148059844971,
          0.8888888955116272,
          0.8888888955116272,
          0.7407407164573669,
          0.8571428656578064,
          0.8695651888847351,
          0.9411764740943909,
          0.9333333373069763,
          0.8571428656578064,
          0.8799999952316284,
          0.9655172228813171,
          0.8235294222831726,
          0.9473684430122375,
          0.9473684430122375,
          0.782608687877655,
          0.9142857193946838,
          0.9230769276618958,
          0.6341463327407837,
          0.8888888955116272,
          0.9599999785423279,
          0.782608687877655,
          0.9230769276618958,
          0.8421052694320679,
          0.9230769276618958,
          0.9333333373069763,
          0.774193525314331,
          0.95652174949646,
          0.7857142686843872,
          0.800000011920929,
          0.875,
          0.8974359035491943,
          0.8965517282485962,
          0.6222222447395325,
          1,
          0.875,
          0.9473684430122375,
          1,
          0.9411764740943909,
          0.9411764740943909,
          0.8571428656578064,
          0.8421052694320679,
          0.9230769276618958,
          0.9473684430122375,
          0.9473684430122375,
          0.800000011920929,
          0.8717948794364929,
          0.9504950642585754,
          0.6666666865348816,
          0.8888888955116272,
          0.9545454382896423,
          0.9333333373069763,
          0.8888888955116272,
          0.6060606241226196,
          1,
          0.8999999761581421,
          0.6190476417541504,
          0.9090909361839294,
          0.9523809552192688,
          0.6551724076271057,
          0.8888888955116272,
          0.8666666746139526,
          0.8999999761581421,
          0.7777777910232544,
          0.6060606241226196,
          0.800000011920929,
          0.8235294222831726,
          0.8333333134651184,
          0.8235294222831726,
          0.8695651888847351,
          0.9090909361839294,
          0,
          0.9599999785423279,
          0.8181818127632141,
          0.75,
          0.6666666865348816,
          0.9333333373069763,
          0.9189189076423645,
          0.9333333373069763,
          0.695652186870575,
          0.8659793734550476,
          0.7692307829856873,
          0.7096773982048035,
          0.9473684430122375,
          0.7263922691345215,
          0.7766990065574646,
          1,
          0.875,
          0.5984252095222473,
          0.8181818127632141,
          0.4848484992980957,
          1,
          0.9333333373069763,
          0.9333333373069763,
          0.800000011920929,
          0.800000011920929,
          0.800000011920929,
          0.8333333134651184,
          0.7692307829856873,
          0.8181818127632141,
          0.9473684430122375,
          1,
          0,
          0.9142857193946838,
          0.7058823704719543,
          0.782608687877655,
          0.9599999785423279,
          0.75
         ],
         "xaxis": "x",
         "y": [
          0.625,
          0.8118811845779419,
          0.95652174949646,
          1,
          0.8888888955116272,
          1,
          0.9411764740943909,
          0.8846153616905212,
          0.8333333134651184,
          0.746666669845581,
          0.800000011920929,
          0.7692307829856873,
          1,
          0.5882353186607361,
          0.9333333373069763,
          0.8571428656578064,
          0.8235294222831726,
          1,
          0.8333333134651184,
          0,
          0.9677419066429138,
          0.875,
          0.95652174949646,
          0.8324872851371765,
          1,
          1,
          1,
          0.8571428656578064,
          0.7407407164573669,
          0.875,
          1,
          0.8571428656578064,
          0.9767441749572754,
          1,
          1,
          0.7692307829856873,
          0.9090909361839294,
          0.4333333373069763,
          0.8241205811500549,
          0.9523809552192688,
          0.7777777910232544,
          0.8421052694320679,
          0.800000011920929,
          0.9523809552192688,
          0.9333333373069763,
          0.699999988079071,
          0.9230769276618958,
          0.8947368264198303,
          0.9090909361839294,
          0.9411764740943909,
          0,
          0.8679245114326477,
          0.7272727489471436,
          0.9411764740943909,
          0.8965517282485962,
          0.6666666865348816,
          0.9473684430122375,
          1,
          0.8030887842178345,
          1,
          0.47058823704719543,
          0.9411764740943909,
          1,
          0.9473684430122375,
          1,
          0.2733812928199768,
          0.8571428656578064,
          1,
          0,
          0.7692307829856873,
          1,
          0.9599999785423279,
          0.9230769276618958,
          0.9032257795333862,
          0.7792207598686218,
          0.7936508059501648,
          1,
          1,
          0.9523809552192688,
          1,
          1,
          0.8999999761581421,
          0.8666666746139526,
          1,
          0.9090909361839294,
          1,
          0.9230769276618958,
          1,
          0.9230769276618958,
          0.9599999785423279,
          0.6666666865348816,
          0.8666666746139526,
          0.8999999761581421,
          0.9333333373069763,
          0.95652174949646,
          0.9411764740943909,
          1,
          0.8888888955116272,
          0.701298713684082,
          0.6666666865348816,
          1,
          0.9333333373069763,
          0.8888888955116272,
          1,
          0.9473684430122375,
          0.8888888955116272,
          0.8888888955116272,
          0.8571428656578064,
          0.9583333134651184,
          0.9333333373069763,
          0.9230769276618958,
          0.3461538553237915,
          0.6666666865348816,
          0.8235294222831726,
          1,
          0.75,
          0.8823529481887817,
          0.8235294222831726,
          0.9655172228813171,
          0.9756097793579102,
          0.5446009635925293,
          0.875,
          0.920634925365448,
          1,
          1,
          0.8235294222831726,
          0.875,
          0.6551724076271057,
          0.7368420958518982,
          0.9333333373069763,
          1,
          1,
          0.9032257795333862,
          0.7272727489471436,
          0.9411764740943909,
          0.8487584590911865,
          0.9473684430122375,
          0.9473684430122375,
          0.8333333134651184,
          1,
          0.9333333373069763,
          1,
          0.8888888955116272,
          0.8888888955116272,
          0.6666666865348816,
          0.8260869383811951,
          0.9333333373069763,
          1,
          0.9629629850387573,
          0.8999999761581421,
          0.9767441749572754,
          0.9090909361839294,
          0.9411764740943909,
          1,
          0.8888888955116272,
          0.9411764740943909,
          0.95652174949646,
          0.8999999761581421,
          1,
          0.8999999761581421,
          0.5,
          0.875,
          0.9333333373069763,
          0.5409836173057556,
          0.9090909361839294,
          1,
          1,
          0.9523809552192688,
          0.9729729890823364,
          0.8235294222831726,
          0.7446808218955994,
          0.9777777791023254,
          1,
          0.9473684430122375,
          0.800000011920929,
          0.9473684430122375,
          0.8999999761581421,
          0.9756097793579102,
          1,
          1,
          0.9230769276618958,
          0.9230769276618958,
          0.9090909361839294,
          0.9230769276618958,
          0.800000011920929,
          1,
          0.9166666865348816,
          0.9333333373069763,
          0.5,
          0.8503254055976868,
          0.8947368264198303,
          0.95652174949646,
          0.8846153616905212,
          1,
          1,
          0.9333333373069763,
          0.9473684430122375,
          0.800000011920929,
          0.875,
          0.9090909361839294,
          0.9333333373069763,
          0.8695651888847351,
          1,
          1,
          0.7649402618408203,
          0.800000011920929,
          0.6666666865348816,
          0.3362831771373749,
          0.9333333373069763,
          0.9333333373069763,
          0.9333333373069763,
          0.892307698726654,
          0.8867924809455872,
          0.782608687877655,
          0.7272727489471436,
          1,
          1,
          1,
          0.31313130259513855,
          0.800000011920929,
          1,
          1,
          0.9090909361839294,
          0.800000011920929,
          0.9090909361839294,
          0.8571428656578064,
          0.9333333373069763,
          1,
          0.7272727489471436,
          0.6153846383094788,
          0,
          1,
          0.9677419066429138,
          1,
          0.9473684430122375,
          0.9090909361839294,
          0.8999999761581421,
          0.9629629850387573,
          1,
          0.9230769276618958,
          0.8421052694320679,
          1,
          1,
          0.9090909361839294,
          0.8888888955116272,
          0.8695651888847351,
          1,
          0.6315789222717285,
          0.7857142686843872,
          0.9433962106704712,
          1,
          1,
          0.9166666865348816,
          0.9230769276618958,
          0.6666666865348816,
          1,
          0.9333333373069763,
          0.8421052694320679,
          1,
          1,
          1,
          0.9473684430122375,
          0.9473684430122375,
          0.9090909361839294,
          0.9411764740943909,
          0.9473684430122375,
          0.7252747416496277,
          0.8888888955116272,
          1,
          0.9473684430122375,
          0.9230769276618958,
          0.8888888955116272,
          1,
          1,
          0.8275862336158752,
          0.95652174949646,
          0.8799999952316284,
          0.8387096524238586,
          0.9333333373069763,
          0.6567164063453674,
          0.9230769276618958,
          0.8717948794364929,
          1,
          0.875,
          1,
          1,
          0.9411764740943909,
          1,
          0.9230769276618958,
          0.9411764740943909,
          1,
          0.9473684430122375,
          1,
          0.8648648858070374,
          0.9189189076423645,
          0.9399999976158142,
          0.75,
          0.8888888955116272,
          0.9767441749572754,
          1,
          0.9411764740943909,
          0.625,
          1,
          0.8484848737716675,
          0.695652186870575,
          1,
          1,
          0.7307692170143127,
          1,
          0.9629629850387573,
          0.9473684430122375,
          0.9655172228813171,
          0.7586206793785095,
          0.8888888955116272,
          0.875,
          1,
          0.9333333373069763,
          1,
          1,
          0,
          0.9599999785423279,
          0.9473684430122375,
          1,
          0,
          0.8636363744735718,
          0.9714285731315613,
          1,
          0.6315789222717285,
          0.7368420958518982,
          0.95652174949646,
          0.8461538553237915,
          1,
          0.7581395506858826,
          0.7021276354789734,
          1,
          1,
          0.6131386756896973,
          0.8999999761581421,
          0.4137931168079376,
          0.9230769276618958,
          0.5,
          0.9333333373069763,
          0.8333333134651184,
          0.8888888955116272,
          0.7142857313156128,
          1,
          0.8333333134651184,
          0.8999999761581421,
          1,
          1,
          0,
          0.9411764740943909,
          0.800000011920929,
          0.8999999761581421,
          1,
          0.9333333373069763
         ],
         "yaxis": "y"
        },
        {
         "line": {
          "color": "black",
          "dash": "dash"
         },
         "mode": "lines",
         "showlegend": false,
         "type": "scatter",
         "x": [
          0,
          1
         ],
         "xaxis": "x",
         "y": [
          0,
          1
         ],
         "yaxis": "y"
        },
        {
         "marker": {
          "color": "#1F77B4"
         },
         "mode": "markers",
         "name": "lncRNA",
         "opacity": 0.8,
         "showlegend": false,
         "type": "scatter",
         "x": [
          0.23076923191547394,
          0.2405063360929489,
          0,
          0.5806451439857483,
          0,
          0,
          0,
          0,
          0,
          0,
          0,
          0,
          0,
          0,
          0.09463722258806229
         ],
         "xaxis": "x2",
         "y": [
          0.26356589794158936,
          0.40506330132484436,
          0.032786883413791656,
          0.6147540807723999,
          0,
          0,
          0,
          0,
          0,
          0,
          0.020325202494859695,
          0.019999999552965164,
          0.012371134012937546,
          0,
          0.21153846383094788
         ],
         "yaxis": "y2"
        },
        {
         "line": {
          "color": "black",
          "dash": "dash"
         },
         "mode": "lines",
         "showlegend": false,
         "type": "scatter",
         "x": [
          0,
          1
         ],
         "xaxis": "x2",
         "y": [
          0,
          1
         ],
         "yaxis": "y2"
        },
        {
         "marker": {
          "color": "#1F77B4"
         },
         "mode": "markers",
         "name": "viral_fragments",
         "opacity": 0.8,
         "showlegend": false,
         "type": "scatter",
         "x": [
          0.8048780560493469,
          0.7777777910232544,
          0.7181817889213562,
          0.7037037014961243,
          0.7692307829856873,
          0.5888324975967407,
          0.395256906747818,
          0.5846154093742371,
          0.6570048332214355,
          0.7326732873916626,
          0.6239316463470459,
          0.631147563457489,
          0.4334600865840912,
          0.5951557159423828,
          0.4035087823867798,
          0.5408805012702942,
          0.6565656661987305,
          0.7857142686843872,
          0.5652173757553101,
          0.695652186870575,
          0.6101694703102112,
          0.6976743936538696,
          0.701298713684082,
          0.6865671873092651,
          0.556291401386261,
          0.6015625,
          0.6219512224197388,
          0.43478259444236755,
          0.07407407462596893,
          0.47887325286865234,
          0.6464646458625793,
          0.5423728823661804,
          0.7796609997749329,
          0.1488833725452423,
          0.125,
          0.17834395170211792,
          0.5080385804176331,
          0.35862070322036743,
          0.5030674934387207,
          0.3925233781337738,
          0.28664496541023254,
          0.796875,
          0.4225352108478546,
          0.6716980934143066,
          0.3466666638851166,
          0.14426229894161224,
          0.37654322385787964,
          0.23118279874324799,
          0.158620685338974,
          0.36781609058380127,
          0.014184396713972092,
          0.26829269528388977,
          0.30075186491012573,
          0.237726092338562,
          0.5161290168762207,
          0.31111112236976624,
          0.3535911738872528,
          0.8679245114326477
         ],
         "xaxis": "x3",
         "y": [
          0.8500000238418579,
          0.6666666865348816,
          0.7272727489471436,
          0.6909090876579285,
          0.6451612710952759,
          0.5700934529304504,
          0.5249999761581421,
          0.698630154132843,
          0.6601941585540771,
          0.7136150002479553,
          0.6720647811889648,
          0.7348484992980957,
          0.4198473393917084,
          0.5247148275375366,
          0.35555556416511536,
          0.52173912525177,
          0.7047619223594666,
          0.7594936490058899,
          0.5882353186607361,
          0.746081531047821,
          0.7200000286102295,
          0.6758620738983154,
          0.7837837934494019,
          0.5454545617103577,
          0.6242774724960327,
          0.6058091521263123,
          0.49438202381134033,
          0.5454545617103577,
          0.5882353186607361,
          0.701298713684082,
          0.6868686676025391,
          0.5691056847572327,
          0.7924528121948242,
          0.1587301641702652,
          0.24581006169319153,
          0.21476510167121887,
          0.641269862651825,
          0.7570621371269226,
          0.5856353640556335,
          0.3120567500591278,
          0.3180212080478668,
          0.6551724076271057,
          0.44077134132385254,
          0.6814814805984497,
          0.5045045018196106,
          0.19543974101543427,
          0.3733333349227905,
          0.24117647111415863,
          0.07999999821186066,
          0.4257028102874756,
          0.20060789585113525,
          0.27450981736183167,
          0.39726027846336365,
          0.2840236723423004,
          0.6311110854148865,
          0.36947789788246155,
          0.48275861144065857,
          0.800000011920929
         ],
         "yaxis": "y3"
        },
        {
         "line": {
          "color": "black",
          "dash": "dash"
         },
         "mode": "lines",
         "showlegend": false,
         "type": "scatter",
         "x": [
          0,
          1
         ],
         "xaxis": "x3",
         "y": [
          0,
          1
         ],
         "yaxis": "y3"
        }
       ],
       "layout": {
        "annotations": [
         {
          "font": {
           "size": 16
          },
          "showarrow": false,
          "text": "PDB (83.7% ≥ y=x)",
          "x": 0.14444444444444446,
          "xanchor": "center",
          "xref": "paper",
          "y": 1,
          "yanchor": "bottom",
          "yref": "paper"
         },
         {
          "font": {
           "size": 16
          },
          "showarrow": false,
          "text": "lncRNA (100.0% ≥ y=x)",
          "x": 0.5,
          "xanchor": "center",
          "xref": "paper",
          "y": 1,
          "yanchor": "bottom",
          "yref": "paper"
         },
         {
          "font": {
           "size": 16
          },
          "showarrow": false,
          "text": "viral_fragments (69.0% ≥ y=x)",
          "x": 0.8555555555555556,
          "xanchor": "center",
          "xref": "paper",
          "y": 1,
          "yanchor": "bottom",
          "yref": "paper"
         },
         {
          "font": {
           "size": 16
          },
          "showarrow": false,
          "text": "F1 score for PT",
          "x": 0.5,
          "xanchor": "center",
          "xref": "paper",
          "y": 0,
          "yanchor": "top",
          "yref": "paper",
          "yshift": -30
         },
         {
          "font": {
           "size": 16
          },
          "showarrow": false,
          "text": "F1 score for PT+FT",
          "textangle": -90,
          "x": 0,
          "xanchor": "right",
          "xref": "paper",
          "xshift": -40,
          "y": 0.5,
          "yanchor": "middle",
          "yref": "paper"
         }
        ],
        "font": {
         "color": "black",
         "size": 15
        },
        "height": 450,
        "template": {
         "data": {
          "bar": [
           {
            "error_x": {
             "color": "#2a3f5f"
            },
            "error_y": {
             "color": "#2a3f5f"
            },
            "marker": {
             "line": {
              "color": "white",
              "width": 0.5
             },
             "pattern": {
              "fillmode": "overlay",
              "size": 10,
              "solidity": 0.2
             }
            },
            "type": "bar"
           }
          ],
          "barpolar": [
           {
            "marker": {
             "line": {
              "color": "white",
              "width": 0.5
             },
             "pattern": {
              "fillmode": "overlay",
              "size": 10,
              "solidity": 0.2
             }
            },
            "type": "barpolar"
           }
          ],
          "carpet": [
           {
            "aaxis": {
             "endlinecolor": "#2a3f5f",
             "gridcolor": "#C8D4E3",
             "linecolor": "#C8D4E3",
             "minorgridcolor": "#C8D4E3",
             "startlinecolor": "#2a3f5f"
            },
            "baxis": {
             "endlinecolor": "#2a3f5f",
             "gridcolor": "#C8D4E3",
             "linecolor": "#C8D4E3",
             "minorgridcolor": "#C8D4E3",
             "startlinecolor": "#2a3f5f"
            },
            "type": "carpet"
           }
          ],
          "choropleth": [
           {
            "colorbar": {
             "outlinewidth": 0,
             "ticks": ""
            },
            "type": "choropleth"
           }
          ],
          "contour": [
           {
            "colorbar": {
             "outlinewidth": 0,
             "ticks": ""
            },
            "colorscale": [
             [
              0,
              "#0d0887"
             ],
             [
              0.1111111111111111,
              "#46039f"
             ],
             [
              0.2222222222222222,
              "#7201a8"
             ],
             [
              0.3333333333333333,
              "#9c179e"
             ],
             [
              0.4444444444444444,
              "#bd3786"
             ],
             [
              0.5555555555555556,
              "#d8576b"
             ],
             [
              0.6666666666666666,
              "#ed7953"
             ],
             [
              0.7777777777777778,
              "#fb9f3a"
             ],
             [
              0.8888888888888888,
              "#fdca26"
             ],
             [
              1,
              "#f0f921"
             ]
            ],
            "type": "contour"
           }
          ],
          "contourcarpet": [
           {
            "colorbar": {
             "outlinewidth": 0,
             "ticks": ""
            },
            "type": "contourcarpet"
           }
          ],
          "heatmap": [
           {
            "colorbar": {
             "outlinewidth": 0,
             "ticks": ""
            },
            "colorscale": [
             [
              0,
              "#0d0887"
             ],
             [
              0.1111111111111111,
              "#46039f"
             ],
             [
              0.2222222222222222,
              "#7201a8"
             ],
             [
              0.3333333333333333,
              "#9c179e"
             ],
             [
              0.4444444444444444,
              "#bd3786"
             ],
             [
              0.5555555555555556,
              "#d8576b"
             ],
             [
              0.6666666666666666,
              "#ed7953"
             ],
             [
              0.7777777777777778,
              "#fb9f3a"
             ],
             [
              0.8888888888888888,
              "#fdca26"
             ],
             [
              1,
              "#f0f921"
             ]
            ],
            "type": "heatmap"
           }
          ],
          "heatmapgl": [
           {
            "colorbar": {
             "outlinewidth": 0,
             "ticks": ""
            },
            "colorscale": [
             [
              0,
              "#0d0887"
             ],
             [
              0.1111111111111111,
              "#46039f"
             ],
             [
              0.2222222222222222,
              "#7201a8"
             ],
             [
              0.3333333333333333,
              "#9c179e"
             ],
             [
              0.4444444444444444,
              "#bd3786"
             ],
             [
              0.5555555555555556,
              "#d8576b"
             ],
             [
              0.6666666666666666,
              "#ed7953"
             ],
             [
              0.7777777777777778,
              "#fb9f3a"
             ],
             [
              0.8888888888888888,
              "#fdca26"
             ],
             [
              1,
              "#f0f921"
             ]
            ],
            "type": "heatmapgl"
           }
          ],
          "histogram": [
           {
            "marker": {
             "pattern": {
              "fillmode": "overlay",
              "size": 10,
              "solidity": 0.2
             }
            },
            "type": "histogram"
           }
          ],
          "histogram2d": [
           {
            "colorbar": {
             "outlinewidth": 0,
             "ticks": ""
            },
            "colorscale": [
             [
              0,
              "#0d0887"
             ],
             [
              0.1111111111111111,
              "#46039f"
             ],
             [
              0.2222222222222222,
              "#7201a8"
             ],
             [
              0.3333333333333333,
              "#9c179e"
             ],
             [
              0.4444444444444444,
              "#bd3786"
             ],
             [
              0.5555555555555556,
              "#d8576b"
             ],
             [
              0.6666666666666666,
              "#ed7953"
             ],
             [
              0.7777777777777778,
              "#fb9f3a"
             ],
             [
              0.8888888888888888,
              "#fdca26"
             ],
             [
              1,
              "#f0f921"
             ]
            ],
            "type": "histogram2d"
           }
          ],
          "histogram2dcontour": [
           {
            "colorbar": {
             "outlinewidth": 0,
             "ticks": ""
            },
            "colorscale": [
             [
              0,
              "#0d0887"
             ],
             [
              0.1111111111111111,
              "#46039f"
             ],
             [
              0.2222222222222222,
              "#7201a8"
             ],
             [
              0.3333333333333333,
              "#9c179e"
             ],
             [
              0.4444444444444444,
              "#bd3786"
             ],
             [
              0.5555555555555556,
              "#d8576b"
             ],
             [
              0.6666666666666666,
              "#ed7953"
             ],
             [
              0.7777777777777778,
              "#fb9f3a"
             ],
             [
              0.8888888888888888,
              "#fdca26"
             ],
             [
              1,
              "#f0f921"
             ]
            ],
            "type": "histogram2dcontour"
           }
          ],
          "mesh3d": [
           {
            "colorbar": {
             "outlinewidth": 0,
             "ticks": ""
            },
            "type": "mesh3d"
           }
          ],
          "parcoords": [
           {
            "line": {
             "colorbar": {
              "outlinewidth": 0,
              "ticks": ""
             }
            },
            "type": "parcoords"
           }
          ],
          "pie": [
           {
            "automargin": true,
            "type": "pie"
           }
          ],
          "scatter": [
           {
            "fillpattern": {
             "fillmode": "overlay",
             "size": 10,
             "solidity": 0.2
            },
            "type": "scatter"
           }
          ],
          "scatter3d": [
           {
            "line": {
             "colorbar": {
              "outlinewidth": 0,
              "ticks": ""
             }
            },
            "marker": {
             "colorbar": {
              "outlinewidth": 0,
              "ticks": ""
             }
            },
            "type": "scatter3d"
           }
          ],
          "scattercarpet": [
           {
            "marker": {
             "colorbar": {
              "outlinewidth": 0,
              "ticks": ""
             }
            },
            "type": "scattercarpet"
           }
          ],
          "scattergeo": [
           {
            "marker": {
             "colorbar": {
              "outlinewidth": 0,
              "ticks": ""
             }
            },
            "type": "scattergeo"
           }
          ],
          "scattergl": [
           {
            "marker": {
             "colorbar": {
              "outlinewidth": 0,
              "ticks": ""
             }
            },
            "type": "scattergl"
           }
          ],
          "scattermapbox": [
           {
            "marker": {
             "colorbar": {
              "outlinewidth": 0,
              "ticks": ""
             }
            },
            "type": "scattermapbox"
           }
          ],
          "scatterpolar": [
           {
            "marker": {
             "colorbar": {
              "outlinewidth": 0,
              "ticks": ""
             }
            },
            "type": "scatterpolar"
           }
          ],
          "scatterpolargl": [
           {
            "marker": {
             "colorbar": {
              "outlinewidth": 0,
              "ticks": ""
             }
            },
            "type": "scatterpolargl"
           }
          ],
          "scatterternary": [
           {
            "marker": {
             "colorbar": {
              "outlinewidth": 0,
              "ticks": ""
             }
            },
            "type": "scatterternary"
           }
          ],
          "surface": [
           {
            "colorbar": {
             "outlinewidth": 0,
             "ticks": ""
            },
            "colorscale": [
             [
              0,
              "#0d0887"
             ],
             [
              0.1111111111111111,
              "#46039f"
             ],
             [
              0.2222222222222222,
              "#7201a8"
             ],
             [
              0.3333333333333333,
              "#9c179e"
             ],
             [
              0.4444444444444444,
              "#bd3786"
             ],
             [
              0.5555555555555556,
              "#d8576b"
             ],
             [
              0.6666666666666666,
              "#ed7953"
             ],
             [
              0.7777777777777778,
              "#fb9f3a"
             ],
             [
              0.8888888888888888,
              "#fdca26"
             ],
             [
              1,
              "#f0f921"
             ]
            ],
            "type": "surface"
           }
          ],
          "table": [
           {
            "cells": {
             "fill": {
              "color": "#EBF0F8"
             },
             "line": {
              "color": "white"
             }
            },
            "header": {
             "fill": {
              "color": "#C8D4E3"
             },
             "line": {
              "color": "white"
             }
            },
            "type": "table"
           }
          ]
         },
         "layout": {
          "annotationdefaults": {
           "arrowcolor": "#2a3f5f",
           "arrowhead": 0,
           "arrowwidth": 1
          },
          "autotypenumbers": "strict",
          "coloraxis": {
           "colorbar": {
            "outlinewidth": 0,
            "ticks": ""
           }
          },
          "colorscale": {
           "diverging": [
            [
             0,
             "#8e0152"
            ],
            [
             0.1,
             "#c51b7d"
            ],
            [
             0.2,
             "#de77ae"
            ],
            [
             0.3,
             "#f1b6da"
            ],
            [
             0.4,
             "#fde0ef"
            ],
            [
             0.5,
             "#f7f7f7"
            ],
            [
             0.6,
             "#e6f5d0"
            ],
            [
             0.7,
             "#b8e186"
            ],
            [
             0.8,
             "#7fbc41"
            ],
            [
             0.9,
             "#4d9221"
            ],
            [
             1,
             "#276419"
            ]
           ],
           "sequential": [
            [
             0,
             "#0d0887"
            ],
            [
             0.1111111111111111,
             "#46039f"
            ],
            [
             0.2222222222222222,
             "#7201a8"
            ],
            [
             0.3333333333333333,
             "#9c179e"
            ],
            [
             0.4444444444444444,
             "#bd3786"
            ],
            [
             0.5555555555555556,
             "#d8576b"
            ],
            [
             0.6666666666666666,
             "#ed7953"
            ],
            [
             0.7777777777777778,
             "#fb9f3a"
            ],
            [
             0.8888888888888888,
             "#fdca26"
            ],
            [
             1,
             "#f0f921"
            ]
           ],
           "sequentialminus": [
            [
             0,
             "#0d0887"
            ],
            [
             0.1111111111111111,
             "#46039f"
            ],
            [
             0.2222222222222222,
             "#7201a8"
            ],
            [
             0.3333333333333333,
             "#9c179e"
            ],
            [
             0.4444444444444444,
             "#bd3786"
            ],
            [
             0.5555555555555556,
             "#d8576b"
            ],
            [
             0.6666666666666666,
             "#ed7953"
            ],
            [
             0.7777777777777778,
             "#fb9f3a"
            ],
            [
             0.8888888888888888,
             "#fdca26"
            ],
            [
             1,
             "#f0f921"
            ]
           ]
          },
          "colorway": [
           "#636efa",
           "#EF553B",
           "#00cc96",
           "#ab63fa",
           "#FFA15A",
           "#19d3f3",
           "#FF6692",
           "#B6E880",
           "#FF97FF",
           "#FECB52"
          ],
          "font": {
           "color": "#2a3f5f"
          },
          "geo": {
           "bgcolor": "white",
           "lakecolor": "white",
           "landcolor": "white",
           "showlakes": true,
           "showland": true,
           "subunitcolor": "#C8D4E3"
          },
          "hoverlabel": {
           "align": "left"
          },
          "hovermode": "closest",
          "mapbox": {
           "style": "light"
          },
          "paper_bgcolor": "white",
          "plot_bgcolor": "white",
          "polar": {
           "angularaxis": {
            "gridcolor": "#EBF0F8",
            "linecolor": "#EBF0F8",
            "ticks": ""
           },
           "bgcolor": "white",
           "radialaxis": {
            "gridcolor": "#EBF0F8",
            "linecolor": "#EBF0F8",
            "ticks": ""
           }
          },
          "scene": {
           "xaxis": {
            "backgroundcolor": "white",
            "gridcolor": "#DFE8F3",
            "gridwidth": 2,
            "linecolor": "#EBF0F8",
            "showbackground": true,
            "ticks": "",
            "zerolinecolor": "#EBF0F8"
           },
           "yaxis": {
            "backgroundcolor": "white",
            "gridcolor": "#DFE8F3",
            "gridwidth": 2,
            "linecolor": "#EBF0F8",
            "showbackground": true,
            "ticks": "",
            "zerolinecolor": "#EBF0F8"
           },
           "zaxis": {
            "backgroundcolor": "white",
            "gridcolor": "#DFE8F3",
            "gridwidth": 2,
            "linecolor": "#EBF0F8",
            "showbackground": true,
            "ticks": "",
            "zerolinecolor": "#EBF0F8"
           }
          },
          "shapedefaults": {
           "line": {
            "color": "#2a3f5f"
           }
          },
          "ternary": {
           "aaxis": {
            "gridcolor": "#DFE8F3",
            "linecolor": "#A2B1C6",
            "ticks": ""
           },
           "baxis": {
            "gridcolor": "#DFE8F3",
            "linecolor": "#A2B1C6",
            "ticks": ""
           },
           "bgcolor": "white",
           "caxis": {
            "gridcolor": "#DFE8F3",
            "linecolor": "#A2B1C6",
            "ticks": ""
           }
          },
          "title": {
           "x": 0.05
          },
          "xaxis": {
           "automargin": true,
           "gridcolor": "#EBF0F8",
           "linecolor": "#EBF0F8",
           "ticks": "",
           "title": {
            "standoff": 15
           },
           "zerolinecolor": "#EBF0F8",
           "zerolinewidth": 2
          },
          "yaxis": {
           "automargin": true,
           "gridcolor": "#EBF0F8",
           "linecolor": "#EBF0F8",
           "ticks": "",
           "title": {
            "standoff": 15
           },
           "zerolinecolor": "#EBF0F8",
           "zerolinewidth": 2
          }
         }
        },
        "title": {
         "text": "F1 score comparison per sequence for pretraining vs pretraining + fine-tuning models"
        },
        "width": 1200,
        "xaxis": {
         "anchor": "y",
         "domain": [
          0,
          0.2888888888888889
         ]
        },
        "xaxis2": {
         "anchor": "y2",
         "domain": [
          0.35555555555555557,
          0.6444444444444445
         ]
        },
        "xaxis3": {
         "anchor": "y3",
         "domain": [
          0.7111111111111111,
          1
         ]
        },
        "yaxis": {
         "anchor": "x",
         "domain": [
          0,
          1
         ],
         "scaleanchor": "x",
         "scaleratio": 1
        },
        "yaxis2": {
         "anchor": "x2",
         "domain": [
          0,
          1
         ],
         "matches": "y",
         "scaleanchor": "x",
         "scaleratio": 1,
         "showticklabels": false
        },
        "yaxis3": {
         "anchor": "x3",
         "domain": [
          0,
          1
         ],
         "matches": "y",
         "scaleanchor": "x",
         "scaleratio": 1,
         "showticklabels": false
        }
       }
      }
     },
     "metadata": {},
     "output_type": "display_data"
    }
   ],
   "source": [
    "from plotly.subplots import make_subplots\n",
    "\n",
    "compare_f1 = data_comparison[data_comparison['model']=='PT'].merge(data_comparison[data_comparison['model']=='PT+FT'], on=['reference', 'sequence', 'dataset'], suffixes=('_PT', '_PT+FT'))[['dataset', 'f1_PT', 'f1_PT+FT']]\n",
    "compare_f1['isBetter'] = compare_f1['f1_PT+FT'] >= compare_f1['f1_PT']\n",
    "\n",
    "fig = make_subplots(rows=1, cols=3, shared_xaxes=True, shared_yaxes=True, \n",
    "                    subplot_titles=[ f'{dataset} ({100*compare_f1[compare_f1[\"dataset\"]==dataset][\"isBetter\"].sum()/sum(compare_f1[\"dataset\"]==dataset):.1f}% ≥ y=x)' for dataset in compare_f1['dataset'].unique()],\n",
    "                    x_title='F1 score for PT', y_title='F1 score for PT+FT')\n",
    "\n",
    "colors = px.colors.qualitative.D3\n",
    "for i, dataset in enumerate(compare_f1['dataset'].unique()):\n",
    "\n",
    "    data = data_comparison[data_comparison['dataset']==dataset]\n",
    "\n",
    "    fig.add_trace(go.Scatter(x=data[data['model']=='PT']['f1'],\n",
    "                        y=data[data['model']=='PT+FT']['f1'],\n",
    "                        mode='markers', \n",
    "                        marker_color=colors[0], opacity=0.8, showlegend=False,\n",
    "                        name=dataset), row=1, col=i+1)\n",
    "    fig.add_trace(go.Scatter(x=[0, 1], y=[0, 1], mode='lines', line_color='black', line_dash='dash', showlegend=False), row=1, col=i+1)\n",
    "\n",
    "\n",
    "fig.update_yaxes(\n",
    "    scaleanchor=\"x\",\n",
    "    scaleratio=1,\n",
    "  )\n",
    "\n",
    "fig.update_layout(width=1200, height=450, template='plotly_white', font_size=15, font_color='black',\n",
    "                  title='F1 score comparison per sequence for pretraining vs pretraining + fine-tuning models')\n",
    "fig.show()"
   ]
  },
  {
   "cell_type": "code",
   "execution_count": 58,
   "metadata": {},
   "outputs": [
    {
     "data": {
      "text/plain": [
       "<AxesSubplot: >"
      ]
     },
     "execution_count": 58,
     "metadata": {},
     "output_type": "execute_result"
    },
    {
     "data": {
      "image/png": "[encoded data removed]",
      "text/plain": [
       "<Figure size 640x480 with 1 Axes>"
      ]
     },
     "metadata": {},
     "output_type": "display_data"
    }
   ],
   "source": [
    "ground_truth[ground_truth['dataset']=='lncRNA'].sequence.apply(len).hist(bins=100)"
   ]
  }
 ],
 "metadata": {
  "kernelspec": {
   "display_name": "Python 3",
   "language": "python",
   "name": "python3"
  },
  "language_info": {
   "codemirror_mode": {
    "name": "ipython",
    "version": 3
   },
   "file_extension": ".py",
   "mimetype": "text/x-python",
   "name": "python",
   "nbconvert_exporter": "python",
   "pygments_lexer": "ipython3",
   "version": "3.10.9"
  }
 },
 "nbformat": 4,
 "nbformat_minor": 2
}

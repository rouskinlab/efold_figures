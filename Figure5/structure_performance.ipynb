{
 "cells": [
  {
   "cell_type": "markdown",
   "metadata": {},
   "source": [
    "## Show distribution of structure prediction performance\n",
    "\n",
    "Reuse same format as the algo_benchmark plot of Figure 1.\n",
    "\n",
    "Add our algorithm and hopefully show less performance gap\n",
    "\n",
    "**Assigned to**: Alberic\n",
    "\n",
    "Use Ploty, and a white background"
   ]
  },
  {
   "cell_type": "code",
   "execution_count": 1,
   "metadata": {},
   "outputs": [],
   "source": [
    "import pandas as pd\n",
    "from rouskinhf import get_dataset\n",
    "import torch\n",
    "import numpy as np"
   ]
  },
  {
   "cell_type": "code",
   "execution_count": 2,
   "metadata": {},
   "outputs": [],
   "source": [
    "def compute_f1(pred_matrix, target_matrix, threshold=0.5):\n",
    "    \"\"\"\n",
    "    Compute the F1 score of the predictions.\n",
    "\n",
    "    :param pred_matrix: Predicted pairing matrix probability  (L,L)\n",
    "    :param target_matrix: True binary pairing matrix (L,L)\n",
    "    :return: F1 score for this RNA structure\n",
    "    \"\"\"\n",
    "\n",
    "    pred_matrix = (pred_matrix > threshold).float()\n",
    "\n",
    "    sum_pair = torch.sum(pred_matrix) + torch.sum(target_matrix)\n",
    "\n",
    "    if sum_pair == 0:\n",
    "        return 1.0\n",
    "    else:\n",
    "        return (2 * torch.sum(pred_matrix * target_matrix) / sum_pair).item()\n",
    "    \n",
    "def pairList2pairMatrix(pair_list, len_seq):\n",
    "    pair_list = np.array(pair_list).astype(int)\n",
    "    pairing_matrix = torch.zeros((len_seq, len_seq))\n",
    "\n",
    "    if len(pair_list) > 0:\n",
    "        pairing_matrix[pair_list[:,0], pair_list[:,1]] = 1.0\n",
    "        pairing_matrix[pair_list[:,1], pair_list[:,0]] = 1.0\n",
    "\n",
    "    return pairing_matrix"
   ]
  },
  {
   "cell_type": "code",
   "execution_count": 3,
   "metadata": {},
   "outputs": [
    {
     "name": "stdout",
     "output_type": "stream",
     "text": [
      "PDB: Downloading dataset from HuggingFace Hub...\n"
     ]
    },
    {
     "data": {
      "application/vnd.jupyter.widget-view+json": {
       "model_id": "b4c72be6b7184b898b667331270b7c1c",
       "version_major": 2,
       "version_minor": 0
      },
      "text/plain": [
       "Fetching 1 files:   0%|          | 0/1 [00:00<?, ?it/s]"
      ]
     },
     "metadata": {},
     "output_type": "display_data"
    },
    {
     "name": "stdout",
     "output_type": "stream",
     "text": [
      "PDB: Download complete. File saved at data/PDB/data.json\n",
      "lncRNA: Downloading dataset from HuggingFace Hub...\n"
     ]
    },
    {
     "data": {
      "application/vnd.jupyter.widget-view+json": {
       "model_id": "80c3b9c01ffe44b5bb8235869d73da94",
       "version_major": 2,
       "version_minor": 0
      },
      "text/plain": [
       "Fetching 1 files:   0%|          | 0/1 [00:00<?, ?it/s]"
      ]
     },
     "metadata": {},
     "output_type": "display_data"
    },
    {
     "name": "stdout",
     "output_type": "stream",
     "text": [
      "lncRNA: Download complete. File saved at data/lncRNA/data.json\n",
      "viral_fragments: Downloading dataset from HuggingFace Hub...\n"
     ]
    },
    {
     "data": {
      "application/vnd.jupyter.widget-view+json": {
       "model_id": "2cee3c803f7842698bfa6751ac8a0e2f",
       "version_major": 2,
       "version_minor": 0
      },
      "text/plain": [
       "Fetching 1 files:   0%|          | 0/1 [00:00<?, ?it/s]"
      ]
     },
     "metadata": {},
     "output_type": "display_data"
    },
    {
     "name": "stdout",
     "output_type": "stream",
     "text": [
      "viral_fragments: Download complete. File saved at data/viral_fragments/data.json\n"
     ]
    }
   ],
   "source": [
    "ground_truth = pd.DataFrame()\n",
    "\n",
    "for test_set in [\"PDB\", \"lncRNA\", \"viral_fragments\"]:\n",
    "    data = get_dataset(test_set, force_download=True)\n",
    "    data = pd.DataFrame(data).T[['sequence', 'structure']]\n",
    "    data['dataset'] = test_set\n",
    "\n",
    "    ground_truth = pd.concat([ground_truth, data])\n",
    "    del data"
   ]
  },
  {
   "cell_type": "code",
   "execution_count": 40,
   "metadata": {},
   "outputs": [
    {
     "name": "stdout",
     "output_type": "stream",
     "text": [
      "dataset\n",
      "PDB                0.846920\n",
      "lncRNA             0.315571\n",
      "viral_fragments    0.527542\n",
      "Name: f1, dtype: float64\n",
      "dataset\n",
      "PDB                0.879710\n",
      "lncRNA             0.368814\n",
      "viral_fragments    0.576445\n",
      "Name: f1, dtype: float64\n"
     ]
    }
   ],
   "source": [
    "data_comparison = pd.DataFrame()\n",
    "\n",
    "for model in ['PT', 'PT+FT']:\n",
    "\n",
    "    prediction = pd.read_feather(f'data/test_results_{model}.feather')\n",
    "\n",
    "    merged = ground_truth.reset_index().rename(columns={'index': 'reference'}).merge(prediction, on=['sequence', 'reference'], suffixes=('_true', '_pred'))\n",
    "\n",
    "    f1s = []\n",
    "    for i, row in merged.iterrows():\n",
    "        f1s.append(compute_f1(torch.tensor(np.stack(row['structure_pred'])), \n",
    "                            pairList2pairMatrix(row['structure_true'], len(row['sequence'])), threshold=0.5))\n",
    "\n",
    "    merged['f1'] = f1s\n",
    "    merged['model'] = model\n",
    "    print(merged.groupby('dataset')['f1'].mean())\n",
    "\n",
    "    data_comparison = pd.concat([data_comparison, merged[['reference', 'sequence', 'model', 'dataset', 'f1']]])\n",
    "\n",
    "data_comparison.loc[data_comparison['dataset']=='viral_fragments', 'dataset'] = 'viral mRNA'\n",
    "data_comparison.loc[data_comparison['dataset']=='lncRNA', 'dataset'] = 'long ncRNA'"
   ]
  },
  {
   "cell_type": "code",
   "execution_count": 22,
   "metadata": {},
   "outputs": [
    {
     "data": {
      "text/html": [
       "<div>\n",
       "<style scoped>\n",
       "    .dataframe tbody tr th:only-of-type {\n",
       "        vertical-align: middle;\n",
       "    }\n",
       "\n",
       "    .dataframe tbody tr th {\n",
       "        vertical-align: top;\n",
       "    }\n",
       "\n",
       "    .dataframe thead th {\n",
       "        text-align: right;\n",
       "    }\n",
       "</style>\n",
       "<table border=\"1\" class=\"dataframe\">\n",
       "  <thead>\n",
       "    <tr style=\"text-align: right;\">\n",
       "      <th></th>\n",
       "      <th>reference</th>\n",
       "      <th>sequence</th>\n",
       "      <th>model</th>\n",
       "      <th>dataset</th>\n",
       "      <th>f1</th>\n",
       "    </tr>\n",
       "  </thead>\n",
       "  <tbody>\n",
       "    <tr>\n",
       "      <th>0</th>\n",
       "      <td>2N7X-2D</td>\n",
       "      <td>GGUAGUUUUGGCAUGACUCUACC</td>\n",
       "      <td>PT</td>\n",
       "      <td>PDB</td>\n",
       "      <td>0.875000</td>\n",
       "    </tr>\n",
       "    <tr>\n",
       "      <th>1</th>\n",
       "      <td>8S95-2D</td>\n",
       "      <td>CGCCCGGAUAGCUCAGUCGGUAGAGCAGCGGCUAAAACAGCUCUGG...</td>\n",
       "      <td>PT</td>\n",
       "      <td>PDB</td>\n",
       "      <td>0.836735</td>\n",
       "    </tr>\n",
       "    <tr>\n",
       "      <th>2</th>\n",
       "      <td>2CD1-2D</td>\n",
       "      <td>GGAAGUCCGGUCUUCGGACCGGCUUCC</td>\n",
       "      <td>PT</td>\n",
       "      <td>PDB</td>\n",
       "      <td>0.909091</td>\n",
       "    </tr>\n",
       "    <tr>\n",
       "      <th>3</th>\n",
       "      <td>1WTT-2D</td>\n",
       "      <td>GGACCGGAAGGUCC</td>\n",
       "      <td>PT</td>\n",
       "      <td>PDB</td>\n",
       "      <td>0.909091</td>\n",
       "    </tr>\n",
       "    <tr>\n",
       "      <th>4</th>\n",
       "      <td>2NCI-2D</td>\n",
       "      <td>GGACGUUAAAAGGCUUCGGCCUACGUCC</td>\n",
       "      <td>PT</td>\n",
       "      <td>PDB</td>\n",
       "      <td>0.842105</td>\n",
       "    </tr>\n",
       "    <tr>\n",
       "      <th>...</th>\n",
       "      <td>...</td>\n",
       "      <td>...</td>\n",
       "      <td>...</td>\n",
       "      <td>...</td>\n",
       "      <td>...</td>\n",
       "    </tr>\n",
       "    <tr>\n",
       "      <th>424</th>\n",
       "      <td>Alphavirus_9</td>\n",
       "      <td>UUUGGUCCCAUUGCAAGAAGUGCCUAUGGAUAGGUUCGUCAUGGAC...</td>\n",
       "      <td>PT+FT</td>\n",
       "      <td>viral mRNA</td>\n",
       "      <td>0.259804</td>\n",
       "    </tr>\n",
       "    <tr>\n",
       "      <th>425</th>\n",
       "      <td>Alphavirus_10</td>\n",
       "      <td>ACAGAAGACGCGCUCUGCUAGAUGAAACAAAGGCGUGGUUUAGAGU...</td>\n",
       "      <td>PT+FT</td>\n",
       "      <td>viral mRNA</td>\n",
       "      <td>0.580645</td>\n",
       "    </tr>\n",
       "    <tr>\n",
       "      <th>426</th>\n",
       "      <td>Alphavirus_12</td>\n",
       "      <td>CGUAUAGUGUACGGGAACACUACCAGUUUCCUAGAUGUGUACGUGA...</td>\n",
       "      <td>PT+FT</td>\n",
       "      <td>viral mRNA</td>\n",
       "      <td>0.491694</td>\n",
       "    </tr>\n",
       "    <tr>\n",
       "      <th>427</th>\n",
       "      <td>Alphavirus_13</td>\n",
       "      <td>UUCGCAUUCGAGCACAGCAACCCUCCAAGAGUCGACAGUUCAUGUC...</td>\n",
       "      <td>PT+FT</td>\n",
       "      <td>viral mRNA</td>\n",
       "      <td>0.497462</td>\n",
       "    </tr>\n",
       "    <tr>\n",
       "      <th>428</th>\n",
       "      <td>Alphavirus_14</td>\n",
       "      <td>GAUCCCCGCUUACCGCGGGCAAUAUAGCAACACCAAAACUCGACGU...</td>\n",
       "      <td>PT+FT</td>\n",
       "      <td>viral mRNA</td>\n",
       "      <td>0.585366</td>\n",
       "    </tr>\n",
       "  </tbody>\n",
       "</table>\n",
       "<p>858 rows × 5 columns</p>\n",
       "</div>"
      ],
      "text/plain": [
       "         reference                                           sequence  model  \\\n",
       "0          2N7X-2D                            GGUAGUUUUGGCAUGACUCUACC     PT   \n",
       "1          8S95-2D  CGCCCGGAUAGCUCAGUCGGUAGAGCAGCGGCUAAAACAGCUCUGG...     PT   \n",
       "2          2CD1-2D                        GGAAGUCCGGUCUUCGGACCGGCUUCC     PT   \n",
       "3          1WTT-2D                                     GGACCGGAAGGUCC     PT   \n",
       "4          2NCI-2D                       GGACGUUAAAAGGCUUCGGCCUACGUCC     PT   \n",
       "..             ...                                                ...    ...   \n",
       "424   Alphavirus_9  UUUGGUCCCAUUGCAAGAAGUGCCUAUGGAUAGGUUCGUCAUGGAC...  PT+FT   \n",
       "425  Alphavirus_10  ACAGAAGACGCGCUCUGCUAGAUGAAACAAAGGCGUGGUUUAGAGU...  PT+FT   \n",
       "426  Alphavirus_12  CGUAUAGUGUACGGGAACACUACCAGUUUCCUAGAUGUGUACGUGA...  PT+FT   \n",
       "427  Alphavirus_13  UUCGCAUUCGAGCACAGCAACCCUCCAAGAGUCGACAGUUCAUGUC...  PT+FT   \n",
       "428  Alphavirus_14  GAUCCCCGCUUACCGCGGGCAAUAUAGCAACACCAAAACUCGACGU...  PT+FT   \n",
       "\n",
       "        dataset        f1  \n",
       "0           PDB  0.875000  \n",
       "1           PDB  0.836735  \n",
       "2           PDB  0.909091  \n",
       "3           PDB  0.909091  \n",
       "4           PDB  0.842105  \n",
       "..          ...       ...  \n",
       "424  viral mRNA  0.259804  \n",
       "425  viral mRNA  0.580645  \n",
       "426  viral mRNA  0.491694  \n",
       "427  viral mRNA  0.497462  \n",
       "428  viral mRNA  0.585366  \n",
       "\n",
       "[858 rows x 5 columns]"
      ]
     },
     "execution_count": 22,
     "metadata": {},
     "output_type": "execute_result"
    }
   ],
   "source": [
    "data_comparison"
   ]
  },
  {
   "cell_type": "code",
   "execution_count": 24,
   "metadata": {},
   "outputs": [],
   "source": [
    "result_UFold = pd.read_feather('data/results_benchmark_UFold.feather')\n",
    "result_UFold.loc[result_UFold['dataset']=='viral_fragments', 'dataset'] = 'viral mRNA'\n",
    "result_UFold.loc[result_UFold['dataset']=='lncRNA', 'dataset'] = 'long ncRNA'"
   ]
  },
  {
   "cell_type": "code",
   "execution_count": 41,
   "metadata": {},
   "outputs": [
    {
     "data": {
      "application/vnd.plotly.v1+json": {
       "config": {
        "plotlyServerURL": "https://plot.ly"
       },
       "data": [
        {
         "marker": {
          "color": "#2CA02C"
         },
         "meanline": {
          "visible": true
         },
         "name": "UFold",
         "points": false,
         "type": "violin",
         "x": [
          "PDB",
          "PDB",
          "PDB",
          "PDB",
          "PDB",
          "PDB",
          "PDB",
          "PDB",
          "PDB",
          "PDB",
          "PDB",
          "PDB",
          "PDB",
          "PDB",
          "PDB",
          "PDB",
          "PDB",
          "PDB",
          "PDB",
          "PDB",
          "PDB",
          "PDB",
          "PDB",
          "PDB",
          "PDB",
          "PDB",
          "PDB",
          "PDB",
          "PDB",
          "PDB",
          "PDB",
          "PDB",
          "PDB",
          "PDB",
          "PDB",
          "PDB",
          "PDB",
          "PDB",
          "PDB",
          "PDB",
          "PDB",
          "PDB",
          "PDB",
          "PDB",
          "PDB",
          "PDB",
          "PDB",
          "PDB",
          "PDB",
          "PDB",
          "PDB",
          "PDB",
          "PDB",
          "PDB",
          "PDB",
          "PDB",
          "PDB",
          "PDB",
          "PDB",
          "PDB",
          "PDB",
          "PDB",
          "PDB",
          "PDB",
          "PDB",
          "PDB",
          "PDB",
          "PDB",
          "PDB",
          "PDB",
          "PDB",
          "PDB",
          "PDB",
          "PDB",
          "PDB",
          "PDB",
          "PDB",
          "PDB",
          "PDB",
          "PDB",
          "PDB",
          "PDB",
          "PDB",
          "PDB",
          "PDB",
          "PDB",
          "PDB",
          "PDB",
          "PDB",
          "PDB",
          "PDB",
          "PDB",
          "PDB",
          "PDB",
          "PDB",
          "PDB",
          "PDB",
          "PDB",
          "PDB",
          "PDB",
          "PDB",
          "PDB",
          "PDB",
          "PDB",
          "PDB",
          "PDB",
          "PDB",
          "PDB",
          "PDB",
          "PDB",
          "PDB",
          "PDB",
          "PDB",
          "PDB",
          "PDB",
          "PDB",
          "PDB",
          "PDB",
          "PDB",
          "PDB",
          "PDB",
          "PDB",
          "PDB",
          "PDB",
          "PDB",
          "PDB",
          "PDB",
          "PDB",
          "PDB",
          "PDB",
          "PDB",
          "PDB",
          "PDB",
          "PDB",
          "PDB",
          "PDB",
          "PDB",
          "PDB",
          "PDB",
          "PDB",
          "PDB",
          "PDB",
          "PDB",
          "PDB",
          "PDB",
          "PDB",
          "PDB",
          "PDB",
          "PDB",
          "PDB",
          "PDB",
          "PDB",
          "PDB",
          "PDB",
          "PDB",
          "PDB",
          "PDB",
          "PDB",
          "PDB",
          "PDB",
          "PDB",
          "PDB",
          "PDB",
          "PDB",
          "PDB",
          "PDB",
          "PDB",
          "PDB",
          "PDB",
          "PDB",
          "PDB",
          "PDB",
          "PDB",
          "PDB",
          "PDB",
          "PDB",
          "PDB",
          "PDB",
          "PDB",
          "PDB",
          "PDB",
          "PDB",
          "PDB",
          "PDB",
          "PDB",
          "PDB",
          "PDB",
          "PDB",
          "PDB",
          "PDB",
          "PDB",
          "PDB",
          "PDB",
          "PDB",
          "PDB",
          "PDB",
          "PDB",
          "PDB",
          "PDB",
          "PDB",
          "PDB",
          "PDB",
          "PDB",
          "PDB",
          "PDB",
          "PDB",
          "PDB",
          "PDB",
          "PDB",
          "PDB",
          "PDB",
          "PDB",
          "PDB",
          "PDB",
          "PDB",
          "PDB",
          "PDB",
          "PDB",
          "PDB",
          "PDB",
          "PDB",
          "PDB",
          "PDB",
          "PDB",
          "PDB",
          "PDB",
          "PDB",
          "PDB",
          "PDB",
          "PDB",
          "PDB",
          "PDB",
          "PDB",
          "PDB",
          "PDB",
          "PDB",
          "PDB",
          "PDB",
          "PDB",
          "PDB",
          "PDB",
          "PDB",
          "PDB",
          "PDB",
          "PDB",
          "PDB",
          "PDB",
          "PDB",
          "PDB",
          "PDB",
          "PDB",
          "PDB",
          "PDB",
          "PDB",
          "PDB",
          "PDB",
          "PDB",
          "PDB",
          "PDB",
          "PDB",
          "PDB",
          "PDB",
          "PDB",
          "PDB",
          "PDB",
          "PDB",
          "PDB",
          "PDB",
          "PDB",
          "PDB",
          "PDB",
          "PDB",
          "PDB",
          "PDB",
          "PDB",
          "PDB",
          "PDB",
          "PDB",
          "PDB",
          "PDB",
          "PDB",
          "PDB",
          "PDB",
          "PDB",
          "PDB",
          "PDB",
          "PDB",
          "PDB",
          "PDB",
          "PDB",
          "PDB",
          "PDB",
          "PDB",
          "PDB",
          "PDB",
          "PDB",
          "PDB",
          "PDB",
          "PDB",
          "PDB",
          "PDB",
          "PDB",
          "PDB",
          "PDB",
          "PDB",
          "PDB",
          "PDB",
          "PDB",
          "PDB",
          "PDB",
          "PDB",
          "PDB",
          "PDB",
          "PDB",
          "PDB",
          "PDB",
          "PDB",
          "PDB",
          "PDB",
          "PDB",
          "PDB",
          "PDB",
          "PDB",
          "PDB",
          "PDB",
          "PDB",
          "PDB",
          "PDB",
          "PDB",
          "PDB",
          "PDB",
          "PDB",
          "PDB",
          "PDB",
          "PDB",
          "PDB",
          "PDB",
          "PDB",
          "PDB",
          "PDB",
          "PDB",
          "PDB",
          "PDB",
          "PDB",
          "PDB",
          "PDB",
          "viral mRNA",
          "viral mRNA",
          "viral mRNA",
          "viral mRNA",
          "viral mRNA",
          "viral mRNA",
          "viral mRNA",
          "viral mRNA",
          "viral mRNA",
          "viral mRNA",
          "viral mRNA",
          "viral mRNA",
          "viral mRNA",
          "viral mRNA",
          "viral mRNA",
          "viral mRNA",
          "viral mRNA",
          "viral mRNA",
          "viral mRNA",
          "viral mRNA",
          "viral mRNA",
          "viral mRNA",
          "viral mRNA",
          "viral mRNA",
          "viral mRNA",
          "viral mRNA",
          "viral mRNA",
          "viral mRNA",
          "viral mRNA",
          "viral mRNA",
          "viral mRNA",
          "viral mRNA",
          "viral mRNA",
          "viral mRNA",
          "viral mRNA",
          "viral mRNA",
          "viral mRNA",
          "viral mRNA",
          "viral mRNA",
          "viral mRNA",
          "viral mRNA",
          "viral mRNA",
          "viral mRNA",
          "viral mRNA",
          "viral mRNA",
          "viral mRNA",
          "viral mRNA",
          "viral mRNA",
          "viral mRNA",
          "viral mRNA",
          "viral mRNA",
          "viral mRNA",
          "viral mRNA",
          "viral mRNA",
          "viral mRNA",
          "viral mRNA",
          "viral mRNA",
          "viral mRNA",
          "long ncRNA",
          "long ncRNA",
          "long ncRNA",
          "long ncRNA",
          "long ncRNA",
          "long ncRNA",
          "long ncRNA",
          "long ncRNA",
          "long ncRNA",
          "long ncRNA",
          "long ncRNA",
          "long ncRNA",
          "long ncRNA",
          "long ncRNA",
          "long ncRNA"
         ],
         "y": [
          0.8235294222831726,
          0.9333333373069763,
          0.9230769276618958,
          0.9473684430122375,
          0.8799999952316284,
          1,
          1,
          0.800000011920929,
          0.8888888955116272,
          0.875,
          0.8571428656578064,
          1,
          0.8571428656578064,
          0.9333333373069763,
          0.8888888955116272,
          0.8181818127632141,
          0,
          0.8888888955116272,
          0.8666666746139526,
          0.739130437374115,
          0.9090909361839294,
          0.9230769276618958,
          0.8695651888847351,
          0.8965517282485962,
          0.9090909361839294,
          0.9285714030265808,
          0.9189189076423645,
          0.9333333373069763,
          0.8888888955116272,
          0.9411764740943909,
          0.8888888955116272,
          0.9047619104385376,
          0.8695651888847351,
          0.8421052694320679,
          0.75,
          0.9333333373069763,
          0.7692307829856873,
          0.9777777791023254,
          0.8799999952316284,
          0.9375,
          0.9599999785423279,
          0.9333333373069763,
          0.95652174949646,
          0.9375,
          0.761904776096344,
          0.800000011920929,
          0.8888888955116272,
          0.8275862336158752,
          0.8235294222831726,
          0.7764706015586853,
          0.8999999761581421,
          0.9333333373069763,
          0.8888888955116272,
          0.9230769276618958,
          0.9333333373069763,
          0.875,
          0.8837209343910217,
          0.9230769276618958,
          0.8235294222831726,
          0.8947368264198303,
          0.9350649118423462,
          0.8999999761581421,
          0.9629629850387573,
          0.949999988079071,
          0.8846153616905212,
          1,
          1,
          0.782608687877655,
          1,
          0.9375,
          0.800000011920929,
          0.8888888955116272,
          0.8421052694320679,
          0.8823529481887817,
          0.9473684430122375,
          1,
          0.6101694703102112,
          0,
          0.9333333373069763,
          0.8888888955116272,
          0.8717948794364929,
          0.9090909361839294,
          1,
          1,
          0.800000011920929,
          0.8037382960319519,
          0.9090909361839294,
          0.9411764740943909,
          1,
          0.9375,
          0.9473684430122375,
          0.9411764740943909,
          0.8421052694320679,
          0.8518518805503845,
          0.8571428656578064,
          1,
          0.9599999785423279,
          0.9230769276618958,
          0.800000011920929,
          0.8999999761581421,
          1,
          0.8421052694320679,
          0.7272727489471436,
          0.9375,
          0.8421052694320679,
          0.8039215803146362,
          0.8888888955116272,
          0.8181818127632141,
          0.9433962106704712,
          0.95652174949646,
          0.8695651888847351,
          1,
          0.9473684430122375,
          0.9411764740943909,
          0.9166666865348816,
          0.9090909361839294,
          0.7272727489471436,
          0.7368420958518982,
          0.8888888955116272,
          0.9333333373069763,
          0.7222222089767456,
          0.8235294222831726,
          1,
          0.9333333373069763,
          0.8999999761581421,
          0.9375,
          0.7586206793785095,
          0.9473684430122375,
          0.800000011920929,
          0.800000011920929,
          0.8181818127632141,
          0.8965517282485962,
          0.9090909361839294,
          1,
          0.8979591727256775,
          0.8571428656578064,
          0.8421052694320679,
          0.9090909361839294,
          1,
          0.9714285731315613,
          1,
          0.8999999761581421,
          0.9333333373069763,
          0.8888888955116272,
          1,
          0.7058823704719543,
          0.8965517282485962,
          0.9375,
          1,
          1,
          0.9655172228813171,
          0.2972331941127777,
          0.8999999761581421,
          0.8125,
          0.7368420958518982,
          0.9333333373069763,
          0.949999988079071,
          0.7169811129570007,
          0.7209302186965942,
          0.8571428656578064,
          1,
          0.8999999761581421,
          0.9090909361839294,
          0.8666666746139526,
          0.8181818127632141,
          0.9230769276618958,
          0.7272727489471436,
          0.7681159377098083,
          1,
          0.8823529481887817,
          0.800000011920929,
          1,
          1,
          0.8333333134651184,
          0.9090909361839294,
          0.5862069129943848,
          0.8235294222831726,
          0.9333333373069763,
          0,
          0.800000011920929,
          0.8888888955116272,
          0.7510204315185547,
          1,
          0.8333333134651184,
          0.9230769276618958,
          0.95652174949646,
          0.9375,
          0.5925925970077515,
          0.8571428656578064,
          0.8235294222831726,
          0.9473684430122375,
          0.8888888955116272,
          0.9599999785423279,
          0.7142857313156128,
          0.9230769276618958,
          0.8571428656578064,
          1,
          0.8888888955116272,
          0.8333333134651184,
          0.8823529481887817,
          0.7777777910232544,
          0.75,
          0.800000011920929,
          0.8421052694320679,
          0.9411764740943909,
          0.8656716346740723,
          0.8695651888847351,
          0.75,
          0,
          0.8333333134651184,
          0.9655172228813171,
          0.9189189076423645,
          0.8999999761581421,
          0.9285714030265808,
          0.9599999785423279,
          1,
          0.774193525314331,
          0.8888888955116272,
          0.8541666865348816,
          0.8695651888847351,
          0.875,
          1,
          0.9473684430122375,
          0.9629629850387573,
          0.8571428656578064,
          0.8235294222831726,
          1,
          0.8333333134651184,
          0.8999999761581421,
          0.9090909361839294,
          0.9473684430122375,
          1,
          0.9583333134651184,
          0.8888888955116272,
          0.8235294222831726,
          0.9166666865348816,
          0.9411764740943909,
          0.8235294222831726,
          0.7259259223937988,
          0.8741722106933594,
          1,
          1,
          0.8799999952316284,
          0.9473684430122375,
          0.9259259104728699,
          0.8571428656578064,
          0,
          1,
          0.95652174949646,
          0.9090909361839294,
          0.9523809552192688,
          0.782608687877655,
          0.8823529481887817,
          0.9285714030265808,
          0.9473684430122375,
          0.8181818127632141,
          0.8333333134651184,
          0.9523809552192688,
          0.9230769276618958,
          0.8695651888847351,
          0.8149779438972473,
          0.8275862336158752,
          0.8333333134651184,
          0.9473684430122375,
          0.8644067645072937,
          1,
          0.8888888955116272,
          0.8484848737716675,
          0.8235294222831726,
          1,
          0.9473684430122375,
          0.9375,
          0.761904776096344,
          0.8571428656578064,
          0.9090909361839294,
          1,
          0.8571428656578064,
          0.875,
          0.8888888955116272,
          0.782608687877655,
          0.9473684430122375,
          0.8888888955116272,
          0.9411764740943909,
          0.8571428656578064,
          0.8695651888847351,
          0.9195402264595032,
          0.8799999952316284,
          0.5714285969734192,
          0.9090909361839294,
          0.2471042424440384,
          0.761904776096344,
          1,
          0.75,
          0.9090909361839294,
          0.95652174949646,
          0.9629629850387573,
          0.800000011920929,
          0.7775281071662903,
          0.9433962106704712,
          0.7777777910232544,
          0.75,
          0.8571428656578064,
          0.8888888955116272,
          0.8571428656578064,
          0.9473684430122375,
          0.9473684430122375,
          0.8888888955116272,
          0.7857142686843872,
          0.9285714030265808,
          0.75,
          0.8695651888847351,
          0.75,
          1,
          0.2520325183868408,
          1,
          1,
          0.6905829310417175,
          0.9743589758872986,
          0.9066666960716248,
          0.8648648858070374,
          0.9473684430122375,
          1,
          0.6666666865348816,
          0.95652174949646,
          0.9433962106704712,
          0.9130434989929199,
          0.9473684430122375,
          0.75,
          0.9090909361839294,
          0.9333333373069763,
          0.9473684430122375,
          1,
          0.9333333373069763,
          0.8888888955116272,
          0.8571428656578064,
          1,
          0.7058823704719543,
          0.8888888955116272,
          0.4137931168079376,
          0.8235294222831726,
          0.9411764740943909,
          0.9090909361839294,
          1,
          0.95652174949646,
          1,
          0.8055555820465088,
          0.6477987170219421,
          0.6390041708946228,
          0.6865671873092651,
          0.16580310463905334,
          0.3606557250022888,
          0.6318840384483337,
          0.5370370149612427,
          0.7659574747085571,
          0.2978723347187042,
          0.6459143757820129,
          0.6285714507102966,
          0.7631579041481018,
          0.49162012338638306,
          0.15306122601032257,
          0.4385964870452881,
          0.36734694242477417,
          0.6736842393875122,
          0.5771144032478333,
          0.5145228505134583,
          0.5529953837394714,
          0.4122137427330017,
          0.4530744254589081,
          0.605042040348053,
          0.7961165308952332,
          0.21938775479793549,
          0.31924882531166077,
          0.23529411852359772,
          0.6388888955116272,
          0.4313725531101227,
          0.6754966974258423,
          0.7164179086685181,
          0.9113923907279968,
          0.1531914919614792,
          0.6448087692260742,
          0.9032257795333862,
          0.5600000023841858,
          0.5069124698638916,
          0.512499988079071,
          0.4589371979236603,
          0.6327683329582214,
          0.8343558311462402,
          0.3094339668750763,
          0.24117647111415863,
          0.7924528121948242,
          0.9387755393981934,
          0.6666666865348816,
          0.800000011920929,
          0.5703421831130981,
          0.30243903398513794,
          0.49805447459220886,
          0.14565826952457428,
          0.4912280738353729,
          0.8311688303947449,
          0.4248366057872772,
          0.7301587462425232,
          0.23728813230991364,
          0.20221948623657227,
          0.6666666865348816,
          0.03698435425758362,
          0.625,
          0.03698435425758362,
          0.03698435425758362,
          0.41025641560554504,
          0.2158273309469223,
          0.032414909452199936,
          0.3513513505458832,
          0.029574861750006676,
          0.0026827631518244743,
          0,
          0.032414909452199936,
          0.032414909452199936,
          0.0026827631518244743,
          0.0026827631518244743
         ]
        },
        {
         "marker": {
          "color": "#1F77B4"
         },
         "meanline": {
          "visible": true
         },
         "name": "PT",
         "points": false,
         "type": "violin",
         "x": [
          "PDB",
          "PDB",
          "PDB",
          "PDB",
          "PDB",
          "PDB",
          "PDB",
          "PDB",
          "PDB",
          "PDB",
          "PDB",
          "PDB",
          "PDB",
          "PDB",
          "PDB",
          "PDB",
          "PDB",
          "PDB",
          "PDB",
          "PDB",
          "PDB",
          "PDB",
          "PDB",
          "PDB",
          "PDB",
          "PDB",
          "PDB",
          "PDB",
          "PDB",
          "PDB",
          "PDB",
          "PDB",
          "PDB",
          "PDB",
          "PDB",
          "PDB",
          "PDB",
          "PDB",
          "PDB",
          "PDB",
          "PDB",
          "PDB",
          "PDB",
          "PDB",
          "PDB",
          "PDB",
          "PDB",
          "PDB",
          "PDB",
          "PDB",
          "PDB",
          "PDB",
          "PDB",
          "PDB",
          "PDB",
          "PDB",
          "PDB",
          "PDB",
          "PDB",
          "PDB",
          "PDB",
          "PDB",
          "PDB",
          "PDB",
          "PDB",
          "PDB",
          "PDB",
          "PDB",
          "PDB",
          "PDB",
          "PDB",
          "PDB",
          "PDB",
          "PDB",
          "PDB",
          "PDB",
          "PDB",
          "PDB",
          "PDB",
          "PDB",
          "PDB",
          "PDB",
          "PDB",
          "PDB",
          "PDB",
          "PDB",
          "PDB",
          "PDB",
          "PDB",
          "PDB",
          "PDB",
          "PDB",
          "PDB",
          "PDB",
          "PDB",
          "PDB",
          "PDB",
          "PDB",
          "PDB",
          "PDB",
          "PDB",
          "PDB",
          "PDB",
          "PDB",
          "PDB",
          "PDB",
          "PDB",
          "PDB",
          "PDB",
          "PDB",
          "PDB",
          "PDB",
          "PDB",
          "PDB",
          "PDB",
          "PDB",
          "PDB",
          "PDB",
          "PDB",
          "PDB",
          "PDB",
          "PDB",
          "PDB",
          "PDB",
          "PDB",
          "PDB",
          "PDB",
          "PDB",
          "PDB",
          "PDB",
          "PDB",
          "PDB",
          "PDB",
          "PDB",
          "PDB",
          "PDB",
          "PDB",
          "PDB",
          "PDB",
          "PDB",
          "PDB",
          "PDB",
          "PDB",
          "PDB",
          "PDB",
          "PDB",
          "PDB",
          "PDB",
          "PDB",
          "PDB",
          "PDB",
          "PDB",
          "PDB",
          "PDB",
          "PDB",
          "PDB",
          "PDB",
          "PDB",
          "PDB",
          "PDB",
          "PDB",
          "PDB",
          "PDB",
          "PDB",
          "PDB",
          "PDB",
          "PDB",
          "PDB",
          "PDB",
          "PDB",
          "PDB",
          "PDB",
          "PDB",
          "PDB",
          "PDB",
          "PDB",
          "PDB",
          "PDB",
          "PDB",
          "PDB",
          "PDB",
          "PDB",
          "PDB",
          "PDB",
          "PDB",
          "PDB",
          "PDB",
          "PDB",
          "PDB",
          "PDB",
          "PDB",
          "PDB",
          "PDB",
          "PDB",
          "PDB",
          "PDB",
          "PDB",
          "PDB",
          "PDB",
          "PDB",
          "PDB",
          "PDB",
          "PDB",
          "PDB",
          "PDB",
          "PDB",
          "PDB",
          "PDB",
          "PDB",
          "PDB",
          "PDB",
          "PDB",
          "PDB",
          "PDB",
          "PDB",
          "PDB",
          "PDB",
          "PDB",
          "PDB",
          "PDB",
          "PDB",
          "PDB",
          "PDB",
          "PDB",
          "PDB",
          "PDB",
          "PDB",
          "PDB",
          "PDB",
          "PDB",
          "PDB",
          "PDB",
          "PDB",
          "PDB",
          "PDB",
          "PDB",
          "PDB",
          "PDB",
          "PDB",
          "PDB",
          "PDB",
          "PDB",
          "PDB",
          "PDB",
          "PDB",
          "PDB",
          "PDB",
          "PDB",
          "PDB",
          "PDB",
          "PDB",
          "PDB",
          "PDB",
          "PDB",
          "PDB",
          "PDB",
          "PDB",
          "PDB",
          "PDB",
          "PDB",
          "PDB",
          "PDB",
          "PDB",
          "PDB",
          "PDB",
          "PDB",
          "PDB",
          "PDB",
          "PDB",
          "PDB",
          "PDB",
          "PDB",
          "PDB",
          "PDB",
          "PDB",
          "PDB",
          "PDB",
          "PDB",
          "PDB",
          "PDB",
          "PDB",
          "PDB",
          "PDB",
          "PDB",
          "PDB",
          "PDB",
          "PDB",
          "PDB",
          "PDB",
          "PDB",
          "PDB",
          "PDB",
          "PDB",
          "PDB",
          "PDB",
          "PDB",
          "PDB",
          "PDB",
          "PDB",
          "PDB",
          "PDB",
          "PDB",
          "PDB",
          "PDB",
          "PDB",
          "PDB",
          "PDB",
          "PDB",
          "PDB",
          "PDB",
          "PDB",
          "PDB",
          "PDB",
          "PDB",
          "PDB",
          "PDB",
          "PDB",
          "PDB",
          "PDB",
          "PDB",
          "PDB",
          "PDB",
          "PDB",
          "PDB",
          "PDB",
          "PDB",
          "PDB",
          "PDB",
          "PDB",
          "PDB",
          "PDB",
          "PDB",
          "PDB",
          "PDB",
          "PDB",
          "PDB",
          "PDB",
          "PDB",
          "PDB",
          "PDB",
          "PDB",
          "PDB",
          "PDB",
          "PDB",
          "PDB",
          "PDB",
          "PDB",
          "PDB",
          "PDB",
          "PDB",
          "PDB",
          "PDB",
          "PDB",
          "PDB",
          "PDB",
          "PDB",
          "long ncRNA",
          "long ncRNA",
          "long ncRNA",
          "long ncRNA",
          "long ncRNA",
          "long ncRNA",
          "long ncRNA",
          "long ncRNA",
          "long ncRNA",
          "long ncRNA",
          "long ncRNA",
          "long ncRNA",
          "long ncRNA",
          "long ncRNA",
          "long ncRNA",
          "viral mRNA",
          "viral mRNA",
          "viral mRNA",
          "viral mRNA",
          "viral mRNA",
          "viral mRNA",
          "viral mRNA",
          "viral mRNA",
          "viral mRNA",
          "viral mRNA",
          "viral mRNA",
          "viral mRNA",
          "viral mRNA",
          "viral mRNA",
          "viral mRNA",
          "viral mRNA",
          "viral mRNA",
          "viral mRNA",
          "viral mRNA",
          "viral mRNA",
          "viral mRNA",
          "viral mRNA",
          "viral mRNA",
          "viral mRNA",
          "viral mRNA",
          "viral mRNA",
          "viral mRNA",
          "viral mRNA",
          "viral mRNA",
          "viral mRNA",
          "viral mRNA",
          "viral mRNA",
          "viral mRNA",
          "viral mRNA",
          "viral mRNA",
          "viral mRNA",
          "viral mRNA",
          "viral mRNA",
          "viral mRNA",
          "viral mRNA",
          "viral mRNA",
          "viral mRNA",
          "viral mRNA",
          "viral mRNA",
          "viral mRNA",
          "viral mRNA",
          "viral mRNA",
          "viral mRNA",
          "viral mRNA",
          "viral mRNA",
          "viral mRNA",
          "viral mRNA",
          "viral mRNA",
          "viral mRNA",
          "viral mRNA",
          "viral mRNA",
          "viral mRNA",
          "viral mRNA"
         ],
         "y": [
          0.875,
          0.8367347121238708,
          0.9090909361839294,
          0.9090909361839294,
          0.8421052694320679,
          0.9090909361839294,
          0.8888888955116272,
          0.8214285969734192,
          0.8421052694320679,
          0.6666666865348816,
          0.800000011920929,
          0.8333333134651184,
          0.9411764740943909,
          1,
          0.9333333373069763,
          0.8571428656578064,
          0.9230769276618958,
          0.9333333373069763,
          0.7272727489471436,
          0,
          1,
          0.8235294222831726,
          0.8181818127632141,
          0.803636372089386,
          1,
          0,
          1,
          0.8571428656578064,
          1,
          0.9333333373069763,
          1,
          0.8333333134651184,
          0.9545454382896423,
          0.9090909361839294,
          0.875,
          0.9230769276618958,
          1,
          0.6428571343421936,
          0.8432432413101196,
          1,
          0.8695651888847351,
          0.8695651888847351,
          0.7272727489471436,
          0.9523809552192688,
          0.875,
          0.8888888955116272,
          0.8333333134651184,
          0.8999999761581421,
          0.8333333134651184,
          0.9411764740943909,
          0,
          0.9333333373069763,
          0.7272727489471436,
          0.8421052694320679,
          0.7857142686843872,
          0.8888888955116272,
          0.8999999761581421,
          1,
          0.7053571343421936,
          0.8421052694320679,
          0.7058823704719543,
          0.8421052694320679,
          0.95652174949646,
          0.8888888955116272,
          0.9090909361839294,
          0.6333771347999573,
          0.8999999761581421,
          0.875,
          0,
          0.800000011920929,
          0.9230769276618958,
          0.9230769276618958,
          0.8461538553237915,
          0.9032257795333862,
          0.898876428604126,
          0.9714285731315613,
          0.8888888955116272,
          0.9090909361839294,
          0.8695651888847351,
          1,
          0.8571428656578064,
          0.8999999761581421,
          0.8125,
          0.9166666865348816,
          0.9090909361839294,
          0.9411764740943909,
          0.8571428656578064,
          0.8799999952316284,
          0.9230769276618958,
          0.9230769276618958,
          0.6187050342559814,
          0.8275862336158752,
          0.8421052694320679,
          0.9230769276618958,
          0.9166666865348816,
          1,
          1,
          0.8888888955116272,
          0.5066666603088379,
          0.75,
          0.9411764740943909,
          0.9230769276618958,
          0.9411764740943909,
          0.8571428656578064,
          1,
          0.8888888955116272,
          0.8888888955116272,
          1,
          0.9583333134651184,
          1,
          0.8571428656578064,
          0.4166666567325592,
          0.20000000298023224,
          1,
          0.800000011920929,
          0.800000011920929,
          0.9090909361839294,
          0.8235294222831726,
          0.875,
          0.930232584476471,
          0.5371428728103638,
          0.875,
          0.8524590134620667,
          0.9629629850387573,
          0,
          0.9473684430122375,
          0.8571428656578064,
          0.4137931168079376,
          0.8695651888847351,
          1,
          1,
          0.75,
          0.9375,
          0.800000011920929,
          0.9589040875434875,
          0.7681499123573303,
          0.9411764740943909,
          1,
          0.9090909361839294,
          0.8888888955116272,
          0.9230769276618958,
          0.9090909361839294,
          0.9411764740943909,
          0.8888888955116272,
          0.9599999785423279,
          0.8461538553237915,
          0.8571428656578064,
          0.75,
          0.9629629850387573,
          0.9473684430122375,
          0.8372092843055725,
          0.8333333134651184,
          0.9411764740943909,
          1,
          0.800000011920929,
          1,
          0.95652174949646,
          0.8181818127632141,
          0.8333333134651184,
          0.8999999761581421,
          0.7428571581840515,
          0.875,
          0.5517241358757019,
          0.23076923191547394,
          0.9090909361839294,
          1,
          0.9411764740943909,
          0.9523809552192688,
          1,
          0.7450980544090271,
          0.8453608155250549,
          0.8181818127632141,
          1,
          0.8888888955116272,
          0.800000011920929,
          0.75,
          0.8999999761581421,
          0.9523809552192688,
          0,
          0.9473684430122375,
          0.8888888955116272,
          0.8571428656578064,
          0.800000011920929,
          0.9230769276618958,
          0.9795918464660645,
          1,
          0.9230769276618958,
          0.9333333373069763,
          0.9032257795333862,
          0.8057553768157959,
          0.9230769276618958,
          0.95652174949646,
          0.8518518805503845,
          0.8571428656578064,
          0.8571428656578064,
          0.8965517282485962,
          0.9411764740943909,
          0.800000011920929,
          0.8571428656578064,
          0.9090909361839294,
          1,
          0.8333333134651184,
          1,
          0.9473684430122375,
          0.6851851940155029,
          0.625,
          0.6744186282157898,
          0.2844444513320923,
          0.9130434989929199,
          0.9230769276618958,
          1,
          0.8405796885490417,
          0.7865168452262878,
          0.692307710647583,
          0.699999988079071,
          0.6666666865348816,
          1,
          0.9090909361839294,
          0.33507853746414185,
          0.9230769276618958,
          0.8461538553237915,
          1,
          0.7272727489471436,
          0.75,
          0.9090909361839294,
          0.8333333134651184,
          0.875,
          0.8571428656578064,
          0.7058823704719543,
          0.782608687877655,
          0,
          0.8571428656578064,
          0.9032257795333862,
          0.9411764740943909,
          0.9473684430122375,
          0.9090909361839294,
          0.9090909361839294,
          0.9230769276618958,
          1,
          1,
          0.8571428656578064,
          1,
          0.7272727489471436,
          0.7272727489471436,
          0.8888888955116272,
          0.782608687877655,
          0.9333333373069763,
          1,
          0.8461538553237915,
          0.9285714030265808,
          0.75,
          0.75,
          0.8799999952316284,
          0.9230769276618958,
          0.9090909361839294,
          0.9333333373069763,
          1,
          0.8999999761581421,
          0.8799999952316284,
          1,
          0.8235294222831726,
          1,
          1,
          0.9523809552192688,
          0.9696969985961914,
          0.9743589758872986,
          0.6086956262588501,
          0.800000011920929,
          1,
          0.761904776096344,
          0.9090909361839294,
          1,
          0.9090909361839294,
          1,
          0.8888888955116272,
          0.95652174949646,
          0.7692307829856873,
          0.800000011920929,
          0.800000011920929,
          0.8684210777282715,
          0.9285714030265808,
          0.9047619104385376,
          1,
          0.9333333373069763,
          0.9473684430122375,
          0.9230769276618958,
          0.9333333373069763,
          1,
          0.9230769276618958,
          0.8888888955116272,
          0.9230769276618958,
          1,
          1,
          0.9189189076423645,
          0.9189189076423645,
          0.9696969985961914,
          0.75,
          0.9230769276618958,
          0.9545454382896423,
          0.9333333373069763,
          1,
          0.5,
          0.9411764740943909,
          0.9473684430122375,
          0.8181818127632141,
          0.9090909361839294,
          0.8888888955116272,
          0.7666666507720947,
          0.8888888955116272,
          0.8965517282485962,
          0.9473684430122375,
          0.75,
          0.9677419066429138,
          0.699999988079071,
          1,
          0.9090909361839294,
          0.875,
          0.8571428656578064,
          0.9090909361839294,
          0,
          0.8461538553237915,
          0.8571428656578064,
          0.8571428656578064,
          0.3636363744735718,
          0.9090909361839294,
          0.9142857193946838,
          1,
          0.6666666865348816,
          0.8172042965888977,
          0.8333333134651184,
          0.8333333134651184,
          0.8421052694320679,
          0.7272727489471436,
          0.7446808218955994,
          1,
          0.9333333373069763,
          0.7272727489471436,
          0.8571428656578064,
          0.875,
          1,
          0.9655172228813171,
          0.8965517282485962,
          0.8571428656578064,
          0.8888888955116272,
          0.8275862336158752,
          0.9090909361839294,
          0.800000011920929,
          0.8999999761581421,
          1,
          0.9090909361839294,
          0,
          0.8484848737716675,
          0.75,
          0.782608687877655,
          1,
          0.875,
          0.20967741310596466,
          0.08620689809322357,
          0.23529411852359772,
          0.8288288116455078,
          0.31629014015197754,
          0.316546767950058,
          0.311750590801239,
          0.3611457049846649,
          0.3561643958091736,
          0.4053398072719574,
          0.22518518567085266,
          0.20790629088878632,
          0.17664670944213867,
          0.27299702167510986,
          0.4235925078392029,
          0.7058823704719543,
          0.6307692527770996,
          0.5903614163398743,
          0.6947368383407593,
          0.9333333373069763,
          0.6279069781303406,
          0.6331877708435059,
          0.7716535329818726,
          0.7661691308021545,
          0.6195651888847351,
          0.6000000238418579,
          0.5333333611488342,
          0.5019920468330383,
          0.6691449880599976,
          0.5454545617103577,
          0.4262295067310333,
          0.6666666865348816,
          0.8266666531562805,
          0.44999998807907104,
          0.633093535900116,
          0.30136987566947937,
          0.7731092572212219,
          0.7761194109916687,
          0.9032257795333862,
          0.6142857074737549,
          0.6120218634605408,
          0.5850340127944946,
          0.5925925970077515,
          0.8148148059844971,
          0.5151515007019043,
          0.729411780834198,
          0.5176470875740051,
          0.7368420958518982,
          0.18018017709255219,
          0.3294117748737335,
          0.10144927352666855,
          0.5657370686531067,
          0.24817518889904022,
          0.48051947355270386,
          0.3311688303947449,
          0.4748603403568268,
          0.7358490824699402,
          0.4917127192020416,
          0.5522388219833374,
          0.34375,
          0.30372491478919983,
          0.35114502906799316,
          0.3060109317302704,
          0.02826855145394802,
          0.2293577939271927,
          0.20441989600658417,
          0.2970297038555145,
          0.5511810779571533,
          0.23529411852359772,
          0.5123152732849121,
          0.37130802869796753,
          0.40789473056793213,
          0.6666666865348816
         ]
        },
        {
         "marker": {
          "color": "#FF7F0E"
         },
         "meanline": {
          "visible": true
         },
         "name": "PT+FT",
         "points": false,
         "type": "violin",
         "x": [
          "PDB",
          "PDB",
          "PDB",
          "PDB",
          "PDB",
          "PDB",
          "PDB",
          "PDB",
          "PDB",
          "PDB",
          "PDB",
          "PDB",
          "PDB",
          "PDB",
          "PDB",
          "PDB",
          "PDB",
          "PDB",
          "PDB",
          "PDB",
          "PDB",
          "PDB",
          "PDB",
          "PDB",
          "PDB",
          "PDB",
          "PDB",
          "PDB",
          "PDB",
          "PDB",
          "PDB",
          "PDB",
          "PDB",
          "PDB",
          "PDB",
          "PDB",
          "PDB",
          "PDB",
          "PDB",
          "PDB",
          "PDB",
          "PDB",
          "PDB",
          "PDB",
          "PDB",
          "PDB",
          "PDB",
          "PDB",
          "PDB",
          "PDB",
          "PDB",
          "PDB",
          "PDB",
          "PDB",
          "PDB",
          "PDB",
          "PDB",
          "PDB",
          "PDB",
          "PDB",
          "PDB",
          "PDB",
          "PDB",
          "PDB",
          "PDB",
          "PDB",
          "PDB",
          "PDB",
          "PDB",
          "PDB",
          "PDB",
          "PDB",
          "PDB",
          "PDB",
          "PDB",
          "PDB",
          "PDB",
          "PDB",
          "PDB",
          "PDB",
          "PDB",
          "PDB",
          "PDB",
          "PDB",
          "PDB",
          "PDB",
          "PDB",
          "PDB",
          "PDB",
          "PDB",
          "PDB",
          "PDB",
          "PDB",
          "PDB",
          "PDB",
          "PDB",
          "PDB",
          "PDB",
          "PDB",
          "PDB",
          "PDB",
          "PDB",
          "PDB",
          "PDB",
          "PDB",
          "PDB",
          "PDB",
          "PDB",
          "PDB",
          "PDB",
          "PDB",
          "PDB",
          "PDB",
          "PDB",
          "PDB",
          "PDB",
          "PDB",
          "PDB",
          "PDB",
          "PDB",
          "PDB",
          "PDB",
          "PDB",
          "PDB",
          "PDB",
          "PDB",
          "PDB",
          "PDB",
          "PDB",
          "PDB",
          "PDB",
          "PDB",
          "PDB",
          "PDB",
          "PDB",
          "PDB",
          "PDB",
          "PDB",
          "PDB",
          "PDB",
          "PDB",
          "PDB",
          "PDB",
          "PDB",
          "PDB",
          "PDB",
          "PDB",
          "PDB",
          "PDB",
          "PDB",
          "PDB",
          "PDB",
          "PDB",
          "PDB",
          "PDB",
          "PDB",
          "PDB",
          "PDB",
          "PDB",
          "PDB",
          "PDB",
          "PDB",
          "PDB",
          "PDB",
          "PDB",
          "PDB",
          "PDB",
          "PDB",
          "PDB",
          "PDB",
          "PDB",
          "PDB",
          "PDB",
          "PDB",
          "PDB",
          "PDB",
          "PDB",
          "PDB",
          "PDB",
          "PDB",
          "PDB",
          "PDB",
          "PDB",
          "PDB",
          "PDB",
          "PDB",
          "PDB",
          "PDB",
          "PDB",
          "PDB",
          "PDB",
          "PDB",
          "PDB",
          "PDB",
          "PDB",
          "PDB",
          "PDB",
          "PDB",
          "PDB",
          "PDB",
          "PDB",
          "PDB",
          "PDB",
          "PDB",
          "PDB",
          "PDB",
          "PDB",
          "PDB",
          "PDB",
          "PDB",
          "PDB",
          "PDB",
          "PDB",
          "PDB",
          "PDB",
          "PDB",
          "PDB",
          "PDB",
          "PDB",
          "PDB",
          "PDB",
          "PDB",
          "PDB",
          "PDB",
          "PDB",
          "PDB",
          "PDB",
          "PDB",
          "PDB",
          "PDB",
          "PDB",
          "PDB",
          "PDB",
          "PDB",
          "PDB",
          "PDB",
          "PDB",
          "PDB",
          "PDB",
          "PDB",
          "PDB",
          "PDB",
          "PDB",
          "PDB",
          "PDB",
          "PDB",
          "PDB",
          "PDB",
          "PDB",
          "PDB",
          "PDB",
          "PDB",
          "PDB",
          "PDB",
          "PDB",
          "PDB",
          "PDB",
          "PDB",
          "PDB",
          "PDB",
          "PDB",
          "PDB",
          "PDB",
          "PDB",
          "PDB",
          "PDB",
          "PDB",
          "PDB",
          "PDB",
          "PDB",
          "PDB",
          "PDB",
          "PDB",
          "PDB",
          "PDB",
          "PDB",
          "PDB",
          "PDB",
          "PDB",
          "PDB",
          "PDB",
          "PDB",
          "PDB",
          "PDB",
          "PDB",
          "PDB",
          "PDB",
          "PDB",
          "PDB",
          "PDB",
          "PDB",
          "PDB",
          "PDB",
          "PDB",
          "PDB",
          "PDB",
          "PDB",
          "PDB",
          "PDB",
          "PDB",
          "PDB",
          "PDB",
          "PDB",
          "PDB",
          "PDB",
          "PDB",
          "PDB",
          "PDB",
          "PDB",
          "PDB",
          "PDB",
          "PDB",
          "PDB",
          "PDB",
          "PDB",
          "PDB",
          "PDB",
          "PDB",
          "PDB",
          "PDB",
          "PDB",
          "PDB",
          "PDB",
          "PDB",
          "PDB",
          "PDB",
          "PDB",
          "PDB",
          "PDB",
          "PDB",
          "PDB",
          "PDB",
          "PDB",
          "PDB",
          "PDB",
          "PDB",
          "PDB",
          "PDB",
          "PDB",
          "PDB",
          "PDB",
          "PDB",
          "PDB",
          "PDB",
          "PDB",
          "PDB",
          "PDB",
          "PDB",
          "PDB",
          "PDB",
          "PDB",
          "PDB",
          "PDB",
          "PDB",
          "PDB",
          "PDB",
          "long ncRNA",
          "long ncRNA",
          "long ncRNA",
          "long ncRNA",
          "long ncRNA",
          "long ncRNA",
          "long ncRNA",
          "long ncRNA",
          "long ncRNA",
          "long ncRNA",
          "long ncRNA",
          "long ncRNA",
          "long ncRNA",
          "long ncRNA",
          "long ncRNA",
          "viral mRNA",
          "viral mRNA",
          "viral mRNA",
          "viral mRNA",
          "viral mRNA",
          "viral mRNA",
          "viral mRNA",
          "viral mRNA",
          "viral mRNA",
          "viral mRNA",
          "viral mRNA",
          "viral mRNA",
          "viral mRNA",
          "viral mRNA",
          "viral mRNA",
          "viral mRNA",
          "viral mRNA",
          "viral mRNA",
          "viral mRNA",
          "viral mRNA",
          "viral mRNA",
          "viral mRNA",
          "viral mRNA",
          "viral mRNA",
          "viral mRNA",
          "viral mRNA",
          "viral mRNA",
          "viral mRNA",
          "viral mRNA",
          "viral mRNA",
          "viral mRNA",
          "viral mRNA",
          "viral mRNA",
          "viral mRNA",
          "viral mRNA",
          "viral mRNA",
          "viral mRNA",
          "viral mRNA",
          "viral mRNA",
          "viral mRNA",
          "viral mRNA",
          "viral mRNA",
          "viral mRNA",
          "viral mRNA",
          "viral mRNA",
          "viral mRNA",
          "viral mRNA",
          "viral mRNA",
          "viral mRNA",
          "viral mRNA",
          "viral mRNA",
          "viral mRNA",
          "viral mRNA",
          "viral mRNA",
          "viral mRNA",
          "viral mRNA",
          "viral mRNA",
          "viral mRNA"
         ],
         "y": [
          0.8571428656578064,
          0.9126213788986206,
          0.8695651888847351,
          1,
          0.8421052694320679,
          1,
          0.9411764740943909,
          0.8679245114326477,
          0.800000011920929,
          0.8095238208770752,
          0.800000011920929,
          0.9090909361839294,
          0.9411764740943909,
          1,
          0.9333333373069763,
          0.8571428656578064,
          0.8235294222831726,
          0.9677419066429138,
          1,
          0,
          0.9375,
          1,
          1,
          0.8586030602455139,
          1,
          1,
          1,
          0.8571428656578064,
          0.8571428656578064,
          0.9333333373069763,
          1,
          0.9090909361839294,
          0.9767441749572754,
          1,
          1,
          1,
          0.9090909361839294,
          0.7096773982048035,
          0.8315789699554443,
          0.9523809552192688,
          0.9523809552192688,
          0.9090909361839294,
          0.8888888955116272,
          0.9090909361839294,
          1,
          0.8888888955116272,
          0.8333333134651184,
          0.9230769276618958,
          1,
          0.9411764740943909,
          0,
          0.8813559412956238,
          0.800000011920929,
          0.9411764740943909,
          0.8666666746139526,
          0.8888888955116272,
          0.8999999761581421,
          1,
          0.6639676094055176,
          1,
          0.7058823704719543,
          0.9411764740943909,
          1,
          0.9473684430122375,
          0.9090909361839294,
          0.6104512810707092,
          0.8999999761581421,
          1,
          0,
          0.8333333134651184,
          1,
          0.9230769276618958,
          0.9230769276618958,
          0.9032257795333862,
          0.8421052694320679,
          0.9855072498321533,
          0.9411764740943909,
          1,
          0.9090909361839294,
          0.8333333134651184,
          0.8571428656578064,
          0.8999999761581421,
          0.8666666746139526,
          0.95652174949646,
          0.9090909361839294,
          1,
          0.9230769276618958,
          0.95652174949646,
          0.9230769276618958,
          0.9230769276618958,
          0.7284768223762512,
          0.9375,
          0.8999999761581421,
          1,
          0.95652174949646,
          0.9411764740943909,
          1,
          0.9411764740943909,
          0.5060241222381592,
          0.75,
          0.9411764740943909,
          1,
          0.9411764740943909,
          1,
          1,
          0.8888888955116272,
          0.8888888955116272,
          1,
          0.9130434989929199,
          1,
          1,
          0.37735849618911743,
          0.2222222238779068,
          1,
          0.800000011920929,
          0.8888888955116272,
          0.8823529481887817,
          0.8235294222831726,
          1,
          0.930232584476471,
          0.514018714427948,
          0.8235294222831726,
          0.8196721076965332,
          1,
          0,
          0.9473684430122375,
          0.9333333373069763,
          0.6268656849861145,
          0.75,
          0.8571428656578064,
          1,
          0.8571428656578064,
          0.9032257795333862,
          0.800000011920929,
          0.9275362491607666,
          0.7982646226882935,
          1,
          1,
          1,
          0.8888888955116272,
          1,
          1,
          0.9411764740943909,
          1,
          0.9411764740943909,
          0.625,
          0.9333333373069763,
          1,
          0.9629629850387573,
          0.8999999761581421,
          0.9047619104385376,
          0.9090909361839294,
          0.8387096524238586,
          1,
          0.8888888955116272,
          1,
          0.95652174949646,
          0.8571428656578064,
          0.9090909361839294,
          0.8999999761581421,
          0.8333333134651184,
          0.9333333373069763,
          0.5517241358757019,
          0.4848484992980957,
          1,
          1,
          1,
          0.9523809552192688,
          1,
          0.8363636136054993,
          0.8199999928474426,
          0.8888888955116272,
          1,
          0.9411764740943909,
          0.9230769276618958,
          0.9411764740943909,
          0.8571428656578064,
          0.9756097793579102,
          0,
          1,
          0.9230769276618958,
          1,
          0.800000011920929,
          0.9230769276618958,
          0.7234042286872864,
          1,
          0.9599999785423279,
          0.9333333373069763,
          0.7878788113594055,
          0.8526077270507812,
          0.9230769276618958,
          0.95652174949646,
          0.9019607901573181,
          0.8571428656578064,
          0.8571428656578064,
          1,
          0.9411764740943909,
          0.8888888955116272,
          0.9333333373069763,
          1,
          1,
          0.8695651888847351,
          0.7692307829856873,
          1,
          0.6553191542625427,
          0.8571428656578064,
          0.7058823704719543,
          0.35379061102867126,
          0.9130434989929199,
          1,
          1,
          0.892307698726654,
          0.7878788113594055,
          0.8999999761581421,
          0.8421052694320679,
          0.800000011920929,
          1,
          1,
          0.31620553135871887,
          0.8571428656578064,
          0.9655172228813171,
          1,
          1,
          0.800000011920929,
          1,
          0.6000000238418579,
          0.9333333373069763,
          0.8571428656578064,
          0.6470588445663452,
          0.7200000286102295,
          0,
          0.9714285731315613,
          0.9677419066429138,
          0.9411764740943909,
          1,
          0.9090909361839294,
          0.95652174949646,
          1,
          1,
          1,
          0.8888888955116272,
          1,
          0.9090909361839294,
          1,
          0.8888888955116272,
          0.9090909361839294,
          1,
          1,
          0.8461538553237915,
          1,
          1,
          0.8888888955116272,
          0.8799999952316284,
          0.9230769276618958,
          0.8999999761581421,
          1,
          1,
          0.9473684430122375,
          1,
          1,
          1,
          1,
          1,
          0.9090909361839294,
          1,
          1,
          0.5925925970077515,
          0.800000011920929,
          1,
          0.8999999761581421,
          1,
          1,
          1,
          1,
          0.8666666746139526,
          0.95652174949646,
          0.9230769276618958,
          0.9333333373069763,
          0.9032257795333862,
          0.800000011920929,
          0.9629629850387573,
          0.8888888955116272,
          1,
          0.9333333373069763,
          1,
          1,
          1,
          1,
          1,
          0.9411764740943909,
          1,
          1,
          1,
          0.7567567825317383,
          0.8333333134651184,
          0.9795918464660645,
          0.8571428656578064,
          0.8888888955116272,
          0.9767441749572754,
          1,
          1,
          0.4864864945411682,
          0.9411764740943909,
          0.8947368264198303,
          0.8695651888847351,
          0.9090909361839294,
          0.9473684430122375,
          0.800000011920929,
          1,
          1,
          0.9473684430122375,
          0.9230769276618958,
          0.9677419066429138,
          0.7368420958518982,
          0.9333333373069763,
          1,
          1,
          0.8999999761581421,
          1,
          0,
          0.9166666865348816,
          1,
          0.8571428656578064,
          0.5,
          1,
          0.9714285731315613,
          1,
          0.800000011920929,
          0.8484848737716675,
          0.95652174949646,
          0.8148148059844971,
          0.8888888955116272,
          0.7767441868782043,
          0.7400000095367432,
          1,
          1,
          0.6962962746620178,
          0.9473684430122375,
          0.9696969985961914,
          1,
          0.8275862336158752,
          0.5806451439857483,
          0.9629629850387573,
          0.6000000238418579,
          0.8275862336158752,
          0.9090909361839294,
          0.8333333134651184,
          0.9473684430122375,
          1,
          1,
          0,
          0.5882353186607361,
          0.75,
          0.782608687877655,
          0.7692307829856873,
          0.9333333373069763,
          0.21192052960395813,
          0.2083333283662796,
          0.26767677068710327,
          0.8074073791503906,
          0.37610185146331787,
          0.3865877687931061,
          0.3589743673801422,
          0.4228456914424896,
          0.41683366894721985,
          0.45338568091392517,
          0.33105021715164185,
          0.29638010263442993,
          0.33831989765167236,
          0.2399020791053772,
          0.41649484634399414,
          0.701298713684082,
          0.7114093899726868,
          0.6818181872367859,
          0.6730769276618958,
          0.8064516186714172,
          0.5687204003334045,
          0.6370656490325928,
          0.7412587404251099,
          0.6756756901741028,
          0.737864077091217,
          0.7120000123977661,
          0.7067669034004211,
          0.6474359035491943,
          0.6857143044471741,
          0.5950413346290588,
          0.5921052694320679,
          0.734883725643158,
          0.692307710647583,
          0.6428571343421936,
          0.672897219657898,
          0.7413793206214905,
          0.6875,
          0.767123281955719,
          0.8656716346740723,
          0.7692307829856873,
          0.6390041708946228,
          0.5133689641952515,
          0.6258503198623657,
          0.800000011920929,
          0.6944444179534912,
          0.7333333492279053,
          0.6126126050949097,
          0.7301587462425232,
          0.22794117033481598,
          0.39316239953041077,
          0.24338623881340027,
          0.4690553843975067,
          0.47560974955558777,
          0.5668449401855469,
          0.36464089155197144,
          0.4337349534034729,
          0.6000000238418579,
          0.5295508503913879,
          0.6413792967796326,
          0.39830508828163147,
          0.28992629051208496,
          0.35736677050590515,
          0.35779815912246704,
          0.11046511679887772,
          0.380952388048172,
          0.3697104752063751,
          0.4492753744125366,
          0.5633803009986877,
          0.2598039209842682,
          0.5806451439857483,
          0.4916943609714508,
          0.4974619150161743,
          0.5853658318519592
         ]
        }
       ],
       "layout": {
        "font": {
         "color": "black",
         "size": 15
        },
        "height": 400,
        "template": {
         "data": {
          "bar": [
           {
            "error_x": {
             "color": "#2a3f5f"
            },
            "error_y": {
             "color": "#2a3f5f"
            },
            "marker": {
             "line": {
              "color": "white",
              "width": 0.5
             },
             "pattern": {
              "fillmode": "overlay",
              "size": 10,
              "solidity": 0.2
             }
            },
            "type": "bar"
           }
          ],
          "barpolar": [
           {
            "marker": {
             "line": {
              "color": "white",
              "width": 0.5
             },
             "pattern": {
              "fillmode": "overlay",
              "size": 10,
              "solidity": 0.2
             }
            },
            "type": "barpolar"
           }
          ],
          "carpet": [
           {
            "aaxis": {
             "endlinecolor": "#2a3f5f",
             "gridcolor": "#C8D4E3",
             "linecolor": "#C8D4E3",
             "minorgridcolor": "#C8D4E3",
             "startlinecolor": "#2a3f5f"
            },
            "baxis": {
             "endlinecolor": "#2a3f5f",
             "gridcolor": "#C8D4E3",
             "linecolor": "#C8D4E3",
             "minorgridcolor": "#C8D4E3",
             "startlinecolor": "#2a3f5f"
            },
            "type": "carpet"
           }
          ],
          "choropleth": [
           {
            "colorbar": {
             "outlinewidth": 0,
             "ticks": ""
            },
            "type": "choropleth"
           }
          ],
          "contour": [
           {
            "colorbar": {
             "outlinewidth": 0,
             "ticks": ""
            },
            "colorscale": [
             [
              0,
              "#0d0887"
             ],
             [
              0.1111111111111111,
              "#46039f"
             ],
             [
              0.2222222222222222,
              "#7201a8"
             ],
             [
              0.3333333333333333,
              "#9c179e"
             ],
             [
              0.4444444444444444,
              "#bd3786"
             ],
             [
              0.5555555555555556,
              "#d8576b"
             ],
             [
              0.6666666666666666,
              "#ed7953"
             ],
             [
              0.7777777777777778,
              "#fb9f3a"
             ],
             [
              0.8888888888888888,
              "#fdca26"
             ],
             [
              1,
              "#f0f921"
             ]
            ],
            "type": "contour"
           }
          ],
          "contourcarpet": [
           {
            "colorbar": {
             "outlinewidth": 0,
             "ticks": ""
            },
            "type": "contourcarpet"
           }
          ],
          "heatmap": [
           {
            "colorbar": {
             "outlinewidth": 0,
             "ticks": ""
            },
            "colorscale": [
             [
              0,
              "#0d0887"
             ],
             [
              0.1111111111111111,
              "#46039f"
             ],
             [
              0.2222222222222222,
              "#7201a8"
             ],
             [
              0.3333333333333333,
              "#9c179e"
             ],
             [
              0.4444444444444444,
              "#bd3786"
             ],
             [
              0.5555555555555556,
              "#d8576b"
             ],
             [
              0.6666666666666666,
              "#ed7953"
             ],
             [
              0.7777777777777778,
              "#fb9f3a"
             ],
             [
              0.8888888888888888,
              "#fdca26"
             ],
             [
              1,
              "#f0f921"
             ]
            ],
            "type": "heatmap"
           }
          ],
          "heatmapgl": [
           {
            "colorbar": {
             "outlinewidth": 0,
             "ticks": ""
            },
            "colorscale": [
             [
              0,
              "#0d0887"
             ],
             [
              0.1111111111111111,
              "#46039f"
             ],
             [
              0.2222222222222222,
              "#7201a8"
             ],
             [
              0.3333333333333333,
              "#9c179e"
             ],
             [
              0.4444444444444444,
              "#bd3786"
             ],
             [
              0.5555555555555556,
              "#d8576b"
             ],
             [
              0.6666666666666666,
              "#ed7953"
             ],
             [
              0.7777777777777778,
              "#fb9f3a"
             ],
             [
              0.8888888888888888,
              "#fdca26"
             ],
             [
              1,
              "#f0f921"
             ]
            ],
            "type": "heatmapgl"
           }
          ],
          "histogram": [
           {
            "marker": {
             "pattern": {
              "fillmode": "overlay",
              "size": 10,
              "solidity": 0.2
             }
            },
            "type": "histogram"
           }
          ],
          "histogram2d": [
           {
            "colorbar": {
             "outlinewidth": 0,
             "ticks": ""
            },
            "colorscale": [
             [
              0,
              "#0d0887"
             ],
             [
              0.1111111111111111,
              "#46039f"
             ],
             [
              0.2222222222222222,
              "#7201a8"
             ],
             [
              0.3333333333333333,
              "#9c179e"
             ],
             [
              0.4444444444444444,
              "#bd3786"
             ],
             [
              0.5555555555555556,
              "#d8576b"
             ],
             [
              0.6666666666666666,
              "#ed7953"
             ],
             [
              0.7777777777777778,
              "#fb9f3a"
             ],
             [
              0.8888888888888888,
              "#fdca26"
             ],
             [
              1,
              "#f0f921"
             ]
            ],
            "type": "histogram2d"
           }
          ],
          "histogram2dcontour": [
           {
            "colorbar": {
             "outlinewidth": 0,
             "ticks": ""
            },
            "colorscale": [
             [
              0,
              "#0d0887"
             ],
             [
              0.1111111111111111,
              "#46039f"
             ],
             [
              0.2222222222222222,
              "#7201a8"
             ],
             [
              0.3333333333333333,
              "#9c179e"
             ],
             [
              0.4444444444444444,
              "#bd3786"
             ],
             [
              0.5555555555555556,
              "#d8576b"
             ],
             [
              0.6666666666666666,
              "#ed7953"
             ],
             [
              0.7777777777777778,
              "#fb9f3a"
             ],
             [
              0.8888888888888888,
              "#fdca26"
             ],
             [
              1,
              "#f0f921"
             ]
            ],
            "type": "histogram2dcontour"
           }
          ],
          "mesh3d": [
           {
            "colorbar": {
             "outlinewidth": 0,
             "ticks": ""
            },
            "type": "mesh3d"
           }
          ],
          "parcoords": [
           {
            "line": {
             "colorbar": {
              "outlinewidth": 0,
              "ticks": ""
             }
            },
            "type": "parcoords"
           }
          ],
          "pie": [
           {
            "automargin": true,
            "type": "pie"
           }
          ],
          "scatter": [
           {
            "fillpattern": {
             "fillmode": "overlay",
             "size": 10,
             "solidity": 0.2
            },
            "type": "scatter"
           }
          ],
          "scatter3d": [
           {
            "line": {
             "colorbar": {
              "outlinewidth": 0,
              "ticks": ""
             }
            },
            "marker": {
             "colorbar": {
              "outlinewidth": 0,
              "ticks": ""
             }
            },
            "type": "scatter3d"
           }
          ],
          "scattercarpet": [
           {
            "marker": {
             "colorbar": {
              "outlinewidth": 0,
              "ticks": ""
             }
            },
            "type": "scattercarpet"
           }
          ],
          "scattergeo": [
           {
            "marker": {
             "colorbar": {
              "outlinewidth": 0,
              "ticks": ""
             }
            },
            "type": "scattergeo"
           }
          ],
          "scattergl": [
           {
            "marker": {
             "colorbar": {
              "outlinewidth": 0,
              "ticks": ""
             }
            },
            "type": "scattergl"
           }
          ],
          "scattermapbox": [
           {
            "marker": {
             "colorbar": {
              "outlinewidth": 0,
              "ticks": ""
             }
            },
            "type": "scattermapbox"
           }
          ],
          "scatterpolar": [
           {
            "marker": {
             "colorbar": {
              "outlinewidth": 0,
              "ticks": ""
             }
            },
            "type": "scatterpolar"
           }
          ],
          "scatterpolargl": [
           {
            "marker": {
             "colorbar": {
              "outlinewidth": 0,
              "ticks": ""
             }
            },
            "type": "scatterpolargl"
           }
          ],
          "scatterternary": [
           {
            "marker": {
             "colorbar": {
              "outlinewidth": 0,
              "ticks": ""
             }
            },
            "type": "scatterternary"
           }
          ],
          "surface": [
           {
            "colorbar": {
             "outlinewidth": 0,
             "ticks": ""
            },
            "colorscale": [
             [
              0,
              "#0d0887"
             ],
             [
              0.1111111111111111,
              "#46039f"
             ],
             [
              0.2222222222222222,
              "#7201a8"
             ],
             [
              0.3333333333333333,
              "#9c179e"
             ],
             [
              0.4444444444444444,
              "#bd3786"
             ],
             [
              0.5555555555555556,
              "#d8576b"
             ],
             [
              0.6666666666666666,
              "#ed7953"
             ],
             [
              0.7777777777777778,
              "#fb9f3a"
             ],
             [
              0.8888888888888888,
              "#fdca26"
             ],
             [
              1,
              "#f0f921"
             ]
            ],
            "type": "surface"
           }
          ],
          "table": [
           {
            "cells": {
             "fill": {
              "color": "#EBF0F8"
             },
             "line": {
              "color": "white"
             }
            },
            "header": {
             "fill": {
              "color": "#C8D4E3"
             },
             "line": {
              "color": "white"
             }
            },
            "type": "table"
           }
          ]
         },
         "layout": {
          "annotationdefaults": {
           "arrowcolor": "#2a3f5f",
           "arrowhead": 0,
           "arrowwidth": 1
          },
          "autotypenumbers": "strict",
          "coloraxis": {
           "colorbar": {
            "outlinewidth": 0,
            "ticks": ""
           }
          },
          "colorscale": {
           "diverging": [
            [
             0,
             "#8e0152"
            ],
            [
             0.1,
             "#c51b7d"
            ],
            [
             0.2,
             "#de77ae"
            ],
            [
             0.3,
             "#f1b6da"
            ],
            [
             0.4,
             "#fde0ef"
            ],
            [
             0.5,
             "#f7f7f7"
            ],
            [
             0.6,
             "#e6f5d0"
            ],
            [
             0.7,
             "#b8e186"
            ],
            [
             0.8,
             "#7fbc41"
            ],
            [
             0.9,
             "#4d9221"
            ],
            [
             1,
             "#276419"
            ]
           ],
           "sequential": [
            [
             0,
             "#0d0887"
            ],
            [
             0.1111111111111111,
             "#46039f"
            ],
            [
             0.2222222222222222,
             "#7201a8"
            ],
            [
             0.3333333333333333,
             "#9c179e"
            ],
            [
             0.4444444444444444,
             "#bd3786"
            ],
            [
             0.5555555555555556,
             "#d8576b"
            ],
            [
             0.6666666666666666,
             "#ed7953"
            ],
            [
             0.7777777777777778,
             "#fb9f3a"
            ],
            [
             0.8888888888888888,
             "#fdca26"
            ],
            [
             1,
             "#f0f921"
            ]
           ],
           "sequentialminus": [
            [
             0,
             "#0d0887"
            ],
            [
             0.1111111111111111,
             "#46039f"
            ],
            [
             0.2222222222222222,
             "#7201a8"
            ],
            [
             0.3333333333333333,
             "#9c179e"
            ],
            [
             0.4444444444444444,
             "#bd3786"
            ],
            [
             0.5555555555555556,
             "#d8576b"
            ],
            [
             0.6666666666666666,
             "#ed7953"
            ],
            [
             0.7777777777777778,
             "#fb9f3a"
            ],
            [
             0.8888888888888888,
             "#fdca26"
            ],
            [
             1,
             "#f0f921"
            ]
           ]
          },
          "colorway": [
           "#636efa",
           "#EF553B",
           "#00cc96",
           "#ab63fa",
           "#FFA15A",
           "#19d3f3",
           "#FF6692",
           "#B6E880",
           "#FF97FF",
           "#FECB52"
          ],
          "font": {
           "color": "#2a3f5f"
          },
          "geo": {
           "bgcolor": "white",
           "lakecolor": "white",
           "landcolor": "white",
           "showlakes": true,
           "showland": true,
           "subunitcolor": "#C8D4E3"
          },
          "hoverlabel": {
           "align": "left"
          },
          "hovermode": "closest",
          "mapbox": {
           "style": "light"
          },
          "paper_bgcolor": "white",
          "plot_bgcolor": "white",
          "polar": {
           "angularaxis": {
            "gridcolor": "#EBF0F8",
            "linecolor": "#EBF0F8",
            "ticks": ""
           },
           "bgcolor": "white",
           "radialaxis": {
            "gridcolor": "#EBF0F8",
            "linecolor": "#EBF0F8",
            "ticks": ""
           }
          },
          "scene": {
           "xaxis": {
            "backgroundcolor": "white",
            "gridcolor": "#DFE8F3",
            "gridwidth": 2,
            "linecolor": "#EBF0F8",
            "showbackground": true,
            "ticks": "",
            "zerolinecolor": "#EBF0F8"
           },
           "yaxis": {
            "backgroundcolor": "white",
            "gridcolor": "#DFE8F3",
            "gridwidth": 2,
            "linecolor": "#EBF0F8",
            "showbackground": true,
            "ticks": "",
            "zerolinecolor": "#EBF0F8"
           },
           "zaxis": {
            "backgroundcolor": "white",
            "gridcolor": "#DFE8F3",
            "gridwidth": 2,
            "linecolor": "#EBF0F8",
            "showbackground": true,
            "ticks": "",
            "zerolinecolor": "#EBF0F8"
           }
          },
          "shapedefaults": {
           "line": {
            "color": "#2a3f5f"
           }
          },
          "ternary": {
           "aaxis": {
            "gridcolor": "#DFE8F3",
            "linecolor": "#A2B1C6",
            "ticks": ""
           },
           "baxis": {
            "gridcolor": "#DFE8F3",
            "linecolor": "#A2B1C6",
            "ticks": ""
           },
           "bgcolor": "white",
           "caxis": {
            "gridcolor": "#DFE8F3",
            "linecolor": "#A2B1C6",
            "ticks": ""
           }
          },
          "title": {
           "x": 0.05
          },
          "xaxis": {
           "automargin": true,
           "gridcolor": "#EBF0F8",
           "linecolor": "#EBF0F8",
           "ticks": "",
           "title": {
            "standoff": 15
           },
           "zerolinecolor": "#EBF0F8",
           "zerolinewidth": 2
          },
          "yaxis": {
           "automargin": true,
           "gridcolor": "#EBF0F8",
           "linecolor": "#EBF0F8",
           "ticks": "",
           "title": {
            "standoff": 15
           },
           "zerolinecolor": "#EBF0F8",
           "zerolinewidth": 2
          }
         }
        },
        "violinmode": "group",
        "width": 1000,
        "xaxis": {
         "anchor": "y",
         "domain": [
          0,
          1
         ],
         "title": {
          "text": "test set"
         }
        },
        "yaxis": {
         "anchor": "x",
         "domain": [
          0,
          1
         ],
         "range": [
          0,
          1
         ],
         "title": {
          "text": "F1 score"
         }
        }
       }
      }
     },
     "metadata": {},
     "output_type": "display_data"
    }
   ],
   "source": [
    "# Creat a box plot with plotly\n",
    "import plotly.graph_objects as go\n",
    "from plotly.subplots import make_subplots\n",
    "import plotly.express as px\n",
    "fig = make_subplots(rows=1, cols=1, shared_xaxes=True)\n",
    "\n",
    "colors = px.colors.qualitative.D3\n",
    "    \n",
    "# UFold results\n",
    "fig.add_trace(go.Violin(x=result_UFold['dataset'], y=result_UFold['F1'], \n",
    "                        name='UFold', marker_color=colors[2], \n",
    "                        meanline_visible=True, points=False))\n",
    "\n",
    "for i, model in enumerate(['PT', 'PT+FT']):\n",
    "    results_dataset = data_comparison[data_comparison['model']==model]\n",
    "    fig.add_trace(go.Violin(x=results_dataset['dataset'], y=results_dataset['f1'], \n",
    "                            name=model, marker_color=colors[i], \n",
    "                            meanline_visible=True, points=False))\n",
    "    \n",
    "fig.update_layout(\n",
    "                # title='F1 score on test sets for pretraining vs pretraining + fine-tuning models', \n",
    "                yaxis_title='F1 score', xaxis_title='test set',\n",
    "                  violinmode='group', yaxis_range=[0, 1],\n",
    "                  width=1000, height=400,\n",
    "                  template='plotly_white', font_size=15, font_color='black',)\n",
    "# fig.update_xaxes(categoryorder='array', categoryarray= ['RNAstructure', 'EternaFold', 'MXFold2', 'UFold'])\n",
    "fig.show()"
   ]
  },
  {
   "cell_type": "code",
   "execution_count": 20,
   "metadata": {},
   "outputs": [],
   "source": [
    "# save pdf\n",
    "fig.write_image(\"images/a_structure_performance.pdf\")"
   ]
  },
  {
   "cell_type": "markdown",
   "metadata": {},
   "source": [
    "## Scatter plot -> not gonna show that"
   ]
  },
  {
   "cell_type": "code",
   "execution_count": 7,
   "metadata": {},
   "outputs": [
    {
     "data": {
      "application/vnd.plotly.v1+json": {
       "config": {
        "plotlyServerURL": "https://plot.ly"
       },
       "data": [
        {
         "marker": {
          "color": "#1F77B4"
         },
         "mode": "markers",
         "name": "PDB",
         "opacity": 0.8,
         "showlegend": false,
         "type": "scatter",
         "x": [
          0.875,
          0.8367347121238708,
          0.9090909361839294,
          0.9090909361839294,
          0.8421052694320679,
          0.9090909361839294,
          0.8888888955116272,
          0.8214285969734192,
          0.8421052694320679,
          0.6666666865348816,
          0.800000011920929,
          0.8333333134651184,
          0.9411764740943909,
          1,
          0.9333333373069763,
          0.8571428656578064,
          0.9230769276618958,
          0.9333333373069763,
          0.7272727489471436,
          0,
          1,
          0.8235294222831726,
          0.8181818127632141,
          0.803636372089386,
          1,
          0,
          1,
          0.8571428656578064,
          1,
          0.9333333373069763,
          1,
          0.8333333134651184,
          0.9545454382896423,
          0.9090909361839294,
          0.875,
          0.9230769276618958,
          1,
          0.6428571343421936,
          0.8432432413101196,
          1,
          0.8695651888847351,
          0.8695651888847351,
          0.7272727489471436,
          0.9523809552192688,
          0.875,
          0.8888888955116272,
          0.8333333134651184,
          0.8999999761581421,
          0.8333333134651184,
          0.9411764740943909,
          0,
          0.9333333373069763,
          0.7272727489471436,
          0.8421052694320679,
          0.7857142686843872,
          0.8888888955116272,
          0.8999999761581421,
          1,
          0.7053571343421936,
          0.8421052694320679,
          0.7058823704719543,
          0.8421052694320679,
          0.95652174949646,
          0.8888888955116272,
          0.9090909361839294,
          0.6333771347999573,
          0.8999999761581421,
          0.875,
          0,
          0.800000011920929,
          0.9230769276618958,
          0.9230769276618958,
          0.8461538553237915,
          0.9032257795333862,
          0.898876428604126,
          0.9714285731315613,
          0.8888888955116272,
          0.9090909361839294,
          0.8695651888847351,
          1,
          0.8571428656578064,
          0.8999999761581421,
          0.8125,
          0.9166666865348816,
          0.9090909361839294,
          0.9411764740943909,
          0.8571428656578064,
          0.8799999952316284,
          0.9230769276618958,
          0.9230769276618958,
          0.6187050342559814,
          0.8275862336158752,
          0.8421052694320679,
          0.9230769276618958,
          0.9166666865348816,
          1,
          1,
          0.8888888955116272,
          0.5066666603088379,
          0.75,
          0.9411764740943909,
          0.9230769276618958,
          0.9411764740943909,
          0.8571428656578064,
          1,
          0.8888888955116272,
          0.8888888955116272,
          1,
          0.9583333134651184,
          1,
          0.8571428656578064,
          0.4166666567325592,
          0.20000000298023224,
          1,
          0.800000011920929,
          0.800000011920929,
          0.9090909361839294,
          0.8235294222831726,
          0.875,
          0.930232584476471,
          0.5371428728103638,
          0.875,
          0.8524590134620667,
          0.9629629850387573,
          0,
          0.9473684430122375,
          0.8571428656578064,
          0.4137931168079376,
          0.8695651888847351,
          1,
          1,
          0.75,
          0.9375,
          0.800000011920929,
          0.9589040875434875,
          0.7681499123573303,
          0.9411764740943909,
          1,
          0.9090909361839294,
          0.8888888955116272,
          0.9230769276618958,
          0.9090909361839294,
          0.9411764740943909,
          0.8888888955116272,
          0.9599999785423279,
          0.8461538553237915,
          0.8571428656578064,
          0.75,
          0.9629629850387573,
          0.9473684430122375,
          0.8372092843055725,
          0.8333333134651184,
          0.9411764740943909,
          1,
          0.800000011920929,
          1,
          0.95652174949646,
          0.8181818127632141,
          0.8333333134651184,
          0.8999999761581421,
          0.7428571581840515,
          0.875,
          0.5517241358757019,
          0.23076923191547394,
          0.9090909361839294,
          1,
          0.9411764740943909,
          0.9523809552192688,
          1,
          0.7450980544090271,
          0.8453608155250549,
          0.8181818127632141,
          1,
          0.8888888955116272,
          0.800000011920929,
          0.75,
          0.8999999761581421,
          0.9523809552192688,
          0,
          0.9473684430122375,
          0.8888888955116272,
          0.8571428656578064,
          0.800000011920929,
          0.9230769276618958,
          0.9795918464660645,
          1,
          0.9230769276618958,
          0.9333333373069763,
          0.9032257795333862,
          0.8057553768157959,
          0.9230769276618958,
          0.95652174949646,
          0.8518518805503845,
          0.8571428656578064,
          0.8571428656578064,
          0.8965517282485962,
          0.9411764740943909,
          0.800000011920929,
          0.8571428656578064,
          0.9090909361839294,
          1,
          0.8333333134651184,
          1,
          0.9473684430122375,
          0.6851851940155029,
          0.625,
          0.6744186282157898,
          0.2844444513320923,
          0.9130434989929199,
          0.9230769276618958,
          1,
          0.8405796885490417,
          0.7865168452262878,
          0.692307710647583,
          0.699999988079071,
          0.6666666865348816,
          1,
          0.9090909361839294,
          0.33507853746414185,
          0.9230769276618958,
          0.8461538553237915,
          1,
          0.7272727489471436,
          0.75,
          0.9090909361839294,
          0.8333333134651184,
          0.875,
          0.8571428656578064,
          0.7058823704719543,
          0.782608687877655,
          0,
          0.8571428656578064,
          0.9032257795333862,
          0.9411764740943909,
          0.9473684430122375,
          0.9090909361839294,
          0.9090909361839294,
          0.9230769276618958,
          1,
          1,
          0.8571428656578064,
          1,
          0.7272727489471436,
          0.7272727489471436,
          0.8888888955116272,
          0.782608687877655,
          0.9333333373069763,
          1,
          0.8461538553237915,
          0.9285714030265808,
          0.75,
          0.75,
          0.8799999952316284,
          0.9230769276618958,
          0.9090909361839294,
          0.9333333373069763,
          1,
          0.8999999761581421,
          0.8799999952316284,
          1,
          0.8235294222831726,
          1,
          1,
          0.9523809552192688,
          0.9696969985961914,
          0.9743589758872986,
          0.6086956262588501,
          0.800000011920929,
          1,
          0.761904776096344,
          0.9090909361839294,
          1,
          0.9090909361839294,
          1,
          0.8888888955116272,
          0.95652174949646,
          0.7692307829856873,
          0.800000011920929,
          0.800000011920929,
          0.8684210777282715,
          0.9285714030265808,
          0.9047619104385376,
          1,
          0.9333333373069763,
          0.9473684430122375,
          0.9230769276618958,
          0.9333333373069763,
          1,
          0.9230769276618958,
          0.8888888955116272,
          0.9230769276618958,
          1,
          1,
          0.9189189076423645,
          0.9189189076423645,
          0.9696969985961914,
          0.75,
          0.9230769276618958,
          0.9545454382896423,
          0.9333333373069763,
          1,
          0.5,
          0.9411764740943909,
          0.9473684430122375,
          0.8181818127632141,
          0.9090909361839294,
          0.8888888955116272,
          0.7666666507720947,
          0.8888888955116272,
          0.8965517282485962,
          0.9473684430122375,
          0.75,
          0.9677419066429138,
          0.699999988079071,
          1,
          0.9090909361839294,
          0.875,
          0.8571428656578064,
          0.9090909361839294,
          0,
          0.8461538553237915,
          0.8571428656578064,
          0.8571428656578064,
          0.3636363744735718,
          0.9090909361839294,
          0.9142857193946838,
          1,
          0.6666666865348816,
          0.8172042965888977,
          0.8333333134651184,
          0.8333333134651184,
          0.8421052694320679,
          0.7272727489471436,
          0.7446808218955994,
          1,
          0.9333333373069763,
          0.7272727489471436,
          0.8571428656578064,
          0.875,
          1,
          0.9655172228813171,
          0.8965517282485962,
          0.8571428656578064,
          0.8888888955116272,
          0.8275862336158752,
          0.9090909361839294,
          0.800000011920929,
          0.8999999761581421,
          1,
          0.9090909361839294,
          0,
          0.8484848737716675,
          0.75,
          0.782608687877655,
          1,
          0.875
         ],
         "xaxis": "x",
         "y": [
          0.8571428656578064,
          0.9126213788986206,
          0.8695651888847351,
          1,
          0.8421052694320679,
          1,
          0.9411764740943909,
          0.8679245114326477,
          0.800000011920929,
          0.8095238208770752,
          0.800000011920929,
          0.9090909361839294,
          0.9411764740943909,
          1,
          0.9333333373069763,
          0.8571428656578064,
          0.8235294222831726,
          0.9677419066429138,
          1,
          0,
          0.9375,
          1,
          1,
          0.8586030602455139,
          1,
          1,
          1,
          0.8571428656578064,
          0.8571428656578064,
          0.9333333373069763,
          1,
          0.9090909361839294,
          0.9767441749572754,
          1,
          1,
          1,
          0.9090909361839294,
          0.7096773982048035,
          0.8315789699554443,
          0.9523809552192688,
          0.9523809552192688,
          0.9090909361839294,
          0.8888888955116272,
          0.9090909361839294,
          1,
          0.8888888955116272,
          0.8333333134651184,
          0.9230769276618958,
          1,
          0.9411764740943909,
          0,
          0.8813559412956238,
          0.800000011920929,
          0.9411764740943909,
          0.8666666746139526,
          0.8888888955116272,
          0.8999999761581421,
          1,
          0.6639676094055176,
          1,
          0.7058823704719543,
          0.9411764740943909,
          1,
          0.9473684430122375,
          0.9090909361839294,
          0.6104512810707092,
          0.8999999761581421,
          1,
          0,
          0.8333333134651184,
          1,
          0.9230769276618958,
          0.9230769276618958,
          0.9032257795333862,
          0.8421052694320679,
          0.9855072498321533,
          0.9411764740943909,
          1,
          0.9090909361839294,
          0.8333333134651184,
          0.8571428656578064,
          0.8999999761581421,
          0.8666666746139526,
          0.95652174949646,
          0.9090909361839294,
          1,
          0.9230769276618958,
          0.95652174949646,
          0.9230769276618958,
          0.9230769276618958,
          0.7284768223762512,
          0.9375,
          0.8999999761581421,
          1,
          0.95652174949646,
          0.9411764740943909,
          1,
          0.9411764740943909,
          0.5060241222381592,
          0.75,
          0.9411764740943909,
          1,
          0.9411764740943909,
          1,
          1,
          0.8888888955116272,
          0.8888888955116272,
          1,
          0.9130434989929199,
          1,
          1,
          0.37735849618911743,
          0.2222222238779068,
          1,
          0.800000011920929,
          0.8888888955116272,
          0.8823529481887817,
          0.8235294222831726,
          1,
          0.930232584476471,
          0.514018714427948,
          0.8235294222831726,
          0.8196721076965332,
          1,
          0,
          0.9473684430122375,
          0.9333333373069763,
          0.6268656849861145,
          0.75,
          0.8571428656578064,
          1,
          0.8571428656578064,
          0.9032257795333862,
          0.800000011920929,
          0.9275362491607666,
          0.7982646226882935,
          1,
          1,
          1,
          0.8888888955116272,
          1,
          1,
          0.9411764740943909,
          1,
          0.9411764740943909,
          0.625,
          0.9333333373069763,
          1,
          0.9629629850387573,
          0.8999999761581421,
          0.9047619104385376,
          0.9090909361839294,
          0.8387096524238586,
          1,
          0.8888888955116272,
          1,
          0.95652174949646,
          0.8571428656578064,
          0.9090909361839294,
          0.8999999761581421,
          0.8333333134651184,
          0.9333333373069763,
          0.5517241358757019,
          0.4848484992980957,
          1,
          1,
          1,
          0.9523809552192688,
          1,
          0.8363636136054993,
          0.8199999928474426,
          0.8888888955116272,
          1,
          0.9411764740943909,
          0.9230769276618958,
          0.9411764740943909,
          0.8571428656578064,
          0.9756097793579102,
          0,
          1,
          0.9230769276618958,
          1,
          0.800000011920929,
          0.9230769276618958,
          0.7234042286872864,
          1,
          0.9599999785423279,
          0.9333333373069763,
          0.7878788113594055,
          0.8526077270507812,
          0.9230769276618958,
          0.95652174949646,
          0.9019607901573181,
          0.8571428656578064,
          0.8571428656578064,
          1,
          0.9411764740943909,
          0.8888888955116272,
          0.9333333373069763,
          1,
          1,
          0.8695651888847351,
          0.7692307829856873,
          1,
          0.6553191542625427,
          0.8571428656578064,
          0.7058823704719543,
          0.35379061102867126,
          0.9130434989929199,
          1,
          1,
          0.892307698726654,
          0.7878788113594055,
          0.8999999761581421,
          0.8421052694320679,
          0.800000011920929,
          1,
          1,
          0.31620553135871887,
          0.8571428656578064,
          0.9655172228813171,
          1,
          1,
          0.800000011920929,
          1,
          0.6000000238418579,
          0.9333333373069763,
          0.8571428656578064,
          0.6470588445663452,
          0.7200000286102295,
          0,
          0.9714285731315613,
          0.9677419066429138,
          0.9411764740943909,
          1,
          0.9090909361839294,
          0.95652174949646,
          1,
          1,
          1,
          0.8888888955116272,
          1,
          0.9090909361839294,
          1,
          0.8888888955116272,
          0.9090909361839294,
          1,
          1,
          0.8461538553237915,
          1,
          1,
          0.8888888955116272,
          0.8799999952316284,
          0.9230769276618958,
          0.8999999761581421,
          1,
          1,
          0.9473684430122375,
          1,
          1,
          1,
          1,
          1,
          0.9090909361839294,
          1,
          1,
          0.5925925970077515,
          0.800000011920929,
          1,
          0.8999999761581421,
          1,
          1,
          1,
          1,
          0.8666666746139526,
          0.95652174949646,
          0.9230769276618958,
          0.9333333373069763,
          0.9032257795333862,
          0.800000011920929,
          0.9629629850387573,
          0.8888888955116272,
          1,
          0.9333333373069763,
          1,
          1,
          1,
          1,
          1,
          0.9411764740943909,
          1,
          1,
          1,
          0.7567567825317383,
          0.8333333134651184,
          0.9795918464660645,
          0.8571428656578064,
          0.8888888955116272,
          0.9767441749572754,
          1,
          1,
          0.4864864945411682,
          0.9411764740943909,
          0.8947368264198303,
          0.8695651888847351,
          0.9090909361839294,
          0.9473684430122375,
          0.800000011920929,
          1,
          1,
          0.9473684430122375,
          0.9230769276618958,
          0.9677419066429138,
          0.7368420958518982,
          0.9333333373069763,
          1,
          1,
          0.8999999761581421,
          1,
          0,
          0.9166666865348816,
          1,
          0.8571428656578064,
          0.5,
          1,
          0.9714285731315613,
          1,
          0.800000011920929,
          0.8484848737716675,
          0.95652174949646,
          0.8148148059844971,
          0.8888888955116272,
          0.7767441868782043,
          0.7400000095367432,
          1,
          1,
          0.6962962746620178,
          0.9473684430122375,
          0.9696969985961914,
          1,
          0.8275862336158752,
          0.5806451439857483,
          0.9629629850387573,
          0.6000000238418579,
          0.8275862336158752,
          0.9090909361839294,
          0.8333333134651184,
          0.9473684430122375,
          1,
          1,
          0,
          0.5882353186607361,
          0.75,
          0.782608687877655,
          0.7692307829856873,
          0.9333333373069763
         ],
         "yaxis": "y"
        },
        {
         "line": {
          "color": "black",
          "dash": "dash"
         },
         "mode": "lines",
         "showlegend": false,
         "type": "scatter",
         "x": [
          0,
          1
         ],
         "xaxis": "x",
         "y": [
          0,
          1
         ],
         "yaxis": "y"
        },
        {
         "marker": {
          "color": "#1F77B4"
         },
         "mode": "markers",
         "name": "lncRNA",
         "opacity": 0.8,
         "showlegend": false,
         "type": "scatter",
         "x": [
          0.20967741310596466,
          0.08620689809322357,
          0.23529411852359772,
          0.8288288116455078,
          0.31629014015197754,
          0.316546767950058,
          0.311750590801239,
          0.3611457049846649,
          0.3561643958091736,
          0.4053398072719574,
          0.22518518567085266,
          0.20790629088878632,
          0.17664670944213867,
          0.27299702167510986,
          0.4235925078392029
         ],
         "xaxis": "x2",
         "y": [
          0.21192052960395813,
          0.2083333283662796,
          0.26767677068710327,
          0.8074073791503906,
          0.37610185146331787,
          0.3865877687931061,
          0.3589743673801422,
          0.4228456914424896,
          0.41683366894721985,
          0.45338568091392517,
          0.33105021715164185,
          0.29638010263442993,
          0.33831989765167236,
          0.2399020791053772,
          0.41649484634399414
         ],
         "yaxis": "y2"
        },
        {
         "line": {
          "color": "black",
          "dash": "dash"
         },
         "mode": "lines",
         "showlegend": false,
         "type": "scatter",
         "x": [
          0,
          1
         ],
         "xaxis": "x2",
         "y": [
          0,
          1
         ],
         "yaxis": "y2"
        },
        {
         "marker": {
          "color": "#1F77B4"
         },
         "mode": "markers",
         "name": "viral_fragments",
         "opacity": 0.8,
         "showlegend": false,
         "type": "scatter",
         "x": [
          0.7058823704719543,
          0.6307692527770996,
          0.5903614163398743,
          0.6947368383407593,
          0.9333333373069763,
          0.6279069781303406,
          0.6331877708435059,
          0.7716535329818726,
          0.7661691308021545,
          0.6195651888847351,
          0.6000000238418579,
          0.5333333611488342,
          0.5019920468330383,
          0.6691449880599976,
          0.5454545617103577,
          0.4262295067310333,
          0.6666666865348816,
          0.8266666531562805,
          0.44999998807907104,
          0.633093535900116,
          0.30136987566947937,
          0.7731092572212219,
          0.7761194109916687,
          0.9032257795333862,
          0.6142857074737549,
          0.6120218634605408,
          0.5850340127944946,
          0.5925925970077515,
          0.8148148059844971,
          0.5151515007019043,
          0.729411780834198,
          0.5176470875740051,
          0.7368420958518982,
          0.18018017709255219,
          0.3294117748737335,
          0.10144927352666855,
          0.5657370686531067,
          0.24817518889904022,
          0.48051947355270386,
          0.3311688303947449,
          0.4748603403568268,
          0.7358490824699402,
          0.4917127192020416,
          0.5522388219833374,
          0.34375,
          0.30372491478919983,
          0.35114502906799316,
          0.3060109317302704,
          0.02826855145394802,
          0.2293577939271927,
          0.20441989600658417,
          0.2970297038555145,
          0.5511810779571533,
          0.23529411852359772,
          0.5123152732849121,
          0.37130802869796753,
          0.40789473056793213,
          0.6666666865348816
         ],
         "xaxis": "x3",
         "y": [
          0.701298713684082,
          0.7114093899726868,
          0.6818181872367859,
          0.6730769276618958,
          0.8064516186714172,
          0.5687204003334045,
          0.6370656490325928,
          0.7412587404251099,
          0.6756756901741028,
          0.737864077091217,
          0.7120000123977661,
          0.7067669034004211,
          0.6474359035491943,
          0.6857143044471741,
          0.5950413346290588,
          0.5921052694320679,
          0.734883725643158,
          0.692307710647583,
          0.6428571343421936,
          0.672897219657898,
          0.7413793206214905,
          0.6875,
          0.767123281955719,
          0.8656716346740723,
          0.7692307829856873,
          0.6390041708946228,
          0.5133689641952515,
          0.6258503198623657,
          0.800000011920929,
          0.6944444179534912,
          0.7333333492279053,
          0.6126126050949097,
          0.7301587462425232,
          0.22794117033481598,
          0.39316239953041077,
          0.24338623881340027,
          0.4690553843975067,
          0.47560974955558777,
          0.5668449401855469,
          0.36464089155197144,
          0.4337349534034729,
          0.6000000238418579,
          0.5295508503913879,
          0.6413792967796326,
          0.39830508828163147,
          0.28992629051208496,
          0.35736677050590515,
          0.35779815912246704,
          0.11046511679887772,
          0.380952388048172,
          0.3697104752063751,
          0.4492753744125366,
          0.5633803009986877,
          0.2598039209842682,
          0.5806451439857483,
          0.4916943609714508,
          0.4974619150161743,
          0.5853658318519592
         ],
         "yaxis": "y3"
        },
        {
         "line": {
          "color": "black",
          "dash": "dash"
         },
         "mode": "lines",
         "showlegend": false,
         "type": "scatter",
         "x": [
          0,
          1
         ],
         "xaxis": "x3",
         "y": [
          0,
          1
         ],
         "yaxis": "y3"
        }
       ],
       "layout": {
        "annotations": [
         {
          "font": {
           "size": 16
          },
          "showarrow": false,
          "text": "PDB (82.6% ≥ y=x)",
          "x": 0.14444444444444446,
          "xanchor": "center",
          "xref": "paper",
          "y": 1,
          "yanchor": "bottom",
          "yref": "paper"
         },
         {
          "font": {
           "size": 16
          },
          "showarrow": false,
          "text": "lncRNA (80.0% ≥ y=x)",
          "x": 0.5,
          "xanchor": "center",
          "xref": "paper",
          "y": 1,
          "yanchor": "bottom",
          "yref": "paper"
         },
         {
          "font": {
           "size": 16
          },
          "showarrow": false,
          "text": "viral_fragments (69.0% ≥ y=x)",
          "x": 0.8555555555555556,
          "xanchor": "center",
          "xref": "paper",
          "y": 1,
          "yanchor": "bottom",
          "yref": "paper"
         },
         {
          "font": {
           "size": 16
          },
          "showarrow": false,
          "text": "F1 score for PT",
          "x": 0.5,
          "xanchor": "center",
          "xref": "paper",
          "y": 0,
          "yanchor": "top",
          "yref": "paper",
          "yshift": -30
         },
         {
          "font": {
           "size": 16
          },
          "showarrow": false,
          "text": "F1 score for PT+FT",
          "textangle": -90,
          "x": 0,
          "xanchor": "right",
          "xref": "paper",
          "xshift": -40,
          "y": 0.5,
          "yanchor": "middle",
          "yref": "paper"
         }
        ],
        "font": {
         "color": "black",
         "size": 15
        },
        "height": 450,
        "template": {
         "data": {
          "bar": [
           {
            "error_x": {
             "color": "#2a3f5f"
            },
            "error_y": {
             "color": "#2a3f5f"
            },
            "marker": {
             "line": {
              "color": "white",
              "width": 0.5
             },
             "pattern": {
              "fillmode": "overlay",
              "size": 10,
              "solidity": 0.2
             }
            },
            "type": "bar"
           }
          ],
          "barpolar": [
           {
            "marker": {
             "line": {
              "color": "white",
              "width": 0.5
             },
             "pattern": {
              "fillmode": "overlay",
              "size": 10,
              "solidity": 0.2
             }
            },
            "type": "barpolar"
           }
          ],
          "carpet": [
           {
            "aaxis": {
             "endlinecolor": "#2a3f5f",
             "gridcolor": "#C8D4E3",
             "linecolor": "#C8D4E3",
             "minorgridcolor": "#C8D4E3",
             "startlinecolor": "#2a3f5f"
            },
            "baxis": {
             "endlinecolor": "#2a3f5f",
             "gridcolor": "#C8D4E3",
             "linecolor": "#C8D4E3",
             "minorgridcolor": "#C8D4E3",
             "startlinecolor": "#2a3f5f"
            },
            "type": "carpet"
           }
          ],
          "choropleth": [
           {
            "colorbar": {
             "outlinewidth": 0,
             "ticks": ""
            },
            "type": "choropleth"
           }
          ],
          "contour": [
           {
            "colorbar": {
             "outlinewidth": 0,
             "ticks": ""
            },
            "colorscale": [
             [
              0,
              "#0d0887"
             ],
             [
              0.1111111111111111,
              "#46039f"
             ],
             [
              0.2222222222222222,
              "#7201a8"
             ],
             [
              0.3333333333333333,
              "#9c179e"
             ],
             [
              0.4444444444444444,
              "#bd3786"
             ],
             [
              0.5555555555555556,
              "#d8576b"
             ],
             [
              0.6666666666666666,
              "#ed7953"
             ],
             [
              0.7777777777777778,
              "#fb9f3a"
             ],
             [
              0.8888888888888888,
              "#fdca26"
             ],
             [
              1,
              "#f0f921"
             ]
            ],
            "type": "contour"
           }
          ],
          "contourcarpet": [
           {
            "colorbar": {
             "outlinewidth": 0,
             "ticks": ""
            },
            "type": "contourcarpet"
           }
          ],
          "heatmap": [
           {
            "colorbar": {
             "outlinewidth": 0,
             "ticks": ""
            },
            "colorscale": [
             [
              0,
              "#0d0887"
             ],
             [
              0.1111111111111111,
              "#46039f"
             ],
             [
              0.2222222222222222,
              "#7201a8"
             ],
             [
              0.3333333333333333,
              "#9c179e"
             ],
             [
              0.4444444444444444,
              "#bd3786"
             ],
             [
              0.5555555555555556,
              "#d8576b"
             ],
             [
              0.6666666666666666,
              "#ed7953"
             ],
             [
              0.7777777777777778,
              "#fb9f3a"
             ],
             [
              0.8888888888888888,
              "#fdca26"
             ],
             [
              1,
              "#f0f921"
             ]
            ],
            "type": "heatmap"
           }
          ],
          "heatmapgl": [
           {
            "colorbar": {
             "outlinewidth": 0,
             "ticks": ""
            },
            "colorscale": [
             [
              0,
              "#0d0887"
             ],
             [
              0.1111111111111111,
              "#46039f"
             ],
             [
              0.2222222222222222,
              "#7201a8"
             ],
             [
              0.3333333333333333,
              "#9c179e"
             ],
             [
              0.4444444444444444,
              "#bd3786"
             ],
             [
              0.5555555555555556,
              "#d8576b"
             ],
             [
              0.6666666666666666,
              "#ed7953"
             ],
             [
              0.7777777777777778,
              "#fb9f3a"
             ],
             [
              0.8888888888888888,
              "#fdca26"
             ],
             [
              1,
              "#f0f921"
             ]
            ],
            "type": "heatmapgl"
           }
          ],
          "histogram": [
           {
            "marker": {
             "pattern": {
              "fillmode": "overlay",
              "size": 10,
              "solidity": 0.2
             }
            },
            "type": "histogram"
           }
          ],
          "histogram2d": [
           {
            "colorbar": {
             "outlinewidth": 0,
             "ticks": ""
            },
            "colorscale": [
             [
              0,
              "#0d0887"
             ],
             [
              0.1111111111111111,
              "#46039f"
             ],
             [
              0.2222222222222222,
              "#7201a8"
             ],
             [
              0.3333333333333333,
              "#9c179e"
             ],
             [
              0.4444444444444444,
              "#bd3786"
             ],
             [
              0.5555555555555556,
              "#d8576b"
             ],
             [
              0.6666666666666666,
              "#ed7953"
             ],
             [
              0.7777777777777778,
              "#fb9f3a"
             ],
             [
              0.8888888888888888,
              "#fdca26"
             ],
             [
              1,
              "#f0f921"
             ]
            ],
            "type": "histogram2d"
           }
          ],
          "histogram2dcontour": [
           {
            "colorbar": {
             "outlinewidth": 0,
             "ticks": ""
            },
            "colorscale": [
             [
              0,
              "#0d0887"
             ],
             [
              0.1111111111111111,
              "#46039f"
             ],
             [
              0.2222222222222222,
              "#7201a8"
             ],
             [
              0.3333333333333333,
              "#9c179e"
             ],
             [
              0.4444444444444444,
              "#bd3786"
             ],
             [
              0.5555555555555556,
              "#d8576b"
             ],
             [
              0.6666666666666666,
              "#ed7953"
             ],
             [
              0.7777777777777778,
              "#fb9f3a"
             ],
             [
              0.8888888888888888,
              "#fdca26"
             ],
             [
              1,
              "#f0f921"
             ]
            ],
            "type": "histogram2dcontour"
           }
          ],
          "mesh3d": [
           {
            "colorbar": {
             "outlinewidth": 0,
             "ticks": ""
            },
            "type": "mesh3d"
           }
          ],
          "parcoords": [
           {
            "line": {
             "colorbar": {
              "outlinewidth": 0,
              "ticks": ""
             }
            },
            "type": "parcoords"
           }
          ],
          "pie": [
           {
            "automargin": true,
            "type": "pie"
           }
          ],
          "scatter": [
           {
            "fillpattern": {
             "fillmode": "overlay",
             "size": 10,
             "solidity": 0.2
            },
            "type": "scatter"
           }
          ],
          "scatter3d": [
           {
            "line": {
             "colorbar": {
              "outlinewidth": 0,
              "ticks": ""
             }
            },
            "marker": {
             "colorbar": {
              "outlinewidth": 0,
              "ticks": ""
             }
            },
            "type": "scatter3d"
           }
          ],
          "scattercarpet": [
           {
            "marker": {
             "colorbar": {
              "outlinewidth": 0,
              "ticks": ""
             }
            },
            "type": "scattercarpet"
           }
          ],
          "scattergeo": [
           {
            "marker": {
             "colorbar": {
              "outlinewidth": 0,
              "ticks": ""
             }
            },
            "type": "scattergeo"
           }
          ],
          "scattergl": [
           {
            "marker": {
             "colorbar": {
              "outlinewidth": 0,
              "ticks": ""
             }
            },
            "type": "scattergl"
           }
          ],
          "scattermapbox": [
           {
            "marker": {
             "colorbar": {
              "outlinewidth": 0,
              "ticks": ""
             }
            },
            "type": "scattermapbox"
           }
          ],
          "scatterpolar": [
           {
            "marker": {
             "colorbar": {
              "outlinewidth": 0,
              "ticks": ""
             }
            },
            "type": "scatterpolar"
           }
          ],
          "scatterpolargl": [
           {
            "marker": {
             "colorbar": {
              "outlinewidth": 0,
              "ticks": ""
             }
            },
            "type": "scatterpolargl"
           }
          ],
          "scatterternary": [
           {
            "marker": {
             "colorbar": {
              "outlinewidth": 0,
              "ticks": ""
             }
            },
            "type": "scatterternary"
           }
          ],
          "surface": [
           {
            "colorbar": {
             "outlinewidth": 0,
             "ticks": ""
            },
            "colorscale": [
             [
              0,
              "#0d0887"
             ],
             [
              0.1111111111111111,
              "#46039f"
             ],
             [
              0.2222222222222222,
              "#7201a8"
             ],
             [
              0.3333333333333333,
              "#9c179e"
             ],
             [
              0.4444444444444444,
              "#bd3786"
             ],
             [
              0.5555555555555556,
              "#d8576b"
             ],
             [
              0.6666666666666666,
              "#ed7953"
             ],
             [
              0.7777777777777778,
              "#fb9f3a"
             ],
             [
              0.8888888888888888,
              "#fdca26"
             ],
             [
              1,
              "#f0f921"
             ]
            ],
            "type": "surface"
           }
          ],
          "table": [
           {
            "cells": {
             "fill": {
              "color": "#EBF0F8"
             },
             "line": {
              "color": "white"
             }
            },
            "header": {
             "fill": {
              "color": "#C8D4E3"
             },
             "line": {
              "color": "white"
             }
            },
            "type": "table"
           }
          ]
         },
         "layout": {
          "annotationdefaults": {
           "arrowcolor": "#2a3f5f",
           "arrowhead": 0,
           "arrowwidth": 1
          },
          "autotypenumbers": "strict",
          "coloraxis": {
           "colorbar": {
            "outlinewidth": 0,
            "ticks": ""
           }
          },
          "colorscale": {
           "diverging": [
            [
             0,
             "#8e0152"
            ],
            [
             0.1,
             "#c51b7d"
            ],
            [
             0.2,
             "#de77ae"
            ],
            [
             0.3,
             "#f1b6da"
            ],
            [
             0.4,
             "#fde0ef"
            ],
            [
             0.5,
             "#f7f7f7"
            ],
            [
             0.6,
             "#e6f5d0"
            ],
            [
             0.7,
             "#b8e186"
            ],
            [
             0.8,
             "#7fbc41"
            ],
            [
             0.9,
             "#4d9221"
            ],
            [
             1,
             "#276419"
            ]
           ],
           "sequential": [
            [
             0,
             "#0d0887"
            ],
            [
             0.1111111111111111,
             "#46039f"
            ],
            [
             0.2222222222222222,
             "#7201a8"
            ],
            [
             0.3333333333333333,
             "#9c179e"
            ],
            [
             0.4444444444444444,
             "#bd3786"
            ],
            [
             0.5555555555555556,
             "#d8576b"
            ],
            [
             0.6666666666666666,
             "#ed7953"
            ],
            [
             0.7777777777777778,
             "#fb9f3a"
            ],
            [
             0.8888888888888888,
             "#fdca26"
            ],
            [
             1,
             "#f0f921"
            ]
           ],
           "sequentialminus": [
            [
             0,
             "#0d0887"
            ],
            [
             0.1111111111111111,
             "#46039f"
            ],
            [
             0.2222222222222222,
             "#7201a8"
            ],
            [
             0.3333333333333333,
             "#9c179e"
            ],
            [
             0.4444444444444444,
             "#bd3786"
            ],
            [
             0.5555555555555556,
             "#d8576b"
            ],
            [
             0.6666666666666666,
             "#ed7953"
            ],
            [
             0.7777777777777778,
             "#fb9f3a"
            ],
            [
             0.8888888888888888,
             "#fdca26"
            ],
            [
             1,
             "#f0f921"
            ]
           ]
          },
          "colorway": [
           "#636efa",
           "#EF553B",
           "#00cc96",
           "#ab63fa",
           "#FFA15A",
           "#19d3f3",
           "#FF6692",
           "#B6E880",
           "#FF97FF",
           "#FECB52"
          ],
          "font": {
           "color": "#2a3f5f"
          },
          "geo": {
           "bgcolor": "white",
           "lakecolor": "white",
           "landcolor": "white",
           "showlakes": true,
           "showland": true,
           "subunitcolor": "#C8D4E3"
          },
          "hoverlabel": {
           "align": "left"
          },
          "hovermode": "closest",
          "mapbox": {
           "style": "light"
          },
          "paper_bgcolor": "white",
          "plot_bgcolor": "white",
          "polar": {
           "angularaxis": {
            "gridcolor": "#EBF0F8",
            "linecolor": "#EBF0F8",
            "ticks": ""
           },
           "bgcolor": "white",
           "radialaxis": {
            "gridcolor": "#EBF0F8",
            "linecolor": "#EBF0F8",
            "ticks": ""
           }
          },
          "scene": {
           "xaxis": {
            "backgroundcolor": "white",
            "gridcolor": "#DFE8F3",
            "gridwidth": 2,
            "linecolor": "#EBF0F8",
            "showbackground": true,
            "ticks": "",
            "zerolinecolor": "#EBF0F8"
           },
           "yaxis": {
            "backgroundcolor": "white",
            "gridcolor": "#DFE8F3",
            "gridwidth": 2,
            "linecolor": "#EBF0F8",
            "showbackground": true,
            "ticks": "",
            "zerolinecolor": "#EBF0F8"
           },
           "zaxis": {
            "backgroundcolor": "white",
            "gridcolor": "#DFE8F3",
            "gridwidth": 2,
            "linecolor": "#EBF0F8",
            "showbackground": true,
            "ticks": "",
            "zerolinecolor": "#EBF0F8"
           }
          },
          "shapedefaults": {
           "line": {
            "color": "#2a3f5f"
           }
          },
          "ternary": {
           "aaxis": {
            "gridcolor": "#DFE8F3",
            "linecolor": "#A2B1C6",
            "ticks": ""
           },
           "baxis": {
            "gridcolor": "#DFE8F3",
            "linecolor": "#A2B1C6",
            "ticks": ""
           },
           "bgcolor": "white",
           "caxis": {
            "gridcolor": "#DFE8F3",
            "linecolor": "#A2B1C6",
            "ticks": ""
           }
          },
          "title": {
           "x": 0.05
          },
          "xaxis": {
           "automargin": true,
           "gridcolor": "#EBF0F8",
           "linecolor": "#EBF0F8",
           "ticks": "",
           "title": {
            "standoff": 15
           },
           "zerolinecolor": "#EBF0F8",
           "zerolinewidth": 2
          },
          "yaxis": {
           "automargin": true,
           "gridcolor": "#EBF0F8",
           "linecolor": "#EBF0F8",
           "ticks": "",
           "title": {
            "standoff": 15
           },
           "zerolinecolor": "#EBF0F8",
           "zerolinewidth": 2
          }
         }
        },
        "title": {
         "text": "F1 score comparison per sequence for pretraining vs pretraining + fine-tuning models"
        },
        "width": 1200,
        "xaxis": {
         "anchor": "y",
         "domain": [
          0,
          0.2888888888888889
         ]
        },
        "xaxis2": {
         "anchor": "y2",
         "domain": [
          0.35555555555555557,
          0.6444444444444445
         ]
        },
        "xaxis3": {
         "anchor": "y3",
         "domain": [
          0.7111111111111111,
          1
         ]
        },
        "yaxis": {
         "anchor": "x",
         "domain": [
          0,
          1
         ],
         "scaleanchor": "x",
         "scaleratio": 1
        },
        "yaxis2": {
         "anchor": "x2",
         "domain": [
          0,
          1
         ],
         "matches": "y",
         "scaleanchor": "x",
         "scaleratio": 1,
         "showticklabels": false
        },
        "yaxis3": {
         "anchor": "x3",
         "domain": [
          0,
          1
         ],
         "matches": "y",
         "scaleanchor": "x",
         "scaleratio": 1,
         "showticklabels": false
        }
       }
      }
     },
     "metadata": {},
     "output_type": "display_data"
    }
   ],
   "source": [
    "from plotly.subplots import make_subplots\n",
    "\n",
    "compare_f1 = data_comparison[data_comparison['model']=='PT'].merge(data_comparison[data_comparison['model']=='PT+FT'], on=['reference', 'sequence', 'dataset'], suffixes=('_PT', '_PT+FT'))[['dataset', 'f1_PT', 'f1_PT+FT']]\n",
    "compare_f1['isBetter'] = compare_f1['f1_PT+FT'] >= compare_f1['f1_PT']\n",
    "\n",
    "fig = make_subplots(rows=1, cols=3, shared_xaxes=True, shared_yaxes=True, \n",
    "                    subplot_titles=[ f'{dataset} ({100*compare_f1[compare_f1[\"dataset\"]==dataset][\"isBetter\"].sum()/sum(compare_f1[\"dataset\"]==dataset):.1f}% ≥ y=x)' for dataset in compare_f1['dataset'].unique()],\n",
    "                    x_title='F1 score for PT', y_title='F1 score for PT+FT')\n",
    "\n",
    "colors = px.colors.qualitative.D3\n",
    "for i, dataset in enumerate(compare_f1['dataset'].unique()):\n",
    "\n",
    "    data = data_comparison[data_comparison['dataset']==dataset]\n",
    "\n",
    "    fig.add_trace(go.Scatter(x=data[data['model']=='PT']['f1'],\n",
    "                        y=data[data['model']=='PT+FT']['f1'],\n",
    "                        mode='markers', \n",
    "                        marker_color=colors[0], opacity=0.8, showlegend=False,\n",
    "                        name=dataset), row=1, col=i+1)\n",
    "    fig.add_trace(go.Scatter(x=[0, 1], y=[0, 1], mode='lines', line_color='black', line_dash='dash', showlegend=False), row=1, col=i+1)\n",
    "\n",
    "\n",
    "fig.update_yaxes(\n",
    "    scaleanchor=\"x\",\n",
    "    scaleratio=1,\n",
    "  )\n",
    "\n",
    "fig.update_layout(width=1200, height=450, template='plotly_white', font_size=15, font_color='black',\n",
    "                  title='F1 score comparison per sequence for pretraining vs pretraining + fine-tuning models')\n",
    "fig.show()"
   ]
  }
 ],
 "metadata": {
  "kernelspec": {
   "display_name": "Python 3",
   "language": "python",
   "name": "python3"
  },
  "language_info": {
   "codemirror_mode": {
    "name": "ipython",
    "version": 3
   },
   "file_extension": ".py",
   "mimetype": "text/x-python",
   "name": "python",
   "nbconvert_exporter": "python",
   "pygments_lexer": "ipython3",
   "version": "3.10.9"
  }
 },
 "nbformat": 4,
 "nbformat_minor": 2
}

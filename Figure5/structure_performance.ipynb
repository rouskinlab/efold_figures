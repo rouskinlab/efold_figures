{
 "cells": [
  {
   "cell_type": "markdown",
   "metadata": {},
   "source": [
    "## Show distribution of structure prediction performance\n",
    "\n",
    "Reuse same format as the algo_benchmark plot of Figure 1.\n",
    "\n",
    "Add our algorithm and hopefully show less performance gap\n",
    "\n",
    "**Assigned to**: Alberic\n",
    "\n",
    "Use Ploty, and a white background"
   ]
  },
  {
   "cell_type": "code",
   "execution_count": null,
   "metadata": {},
   "outputs": [],
   "source": []
  }
 ],
 "metadata": {
  "language_info": {
   "name": "python"
  }
 },
 "nbformat": 4,
 "nbformat_minor": 2
}

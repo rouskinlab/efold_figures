{
 "cells": [
  {
   "cell_type": "markdown",
   "metadata": {},
   "source": [
    "## External databases"
   ]
  },
  {
   "cell_type": "code",
   "execution_count": 91,
   "metadata": {},
   "outputs": [],
   "source": [
    "import pandas as pd\n",
    "from io import StringIO\n",
    "import rouskinhf\n",
    "\n",
    "\n",
    "length_intervals = [10, 200, 500, 1000, 2000, float(\"inf\")]\n",
    "\n",
    "class Database:\n",
    "    def __init__(self, name, method,source, families, filtering, stage):\n",
    "        data = rouskinhf.get_dataset(name)\n",
    "        self.name = name\n",
    "        self.method = method\n",
    "        self.source = source\n",
    "        self.filtering = filtering\n",
    "        self.N_sequences = \"{:,}\".format(len(data))\n",
    "        self.families = families\n",
    "        self.stage = stage\n",
    "        self.lengths = self.make_length_intervals([len(dp['sequence']) for dp in data.values()])\n",
    "        \n",
    "    def make_length_intervals(self, lengths):\n",
    "        intervals = [0] * (len(length_intervals)-1)\n",
    "        for length in lengths:\n",
    "            for i, interval in enumerate(length_intervals[1:]):\n",
    "                if length < interval:\n",
    "                    intervals[i] += 1\n",
    "                    break\n",
    "        return '\\t'.join([\"{:,}\".format(interval) for interval in intervals])\n",
    "    \n",
    "    def column_names(self):\n",
    "        return '\\t'.join([\"Training stage\", \"Name on HuggingFace\", \"Source\", \"Method\", \"Number of sequences\", \"Filtering\", \"Families\"] + [f\"L ∈ [{length_intervals[i]}, {length_intervals[i+1]-1}]\" for i in range(len(length_intervals)-1)]) \n",
    "        \n",
    "    def __str__(self):\n",
    "        return '\\t'.join([self.stage, self.name, self.source, self.method, self.N_sequences, self.filtering, self.families, self.lengths])\n",
    "    \n",
    "    def __repr__(self):\n",
    "        return self.__str__()\n",
    "    \n",
    "databases = []\n",
    "\n",
    "databases.append(Database(\n",
    "    name = \"rnacentral_synthetic\", \n",
    "    method=\"RNAstructure\",\n",
    "    source=\"RNA central\",\n",
    "    families=\"All known families\",\n",
    "    filtering=\"Diverse subset across families\",\n",
    "    stage=\"Pre-training\",\n",
    "))\n",
    "\n",
    "databases.append(Database(\n",
    "    name = \"ribo500-blast\", \n",
    "    method=\"RNAstructure + DMS and/or SHAPE\",\n",
    "    source=\"Ribonanza Competition\",\n",
    "    families=\"\",\n",
    "    filtering=\"500+ reads, AUROC > 0.8, BLAST\",\n",
    "    stage=\"Pre-training\",\n",
    "))\n",
    "\n"
   ]
  },
  {
   "cell_type": "code",
   "execution_count": 92,
   "metadata": {},
   "outputs": [],
   "source": [
    "databases.append(Database(\n",
    "    name = \"bpRNA-1m\", \n",
    "    method=\"Covariance analysis\",\n",
    "    source=\"Published structures\",\n",
    "    families=\"Unlabeled, sRNA, tRNA\",\n",
    "    filtering=\"BLAST\",\n",
    "    stage=\"Pre-training\",\n",
    "))\n"
   ]
  },
  {
   "cell_type": "code",
   "execution_count": 93,
   "metadata": {},
   "outputs": [],
   "source": [
    "databases.append(Database(\n",
    "    name = \"RNAstralign\", \n",
    "    method=\"Covariance analysis\",\n",
    "    source=\"Published structures\",\n",
    "    families=\"rRNA, tRNA\",\n",
    "    filtering=\"BLAST\",\n",
    "    stage=\"Pre-training\",\n",
    "))\n"
   ]
  },
  {
   "cell_type": "code",
   "execution_count": 94,
   "metadata": {},
   "outputs": [],
   "source": [
    "databases.append(Database(\n",
    "    name = \"pri_miRNA\", \n",
    "    method=\"RNAstructure + DMS\",\n",
    "    source=\"This work\",\n",
    "    families=\"pri-miRNA\",\n",
    "    filtering=\"Reads < 3000, AUROC > 0.8, BLAST\",\n",
    "    stage=\"Fine-tuning\",\n",
    "))"
   ]
  },
  {
   "cell_type": "code",
   "execution_count": 95,
   "metadata": {},
   "outputs": [],
   "source": [
    "databases.append(Database(\n",
    "    name = \"human_mRNA\", \n",
    "    method=\"RNAstructure + DMS\",\n",
    "    source=\"This work\",\n",
    "    families=\"mRNA\",\n",
    "    filtering=\"Reads < 3000, AUROC > 0.8, BLAST\",\n",
    "    stage=\"Fine-tuning\",\n",
    "))"
   ]
  },
  {
   "cell_type": "code",
   "execution_count": 96,
   "metadata": {},
   "outputs": [],
   "source": [
    "databases.append(Database(\n",
    "    name = \"PDB\", \n",
    "    method=\"NMR, crystallography\",\n",
    "    source=\"Published 3D structures\",\n",
    "    families=\"Short non-coding RNA\",\n",
    "    filtering=\"TODO\",\n",
    "    stage=\"Testing\",\n",
    "))"
   ]
  },
  {
   "cell_type": "code",
   "execution_count": 98,
   "metadata": {},
   "outputs": [],
   "source": [
    "databases.append(Database(\n",
    "    name = \"viral_fragments\", \n",
    "    method=\"RNAstructure + DMS\",\n",
    "    source=\"TODO\",\n",
    "    families=\"Viral RNA\",\n",
    "    filtering=\"TODO\",\n",
    "    stage=\"Testing\",\n",
    "))"
   ]
  },
  {
   "cell_type": "code",
   "execution_count": 99,
   "metadata": {},
   "outputs": [],
   "source": [
    "databases.append(Database(\n",
    "    name = \"lncRNA\", \n",
    "    method=\"RNAstructure + DMS\",\n",
    "    source=\"TODO\",\n",
    "    families=\"Long non-coding RNA\",\n",
    "    filtering=\"TODO\",\n",
    "    stage=\"Testing\",\n",
    "))"
   ]
  },
  {
   "cell_type": "code",
   "execution_count": 102,
   "metadata": {},
   "outputs": [],
   "source": [
    "df = pd.read_csv(StringIO('\\n'.join([databases[0].column_names()]+[database.__str__() for database in databases])), sep='\\t', index_col=False)\n",
    "df.to_csv(\"datasets.tsv\", sep=',', index=False)"
   ]
  }
 ],
 "metadata": {
  "kernelspec": {
   "display_name": "Python 3",
   "language": "python",
   "name": "python3"
  },
  "language_info": {
   "codemirror_mode": {
    "name": "ipython",
    "version": 3
   },
   "file_extension": ".py",
   "mimetype": "text/x-python",
   "name": "python",
   "nbconvert_exporter": "python",
   "pygments_lexer": "ipython3",
   "version": "3.11.6"
  }
 },
 "nbformat": 4,
 "nbformat_minor": 2
}
